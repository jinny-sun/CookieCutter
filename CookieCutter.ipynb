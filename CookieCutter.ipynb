{
 "cells": [
  {
   "cell_type": "markdown",
   "metadata": {},
   "source": [
    "# CookieCutter\n",
    "This app predicts the total calories given a string of recipe ingredients.\n",
    "\n",
    "Training data was scraped from AllRecipes.com"
   ]
  },
  {
   "cell_type": "markdown",
   "metadata": {},
   "source": [
    "## Import packages"
   ]
  },
  {
   "cell_type": "code",
   "execution_count": 3,
   "metadata": {},
   "outputs": [],
   "source": [
    "import numpy as np\n",
    "import pandas as pd\n",
    "import re"
   ]
  },
  {
   "cell_type": "markdown",
   "metadata": {},
   "source": [
    "## Import functions"
   ]
  },
  {
   "cell_type": "code",
   "execution_count": 4,
   "metadata": {},
   "outputs": [],
   "source": [
    "def multireplace(string, replacements, ignore_case=False):\n",
    "    \"\"\"\n",
    "    Given a string and a replacement map, it returns the replaced string.\n",
    "    :param str string: string to execute replacements on\n",
    "    :param dict replacements: replacement dictionary {value to find: value to replace}\n",
    "    :param bool ignore_case: whether the match should be case insensitive\n",
    "    :rtype: str\n",
    "    \"\"\"\n",
    "    # If case insensitive, we need to normalize the old string so that later a replacement\n",
    "    # can be found. For instance with {\"HEY\": \"lol\"} we should match and find a replacement for \"hey\",\n",
    "    # \"HEY\", \"hEy\", etc.\n",
    "    if ignore_case:\n",
    "        def normalize_old(s):\n",
    "            return s.lower()\n",
    "\n",
    "        re_mode = re.IGNORECASE\n",
    "\n",
    "    else:\n",
    "        def normalize_old(s):\n",
    "            return s\n",
    "\n",
    "        re_mode = 0\n",
    "\n",
    "    replacements = {normalize_old(key): val for key, val in replacements.items()}\n",
    "    \n",
    "    # Place longer ones first to keep shorter substrings from matching where the longer ones should take place\n",
    "    # For instance given the replacements {'ab': 'AB', 'abc': 'ABC'} against the string 'hey abc', it should produce\n",
    "    # 'hey ABC' and not 'hey ABc'\n",
    "    rep_sorted = sorted(replacements, key=len, reverse=True)\n",
    "    rep_escaped = map(re.escape, rep_sorted)\n",
    "    \n",
    "    # Create a big OR regex that matches any of the substrings to replace\n",
    "    pattern = re.compile(\"|\".join(rep_escaped), re_mode)\n",
    "    \n",
    "    # For each match, look up the new string in the replacements, being the key the normalized old string\n",
    "    return pattern.sub(lambda match: replacements[normalize_old(match.group(0))], string)\n",
    "\n",
    "def string_replace(x):\n",
    "    new_string = re.sub(' {2,}', ' ', x).replace(\"\\n\", \";\").replace(\"; ;\", \";\")\n",
    "#    new_string = new_string.split(';')\n",
    "    return(new_string)\n",
    "\n",
    "def get_ingredients (x):\n",
    "    ing_regex = ('(\\d+/*\\d*\\s*\\d*/*\\d*)\\s(\\w+\\s*.*?);')\n",
    "    all_ing = re.findall(ing_regex, x)\n",
    "    return(all_ing)\n",
    "\n",
    "def get_quantity(x):\n",
    "    quantity = [y[0] for y in x] # use for df\n",
    "    units_with_ingredient = [y[1] for y in x]\n",
    "    df_of_units = pd.DataFrame({'ingredient':units_with_ingredient, 'quantity':quantity})\n",
    "    return (df_of_units)\n",
    "\n",
    "def match_uids(originaldf, longdf):\n",
    "    for row in range(0, len(originaldf)):\n",
    "        longdf[row]['recipe_key']=originaldf['recipe_key'][row]\n",
    "        longdf[row]['calPerServing']=originaldf['calPerServing'][row]\n",
    "        longdf[row]['totalCal']=originaldf['totalCal'][row]\n",
    "        longdf[row]['num_ingredients']=originaldf['num_ingredients'][row]\n",
    "        longdf[row]['servings']=originaldf['servings'][row]\n",
    "        longdf[row]['name']=originaldf['name'][row]\n",
    "    return(longdf)\n",
    "\n",
    "def text_process(mess):\n",
    "    \"\"\"\n",
    "    Takes in a string of text, then performs the following:\n",
    "    1. Remove all punctuation\n",
    "    2. Remove all stopwords\n",
    "    3. Returns a list of the cleaned text\n",
    "    \"\"\"\n",
    "    import string\n",
    "    from nltk.corpus import stopwords\n",
    "    from nltk.stem import WordNetLemmatizer\n",
    "    wnl = WordNetLemmatizer()\n",
    "    \n",
    "    def lemmatize(string):\n",
    "        for word in re.findall(r\"[a-z]+\", string):\n",
    "            string = string.replace(word, wnl.lemmatize(word, 'n') if 's' in word[-3:] else word)\n",
    "        return string\n",
    "    \n",
    "    unit_stopwords = ['dash','pinch','teaspoon','tablespoon','fluid','cup','pint','quart','ounce','oz','pound','rack',\n",
    "                'small','medium','large','crushed','grated','skinless','boneless','melted','fresh',\n",
    "                'diced','minced','thinly','dry','dried','halved','taste','frying','lean','drained','jars','grated'\n",
    "                'clove','slice','eaches','whole','cube','thick','unit','freshly','finely','splash',\n",
    "                'semisweet','chip','extract','spread','powder','room','temperature','brown','cooking','yolk','ground',\n",
    "                'package','mix','cake','plain','goody','light','wheat','piece','substitute','mini','kosher','crispy',\n",
    "                'minature','chunk','dark','bit','square','boiling','bag','crumb','popsicle','stick','zest','cereal',\n",
    "                'bar','tart','nib','tennessee','turbinado','baking','pack','spice','moist','miniarature','crunchy',\n",
    "                'morsel','nugget','candy','crisp','super','fine','decoration','sucralose','puree','pureed','rainbow',\n",
    "                'cut','frozen','broken','round','concentrate','miniature','cooky','virgin','dusting','half','baby',\n",
    "                'food','jar','seedless','container','box','granule','filling','cold','super','ripe','moisture',\n",
    "                'packet','instant','mint','ripe','sea','coarse','fun','size','funsize','bulk','chopped','torn']\n",
    "    \n",
    "    # Remove anything in parenthesis\n",
    "    mess = re.sub(r\"\\([^\\)]+\\)\", '', mess)\n",
    "    # Make everything lowercase\n",
    "    mess = mess.lower()\n",
    "    # Remove non-word punctuation\n",
    "    mess =' '.join(re.findall(r\"[-,''\\w]+\", mess)) # This leaves some commas as a character #\n",
    "    mess = re.sub(r\"\\,\", ' ', mess)\n",
    "    # Remove hypenated words\n",
    "    mess = re.sub(r\"(?=\\S*['-])([a-zA-Z'-]+)\",'',mess) # remove hypenated words\n",
    "    # Remove punctuation and numbers\n",
    "    mess = ''.join([i for i in mess if not i.isdigit()])\n",
    "    # Remove plurals\n",
    "    mess = lemmatize(mess)\n",
    "    #clean excess whitespace\n",
    "    mess = re.sub(r\"\\s+\", ' ', mess).strip()\n",
    "    # Remove stopwords\n",
    "    mess = [word for word in mess.split() if word.lower() not in stopwords.words('english')]\n",
    "    mess  = [word for word in mess if word.lower() not in unit_stopwords]\n",
    "    mess = ' '.join(mess)\n",
    "    return(mess.split())\n",
    "\n",
    "def test_noun(tokens):  \n",
    "    import nltk\n",
    "    tagged = nltk.pos_tag(tokens)\n",
    "    return([token[0] for token in tagged if token[1] in ['NN',]])\n",
    "\n",
    "def convert_fractions (quantity):\n",
    "    from fractions import Fraction\n",
    "    return float(sum(Fraction(s) for s in quantity.split()))\n",
    "\n",
    "def join_strings(mess):\n",
    "    # Keep integers\n",
    "    mess = ' '.join(mess)\n",
    "\n",
    "    if len(mess)>=1:\n",
    "        return(mess)\n",
    "    else:\n",
    "        return('')"
   ]
  },
  {
   "cell_type": "markdown",
   "metadata": {},
   "source": [
    "## Clean ingredient text string"
   ]
  },
  {
   "cell_type": "code",
   "execution_count": 11,
   "metadata": {
    "scrolled": false
   },
   "outputs": [],
   "source": [
    "# Load data\n",
    "#df = pd.read_csv('dataset_allrecipes-test-v3_2020-06-02_01-37-25-797.csv') # Dinner recipes\n",
    "df = pd.read_csv('dataset_allrecipes-test-v4_choco_chip_cookie_2020-06-06_22-41-30-703.csv') # Chocolate chip recipes\n",
    "\n",
    "# df = pd.read_csv('dataset_allrecipes-test-v4_all-cookies_2020-06-06_22-20-57-219.csv') # all cookie recipes\n",
    "# df2 = pd.read_csv('dataset_allrecipes-test-v4_all-ingredients_2020-06-06_22-40-04-991.csv') # all ingredient recipes\n",
    "# df = pd.concat([df,df2]).drop_duplicates() # combine all cookie and ingredient recipes\n",
    "\n",
    "# Clean column names\n",
    "df.rename(columns = {'calories':'calPerServing', 'cook':'cookTime', 'prep':'prepTime','ready in':'totalTime'}, inplace = True) \n",
    "\n",
    "# Create unique id\n",
    "df['recipe_key'] = df['url'].apply(lambda x:int(re.findall(r\"\\d+\", x)[0]))\n",
    "\n",
    "# Keep recipes that have between 12 and 64 servings\n",
    "df = df[(df['servings']<=64) & (df['servings']>=12)]\n",
    "# Calculate total calories per recipe\n",
    "df['totalCal'] = df['calPerServing']*df['servings']\n",
    "\n",
    "# Remove null values and reset index\n",
    "#df.dropna(axis=0, how='any',inplace=True)  # drop recipes missing cooking times\n",
    "df.reset_index(inplace=True, drop=True)\n",
    "\n",
    "# Clean ingredient text\n",
    "dict_unicode = {'\\u2009': '', '½':' 1/2', '⅓':'1/3', '⅔':'2/3', '¼':'1/4', '¾':'3/4', '⅕':'1/5', \n",
    "                '⅖':'2/5', '⅗':'3/5', '⅘':'4/5', '⅙':'1/6', '⅚':'5/6', '⅐':'1/7', '⅛':'1/8', \n",
    "                '⅜':'3/8', '⅝':'5/8', '⅞':'7/8', '⅑':'1/9', '⅒':'1/10'}\n",
    "df['recipeIngredient'] = [item + ';' for item in df['recipeIngredient']] # add semicolon at end of each string for easier regex filtering\n",
    "df['recipeIngredient'] = [multireplace(x, dict_unicode) for x in df['recipeIngredient']] # replace unicode characters\n",
    "df['recipeIngredient'] = [string_replace(x) for x in df['recipeIngredient']] # remove whitespace\n",
    "ing = [get_ingredients(x) for x in df['recipeIngredient']] # separate ingredients into list of list of tupules of ingredient strings\n",
    "df['num_ingredients'] = [len(x) for x in ing] # count number of ingredients per recipe\n",
    "\n",
    "df_ing = [get_quantity(x) for x in ing] # separate units of measure and ingredients & creates a pandas dataframe for each recipe\n",
    "\n",
    "clean_df = match_uids(df, df_ing) # pull unique id, calorie (outcome variable), number of servings, and number of ingredients from original dataframe\n",
    "clean_df = pd.concat(clean_df) # concat list of pandas dataframes into one dataframe\n",
    "clean_df['quantity'] = [convert_fractions(x) for x in clean_df['quantity']] # convert fractions into integers\n",
    "\n",
    "# Create multiIndex / hierarchical Dataframe\n",
    "# clean_df = clean_df.reset_index(drop=True)\n",
    "clean_df = clean_df.reset_index()\n"
   ]
  },
  {
   "cell_type": "code",
   "execution_count": 622,
   "metadata": {},
   "outputs": [],
   "source": [
    "# # Create multiIndex / hierarchical Dataframe\n",
    "# clean_df = clean_df.reset_index()\n",
    "# arrays = [clean_df['recipe_key'],clean_df['index']]\n",
    "# tuples = list(zip(*arrays))\n",
    "# index = pd.MultiIndex.from_tuples(tuples, names=['recipe_key', 'ingredient_key'])\n",
    "# clean_df.set_index(index,inplace=True)\n",
    "# #clean_df['ingredient'].replace('',clean_df['unit'],inplace=True)\n",
    "# clean_df.drop('index', axis=1, inplace=True)"
   ]
  },
  {
   "cell_type": "markdown",
   "metadata": {},
   "source": [
    "## Normalize quantity of ingredients to grams"
   ]
  },
  {
   "cell_type": "code",
   "execution_count": 12,
   "metadata": {},
   "outputs": [],
   "source": [
    "# save as csv for web app\n",
    "# clean_df.to_csv('clean_df.csv')\n",
    "\n",
    "# # Convert measurements to normalized unit  (1 Unit= 1/3 grams)\n",
    "# clean_df['unit'] = np.where(clean_df.ingredient.str.contains(\"dash\"), 1,\n",
    "#             np.where(clean_df.ingredient.str.contains(\"pinch\"), 2,\n",
    "#             np.where(clean_df.ingredient.str.contains(\"teaspoon\"), 15, \n",
    "#             np.where(clean_df.ingredient.str.contains(\"tablespoon\"), 45,\n",
    "#             np.where(clean_df.ingredient.str.contains(\"fluid\"), 90,\n",
    "#             np.where(clean_df.ingredient.str.contains(\"cup\"), 720, \n",
    "#             np.where(clean_df.ingredient.str.contains(\"pint\"), 1419,\n",
    "#             np.where(clean_df.ingredient.str.contains(\"quart\"), 2850,\n",
    "#             np.where(clean_df.ingredient.str.contains(\"ounce\"), 84,\n",
    "#             np.where(clean_df.ingredient.str.contains(\"oz\"), 84, \n",
    "#             np.where(clean_df.ingredient.str.contains(\"pound\"), 1362,\n",
    "#             np.where(clean_df.ingredient.str.contains(\"rack\"), 2724,\n",
    "#             np.where(clean_df.ingredient.str.contains(\"small\"), 150,\n",
    "#             np.where(clean_df.ingredient.str.contains(\"medium\"), 180,\n",
    "#             np.where(clean_df.ingredient.str.contains(\"large\"), 210,\n",
    "#             3))))))))))))))) \n",
    "\n",
    "# Convert measurements to normalized unit  (1 Unit= 1 grams)\n",
    "clean_df['unit'] = np.where(clean_df.ingredient.str.contains(\"dash\"), .3,\n",
    "            np.where(clean_df.ingredient.str.contains(\"pinch\"), .6,\n",
    "            np.where(clean_df.ingredient.str.contains(\"teaspoon\"), 5, \n",
    "            np.where(clean_df.ingredient.str.contains(\"tablespoon\"), 3,\n",
    "            np.where(clean_df.ingredient.str.contains(\"fluid\"), 30,\n",
    "            np.where(clean_df.ingredient.str.contains(\"cup\"), 240, \n",
    "            np.where(clean_df.ingredient.str.contains(\"pint\"), 473,\n",
    "            np.where(clean_df.ingredient.str.contains(\"quart\"), 980,\n",
    "            np.where(clean_df.ingredient.str.contains(\"ounce\"), 28,\n",
    "            np.where(clean_df.ingredient.str.contains(\"oz\"), 28, \n",
    "            np.where(clean_df.ingredient.str.contains(\"pound\"), 454,\n",
    "            np.where(clean_df.ingredient.str.contains(\"rack\"), 908,\n",
    "            np.where(clean_df.ingredient.str.contains(\"small\"), 50,\n",
    "            np.where(clean_df.ingredient.str.contains(\"medium\"), 60,\n",
    "            np.where(clean_df.ingredient.str.contains(\"large\"), 70,\n",
    "            3))))))))))))))) "
   ]
  },
  {
   "cell_type": "markdown",
   "metadata": {},
   "source": [
    "## Tokenize ingredient text"
   ]
  },
  {
   "cell_type": "code",
   "execution_count": 15,
   "metadata": {},
   "outputs": [
    {
     "data": {
      "text/html": [
       "<div>\n",
       "<style scoped>\n",
       "    .dataframe tbody tr th:only-of-type {\n",
       "        vertical-align: middle;\n",
       "    }\n",
       "\n",
       "    .dataframe tbody tr th {\n",
       "        vertical-align: top;\n",
       "    }\n",
       "\n",
       "    .dataframe thead th {\n",
       "        text-align: right;\n",
       "    }\n",
       "</style>\n",
       "<table border=\"1\" class=\"dataframe\">\n",
       "  <thead>\n",
       "    <tr style=\"text-align: right;\">\n",
       "      <th></th>\n",
       "      <th></th>\n",
       "      <th>ingredient</th>\n",
       "      <th>recipe_key</th>\n",
       "      <th>totalCal</th>\n",
       "      <th>calPerServing</th>\n",
       "      <th>name</th>\n",
       "      <th>label</th>\n",
       "      <th>ingredient_key</th>\n",
       "    </tr>\n",
       "    <tr>\n",
       "      <th>recipe_key</th>\n",
       "      <th>ingredient_key</th>\n",
       "      <th></th>\n",
       "      <th></th>\n",
       "      <th></th>\n",
       "      <th></th>\n",
       "      <th></th>\n",
       "      <th></th>\n",
       "      <th></th>\n",
       "    </tr>\n",
       "  </thead>\n",
       "  <tbody>\n",
       "    <tr>\n",
       "      <th rowspan=\"5\" valign=\"top\">11061</th>\n",
       "      <th>0</th>\n",
       "      <td>flour flour flour flour flour flour flour flou...</td>\n",
       "      <td>11061</td>\n",
       "      <td>3168</td>\n",
       "      <td>264</td>\n",
       "      <td>Julia's Best Ever Chocolate Chip Cookies In A Jar</td>\n",
       "      <td>0</td>\n",
       "      <td>0</td>\n",
       "    </tr>\n",
       "    <tr>\n",
       "      <th>1</th>\n",
       "      <td>soda soda soda soda</td>\n",
       "      <td>11061</td>\n",
       "      <td>3168</td>\n",
       "      <td>264</td>\n",
       "      <td>Julia's Best Ever Chocolate Chip Cookies In A Jar</td>\n",
       "      <td>0</td>\n",
       "      <td>1</td>\n",
       "    </tr>\n",
       "    <tr>\n",
       "      <th>2</th>\n",
       "      <td>sugar sugar sugar sugar sugar sugar sugar suga...</td>\n",
       "      <td>11061</td>\n",
       "      <td>3168</td>\n",
       "      <td>264</td>\n",
       "      <td>Julia's Best Ever Chocolate Chip Cookies In A Jar</td>\n",
       "      <td>0</td>\n",
       "      <td>2</td>\n",
       "    </tr>\n",
       "    <tr>\n",
       "      <th>3</th>\n",
       "      <td>chocolate chocolate chocolate chocolate chocol...</td>\n",
       "      <td>11061</td>\n",
       "      <td>3168</td>\n",
       "      <td>264</td>\n",
       "      <td>Julia's Best Ever Chocolate Chip Cookies In A Jar</td>\n",
       "      <td>0</td>\n",
       "      <td>3</td>\n",
       "    </tr>\n",
       "    <tr>\n",
       "      <th>4</th>\n",
       "      <td>sugar sugar sugar sugar sugar sugar sugar suga...</td>\n",
       "      <td>11061</td>\n",
       "      <td>3168</td>\n",
       "      <td>264</td>\n",
       "      <td>Julia's Best Ever Chocolate Chip Cookies In A Jar</td>\n",
       "      <td>0</td>\n",
       "      <td>4</td>\n",
       "    </tr>\n",
       "  </tbody>\n",
       "</table>\n",
       "</div>"
      ],
      "text/plain": [
       "                                                                  ingredient  \\\n",
       "recipe_key ingredient_key                                                      \n",
       "11061      0               flour flour flour flour flour flour flour flou...   \n",
       "           1                                            soda soda soda soda    \n",
       "           2               sugar sugar sugar sugar sugar sugar sugar suga...   \n",
       "           3               chocolate chocolate chocolate chocolate chocol...   \n",
       "           4               sugar sugar sugar sugar sugar sugar sugar suga...   \n",
       "\n",
       "                           recipe_key  totalCal  calPerServing  \\\n",
       "recipe_key ingredient_key                                        \n",
       "11061      0                    11061      3168            264   \n",
       "           1                    11061      3168            264   \n",
       "           2                    11061      3168            264   \n",
       "           3                    11061      3168            264   \n",
       "           4                    11061      3168            264   \n",
       "\n",
       "                                                                        name  \\\n",
       "recipe_key ingredient_key                                                      \n",
       "11061      0               Julia's Best Ever Chocolate Chip Cookies In A Jar   \n",
       "           1               Julia's Best Ever Chocolate Chip Cookies In A Jar   \n",
       "           2               Julia's Best Ever Chocolate Chip Cookies In A Jar   \n",
       "           3               Julia's Best Ever Chocolate Chip Cookies In A Jar   \n",
       "           4               Julia's Best Ever Chocolate Chip Cookies In A Jar   \n",
       "\n",
       "                           label  ingredient_key  \n",
       "recipe_key ingredient_key                         \n",
       "11061      0                   0               0  \n",
       "           1                   0               1  \n",
       "           2                   0               2  \n",
       "           3                   0               3  \n",
       "           4                   0               4  "
      ]
     },
     "execution_count": 15,
     "metadata": {},
     "output_type": "execute_result"
    }
   ],
   "source": [
    "# Tokenization = convert text string into list of tokens, or words, we want (i.e., cleaned version of words).\n",
    "import string\n",
    "from nltk.corpus import stopwords\n",
    "clean_df['ingredient']=[text_process(x) for x in clean_df['ingredient']]\n",
    "\n",
    "# thresh = 600; # Dinner recipe calorie threshold; mean = 500, median = 463, 75%quartile = 600\n",
    "thresh = 6000; # 250 calores for 24 cookies\n",
    "df['label'] = [1 if a_ > thresh else 0 for a_ in df['calPerServing']]\n",
    "clean_df['label'] = [1 if a_ > thresh else 0 for a_ in clean_df['calPerServing']]\n",
    "\n",
    "# Total quantity of each ingredient needed for recipe (grams* quantity) and condense into a list.\n",
    "clean_df['norm_quant'] = round(clean_df['unit']*clean_df['quantity'])\n",
    "clean_df['norm_quant'] = clean_df['norm_quant'].astype(int)\n",
    "\n",
    "# One word per ingredient - keep only nouns, join multiple words as one string\n",
    "clean_df['ingredient'] = [test_noun(tokens) for tokens in clean_df['ingredient']]\n",
    "clean_df['ingredient'] = [''.join(tokens) for tokens in clean_df['ingredient']]\n",
    "\n",
    "# Repeat word by normalized quantity\n",
    "clean_df['ingredient'] = clean_df['ingredient'].astype(str) + ' '\n",
    "zipped = list(zip(clean_df['ingredient'], clean_df['norm_quant']))\n",
    "output = [t[0]*t[1] for t in zipped]\n",
    "final_df = pd.DataFrame(output, columns=['ingredient'])\n",
    "final_df[['recipe_key','totalCal','calPerServing','name','label','ingredient_key']] = clean_df[['recipe_key','totalCal','calPerServing','name','label','index']]\n",
    "\n",
    "# Create multiIndex / hierarchical Dataframe\n",
    "tuples = list(zip(*[final_df['recipe_key'],final_df['ingredient_key']]))\n",
    "index = pd.MultiIndex.from_tuples(tuples, names=['recipe_key', 'ingredient_key'])\n",
    "final_df.set_index(index,inplace=True)\n",
    "final_df.head()"
   ]
  },
  {
   "cell_type": "code",
   "execution_count": 689,
   "metadata": {
    "scrolled": true
   },
   "outputs": [
    {
     "data": {
      "text/html": [
       "<div>\n",
       "<style scoped>\n",
       "    .dataframe tbody tr th:only-of-type {\n",
       "        vertical-align: middle;\n",
       "    }\n",
       "\n",
       "    .dataframe tbody tr th {\n",
       "        vertical-align: top;\n",
       "    }\n",
       "\n",
       "    .dataframe thead th {\n",
       "        text-align: right;\n",
       "    }\n",
       "</style>\n",
       "<table border=\"1\" class=\"dataframe\">\n",
       "  <thead>\n",
       "    <tr style=\"text-align: right;\">\n",
       "      <th></th>\n",
       "      <th>index</th>\n",
       "      <th>ingredient</th>\n",
       "      <th>quantity</th>\n",
       "      <th>recipe_key</th>\n",
       "      <th>calPerServing</th>\n",
       "      <th>totalCal</th>\n",
       "      <th>num_ingredients</th>\n",
       "      <th>servings</th>\n",
       "      <th>name</th>\n",
       "      <th>unit</th>\n",
       "      <th>label</th>\n",
       "      <th>norm_quant</th>\n",
       "    </tr>\n",
       "  </thead>\n",
       "  <tbody>\n",
       "    <tr>\n",
       "      <th>0</th>\n",
       "      <td>0</td>\n",
       "      <td>butter</td>\n",
       "      <td>0.75</td>\n",
       "      <td>16212</td>\n",
       "      <td>162.0</td>\n",
       "      <td>6480.0</td>\n",
       "      <td>9</td>\n",
       "      <td>40</td>\n",
       "      <td>Chocolate Mint Candies Cookies</td>\n",
       "      <td>240.0</td>\n",
       "      <td>0</td>\n",
       "      <td>180</td>\n",
       "    </tr>\n",
       "    <tr>\n",
       "      <th>1</th>\n",
       "      <td>1</td>\n",
       "      <td>sugar</td>\n",
       "      <td>1.50</td>\n",
       "      <td>16212</td>\n",
       "      <td>162.0</td>\n",
       "      <td>6480.0</td>\n",
       "      <td>9</td>\n",
       "      <td>40</td>\n",
       "      <td>Chocolate Mint Candies Cookies</td>\n",
       "      <td>240.0</td>\n",
       "      <td>0</td>\n",
       "      <td>360</td>\n",
       "    </tr>\n",
       "    <tr>\n",
       "      <th>2</th>\n",
       "      <td>2</td>\n",
       "      <td>water</td>\n",
       "      <td>2.00</td>\n",
       "      <td>16212</td>\n",
       "      <td>162.0</td>\n",
       "      <td>6480.0</td>\n",
       "      <td>9</td>\n",
       "      <td>40</td>\n",
       "      <td>Chocolate Mint Candies Cookies</td>\n",
       "      <td>3.0</td>\n",
       "      <td>0</td>\n",
       "      <td>6</td>\n",
       "    </tr>\n",
       "    <tr>\n",
       "      <th>3</th>\n",
       "      <td>3</td>\n",
       "      <td>chocolate</td>\n",
       "      <td>2.00</td>\n",
       "      <td>16212</td>\n",
       "      <td>162.0</td>\n",
       "      <td>6480.0</td>\n",
       "      <td>9</td>\n",
       "      <td>40</td>\n",
       "      <td>Chocolate Mint Candies Cookies</td>\n",
       "      <td>240.0</td>\n",
       "      <td>0</td>\n",
       "      <td>480</td>\n",
       "    </tr>\n",
       "    <tr>\n",
       "      <th>4</th>\n",
       "      <td>4</td>\n",
       "      <td>egg</td>\n",
       "      <td>2.00</td>\n",
       "      <td>16212</td>\n",
       "      <td>162.0</td>\n",
       "      <td>6480.0</td>\n",
       "      <td>9</td>\n",
       "      <td>40</td>\n",
       "      <td>Chocolate Mint Candies Cookies</td>\n",
       "      <td>3.0</td>\n",
       "      <td>0</td>\n",
       "      <td>6</td>\n",
       "    </tr>\n",
       "  </tbody>\n",
       "</table>\n",
       "</div>"
      ],
      "text/plain": [
       "   index  ingredient  quantity  recipe_key  calPerServing  totalCal  \\\n",
       "0      0     butter       0.75       16212          162.0    6480.0   \n",
       "1      1      sugar       1.50       16212          162.0    6480.0   \n",
       "2      2      water       2.00       16212          162.0    6480.0   \n",
       "3      3  chocolate       2.00       16212          162.0    6480.0   \n",
       "4      4        egg       2.00       16212          162.0    6480.0   \n",
       "\n",
       "   num_ingredients  servings                            name   unit  label  \\\n",
       "0                9        40  Chocolate Mint Candies Cookies  240.0      0   \n",
       "1                9        40  Chocolate Mint Candies Cookies  240.0      0   \n",
       "2                9        40  Chocolate Mint Candies Cookies    3.0      0   \n",
       "3                9        40  Chocolate Mint Candies Cookies  240.0      0   \n",
       "4                9        40  Chocolate Mint Candies Cookies    3.0      0   \n",
       "\n",
       "   norm_quant  \n",
       "0         180  \n",
       "1         360  \n",
       "2           6  \n",
       "3         480  \n",
       "4           6  "
      ]
     },
     "execution_count": 689,
     "metadata": {},
     "output_type": "execute_result"
    }
   ],
   "source": [
    "clean_df.head()"
   ]
  },
  {
   "cell_type": "code",
   "execution_count": null,
   "metadata": {},
   "outputs": [],
   "source": [
    "# Test data using ngrams to identify words (ie. baking soda)\n",
    "from nltk import ngrams\n",
    "\n",
    "bigram = [list(ngrams(words.lower().split(),2)) for words in clean_df['ingredient']]\n",
    "# trigram=list(ngrams(Sentences.lower().split(),3))\n",
    "# fourgram=list(ngrams(Sentences.lower().split(),4))"
   ]
  },
  {
   "cell_type": "code",
   "execution_count": 732,
   "metadata": {
    "scrolled": true
   },
   "outputs": [
    {
     "data": {
      "text/html": [
       "<div>\n",
       "<style scoped>\n",
       "    .dataframe tbody tr th:only-of-type {\n",
       "        vertical-align: middle;\n",
       "    }\n",
       "\n",
       "    .dataframe tbody tr th {\n",
       "        vertical-align: top;\n",
       "    }\n",
       "\n",
       "    .dataframe thead th {\n",
       "        text-align: right;\n",
       "    }\n",
       "</style>\n",
       "<table border=\"1\" class=\"dataframe\">\n",
       "  <thead>\n",
       "    <tr style=\"text-align: right;\">\n",
       "      <th></th>\n",
       "      <th>calPerServing</th>\n",
       "      <th>carbohydratesg</th>\n",
       "      <th>cholesterolmg</th>\n",
       "      <th>cookTime</th>\n",
       "      <th>directions</th>\n",
       "      <th>ingredients</th>\n",
       "      <th>name</th>\n",
       "      <th>nutrition</th>\n",
       "      <th>prepTime</th>\n",
       "      <th>proteing</th>\n",
       "      <th>...</th>\n",
       "      <th>recipeDirection</th>\n",
       "      <th>recipeIngredient</th>\n",
       "      <th>servings</th>\n",
       "      <th>sodiummg</th>\n",
       "      <th>totalFatg</th>\n",
       "      <th>url</th>\n",
       "      <th>key</th>\n",
       "      <th>totalCal</th>\n",
       "      <th>num_ingredients</th>\n",
       "      <th>label</th>\n",
       "    </tr>\n",
       "  </thead>\n",
       "  <tbody>\n",
       "    <tr>\n",
       "      <th>96</th>\n",
       "      <td>279</td>\n",
       "      <td>279 calories;           15.4 g total fat;     ...</td>\n",
       "      <td>19</td>\n",
       "      <td>NaN</td>\n",
       "      <td>1. Preheat oven to 350 degrees F. 2. Melt butt...</td>\n",
       "      <td>½ cup butter, 1 ½ cups graham cracker crumbs, ...</td>\n",
       "      <td>Peanut Butter/Chocolate Chip Cookie Bars</td>\n",
       "      <td>279 calories;           15.4 g total fat;     ...</td>\n",
       "      <td>NaN</td>\n",
       "      <td>15.4</td>\n",
       "      <td>...</td>\n",
       "      <td>Preheat oven to 350 degrees F.\\n              ...</td>\n",
       "      <td>1/2 cup butter; 1 1/2 cups graham cracker cru...</td>\n",
       "      <td>20</td>\n",
       "      <td>279 calories;           15.4 g total fat;     ...</td>\n",
       "      <td>279 calories;           15.4 g total fat;     ...</td>\n",
       "      <td>https://www.allrecipes.com/recipe/9605/peanut-...</td>\n",
       "      <td>9605</td>\n",
       "      <td>5580</td>\n",
       "      <td>5</td>\n",
       "      <td>1</td>\n",
       "    </tr>\n",
       "  </tbody>\n",
       "</table>\n",
       "<p>1 rows × 23 columns</p>\n",
       "</div>"
      ],
      "text/plain": [
       "    calPerServing                                     carbohydratesg  \\\n",
       "96            279  279 calories;           15.4 g total fat;     ...   \n",
       "\n",
       "    cholesterolmg cookTime                                         directions  \\\n",
       "96             19      NaN  1. Preheat oven to 350 degrees F. 2. Melt butt...   \n",
       "\n",
       "                                          ingredients  \\\n",
       "96  ½ cup butter, 1 ½ cups graham cracker crumbs, ...   \n",
       "\n",
       "                                        name  \\\n",
       "96  Peanut Butter/Chocolate Chip Cookie Bars   \n",
       "\n",
       "                                            nutrition prepTime  proteing  ...  \\\n",
       "96  279 calories;           15.4 g total fat;     ...      NaN      15.4  ...   \n",
       "\n",
       "                                      recipeDirection  \\\n",
       "96  Preheat oven to 350 degrees F.\\n              ...   \n",
       "\n",
       "                                     recipeIngredient servings  \\\n",
       "96   1/2 cup butter; 1 1/2 cups graham cracker cru...       20   \n",
       "\n",
       "                                             sodiummg  \\\n",
       "96  279 calories;           15.4 g total fat;     ...   \n",
       "\n",
       "                                            totalFatg  \\\n",
       "96  279 calories;           15.4 g total fat;     ...   \n",
       "\n",
       "                                                  url   key totalCal  \\\n",
       "96  https://www.allrecipes.com/recipe/9605/peanut-...  9605     5580   \n",
       "\n",
       "   num_ingredients  label  \n",
       "96               5      1  \n",
       "\n",
       "[1 rows x 23 columns]"
      ]
     },
     "execution_count": 732,
     "metadata": {},
     "output_type": "execute_result"
    }
   ],
   "source": [
    "df[df['key']==9605]"
   ]
  },
  {
   "cell_type": "code",
   "execution_count": 247,
   "metadata": {},
   "outputs": [
    {
     "data": {
      "text/html": [
       "<div>\n",
       "<style scoped>\n",
       "    .dataframe tbody tr th:only-of-type {\n",
       "        vertical-align: middle;\n",
       "    }\n",
       "\n",
       "    .dataframe tbody tr th {\n",
       "        vertical-align: top;\n",
       "    }\n",
       "\n",
       "    .dataframe thead th {\n",
       "        text-align: right;\n",
       "    }\n",
       "</style>\n",
       "<table border=\"1\" class=\"dataframe\">\n",
       "  <thead>\n",
       "    <tr style=\"text-align: right;\">\n",
       "      <th></th>\n",
       "      <th>ingredient</th>\n",
       "      <th>quantity</th>\n",
       "      <th>key</th>\n",
       "      <th>calPerServing</th>\n",
       "      <th>totalCal</th>\n",
       "      <th>num_ingredients</th>\n",
       "      <th>servings</th>\n",
       "      <th>name</th>\n",
       "      <th>unit</th>\n",
       "      <th>label</th>\n",
       "      <th>norm_quant</th>\n",
       "    </tr>\n",
       "    <tr>\n",
       "      <th>ingredient_key</th>\n",
       "      <th></th>\n",
       "      <th></th>\n",
       "      <th></th>\n",
       "      <th></th>\n",
       "      <th></th>\n",
       "      <th></th>\n",
       "      <th></th>\n",
       "      <th></th>\n",
       "      <th></th>\n",
       "      <th></th>\n",
       "      <th></th>\n",
       "    </tr>\n",
       "  </thead>\n",
       "  <tbody>\n",
       "    <tr>\n",
       "      <th>0</th>\n",
       "      <td>butter</td>\n",
       "      <td>0.5</td>\n",
       "      <td>9605</td>\n",
       "      <td>279.0</td>\n",
       "      <td>5580.0</td>\n",
       "      <td>5</td>\n",
       "      <td>20</td>\n",
       "      <td>Peanut Butter/Chocolate Chip Cookie Bars</td>\n",
       "      <td>720</td>\n",
       "      <td>1</td>\n",
       "      <td>360</td>\n",
       "    </tr>\n",
       "    <tr>\n",
       "      <th>1</th>\n",
       "      <td>grahamcracker</td>\n",
       "      <td>1.5</td>\n",
       "      <td>9605</td>\n",
       "      <td>279.0</td>\n",
       "      <td>5580.0</td>\n",
       "      <td>5</td>\n",
       "      <td>20</td>\n",
       "      <td>Peanut Butter/Chocolate Chip Cookie Bars</td>\n",
       "      <td>720</td>\n",
       "      <td>1</td>\n",
       "      <td>1080</td>\n",
       "    </tr>\n",
       "    <tr>\n",
       "      <th>2</th>\n",
       "      <td>milk</td>\n",
       "      <td>14.0</td>\n",
       "      <td>9605</td>\n",
       "      <td>279.0</td>\n",
       "      <td>5580.0</td>\n",
       "      <td>5</td>\n",
       "      <td>20</td>\n",
       "      <td>Peanut Butter/Chocolate Chip Cookie Bars</td>\n",
       "      <td>84</td>\n",
       "      <td>1</td>\n",
       "      <td>1176</td>\n",
       "    </tr>\n",
       "    <tr>\n",
       "      <th>3</th>\n",
       "      <td>chocolate</td>\n",
       "      <td>2.0</td>\n",
       "      <td>9605</td>\n",
       "      <td>279.0</td>\n",
       "      <td>5580.0</td>\n",
       "      <td>5</td>\n",
       "      <td>20</td>\n",
       "      <td>Peanut Butter/Chocolate Chip Cookie Bars</td>\n",
       "      <td>720</td>\n",
       "      <td>1</td>\n",
       "      <td>1440</td>\n",
       "    </tr>\n",
       "    <tr>\n",
       "      <th>4</th>\n",
       "      <td>peanutbutter</td>\n",
       "      <td>1.0</td>\n",
       "      <td>9605</td>\n",
       "      <td>279.0</td>\n",
       "      <td>5580.0</td>\n",
       "      <td>5</td>\n",
       "      <td>20</td>\n",
       "      <td>Peanut Butter/Chocolate Chip Cookie Bars</td>\n",
       "      <td>720</td>\n",
       "      <td>1</td>\n",
       "      <td>720</td>\n",
       "    </tr>\n",
       "  </tbody>\n",
       "</table>\n",
       "</div>"
      ],
      "text/plain": [
       "                   ingredient  quantity   key  calPerServing  totalCal  \\\n",
       "ingredient_key                                                           \n",
       "0                      butter       0.5  9605          279.0    5580.0   \n",
       "1               grahamcracker       1.5  9605          279.0    5580.0   \n",
       "2                        milk      14.0  9605          279.0    5580.0   \n",
       "3                   chocolate       2.0  9605          279.0    5580.0   \n",
       "4                peanutbutter       1.0  9605          279.0    5580.0   \n",
       "\n",
       "                num_ingredients  servings  \\\n",
       "ingredient_key                              \n",
       "0                             5        20   \n",
       "1                             5        20   \n",
       "2                             5        20   \n",
       "3                             5        20   \n",
       "4                             5        20   \n",
       "\n",
       "                                                    name  unit  label  \\\n",
       "ingredient_key                                                          \n",
       "0               Peanut Butter/Chocolate Chip Cookie Bars   720      1   \n",
       "1               Peanut Butter/Chocolate Chip Cookie Bars   720      1   \n",
       "2               Peanut Butter/Chocolate Chip Cookie Bars    84      1   \n",
       "3               Peanut Butter/Chocolate Chip Cookie Bars   720      1   \n",
       "4               Peanut Butter/Chocolate Chip Cookie Bars   720      1   \n",
       "\n",
       "                norm_quant  \n",
       "ingredient_key              \n",
       "0                      360  \n",
       "1                     1080  \n",
       "2                     1176  \n",
       "3                     1440  \n",
       "4                      720  "
      ]
     },
     "execution_count": 247,
     "metadata": {},
     "output_type": "execute_result"
    }
   ],
   "source": [
    "clean_df.loc[9605]"
   ]
  },
  {
   "cell_type": "markdown",
   "metadata": {},
   "source": [
    "# NLP\n",
    "1) Bag of words\n",
    "\n",
    "2) TF-IDF (term frequency-inverse document frequency)\n",
    "\n",
    "3) Combine word weights (from TF-IDF) with quantitative metrics (quantity, serving size), then model based on that\n",
    "\n",
    "4) Train test split\n",
    "\n",
    "5) Machine learning model\n"
   ]
  },
  {
   "cell_type": "code",
   "execution_count": 16,
   "metadata": {
    "scrolled": false
   },
   "outputs": [
    {
     "name": "stdout",
     "output_type": "stream",
     "text": [
      "Training set contains 294 recipes in total\n",
      "Test set contains 74 recipes in total\n"
     ]
    }
   ],
   "source": [
    "df.rename(columns = {'recipe_key':'key'}, inplace = True) \n",
    "final_df.rename(columns = {'recipe_key':'key'}, inplace = True) \n",
    "X_ing = final_df.groupby('recipe_key')['ingredient'].apply(' '.join) # join list of strings into one string per recipe\n",
    "X_ing = pd.DataFrame(X_ing)\n",
    "X_ing[['orig_ing','name']] = df.set_index('key')[['recipeIngredient','name']]\n",
    "\n",
    "y_cal = df.set_index('key')[['totalCal','calPerServing','name','label']].sort_index().copy()\n",
    "\n",
    "y_label = df.set_index('key')['label']\n",
    "X_keys = df.reset_index(drop=True)['key']\n",
    "\n",
    "from sklearn.model_selection import train_test_split # Train Test Split\n",
    "key_train, key_test, y_train, y_test = train_test_split(X_keys, y_label, test_size=0.2, random_state=101) # won't work with multilevel index\n",
    "\n",
    "X_train = X_ing.loc[key_train]\n",
    "X_test = X_ing.loc[key_test]\n",
    "y_cal_train = y_cal.loc[key_train]\n",
    "y_cal_test = y_cal.loc[key_test]\n",
    "\n",
    "X_train.sort_index(inplace=True)\n",
    "X_test.sort_index(inplace=True)\n",
    "y_train.sort_index(inplace=True)\n",
    "y_test.sort_index(inplace=True)\n",
    "y_cal_train.sort_index(inplace=True)\n",
    "y_cal_test.sort_index(inplace=True)\n",
    "\n",
    "print(\"Training set contains {} recipes in total\".format(len(key_train)))\n",
    "print(\"Test set contains {} recipes in total\".format(len(key_test)))"
   ]
  },
  {
   "cell_type": "code",
   "execution_count": 690,
   "metadata": {},
   "outputs": [],
   "source": [
    "# Save data as csv\n",
    "X_train.to_csv('X_train.csv')\n",
    "X_test.to_csv('X_test.csv')\n",
    "y_train.to_csv('y_train.csv')\n",
    "y_test.to_csv('y_test.csv')\n",
    "y_cal_train.to_csv('y_cal_train.csv')\n",
    "y_cal_test.reset_index().to_csv('y_cal_test.csv')"
   ]
  },
  {
   "cell_type": "markdown",
   "metadata": {},
   "source": [
    "# NLP - separate steps\n",
    "#### Bag of words vectorization"
   ]
  },
  {
   "cell_type": "code",
   "execution_count": 17,
   "metadata": {},
   "outputs": [
    {
     "name": "stdout",
     "output_type": "stream",
     "text": [
      "148\n",
      "['almond', 'almondbutter', 'almondflour', 'almondmilk', 'applesauce', 'avocado', 'bacon', 'banana', 'barley', 'bean', 'bittersweetchocolate', 'blackstrap', 'blueberry', 'blueberryjam', 'bourbon', 'brandy', 'buckwheatflour', 'butter', 'buttermargarine', 'buttermilk', 'butterscotch', 'butterscotchpudding', 'canesugar', 'canolaoil', 'caramel', 'carameldessert', 'cardamom', 'cherry', 'chestnut', 'chickpea', 'chili', 'chocolate', 'chocolatefudge', 'chocolatehard', 'chocolatepeanutbutter', 'chocolatesyrup', 'chocolatetoffee', 'cinnamon', 'clove', 'cocoa', 'coconut', 'coconutflour', 'coconutoil', 'coconutpalmsugar', 'coconutsugar', 'coffee', 'coffeeliqueur', 'cookie', 'cornflake', 'cornstarch', 'cornsyrup', 'cranberry', 'cream', 'creamcheese', 'creamtartar', 'cremeliqueur', 'dropgreen', 'droplemonjuice', 'dropmaple', 'egg', 'espresso', 'fig', 'flake', 'flaxseedmeal', 'flour', 'gallonvanillaicecream', 'germ', 'ginger', 'grahamcracker', 'granola', 'granolanutraisin', 'grapeseedoil', 'hachiyapersimmonpulp', 'hazelnut', 'honey', 'honeygraham', 'kiwi', 'lemon', 'lemonjuice', 'liqueur', 'liquidchocolate', 'macadamianut', 'mace', 'maple', 'maplesyrup', 'maraschinocherry', 'margarine', 'margarinebutter', 'marshmallow', 'marshmallowfluff', 'matzomeal', 'milk', 'milkchocolate', 'milkchocolatekiss', 'milletflour', 'nectar', 'nut', 'nutmeg', 'oat', 'oatbran', 'oil', 'orange', 'orangejuice', 'orangeliqueur', 'pastryflour', 'peanut', 'peanutbutter', 'peanutchocolate', 'pepper', 'peppermint', 'peppermintcane', 'pistachio', 'potatostarch', 'prune', 'pumpkin', 'pumpkinpie', 'purevanilla', 'raisin', 'raspberry', 'rice', 'riceflour', 'rum', 'salt', 'seed', 'seedheart', 'soda', 'sorghumflour', 'soybeanoil', 'soymilk', 'stoneflour', 'strawberryjam', 'sugar', 'superfinesugar', 'sweetener', 'sweetpotato', 'tapiocastarch', 'tea', 'toffee', 'vanilla', 'walnut', 'water', 'whippingcream', 'whiskey', 'xanthangum', 'yeast', 'yellow', 'yogurt', 'zucchini']\n"
     ]
    }
   ],
   "source": [
    "from sklearn.feature_extraction.text import CountVectorizer # Bag of Words\n",
    "bow_transformer = CountVectorizer(analyzer=text_process).fit(X_train['ingredient'])\n",
    "print(len(bow_transformer.vocabulary_)) # Print total number of vocab words\n",
    "print(bow_transformer.get_feature_names()) # Print all words\n",
    "\n",
    "ingredient_bow = bow_transformer.transform(X_train['ingredient'])"
   ]
  },
  {
   "cell_type": "code",
   "execution_count": null,
   "metadata": {},
   "outputs": [],
   "source": []
  },
  {
   "cell_type": "code",
   "execution_count": null,
   "metadata": {},
   "outputs": [],
   "source": [
    "# Sparse matrix[ingredient_name,recipe]\n",
    "print(ingredient_bow[:,1])"
   ]
  },
  {
   "cell_type": "code",
   "execution_count": 673,
   "metadata": {
    "scrolled": true
   },
   "outputs": [
    {
     "data": {
      "text/html": [
       "<div>\n",
       "<style scoped>\n",
       "    .dataframe tbody tr th:only-of-type {\n",
       "        vertical-align: middle;\n",
       "    }\n",
       "\n",
       "    .dataframe tbody tr th {\n",
       "        vertical-align: top;\n",
       "    }\n",
       "\n",
       "    .dataframe thead th {\n",
       "        text-align: right;\n",
       "    }\n",
       "</style>\n",
       "<table border=\"1\" class=\"dataframe\">\n",
       "  <thead>\n",
       "    <tr style=\"text-align: right;\">\n",
       "      <th></th>\n",
       "      <th>ingredient</th>\n",
       "      <th>orig_ing</th>\n",
       "      <th>name</th>\n",
       "    </tr>\n",
       "    <tr>\n",
       "      <th>recipe_key</th>\n",
       "      <th></th>\n",
       "      <th></th>\n",
       "      <th></th>\n",
       "    </tr>\n",
       "  </thead>\n",
       "  <tbody>\n",
       "    <tr>\n",
       "      <th>6686</th>\n",
       "      <td>flour flour flour flour flour flour flour flou...</td>\n",
       "      <td>2 cups whole wheat flour; 1/4 cup wheat germ; ...</td>\n",
       "      <td>Banana Wheat Bread</td>\n",
       "    </tr>\n",
       "    <tr>\n",
       "      <th>6696</th>\n",
       "      <td>water water water water water water water wate...</td>\n",
       "      <td>3/4 cup warm water; 1 egg, lightly beaten; 1 t...</td>\n",
       "      <td>Cinnamon Cranraisin Bread</td>\n",
       "    </tr>\n",
       "    <tr>\n",
       "      <th>6698</th>\n",
       "      <td>flour flour flour flour flour flour flour flou...</td>\n",
       "      <td>3 cups all-purpose flour; 1 teaspoon salt; 1 t...</td>\n",
       "      <td>Mom's Zucchini Bread</td>\n",
       "    </tr>\n",
       "    <tr>\n",
       "      <th>6714</th>\n",
       "      <td>flour flour flour flour flour flour flour flou...</td>\n",
       "      <td>1 1/2 cups unbleached all-purpose flour; 1 cup...</td>\n",
       "      <td>Banana Oat Muffins</td>\n",
       "    </tr>\n",
       "    <tr>\n",
       "      <th>6730</th>\n",
       "      <td>egg egg egg egg egg egg egg egg egg  sugar sug...</td>\n",
       "      <td>3 eggs; 2 cups white sugar; 1 cup vegetable oi...</td>\n",
       "      <td>Chocolate Chip Orange Zucchini Bread</td>\n",
       "    </tr>\n",
       "  </tbody>\n",
       "</table>\n",
       "</div>"
      ],
      "text/plain": [
       "                                                   ingredient  \\\n",
       "recipe_key                                                      \n",
       "6686        flour flour flour flour flour flour flour flou...   \n",
       "6696        water water water water water water water wate...   \n",
       "6698        flour flour flour flour flour flour flour flou...   \n",
       "6714        flour flour flour flour flour flour flour flou...   \n",
       "6730        egg egg egg egg egg egg egg egg egg  sugar sug...   \n",
       "\n",
       "                                                     orig_ing  \\\n",
       "recipe_key                                                      \n",
       "6686        2 cups whole wheat flour; 1/4 cup wheat germ; ...   \n",
       "6696        3/4 cup warm water; 1 egg, lightly beaten; 1 t...   \n",
       "6698        3 cups all-purpose flour; 1 teaspoon salt; 1 t...   \n",
       "6714        1 1/2 cups unbleached all-purpose flour; 1 cup...   \n",
       "6730        3 eggs; 2 cups white sugar; 1 cup vegetable oi...   \n",
       "\n",
       "                                            name  \n",
       "recipe_key                                        \n",
       "6686                          Banana Wheat Bread  \n",
       "6696                   Cinnamon Cranraisin Bread  \n",
       "6698                        Mom's Zucchini Bread  \n",
       "6714                          Banana Oat Muffins  \n",
       "6730        Chocolate Chip Orange Zucchini Bread  "
      ]
     },
     "execution_count": 673,
     "metadata": {},
     "output_type": "execute_result"
    }
   ],
   "source": [
    "X_train.head()"
   ]
  },
  {
   "cell_type": "code",
   "execution_count": 679,
   "metadata": {},
   "outputs": [
    {
     "name": "stdout",
     "output_type": "stream",
     "text": [
      "  (0, 38)\t360\n",
      "  (0, 266)\t6\n",
      "  (0, 286)\t480\n",
      "  (0, 301)\t60\n",
      "  (0, 334)\t120\n",
      "  (0, 432)\t60\n",
      "  (0, 542)\t5\n",
      "  (0, 562)\t5\n",
      "  (0, 631)\t5\n",
      "\n",
      "\n",
      "chocolatealmond\n"
     ]
    }
   ],
   "source": [
    "# Example bag of words on one recipe\n",
    "from sklearn.feature_extraction.text import CountVectorizer # Bag of Words\n",
    "bow0 = bow_transformer.transform([X_train['ingredient'].loc[6686]])\n",
    "print(bow0) # tells us what words appear and the frequency\n",
    "print('\\n')\n",
    "print(bow_transformer.get_feature_names()[145]) # This tells us what the word is for a given index"
   ]
  },
  {
   "cell_type": "code",
   "execution_count": 681,
   "metadata": {},
   "outputs": [
    {
     "name": "stdout",
     "output_type": "stream",
     "text": [
      "Shape of Sparse Matrix:  (2380, 667)\n",
      "Amount of Non-Zero occurences:  19014\n",
      "sparsity: 1.197762463306162\n"
     ]
    }
   ],
   "source": [
    "# Bag of word counts are saved in a sparse matrix which compresses the information to save computer memory\n",
    "print('Shape of Sparse Matrix: ', ingredient_bow.shape) # matrix size (number of recipes, total number of words)\n",
    "print('Amount of Non-Zero occurences: ', ingredient_bow.nnz) \n",
    "sparsity = (100.0 * ingredient_bow.nnz / (ingredient_bow.shape[0] * ingredient_bow.shape[1]))\n",
    "print('sparsity: {}'.format(sparsity)) # total number of words / (number of recipes * total number of words)*100% compares non-zero words versus total number of words"
   ]
  },
  {
   "cell_type": "markdown",
   "metadata": {},
   "source": [
    "#### TF-IDF (term frequency-inverse document frequency)"
   ]
  },
  {
   "cell_type": "code",
   "execution_count": 21,
   "metadata": {},
   "outputs": [
    {
     "name": "stdout",
     "output_type": "stream",
     "text": [
      "(294, 148)\n"
     ]
    }
   ],
   "source": [
    "from sklearn.feature_extraction.text import TfidfTransformer\n",
    "tfidf_transformer = TfidfTransformer().fit(ingredient_bow) # weight of words over whole document\n",
    "\n",
    "# Example TF-IDF on one recipe\n",
    "# tfidf0 = tfidf_transformer.transform(bow0)\n",
    "# print(tfidf0)\n",
    "\n",
    "# Transform the entire bag-of-words corpus into TF-IDF corpus at once:\n",
    "ingredient_tfidf = tfidf_transformer.transform(ingredient_bow)\n",
    "print(ingredient_tfidf.shape)"
   ]
  },
  {
   "cell_type": "code",
   "execution_count": 686,
   "metadata": {},
   "outputs": [
    {
     "name": "stdout",
     "output_type": "stream",
     "text": [
      "3.712680813459896\n"
     ]
    }
   ],
   "source": [
    "# To see document frequency of a specific word\n",
    "print(tfidf_transformer.idf_[bow_transformer.vocabulary_['almond']])"
   ]
  },
  {
   "cell_type": "markdown",
   "metadata": {},
   "source": [
    "#### Train & test model"
   ]
  },
  {
   "cell_type": "code",
   "execution_count": null,
   "metadata": {},
   "outputs": [],
   "source": [
    "from sklearn.naive_bayes import MultinomialNB # Naive Bayes Model\n",
    "recipe_model = MultinomialNB().fit(ingredient_tfidf, y_train)"
   ]
  },
  {
   "cell_type": "code",
   "execution_count": null,
   "metadata": {
    "scrolled": true
   },
   "outputs": [],
   "source": [
    "predictions = recipe_model.predict(ingredient_tfidf)\n",
    "\n",
    "from sklearn.metrics import classification_report,confusion_matrix\n",
    "print(classification_report(predictions,y_train))"
   ]
  },
  {
   "cell_type": "code",
   "execution_count": null,
   "metadata": {},
   "outputs": [],
   "source": []
  },
  {
   "cell_type": "markdown",
   "metadata": {},
   "source": [
    "### Save ML model using pickle"
   ]
  },
  {
   "cell_type": "code",
   "execution_count": 22,
   "metadata": {},
   "outputs": [],
   "source": [
    "# Save pickle files\n",
    "import pickle\n",
    "pickle.dump(bow_transformer,open('bow_transformer.sav','wb'))\n",
    "pickle.dump(ingredient_bow,open('ingredient_bow.sav','wb'))\n",
    "pickle.dump(ingredient_tfidf,open('ingredient_tfidf.sav','wb'))"
   ]
  },
  {
   "cell_type": "code",
   "execution_count": 25,
   "metadata": {
    "scrolled": false
   },
   "outputs": [
    {
     "data": {
      "text/plain": [
       "array([ 4932.693411  ,  6438.15140553,  7292.38917621, 12372.98747874,\n",
       "        5416.63048475,  4358.90817459,  4263.86349625,  5253.11268489,\n",
       "        3798.56349965,  8104.01771381,  5907.57148953,  5034.3511828 ,\n",
       "        4764.30137824,  5464.14835521,  7014.29576656, 11466.32801282,\n",
       "        4284.08447207,  6506.3474399 ,  4156.35751744,  4463.00229896,\n",
       "        5176.95895936,  6074.97226171,  4546.2953451 ,  5731.67756133,\n",
       "        5500.86731601,  2641.50963109,  5001.40512548,  5598.40309334,\n",
       "        7649.85257805,  9601.52526303,  6310.66681049,  2488.58112752,\n",
       "        2525.14887698, 10489.77972828,  5258.59239503,  2867.82787161,\n",
       "        1021.0638743 ,  6722.20841505,  6060.92608436,  7654.72093835,\n",
       "        5190.7778351 ,  3071.52017859,  8290.38535507,  3063.27752915,\n",
       "        5277.71336959, 10172.69553316,  3723.22601106,  5358.13986092,\n",
       "        6334.86714931,  5692.18020265,  3796.32128954,  9929.15763136,\n",
       "        2659.77144886,  3590.20937066,  5698.74069803,  4412.03800162,\n",
       "        5123.63670034,  3718.98366907,  3118.78553446,  5917.28263136,\n",
       "        4852.78661515,  5441.39049954,  3976.72853839,  6486.36615326,\n",
       "        4035.18225428,  6013.49121269,   404.13207277,  3879.38770798,\n",
       "        4772.83955385,  3648.18451105,  5281.0714698 ,  3081.66091465,\n",
       "        5755.60855721,  3392.16210761])"
      ]
     },
     "execution_count": 25,
     "metadata": {},
     "output_type": "execute_result"
    }
   ],
   "source": [
    "# Load pickle files\n",
    "import pickle\n",
    "bow_transformer = pickle.load(open('bow_transformer.sav','rb'))\n",
    "ingredient_bow_train = pickle.load(open('ingredient_bow.sav','rb'))\n",
    "ingredient_bow_test = bow_transformer.transform(X_test['ingredient'])\n",
    "\n",
    "from sklearn.linear_model import LinearRegression\n",
    "linreg = LinearRegression()\n",
    "linreg.fit(ingredient_bow_train,y_cal_train['totalCal'])\n",
    "\n",
    "predictions = linreg.predict(ingredient_bow_test)\n",
    "predictions"
   ]
  },
  {
   "cell_type": "code",
   "execution_count": 46,
   "metadata": {
    "scrolled": true
   },
   "outputs": [],
   "source": [
    "from sklearn.model_selection import cross_validate\n",
    "prediction = cross_validate(linreg,ingredient_bow_test,y_cal_test['totalCal'],cv=10)\n",
    "\n",
    "# from sklearn.metrics import recall_score\n",
    "# scoring = ['precision_macro', 'recall_macro']\n",
    "# prediction2 = cross_validate(linreg,ingredient_bow_test,y_cal_test['totalCal'],cv=10,scoring=scoring)"
   ]
  },
  {
   "cell_type": "code",
   "execution_count": 47,
   "metadata": {
    "scrolled": false
   },
   "outputs": [
    {
     "data": {
      "text/plain": [
       "{'fit_time': array([0.04774308, 0.04543018, 0.03321004, 0.03861785, 0.03708696,\n",
       "        0.03196192, 0.02823997, 0.03622198, 0.03590512, 0.03920913]),\n",
       " 'score_time': array([0.00050306, 0.00058699, 0.00047612, 0.00049782, 0.00048995,\n",
       "        0.00044417, 0.00038695, 0.00047493, 0.00039315, 0.00040603]),\n",
       " 'test_score': array([-4.69432026e+00,  8.73105629e-02, -5.32227793e+02, -6.81582503e+01,\n",
       "        -7.31727648e+02, -1.11732266e+02,  2.62153186e-01, -1.33133261e+01,\n",
       "        -1.60280544e+03, -4.74363128e+03])}"
      ]
     },
     "execution_count": 47,
     "metadata": {},
     "output_type": "execute_result"
    }
   ],
   "source": [
    "prediction"
   ]
  },
  {
   "cell_type": "code",
   "execution_count": 50,
   "metadata": {
    "scrolled": false
   },
   "outputs": [
    {
     "data": {
      "text/plain": [
       "Text(0, 0.5, 'Predictions')"
      ]
     },
     "execution_count": 50,
     "metadata": {},
     "output_type": "execute_result"
    },
    {
     "data": {
      "image/png": "[encoded data removed]",
      "text/plain": [
       "<Figure size 432x288 with 1 Axes>"
      ]
     },
     "metadata": {
      "needs_background": "light"
     },
     "output_type": "display_data"
    }
   ],
   "source": [
    "# correlation between true and predicted calories\n",
    "import matplotlib.pyplot as plt\n",
    "import seaborn as sns\n",
    "\n",
    "# plt.scatter(y_cal_test['calPerServing'],predictions)\n",
    "fig = plt.scatter(y_cal_test['totalCal'],predictions)\n",
    "fig.axes.set_xlabel('True Values')\n",
    "fig.axes.set_ylabel('Predictions')"
   ]
  },
  {
   "cell_type": "code",
   "execution_count": 53,
   "metadata": {},
   "outputs": [],
   "source": [
    "from scipy import stats\n",
    "slope, intercept, r_value, p_value, std_err = stats.linregress(predictions,y_cal_test['totalCal'])"
   ]
  },
  {
   "cell_type": "code",
   "execution_count": 78,
   "metadata": {},
   "outputs": [
    {
     "name": "stdout",
     "output_type": "stream",
     "text": [
      "Slope:  0.78\n",
      "Intercept:  1316.0\n",
      "Coefficient of Determinant:  0.72\n",
      "p-value:  1.35199918420095e-21\n",
      "Standard Error:  0.06\n"
     ]
    }
   ],
   "source": [
    "print('Slope: ', round(slope,2))\n",
    "print('Intercept: ', round(intercept))\n",
    "print('Coefficient of Determinant: ', round(r_value**2,2))\n",
    "print('p-value: ', p_value)\n",
    "print('Standard Error: ', round(std_err,2)) # standard error of the slope"
   ]
  },
  {
   "cell_type": "code",
   "execution_count": 79,
   "metadata": {},
   "outputs": [
    {
     "data": {
      "text/plain": [
       "<matplotlib.axes._subplots.AxesSubplot at 0x1a2de46890>"
      ]
     },
     "execution_count": 79,
     "metadata": {},
     "output_type": "execute_result"
    },
    {
     "data": {
      "image/png": "[encoded data removed]",
      "text/plain": [
       "<Figure size 432x288 with 1 Axes>"
      ]
     },
     "metadata": {
      "needs_background": "light"
     },
     "output_type": "display_data"
    }
   ],
   "source": [
    "sns.regplot(y_cal_test['totalCal'],predictions)"
   ]
  },
  {
   "cell_type": "code",
   "execution_count": 30,
   "metadata": {
    "scrolled": true
   },
   "outputs": [
    {
     "data": {
      "text/plain": [
       "<matplotlib.axes._subplots.AxesSubplot at 0x1a2a324f10>"
      ]
     },
     "execution_count": 30,
     "metadata": {},
     "output_type": "execute_result"
    },
    {
     "data": {
      "image/png": "[encoded data removed]",
      "text/plain": [
       "<Figure size 432x288 with 1 Axes>"
      ]
     },
     "metadata": {
      "needs_background": "light"
     },
     "output_type": "display_data"
    }
   ],
   "source": [
    "# residual plot - if normally distributed, then this model is good. otherwise, should not use linear prediction model\n",
    "sns.distplot(y_cal_test['totalCal']-predictions)"
   ]
  },
  {
   "cell_type": "code",
   "execution_count": 31,
   "metadata": {},
   "outputs": [
    {
     "name": "stdout",
     "output_type": "stream",
     "text": [
      "71.7\n"
     ]
    },
    {
     "data": {
      "text/plain": [
       "-2803.1876380821104"
      ]
     },
     "execution_count": 31,
     "metadata": {},
     "output_type": "execute_result"
    }
   ],
   "source": [
    "from sklearn import metrics\n",
    "print(round(np.sqrt(metrics.mean_absolute_error(y_cal_test['calPerServing'],predictions)),2))\n",
    "metrics.r2_score(y_cal_test['calPerServing'],predictions) # this r2 is not representative of a normal r2 since it can be negative"
   ]
  },
  {
   "cell_type": "markdown",
   "metadata": {},
   "source": [
    "#### Save BoW and TF-IDF vectorization as csv - doesn't work"
   ]
  },
  {
   "cell_type": "code",
   "execution_count": null,
   "metadata": {},
   "outputs": [],
   "source": [
    "bow_transformer.to_csv('bow_transformer.csv')\n",
    "ingredient_bow.to_csv('ingredient_bow.csv')\n",
    "ingredient_tfidf.to_csv('ingredient_tfidf.csv')"
   ]
  },
  {
   "cell_type": "markdown",
   "metadata": {},
   "source": [
    "# Logistic Regression"
   ]
  },
  {
   "cell_type": "code",
   "execution_count": 712,
   "metadata": {
    "scrolled": false
   },
   "outputs": [
    {
     "name": "stderr",
     "output_type": "stream",
     "text": [
      "/Users/jinnysun/anaconda3/lib/python3.7/site-packages/sklearn/linear_model/_logistic.py:940: ConvergenceWarning: lbfgs failed to converge (status=1):\n",
      "STOP: TOTAL NO. of ITERATIONS REACHED LIMIT.\n",
      "\n",
      "Increase the number of iterations (max_iter) or scale the data as shown in:\n",
      "    https://scikit-learn.org/stable/modules/preprocessing.html\n",
      "Please also refer to the documentation for alternative solver options:\n",
      "    https://scikit-learn.org/stable/modules/linear_model.html#logistic-regression\n",
      "  extra_warning_msg=_LOGISTIC_SOLVER_CONVERGENCE_MSG)\n"
     ]
    },
    {
     "name": "stdout",
     "output_type": "stream",
     "text": [
      "[0 0 1 0 0 1 0 0 1 0 0 0 0 0 1 1 1 1 0 0 0 1 1 1 0 0 0 0 0 1 0 0 0 0 1 0 0\n",
      " 0 0 0 0 0 1 0 0 0 0 0 0 0 0 1 0 0 0 0 0 0 0 0 1 1 0 0 0 0 1 1 0 0 1 0 1 0]\n",
      "              precision    recall  f1-score   support\n",
      "\n",
      "           0       0.71      0.56      0.63        54\n",
      "           1       0.25      0.40      0.31        20\n",
      "\n",
      "    accuracy                           0.51        74\n",
      "   macro avg       0.48      0.48      0.47        74\n",
      "weighted avg       0.59      0.51      0.54        74\n",
      "\n"
     ]
    }
   ],
   "source": [
    "from sklearn.pipeline import Pipeline\n",
    "from sklearn.feature_extraction.text import CountVectorizer # Bag of Words\n",
    "from sklearn.feature_extraction.text import TfidfTransformer # TF-IDF\n",
    "from sklearn.linear_model import LogisticRegression\n",
    "pipeline = Pipeline([\n",
    "    ('bow', CountVectorizer(analyzer=text_process)),  # strings to token integer counts\n",
    "#    ('tfidf', TfidfTransformer()),  # integer counts to weighted TF-IDF scores\n",
    "    ('classifier', LogisticRegression(max_iter=6000)),  # train on TF-IDF vectors w/ Naive Bayes classifier\n",
    "])\n",
    "\n",
    "pipeline.fit(X_train['ingredient'],y_train) # Fit Model using training data\n",
    "predictions = pipeline.predict(X_test['ingredient']) # Predict using test data\n",
    "print(predictions)\n",
    "\n",
    "from sklearn.metrics import classification_report,confusion_matrix\n",
    "print(classification_report(predictions,y_test))"
   ]
  },
  {
   "cell_type": "code",
   "execution_count": null,
   "metadata": {},
   "outputs": [],
   "source": [
    "X_train['ingredient']"
   ]
  },
  {
   "cell_type": "code",
   "execution_count": null,
   "metadata": {},
   "outputs": [],
   "source": [
    "y_test"
   ]
  },
  {
   "cell_type": "code",
   "execution_count": 729,
   "metadata": {
    "scrolled": false
   },
   "outputs": [
    {
     "name": "stdout",
     "output_type": "stream",
     "text": [
      "[0 0 1 0 0 0 0 0 0 0 0 0 0 1 1 0 0 1 0 0 0 0 1 0 0 0 0 0 0 0 0 0 0 1 0 0 0\n",
      " 0 0 0 0 0 0 0 0 0 0 0 0 0 0 0 0 0 0 0 0 0 0 0 0 0 0 0 0 0 0 0 0 0 0 0 0 0]\n",
      "              precision    recall  f1-score   support\n",
      "\n",
      "           0       0.93      0.57      0.71        68\n",
      "           1       0.09      0.50      0.16         6\n",
      "\n",
      "    accuracy                           0.57        74\n",
      "   macro avg       0.51      0.54      0.43        74\n",
      "weighted avg       0.86      0.57      0.66        74\n",
      "\n"
     ]
    }
   ],
   "source": [
    "from sklearn.pipeline import Pipeline\n",
    "from sklearn.feature_extraction.text import CountVectorizer # Bag of Words\n",
    "from sklearn.feature_extraction.text import TfidfTransformer # TF-IDF\n",
    "from sklearn.linear_model import LogisticRegression\n",
    "pipeline = Pipeline([\n",
    "    ('bow', CountVectorizer(analyzer=text_process)),  # strings to token integer counts\n",
    "    ('tfidf', TfidfTransformer()),  # integer counts to weighted TF-IDF scores\n",
    "    ('classifier', LogisticRegression()),  # train on TF-IDF vectors w/ Naive Bayes classifier\n",
    "])\n",
    "\n",
    "pipeline.fit(X_train['ingredient'],y_train) # Fit Model using training data\n",
    "predictions = pipeline.predict(X_test['ingredient']) # Predict using test data\n",
    "print(predictions)\n",
    "\n",
    "from sklearn.metrics import classification_report,confusion_matrix\n",
    "print(classification_report(predictions,y_test))"
   ]
  },
  {
   "cell_type": "markdown",
   "metadata": {},
   "source": [
    "# Linear Regression\n",
    "\n",
    "### Pipeline"
   ]
  },
  {
   "cell_type": "code",
   "execution_count": 711,
   "metadata": {},
   "outputs": [
    {
     "name": "stdout",
     "output_type": "stream",
     "text": [
      "[ 4460.14336385  6259.2458681   7540.86394265 13709.50237719\n",
      "  5894.21071303  3796.03745614  4065.21123286  4937.99111231\n",
      "  3229.47918039  8419.52630108  5823.81493979  4701.6665394\n",
      "  4345.33420086  5254.48555263  7021.46056763 12425.65869853\n",
      "  5682.32524019  6437.77086683  4390.13748885  3989.26107891\n",
      "  5277.64958244 13489.40492992  4245.33174828 28123.96372229\n",
      "  6290.60660903  1880.85269603  5459.73097436  5342.43339379\n",
      "  7722.82542999 10693.97037895  6229.02859281  1622.00737375\n",
      "  1650.74052531 11295.94290508  4970.48055804  2979.44176884\n",
      "   916.94551843  6786.65950524  5944.44893653  7894.87354109\n",
      "  4890.13537182  2257.27629667  7812.50280726  2435.81150066\n",
      "  4538.71684219 11822.7581744   3120.57714907  5326.2323409\n",
      "  6033.31509401  5792.96476106  5329.48640926 10718.98372355\n",
      "  3620.85571699  3658.43501083  5619.86336703  3940.82443756\n",
      "  5832.29188541  3669.35313687  2384.94240253  5849.33818873\n",
      "  4538.19360146  5139.39307792  3710.92470326  6555.00533902\n",
      "  3501.31221746  5953.57114189   709.34694371  3967.22721314\n",
      "  5927.50497867  3059.61053059  4164.68006478  2545.3185027\n",
      "  1310.93073359  2798.32180726]\n"
     ]
    }
   ],
   "source": [
    "from sklearn.pipeline import Pipeline\n",
    "from sklearn.feature_extraction.text import CountVectorizer # Bag of Words\n",
    "from sklearn.feature_extraction.text import TfidfTransformer # TF-IDF\n",
    "from sklearn.linear_model import LinearRegression\n",
    "pipeline = Pipeline([\n",
    "    ('bow', CountVectorizer(analyzer=text_process)),  # strings to token integer counts\n",
    "#    ('tfidf', TfidfTransformer()),  # integer counts to weighted TF-IDF scores\n",
    "    ('classifier', LinearRegression(fit_intercept=False)),  # train on TF-IDF vectors w/ Naive Bayes classifier\n",
    "])\n",
    "\n",
    "pipeline.fit(X_train['ingredient'],y_cal_train['totalCal']) # Fit Model using training data\n",
    "predictions = pipeline.predict(X_test['ingredient']) # Predict using test data\n",
    "print(predictions)"
   ]
  },
  {
   "cell_type": "code",
   "execution_count": 84,
   "metadata": {},
   "outputs": [
    {
     "ename": "NameError",
     "evalue": "name 'train_ingredient_bow' is not defined",
     "output_type": "error",
     "traceback": [
      "\u001b[0;31m---------------------------------------------------------------------------\u001b[0m",
      "\u001b[0;31mNameError\u001b[0m                                 Traceback (most recent call last)",
      "\u001b[0;32m<ipython-input-84-a16ab7f7e304>\u001b[0m in \u001b[0;36m<module>\u001b[0;34m\u001b[0m\n\u001b[0;32m----> 1\u001b[0;31m \u001b[0mtrain_ingredient_bow\u001b[0m\u001b[0;34m\u001b[0m\u001b[0;34m\u001b[0m\u001b[0m\n\u001b[0m",
      "\u001b[0;31mNameError\u001b[0m: name 'train_ingredient_bow' is not defined"
     ]
    }
   ],
   "source": [
    "train_ingredient_bow"
   ]
  },
  {
   "cell_type": "code",
   "execution_count": 85,
   "metadata": {},
   "outputs": [
    {
     "data": {
      "text/plain": [
       "2053"
      ]
     },
     "execution_count": 85,
     "metadata": {},
     "output_type": "execute_result"
    }
   ],
   "source": [
    "len(X_train)"
   ]
  },
  {
   "cell_type": "code",
   "execution_count": 86,
   "metadata": {},
   "outputs": [
    {
     "ename": "NameError",
     "evalue": "name 'lm' is not defined",
     "output_type": "error",
     "traceback": [
      "\u001b[0;31m---------------------------------------------------------------------------\u001b[0m",
      "\u001b[0;31mNameError\u001b[0m                                 Traceback (most recent call last)",
      "\u001b[0;32m<ipython-input-86-2a3f346fbb61>\u001b[0m in \u001b[0;36m<module>\u001b[0;34m\u001b[0m\n\u001b[0;32m----> 1\u001b[0;31m \u001b[0mlen\u001b[0m\u001b[0;34m(\u001b[0m\u001b[0mlm\u001b[0m\u001b[0;34m.\u001b[0m\u001b[0mcoef_\u001b[0m\u001b[0;34m)\u001b[0m\u001b[0;34m\u001b[0m\u001b[0;34m\u001b[0m\u001b[0m\n\u001b[0m",
      "\u001b[0;31mNameError\u001b[0m: name 'lm' is not defined"
     ]
    }
   ],
   "source": [
    "len(lm.coef_)"
   ]
  },
  {
   "cell_type": "markdown",
   "metadata": {},
   "source": [
    "### Separate steps"
   ]
  },
  {
   "cell_type": "code",
   "execution_count": 713,
   "metadata": {
    "scrolled": true
   },
   "outputs": [
    {
     "name": "stdout",
     "output_type": "stream",
     "text": [
      "156\n"
     ]
    },
    {
     "data": {
      "text/plain": [
       "LinearRegression(copy_X=True, fit_intercept=True, n_jobs=None, normalize=False)"
      ]
     },
     "execution_count": 713,
     "metadata": {},
     "output_type": "execute_result"
    }
   ],
   "source": [
    "from sklearn.pipeline import Pipeline\n",
    "from sklearn.feature_extraction.text import CountVectorizer # Bag of Words\n",
    "# from sklearn.feature_extraction.text import TfidfTransformer # TF-IDF\n",
    "from sklearn.linear_model import LinearRegression\n",
    "\n",
    "bow_transformer = CountVectorizer(analyzer=text_process).fit(X_train['ingredient'])\n",
    "print(len(bow_transformer.vocabulary_)) # Print total number of vocab words\n",
    "\n",
    "train_ingredient_bow = bow_transformer.fit_transform(X_train['ingredient'])\n",
    "lm = LinearRegression(fit_intercept=False)\n",
    "lm.fit(train_ingredient_bow,y_cal_train['totalCal'])\n",
    "#lm.fit(train_ingredient_bow,y_cal_train['calPerServing'])"
   ]
  },
  {
   "cell_type": "code",
   "execution_count": 714,
   "metadata": {},
   "outputs": [
    {
     "name": "stdout",
     "output_type": "stream",
     "text": [
      "1073.4295645691227\n"
     ]
    }
   ],
   "source": [
    "print(lm.intercept_)"
   ]
  },
  {
   "cell_type": "code",
   "execution_count": 715,
   "metadata": {},
   "outputs": [
    {
     "data": {
      "text/plain": [
       "array([ 5.18029008e-01,  7.66269485e+00,  1.09206200e-01, -3.10703881e+01,\n",
       "       -1.01665754e+01,  1.08391393e+00, -9.16359655e+00,  2.89866309e+00,\n",
       "       -4.52483748e+00, -5.31770801e+00,  7.34753629e+00,  9.83153990e+01,\n",
       "        1.16655661e+01,  2.41392660e+00,  1.19645866e+02, -8.68709239e+01,\n",
       "       -3.54787064e+00,  4.91268488e+00,  5.36977109e+00,  1.57412588e+00,\n",
       "        7.40148636e+00,  1.11678337e+01,  2.86803865e+00, -4.74103106e-01,\n",
       "       -2.60925392e+00,  1.10159540e+02,  1.06044218e+02,  2.26613263e+00,\n",
       "        2.21663867e-02,  2.98846995e-01,  2.05494829e+00,  4.06859591e+00,\n",
       "        1.48088060e-02,  4.90252898e+00,  1.52108051e+00,  1.69089073e+01,\n",
       "        1.94138876e+00,  1.52455030e+01,  1.06586426e+01, -5.91880403e+01,\n",
       "       -1.97859072e+01,  5.95937751e+00, -4.79279800e-01,  4.38992138e+00,\n",
       "       -1.97478902e+01,  8.93830797e+00, -1.71037633e+00,  2.57999800e+00,\n",
       "        1.87883343e+01, -5.21363169e+01, -1.33346813e+02,  7.11266698e-01,\n",
       "        5.93160156e-01,  5.93824075e+00,  5.99738906e+00,  1.70241832e+00,\n",
       "        5.99537853e-02,  3.52834329e+00,  6.00852840e+01,  9.34205253e+00,\n",
       "        1.35317848e+01,  1.32998320e-02,  1.32998320e-02,  1.33448659e+00,\n",
       "        1.27253062e+02,  1.58921666e+00, -5.53039195e-01,  5.82146647e+00,\n",
       "       -3.18210808e-01, -4.10342477e+00,  4.63131810e-01, -4.04860713e+01,\n",
       "       -6.61307566e-02, -6.16566457e+00,  2.65996641e+00,  8.75711576e+00,\n",
       "       -2.81883315e+01,  3.55616994e+00,  7.48702131e+00,  6.18981980e-01,\n",
       "       -5.60161618e+01, -1.93860229e+00, -9.69301145e+00, -1.72919552e+01,\n",
       "       -2.29065012e+01,  1.72326782e+00, -9.69395124e+01, -5.72724784e-01,\n",
       "        1.65565759e+01, -1.04197246e+01,  4.76554073e+00,  3.20188751e+01,\n",
       "        2.86626293e+00,  6.10199613e-01,  1.35937229e+00,  3.30999515e+00,\n",
       "        4.86789450e+00,  1.01581202e+01, -4.43483830e-01, -2.04481676e+00,\n",
       "        4.40577579e+00, -5.37807194e+01,  6.39691689e-01, -1.55112666e+00,\n",
       "        6.63651667e+00, -2.57072070e+02, -4.48995368e-01,  4.43327735e-03,\n",
       "       -1.19922938e+00, -1.47971348e+00,  1.74402611e+00,  4.91345963e+00,\n",
       "        2.08350521e+01, -8.40265678e+00,  4.77805085e+00,  2.96979091e+00,\n",
       "        1.98379825e+01,  1.88801707e-02, -3.82434068e+01,  2.08569854e+00,\n",
       "        2.12249182e+02,  1.05651099e+00,  1.19476208e+00,  3.02458238e+01,\n",
       "       -8.25551592e-01, -1.76338109e+00, -4.44551965e+01,  2.95355236e+01,\n",
       "        1.37252976e+00,  4.15948763e-01,  9.72008593e+00,  1.59959940e+02,\n",
       "        1.14385910e+00,  2.10108385e-02, -6.32137474e+00, -6.29072790e-01,\n",
       "        2.21663867e-02,  2.88972345e+00, -2.24303810e+00,  4.30135075e+00,\n",
       "       -2.30161735e-01, -8.86967660e-01,  3.09456329e+01, -2.37550164e+02,\n",
       "        5.59243325e+00,  1.01595121e+01,  2.96232238e+00,  2.76282036e+00,\n",
       "        3.09497323e+00,  1.26554843e+02,  3.18331748e+01, -2.36631424e+01,\n",
       "        2.91073323e+00,  2.12694138e+00, -1.55075792e+01,  5.43082486e+00])"
      ]
     },
     "execution_count": 715,
     "metadata": {},
     "output_type": "execute_result"
    }
   ],
   "source": [
    "lm.coef_"
   ]
  },
  {
   "cell_type": "code",
   "execution_count": 716,
   "metadata": {
    "scrolled": true
   },
   "outputs": [],
   "source": [
    "coeff_words = pd.DataFrame(lm.coef_,bow_transformer.get_feature_names(), columns=['Coeff'])"
   ]
  },
  {
   "cell_type": "code",
   "execution_count": 728,
   "metadata": {},
   "outputs": [
    {
     "data": {
      "text/html": [
       "<div>\n",
       "<style scoped>\n",
       "    .dataframe tbody tr th:only-of-type {\n",
       "        vertical-align: middle;\n",
       "    }\n",
       "\n",
       "    .dataframe tbody tr th {\n",
       "        vertical-align: top;\n",
       "    }\n",
       "\n",
       "    .dataframe thead th {\n",
       "        text-align: right;\n",
       "    }\n",
       "</style>\n",
       "<table border=\"1\" class=\"dataframe\">\n",
       "  <thead>\n",
       "    <tr style=\"text-align: right;\">\n",
       "      <th></th>\n",
       "      <th>Coeff</th>\n",
       "    </tr>\n",
       "  </thead>\n",
       "  <tbody>\n",
       "    <tr>\n",
       "      <th>orange</th>\n",
       "      <td>-257.072070</td>\n",
       "    </tr>\n",
       "    <tr>\n",
       "      <th>teapoonshortening</th>\n",
       "      <td>-237.550164</td>\n",
       "    </tr>\n",
       "    <tr>\n",
       "      <th>coloring</th>\n",
       "      <td>-133.346813</td>\n",
       "    </tr>\n",
       "    <tr>\n",
       "      <th>mace</th>\n",
       "      <td>-96.939512</td>\n",
       "    </tr>\n",
       "    <tr>\n",
       "      <th>brandy</th>\n",
       "      <td>-86.870924</td>\n",
       "    </tr>\n",
       "    <tr>\n",
       "      <th>...</th>\n",
       "      <td>...</td>\n",
       "    </tr>\n",
       "    <tr>\n",
       "      <th>bourbon</th>\n",
       "      <td>119.645866</td>\n",
       "    </tr>\n",
       "    <tr>\n",
       "      <th>whippingcream</th>\n",
       "      <td>126.554843</td>\n",
       "    </tr>\n",
       "    <tr>\n",
       "      <th>espresso</th>\n",
       "      <td>127.253062</td>\n",
       "    </tr>\n",
       "    <tr>\n",
       "      <th>soda</th>\n",
       "      <td>159.959940</td>\n",
       "    </tr>\n",
       "    <tr>\n",
       "      <th>pumpkinpie</th>\n",
       "      <td>212.249182</td>\n",
       "    </tr>\n",
       "  </tbody>\n",
       "</table>\n",
       "<p>156 rows × 1 columns</p>\n",
       "</div>"
      ],
      "text/plain": [
       "                        Coeff\n",
       "orange            -257.072070\n",
       "teapoonshortening -237.550164\n",
       "coloring          -133.346813\n",
       "mace               -96.939512\n",
       "brandy             -86.870924\n",
       "...                       ...\n",
       "bourbon            119.645866\n",
       "whippingcream      126.554843\n",
       "espresso           127.253062\n",
       "soda               159.959940\n",
       "pumpkinpie         212.249182\n",
       "\n",
       "[156 rows x 1 columns]"
      ]
     },
     "execution_count": 728,
     "metadata": {},
     "output_type": "execute_result"
    }
   ],
   "source": [
    "coeff_words.sort_values('Coeff')"
   ]
  },
  {
   "cell_type": "code",
   "execution_count": 725,
   "metadata": {},
   "outputs": [
    {
     "data": {
      "text/html": [
       "<div>\n",
       "<style scoped>\n",
       "    .dataframe tbody tr th:only-of-type {\n",
       "        vertical-align: middle;\n",
       "    }\n",
       "\n",
       "    .dataframe tbody tr th {\n",
       "        vertical-align: top;\n",
       "    }\n",
       "\n",
       "    .dataframe thead th {\n",
       "        text-align: right;\n",
       "    }\n",
       "</style>\n",
       "<table border=\"1\" class=\"dataframe\">\n",
       "  <thead>\n",
       "    <tr style=\"text-align: right;\">\n",
       "      <th></th>\n",
       "      <th>Coeff</th>\n",
       "    </tr>\n",
       "  </thead>\n",
       "  <tbody>\n",
       "    <tr>\n",
       "      <th>sugar</th>\n",
       "      <td>2.889723</td>\n",
       "    </tr>\n",
       "    <tr>\n",
       "      <th>flour</th>\n",
       "      <td>-0.318211</td>\n",
       "    </tr>\n",
       "    <tr>\n",
       "      <th>butter</th>\n",
       "      <td>4.912685</td>\n",
       "    </tr>\n",
       "    <tr>\n",
       "      <th>salt</th>\n",
       "      <td>29.535524</td>\n",
       "    </tr>\n",
       "    <tr>\n",
       "      <th>chocolate</th>\n",
       "      <td>4.068596</td>\n",
       "    </tr>\n",
       "  </tbody>\n",
       "</table>\n",
       "</div>"
      ],
      "text/plain": [
       "               Coeff\n",
       "sugar       2.889723\n",
       "flour      -0.318211\n",
       "butter      4.912685\n",
       "salt       29.535524\n",
       "chocolate   4.068596"
      ]
     },
     "execution_count": 725,
     "metadata": {},
     "output_type": "execute_result"
    }
   ],
   "source": [
    "coeff_words.loc[['sugar','flour','butter','salt','chocolate']]"
   ]
  },
  {
   "cell_type": "code",
   "execution_count": 178,
   "metadata": {},
   "outputs": [],
   "source": [
    "# test_recipe = 'pasta chicken butter'\n",
    "test_recipe = X_test['ingredient'].loc[9714]\n",
    "test_ingredient_bow = bow_transformer.transform([test_recipe])"
   ]
  },
  {
   "cell_type": "code",
   "execution_count": 185,
   "metadata": {},
   "outputs": [],
   "source": [
    "test_ingredient_bow = bow_transformer.transform(X_test['ingredient'])"
   ]
  },
  {
   "cell_type": "code",
   "execution_count": 186,
   "metadata": {
    "collapsed": true
   },
   "outputs": [
    {
     "data": {
      "text/plain": [
       "array([ 4041.33491138,  3879.91614655,  5074.54029848,  6520.55044667,\n",
       "        5123.65815893,  3980.30308321,  4127.30310534,  4134.776449  ,\n",
       "        3658.14214164,  4103.49600595,  3043.51195605,  3585.1848169 ,\n",
       "        5145.13992629,  4670.15057689,  4491.34573226,  4407.44024882,\n",
       "        4767.03113887,  5733.62078158,  4242.94323864,  3802.53052388,\n",
       "        4846.39121185,  3823.1811052 ,  4985.67598545,  4680.74436133,\n",
       "        6151.88329977,  3448.79860642,  2989.88714073,  3411.51409026,\n",
       "        4756.63200861,  3325.11967594,  3480.887153  ,  4243.77562462,\n",
       "        4791.57201378,  3706.57276195,  5501.98976013,  3706.57276195,\n",
       "        4720.70641083,  4836.09449757,  4727.03091697,  3361.42181364,\n",
       "        5744.44848523,  4879.76272297,  4410.82193864,  7310.45340977,\n",
       "        4360.28163072,  2858.13234365,  5312.18373619,  6333.64835288,\n",
       "        6587.20992604,  5419.2459266 ,  5370.40249126,  3601.72826744,\n",
       "        3855.01634975,  4925.11825878,  3977.85613409,  5055.67630051,\n",
       "        5019.68502454,  5076.77129025,  5212.34673049,  4132.48374156,\n",
       "        5964.91471123,  3203.50797431,  2240.1807574 ,  6237.53516126,\n",
       "        6601.48761457,  5555.84297995,  3561.70012972,  6344.45753667,\n",
       "       10497.51429388,  3740.91898286,  4218.53017983,  3959.27341771,\n",
       "        6580.30227617,  3238.19460021,  3883.53003499,  3808.36132206,\n",
       "        6180.76676942,  5568.0470395 ,  4446.00722523,  4759.37944326,\n",
       "        4831.39082353,  1302.20916664,  5747.03742843,  5357.78796422,\n",
       "        2559.77245845,  4273.5002933 ,  7814.59587806,  6418.04934687,\n",
       "        4840.80344746,  6768.68372635,  4141.87650028,  3220.27518143,\n",
       "        3066.97117093,  5107.0262682 ,  4554.15584787,  4527.57479613,\n",
       "        8289.65114422,  3306.51627803,  3187.51135438,  4819.89169591,\n",
       "        4967.80228228,  6276.59831021,  4530.58602042,  3890.20279333,\n",
       "        5966.93635196,  6284.88996701,  5401.77884567,  5603.88152614,\n",
       "        2257.72590173,  5709.70169925,  3706.57276195,  5046.13919197,\n",
       "        3938.95241531,  4185.16696216,  3752.51139772,  4434.94945821,\n",
       "        6638.66555154,  6486.71634196,  5593.22228281,  6627.30164787,\n",
       "        4608.94407652,  5535.84039125,  3513.30265037,  3766.55782741,\n",
       "        5334.1973056 ,  6720.55483927,  3316.2900447 ,  3924.28891193,\n",
       "        3889.11902685,  6041.74180472,  5620.02689738,  4138.68522752,\n",
       "        4619.15362194,  6755.04064738,  6895.74124799,  4268.73600692,\n",
       "        3913.28915243,  4896.4165083 ,  6167.41159529,  4832.29733014,\n",
       "       10067.77213413,  6800.15697692,  6431.76442715,  4619.70246302,\n",
       "        4946.00951342,  4644.36771834,  3528.13034406,  3710.33972018,\n",
       "        3702.28330726,  7057.58141403,  6819.31674027,  3924.28891193,\n",
       "        3480.90312829,  4544.38214055,  3781.16711317,  3274.00088051,\n",
       "        3491.76959676,  5428.11132605,  5274.52767758,  1204.10366866,\n",
       "        4321.75184865,  3512.49753288,  5375.50613283,  4502.68951946,\n",
       "        4439.68385929,  3175.41519422,  3522.25952214, 11922.37120548,\n",
       "        5258.73486725,  3780.8931814 ,  5220.71526407,  5326.48144312,\n",
       "        4507.43987984,  4507.43987984,  5311.71927381,  4990.65127972,\n",
       "        7147.22454623,  4509.85959549,  5433.63796474,  3526.0686188 ,\n",
       "        5233.69085705,  3914.03303047,  4240.5477024 ,  7500.16419398,\n",
       "        4544.5448552 ,  4052.17879803,  4053.49184506,  3652.30343516,\n",
       "        5996.84846772,  4689.20525921,  6332.68572661,  4556.20376467,\n",
       "        3992.36491028,  5312.18373619,  4512.58002391,  5450.3884896 ,\n",
       "        3629.23024024,  5525.54866782,  3938.14870192,  3925.41869653,\n",
       "        5249.17862952,  3967.15824041,  5298.63539628,  4568.22884231,\n",
       "        5888.50887515,  5908.1365865 ,  4681.07484769,  3525.04293018,\n",
       "        5677.20990282,  3580.65008336,  5323.26683154,  5026.3539159 ,\n",
       "        2832.58979855,  6468.18360345, 10589.25408301,  5619.50741911,\n",
       "        4660.51194179,  3189.92680526,  2519.91286371,  5866.42478839,\n",
       "        4473.60425337,  4427.54241325,  5846.05451616,  4037.96155588,\n",
       "        4522.51183739,  4137.95818071,  5420.7961469 ,  3709.24611097,\n",
       "        5953.28939703,  4312.09494816,  3860.18327341,  5576.98807434,\n",
       "        3878.15076338,  3980.30308321,  3947.32995801,  2628.54331317,\n",
       "        2654.10956406,  4412.15957371,  5619.50741911,  4043.54532179,\n",
       "        5028.40573338,  4982.45483196,  5419.49184005,  3381.56043442,\n",
       "        2856.04484387,  6401.15073882,  3773.49144006,  7927.46753352,\n",
       "        5306.20919822,  4884.27506226,  4878.74554903,  5090.90580173,\n",
       "        4374.13152509,  4604.84783268,  4174.28193868,  3242.68265251,\n",
       "        3498.01459675,  4861.55496809,  2395.08254759,  3609.88740703,\n",
       "        2841.64773174,  4264.3757338 ,  5486.0668136 ,  4772.58401376,\n",
       "        4726.21972499,  4973.22189847,  5269.69345744,  3921.7173925 ,\n",
       "        4422.77652065,  3584.43612883,  5432.74651399,  3472.81788045,\n",
       "        3747.41595847,  4122.24870528,  2819.37849077,  3545.79251752,\n",
       "        6415.13968505,  6493.6539527 ,  5307.26572467,  3656.13300952,\n",
       "        6327.96950858,  4948.15455283,  4298.02247997,  5140.07599123,\n",
       "        4946.93973123,  3651.87820592,  4288.16379668,  4919.63785207,\n",
       "        3842.03019373,  2350.4106022 ,  8801.43475236,  4327.8453459 ,\n",
       "        6379.78934136,  5622.78438007,  4752.39586904,  4366.90406423,\n",
       "        5929.00575297,  5354.64318594,  4823.71634342,  4482.35628253,\n",
       "        5475.24698577,  4041.51576192,  5656.33227993,  5054.06377659,\n",
       "        3711.34341834,  5773.44482449,  3589.30918947,  2335.43025908,\n",
       "        5375.90116144,  7579.20947027,  5923.20959425,  -263.18045955,\n",
       "        3706.57276195,  3384.67423528,  5533.34040947,  4034.32750686,\n",
       "        3472.61048509,  7449.88721558,  5065.37683103,  4833.57806629,\n",
       "        5593.19991758,  5003.90847199,  5878.98219559,  4639.201277  ,\n",
       "        5412.67471133,  4812.17488295,  3417.19277864,  4442.79579181,\n",
       "        4240.41726472,  4525.72329848,  4897.04528135,  3542.88167478,\n",
       "        3703.51682755,  3953.01562674,  3131.05124924,  4608.86038033,\n",
       "        4725.15602982,  5428.11132605,  3348.2444939 ,  5397.90446406,\n",
       "        3310.95306311,  3808.36132206,  5184.87890878,  3704.52757761,\n",
       "        3236.35588703,  3706.57276195,  4896.83847774,  5331.83073562,\n",
       "        5567.33397117,  6147.5242791 ,  3178.06518113,  4897.04528135,\n",
       "        4235.13651529,  3758.85024545,  3520.09018316,  3942.75077607,\n",
       "        5410.87606934,  6052.03086055,  3198.24755927,  4353.26572426,\n",
       "        2675.18116408,  7031.95931088,  4570.49809865,  3906.06161129,\n",
       "        2910.18287787,  3980.30308321,  4196.07681129,  4426.55892969,\n",
       "        6177.14184672,  5282.53763506,  4441.85431809,  4339.34473371,\n",
       "        4825.85081919,   160.03928629,  4630.45260753,  7991.90349409,\n",
       "        6042.41476716,  3625.73172792,   960.64249578,  3601.72826744,\n",
       "        3598.15072548,  5172.89227167,  4231.15943593,  4612.61209867,\n",
       "        4131.68383706,  5006.50522109,  5665.67071538,  3089.8255228 ,\n",
       "        5697.20765078,  4255.82979405,  5059.97093925,  4927.55126649,\n",
       "        4337.73568621,  5651.87444653,  4987.13457963,  5578.90879792,\n",
       "        5857.00759769,  5250.23078253,  5492.87323712,  3775.14369133,\n",
       "        5879.61630873,  7568.24299345,  6307.82800117,  4275.07291739,\n",
       "        4160.88137805,  5750.30793826,  6482.83715095,  5737.51943281,\n",
       "        4478.26482729,  3560.78675654,  5928.12017929,  3382.57720704,\n",
       "        5028.26435735,  5414.63006054,  3335.09059536,  4672.65338782,\n",
       "        5275.86187903,  2704.20296181,  3510.23412581,  4518.13496428,\n",
       "        4441.5198372 ,  4859.31054267,  4349.20718342,  5475.24698577,\n",
       "        4227.09408391,  3229.49771843,  5428.11132605,  4514.15422603,\n",
       "        3612.80736927,  4416.46331143,  2456.75715677,  5601.48632602,\n",
       "        3850.34937382,  4172.55127707,  5613.07483266,  4682.20664838,\n",
       "        4817.3737393 ,  5655.8292146 ,  5649.2929664 ,  5065.83344964,\n",
       "        4080.89798396,  4732.3364641 ,  3624.9488153 ,  4691.88829619,\n",
       "        4206.58161519,  3873.38648045,  3414.31537611,  7943.67981519,\n",
       "        4657.04537004,  2850.36855118,  5271.9096096 ,  5312.98984783,\n",
       "        3000.29813365,  3876.00333014,  5186.22865615,  4298.75243767,\n",
       "        9027.46560204,  4540.29456695,  5646.16766881,  2394.5108412 ,\n",
       "        4624.17223154,  3524.38574572,  5156.13871078,  3394.5840676 ,\n",
       "        4424.24807896,  3946.97790401,  3805.2927975 ,  8032.31202804])"
      ]
     },
     "execution_count": 186,
     "metadata": {},
     "output_type": "execute_result"
    }
   ],
   "source": [
    "predictions = lm.predict(test_ingredient_bow)\n",
    "predictions"
   ]
  },
  {
   "cell_type": "code",
   "execution_count": 180,
   "metadata": {},
   "outputs": [
    {
     "data": {
      "text/plain": [
       "totalCal                      6996\n",
       "calPerServing                  583\n",
       "name             Turtles® Brownies\n",
       "label                            1\n",
       "Name: 9714, dtype: object"
      ]
     },
     "execution_count": 180,
     "metadata": {},
     "output_type": "execute_result"
    }
   ],
   "source": [
    "y_cal_test.loc[9714]"
   ]
  },
  {
   "cell_type": "code",
   "execution_count": null,
   "metadata": {
    "scrolled": true
   },
   "outputs": [],
   "source": [
    "# correlation between true and predicted calories\n",
    "import matplotlib.pyplot as plt\n",
    "import seaborn as sns\n",
    "\n",
    "plt.scatter(y_cal_test['calPerServing'],predictions)\n",
    "# plt.scatter(y_cal_test['totalCal'],predictions)"
   ]
  },
  {
   "cell_type": "code",
   "execution_count": null,
   "metadata": {
    "scrolled": true
   },
   "outputs": [],
   "source": [
    "# residual plot - if normally distributed, then this model is good. otherwise, should not use linear prediction model\n",
    "sns.distplot(y_cal_test['calPerServing']-predictions)"
   ]
  },
  {
   "cell_type": "code",
   "execution_count": null,
   "metadata": {},
   "outputs": [],
   "source": [
    "from sklearn import metrics\n",
    "print(round(np.sqrt(metrics.mean_absolute_error(y_cal_test['calPerServing'],predictions)),2))\n",
    "metrics.r2_score(y_cal_test['calPerServing'],predictions)"
   ]
  },
  {
   "cell_type": "code",
   "execution_count": null,
   "metadata": {},
   "outputs": [],
   "source": [
    "predictions.conf_int(0.05)"
   ]
  },
  {
   "cell_type": "code",
   "execution_count": null,
   "metadata": {},
   "outputs": [],
   "source": []
  },
  {
   "cell_type": "code",
   "execution_count": null,
   "metadata": {},
   "outputs": [],
   "source": []
  },
  {
   "cell_type": "code",
   "execution_count": 164,
   "metadata": {},
   "outputs": [],
   "source": [
    "from sklearn.ensemble import GradientBoostingRegressor\n",
    "# Set lower and upper quantile\n",
    "LOWER_ALPHA = 0.1\n",
    "UPPER_ALPHA = 0.9\n",
    "# Create separate models for lower, median, and upper quantile values\n",
    "lower_model = GradientBoostingRegressor(loss=\"quantile\", alpha=LOWER_ALPHA)\n",
    "mid_model = GradientBoostingRegressor(loss=\"ls\")\n",
    "upper_model = GradientBoostingRegressor(loss=\"quantile\", alpha=UPPER_ALPHA)\n",
    "# Fit models\n",
    "lower_model.fit(X_train, y_train)\n",
    "mid_model.fit(X_train, y_train)\n",
    "upper_model.fit(X_train, y_train)\n",
    "# Record actual values on test set\n",
    "predictions = pd.DataFrame(y_test)\n",
    "# Predict\n",
    "predictions['lower'] = lower_model.predict(X_test)\n",
    "predictions['mid'] = mid_model.predict(X_test)\n",
    "predictions['upper'] = upper_model.predict(X_test)"
   ]
  },
  {
   "cell_type": "markdown",
   "metadata": {},
   "source": [
    "# Naive Bayes\n",
    "\n",
    "bag of words gives good precision but very bad recall\n",
    "\n",
    "TF-IDF is assigning all recipes to one label, so recall=0."
   ]
  },
  {
   "cell_type": "code",
   "execution_count": null,
   "metadata": {},
   "outputs": [],
   "source": [
    "from sklearn.pipeline import Pipeline\n",
    "from sklearn.feature_extraction.text import CountVectorizer # Bag of Words\n",
    "from sklearn.feature_extraction.text import TfidfTransformer # TF-IDF\n",
    "from sklearn.naive_bayes import MultinomialNB # Naive Bayes Model\n",
    "pipeline = Pipeline([\n",
    "    ('bow', CountVectorizer(analyzer=text_process)),  # strings to token integer counts\n",
    "#    ('tfidf', TfidfTransformer()),  # integer counts to weighted TF-IDF scores\n",
    "    ('classifier', MultinomialNB()),  # train on TF-IDF vectors w/ Naive Bayes classifier\n",
    "])\n",
    "\n",
    "pipeline.fit(X_train['ingredient'],y_train) # Fit Model using training data\n",
    "predictions = pipeline.predict(X_test['ingredient']) # Predict using test data\n",
    "print(predictions)\n",
    "\n",
    "from sklearn.metrics import classification_report,confusion_matrix\n",
    "print(classification_report(predictions,y_test))"
   ]
  },
  {
   "cell_type": "code",
   "execution_count": null,
   "metadata": {},
   "outputs": [],
   "source": [
    "from sklearn.pipeline import Pipeline\n",
    "from sklearn.feature_extraction.text import CountVectorizer # Bag of Words\n",
    "from sklearn.feature_extraction.text import TfidfTransformer # TF-IDF\n",
    "from sklearn.naive_bayes import MultinomialNB # Naive Bayes Model\n",
    "pipeline = Pipeline([\n",
    "    ('bow', CountVectorizer(analyzer=text_process)),  # strings to token integer counts\n",
    "    ('tfidf', TfidfTransformer()),  # integer counts to weighted TF-IDF scores\n",
    "    ('classifier', MultinomialNB()),  # train on TF-IDF vectors w/ Naive Bayes classifier\n",
    "])\n",
    "\n",
    "pipeline.fit(X_train['ingredient'],y_train) # Fit Model using training data\n",
    "predictions = pipeline.predict(X_test['ingredient']) # Predict using test data\n",
    "print(predictions)\n",
    "\n",
    "from sklearn.metrics import classification_report,confusion_matrix\n",
    "print(classification_report(predictions,y_test))"
   ]
  },
  {
   "cell_type": "code",
   "execution_count": null,
   "metadata": {},
   "outputs": [],
   "source": []
  },
  {
   "cell_type": "markdown",
   "metadata": {},
   "source": [
    "# Decision tree"
   ]
  },
  {
   "cell_type": "code",
   "execution_count": null,
   "metadata": {},
   "outputs": [],
   "source": [
    "from sklearn.pipeline import Pipeline\n",
    "from sklearn.feature_extraction.text import CountVectorizer # Bag of Words\n",
    "from sklearn.feature_extraction.text import TfidfTransformer # TF-IDF\n",
    "from sklearn.tree import DecisionTreeClassifier\n",
    "pipeline = Pipeline([\n",
    "    ('bow', CountVectorizer(analyzer=text_process)),  # strings to token integer counts\n",
    "#    ('tfidf', TfidfTransformer()),  # integer counts to weighted TF-IDF scores\n",
    "    ('classifier', DecisionTreeClassifier()),  # train on TF-IDF vectors w/ Naive Bayes classifier\n",
    "])\n",
    "\n",
    "pipeline.fit(X_train['ingredient'],y_train) # Fit Model using training data\n",
    "predictions = pipeline.predict(X_test['ingredient']) # Predict using test data\n",
    "print(predictions)\n",
    "\n",
    "from sklearn.metrics import classification_report,confusion_matrix\n",
    "print(classification_report(predictions,y_test))"
   ]
  },
  {
   "cell_type": "code",
   "execution_count": null,
   "metadata": {},
   "outputs": [],
   "source": [
    "from sklearn.pipeline import Pipeline\n",
    "from sklearn.feature_extraction.text import CountVectorizer # Bag of Words\n",
    "from sklearn.feature_extraction.text import TfidfTransformer # TF-IDF\n",
    "from sklearn.tree import DecisionTreeClassifier\n",
    "pipeline = Pipeline([\n",
    "    ('bow', CountVectorizer(analyzer=text_process)),  # strings to token integer counts\n",
    "    ('tfidf', TfidfTransformer()),  # integer counts to weighted TF-IDF scores\n",
    "    ('classifier', DecisionTreeClassifier()),  # train on TF-IDF vectors w/ Naive Bayes classifier\n",
    "])\n",
    "\n",
    "pipeline.fit(X_train['ingredient'],y_train) # Fit Model using training data\n",
    "predictions = pipeline.predict(X_test['ingredient']) # Predict using test data\n",
    "print(predictions)\n",
    "\n",
    "from sklearn.metrics import classification_report,confusion_matrix\n",
    "print(classification_report(predictions,y_test))"
   ]
  },
  {
   "cell_type": "markdown",
   "metadata": {},
   "source": [
    "# Random Forest "
   ]
  },
  {
   "cell_type": "code",
   "execution_count": null,
   "metadata": {},
   "outputs": [],
   "source": [
    "from sklearn.pipeline import Pipeline\n",
    "from sklearn.feature_extraction.text import CountVectorizer # Bag of Words\n",
    "from sklearn.feature_extraction.text import TfidfTransformer # TF-IDF\n",
    "from sklearn.ensemble import RandomForestClassifier\n",
    "pipeline = Pipeline([\n",
    "    ('bow', CountVectorizer(analyzer=text_process)),  # strings to token integer counts\n",
    "#    ('tfidf', TfidfTransformer()),  # integer counts to weighted TF-IDF scores\n",
    "    ('classifier', RandomForestClassifier(n_estimators=200)),  # train on TF-IDF vectors w/ Naive Bayes classifier\n",
    "])\n",
    "    \n",
    "pipeline.fit(X_train['ingredient'],y_train) # Fit Model using training data\n",
    "predictions = pipeline.predict(X_test['ingredient']) # Predict using test data\n",
    "print(predictions)\n",
    "\n",
    "from sklearn.metrics import classification_report,confusion_matrix\n",
    "print(classification_report(predictions,y_test))"
   ]
  },
  {
   "cell_type": "code",
   "execution_count": null,
   "metadata": {},
   "outputs": [],
   "source": [
    "from sklearn.pipeline import Pipeline\n",
    "from sklearn.feature_extraction.text import CountVectorizer # Bag of Words\n",
    "from sklearn.feature_extraction.text import TfidfTransformer # TF-IDF\n",
    "from sklearn.ensemble import RandomForestClassifier\n",
    "pipeline = Pipeline([\n",
    "    ('bow', CountVectorizer(analyzer=text_process)),  # strings to token integer counts\n",
    "    ('tfidf', TfidfTransformer()),  # integer counts to weighted TF-IDF scores\n",
    "    ('classifier', RandomForestClassifier(n_estimators=200)),  # train on TF-IDF vectors w/ Naive Bayes classifier\n",
    "])\n",
    "    \n",
    "pipeline.fit(X_train['ingredient'],y_train) # Fit Model using training data\n",
    "predictions = pipeline.predict(X_test['ingredient']) # Predict using test data\n",
    "print(predictions)\n",
    "\n",
    "from sklearn.metrics import classification_report,confusion_matrix\n",
    "print(classification_report(predictions,y_test))"
   ]
  },
  {
   "cell_type": "code",
   "execution_count": null,
   "metadata": {},
   "outputs": [],
   "source": []
  },
  {
   "cell_type": "markdown",
   "metadata": {},
   "source": [
    "# Note to self:\n",
    "\n",
    "ML priority\n",
    "* Priority is to to TF-IDF on the list of words.\n",
    "* Then, add the other features (quantity, label) before doing the machine learning.\n",
    "* Then, do machine learning.\n",
    "\n",
    "Additional features\n",
    "* Make \"total calories\" as a feature (calPerServing * servings)\n",
    "* Remove/Tag certain word classes"
   ]
  },
  {
   "cell_type": "code",
   "execution_count": null,
   "metadata": {},
   "outputs": [],
   "source": []
  },
  {
   "cell_type": "markdown",
   "metadata": {},
   "source": [
    "# Clean text -  work in progress ...\n",
    "\n",
    "1) For ingredients that got replaced with the \"unit\"value, need to replace the \"unit\" value as unit.\n",
    "if ingredient[row]=nan, then ingredient[row]=unit[row], and unit[row]='unit'\n",
    "* DON'T NEED TO DO THIS ANYMORE\n",
    "\n",
    "2) Remove plural words using stemmer instead of wnl.lemmatize (ex. lammantize function doesnt change children to child)\n",
    "\n",
    "3) Fix parse_text to improve removal of non-word punctuation\n"
   ]
  },
  {
   "cell_type": "code",
   "execution_count": null,
   "metadata": {},
   "outputs": [],
   "source": []
  },
  {
   "cell_type": "markdown",
   "metadata": {},
   "source": [
    "# Data visualization"
   ]
  },
  {
   "cell_type": "code",
   "execution_count": 718,
   "metadata": {},
   "outputs": [],
   "source": [
    "import matplotlib.pyplot as plt\n",
    "import seaborn as sns\n",
    "%matplotlib inline"
   ]
  },
  {
   "cell_type": "code",
   "execution_count": 719,
   "metadata": {
    "scrolled": true
   },
   "outputs": [
    {
     "data": {
      "text/plain": [
       "<matplotlib.axes._subplots.AxesSubplot at 0x1b56225a90>"
      ]
     },
     "execution_count": 719,
     "metadata": {},
     "output_type": "execute_result"
    },
    {
     "data": {
      "image/png": "[encoded data removed]",
      "text/plain": [
       "<Figure size 432x288 with 1 Axes>"
      ]
     },
     "metadata": {
      "needs_background": "light"
     },
     "output_type": "display_data"
    }
   ],
   "source": [
    "sns.distplot(df['calPerServing'])"
   ]
  },
  {
   "cell_type": "code",
   "execution_count": 720,
   "metadata": {},
   "outputs": [
    {
     "data": {
      "text/plain": [
       "<matplotlib.axes._subplots.AxesSubplot at 0x1b53d17850>"
      ]
     },
     "execution_count": 720,
     "metadata": {},
     "output_type": "execute_result"
    },
    {
     "data": {
      "image/png": "[encoded data removed]",
      "text/plain": [
       "<Figure size 432x288 with 1 Axes>"
      ]
     },
     "metadata": {
      "needs_background": "light"
     },
     "output_type": "display_data"
    }
   ],
   "source": [
    "sns.distplot(df['totalCal'])"
   ]
  },
  {
   "cell_type": "code",
   "execution_count": null,
   "metadata": {
    "scrolled": false
   },
   "outputs": [],
   "source": [
    "sns.distplot(df[df['servings']==4]['calPerServing'])"
   ]
  },
  {
   "cell_type": "code",
   "execution_count": null,
   "metadata": {},
   "outputs": [],
   "source": [
    "sns.distplot(df['num_ingredients'])\n",
    "sns.distplot(df['servings'])"
   ]
  },
  {
   "cell_type": "code",
   "execution_count": 721,
   "metadata": {
    "scrolled": true
   },
   "outputs": [
    {
     "data": {
      "text/plain": [
       "<matplotlib.axes._subplots.AxesSubplot at 0x1b56360050>"
      ]
     },
     "execution_count": 721,
     "metadata": {},
     "output_type": "execute_result"
    },
    {
     "data": {
      "image/png": "[encoded data removed]",
      "text/plain": [
       "<Figure size 432x288 with 1 Axes>"
      ]
     },
     "metadata": {
      "needs_background": "light"
     },
     "output_type": "display_data"
    }
   ],
   "source": [
    "sns.distplot(df['servings'])"
   ]
  },
  {
   "cell_type": "code",
   "execution_count": 24,
   "metadata": {},
   "outputs": [
    {
     "data": {
      "text/html": [
       "<div>\n",
       "<style scoped>\n",
       "    .dataframe tbody tr th:only-of-type {\n",
       "        vertical-align: middle;\n",
       "    }\n",
       "\n",
       "    .dataframe tbody tr th {\n",
       "        vertical-align: top;\n",
       "    }\n",
       "\n",
       "    .dataframe thead th {\n",
       "        text-align: right;\n",
       "    }\n",
       "</style>\n",
       "<table border=\"1\" class=\"dataframe\">\n",
       "  <thead>\n",
       "    <tr style=\"text-align: right;\">\n",
       "      <th></th>\n",
       "      <th>calPerServing</th>\n",
       "      <th>carbohydratesg</th>\n",
       "      <th>cholesterolmg</th>\n",
       "      <th>cookTime</th>\n",
       "      <th>directions</th>\n",
       "      <th>ingredients</th>\n",
       "      <th>name</th>\n",
       "      <th>nutrition</th>\n",
       "      <th>prepTime</th>\n",
       "      <th>proteing</th>\n",
       "      <th>...</th>\n",
       "      <th>totalTime</th>\n",
       "      <th>recipeDirection</th>\n",
       "      <th>recipeIngredient</th>\n",
       "      <th>servings</th>\n",
       "      <th>sodiummg</th>\n",
       "      <th>totalFatg</th>\n",
       "      <th>url</th>\n",
       "      <th>recipe_key</th>\n",
       "      <th>num_ingredients</th>\n",
       "      <th>label</th>\n",
       "    </tr>\n",
       "  </thead>\n",
       "  <tbody>\n",
       "    <tr>\n",
       "      <th>5</th>\n",
       "      <td>141</td>\n",
       "      <td>141 calories;           7.7 g total fat;      ...</td>\n",
       "      <td>15</td>\n",
       "      <td>8 mins</td>\n",
       "      <td>1. Preheat oven to 375 degrees F (190 degrees ...</td>\n",
       "      <td>1 cup butter, softened, 1 cup white sugar, 1 c...</td>\n",
       "      <td>Urban Legend Chocolate Chip Cookies</td>\n",
       "      <td>141 calories;           7.7 g total fat;      ...</td>\n",
       "      <td>15 mins</td>\n",
       "      <td>7.7</td>\n",
       "      <td>...</td>\n",
       "      <td>23 mins</td>\n",
       "      <td>Preheat oven to 375 degrees F (190 degrees C)....</td>\n",
       "      <td>1 cup butter, softened; 1 cup white sugar; 1 c...</td>\n",
       "      <td>60</td>\n",
       "      <td>141 calories;           7.7 g total fat;      ...</td>\n",
       "      <td>141 calories;           7.7 g total fat;      ...</td>\n",
       "      <td>https://www.allrecipes.com/recipe/9804/urban-l...</td>\n",
       "      <td>9804</td>\n",
       "      <td>13</td>\n",
       "      <td>0</td>\n",
       "    </tr>\n",
       "    <tr>\n",
       "      <th>6</th>\n",
       "      <td>228</td>\n",
       "      <td>228 calories;           12.4 g total fat;     ...</td>\n",
       "      <td>29</td>\n",
       "      <td>12 mins</td>\n",
       "      <td>1. Preheat the oven to 350 degrees F (175 degr...</td>\n",
       "      <td>2 cups butter, 2 cups white sugar, 2 cups pack...</td>\n",
       "      <td>Wilderness Place Lodge Cookies</td>\n",
       "      <td>228 calories;           12.4 g total fat;     ...</td>\n",
       "      <td>20 mins</td>\n",
       "      <td>12.4</td>\n",
       "      <td>...</td>\n",
       "      <td>32 mins</td>\n",
       "      <td>Preheat the oven to 350 degrees F (175 degrees...</td>\n",
       "      <td>2 cups butter; 2 cups white sugar; 2 cups pack...</td>\n",
       "      <td>60</td>\n",
       "      <td>228 calories;           12.4 g total fat;     ...</td>\n",
       "      <td>228 calories;           12.4 g total fat;     ...</td>\n",
       "      <td>https://www.allrecipes.com/recipe/53211/wilder...</td>\n",
       "      <td>53211</td>\n",
       "      <td>13</td>\n",
       "      <td>1</td>\n",
       "    </tr>\n",
       "    <tr>\n",
       "      <th>33</th>\n",
       "      <td>95</td>\n",
       "      <td>95 calories;           4.3 g total fat;       ...</td>\n",
       "      <td>14</td>\n",
       "      <td>10 mins</td>\n",
       "      <td>1. Preheat oven to 350 degrees F (175 degrees ...</td>\n",
       "      <td>2 cups all-purpose flour, 1 teaspoon baking po...</td>\n",
       "      <td>Cowboy Cookies III</td>\n",
       "      <td>95 calories;           4.3 g total fat;       ...</td>\n",
       "      <td>15 mins</td>\n",
       "      <td>4.3</td>\n",
       "      <td>...</td>\n",
       "      <td>1 hr</td>\n",
       "      <td>Preheat oven to 350 degrees F (175 degrees C)....</td>\n",
       "      <td>2 cups all-purpose flour; 1 teaspoon baking po...</td>\n",
       "      <td>60</td>\n",
       "      <td>95 calories;           4.3 g total fat;       ...</td>\n",
       "      <td>95 calories;           4.3 g total fat;       ...</td>\n",
       "      <td>https://www.allrecipes.com/recipe/19213/cowboy...</td>\n",
       "      <td>19213</td>\n",
       "      <td>11</td>\n",
       "      <td>0</td>\n",
       "    </tr>\n",
       "    <tr>\n",
       "      <th>63</th>\n",
       "      <td>135</td>\n",
       "      <td>135 calories;           6.7 g total fat;      ...</td>\n",
       "      <td>14</td>\n",
       "      <td>10 mins</td>\n",
       "      <td>1. Preheat oven to 350 degrees F (175 degrees ...</td>\n",
       "      <td>1 ½ cups all-purpose flour, 1 ¼ teaspoons baki...</td>\n",
       "      <td>A to Z Everything-but-the-Kitchen-Sink Chocola...</td>\n",
       "      <td>135 calories;           6.7 g total fat;      ...</td>\n",
       "      <td>30 mins</td>\n",
       "      <td>6.7</td>\n",
       "      <td>...</td>\n",
       "      <td>1 hr 10 mins</td>\n",
       "      <td>Preheat oven to 350 degrees F (175 degrees C)....</td>\n",
       "      <td>1 1/2 cups all-purpose flour; 11/4 teaspoons b...</td>\n",
       "      <td>60</td>\n",
       "      <td>135 calories;           6.7 g total fat;      ...</td>\n",
       "      <td>135 calories;           6.7 g total fat;      ...</td>\n",
       "      <td>https://www.allrecipes.com/recipe/26104/a-to-z...</td>\n",
       "      <td>26104</td>\n",
       "      <td>18</td>\n",
       "      <td>0</td>\n",
       "    </tr>\n",
       "    <tr>\n",
       "      <th>86</th>\n",
       "      <td>142</td>\n",
       "      <td>142 calories;           7.1 g total fat;      ...</td>\n",
       "      <td>14</td>\n",
       "      <td>12 mins</td>\n",
       "      <td>1. Preheat the oven to 375 degrees F (190 degr...</td>\n",
       "      <td>1 cup butter, softened, 2 cups packed brown su...</td>\n",
       "      <td>Kitchen Sink Cookies</td>\n",
       "      <td>142 calories;           7.1 g total fat;      ...</td>\n",
       "      <td>15 mins</td>\n",
       "      <td>7.1</td>\n",
       "      <td>...</td>\n",
       "      <td>30 mins</td>\n",
       "      <td>Preheat the oven to 375 degrees F (190 degrees...</td>\n",
       "      <td>1 cup butter, softened; 2 cups packed brown su...</td>\n",
       "      <td>60</td>\n",
       "      <td>142 calories;           7.1 g total fat;      ...</td>\n",
       "      <td>142 calories;           7.1 g total fat;      ...</td>\n",
       "      <td>https://www.allrecipes.com/recipe/25837/kitche...</td>\n",
       "      <td>25837</td>\n",
       "      <td>12</td>\n",
       "      <td>0</td>\n",
       "    </tr>\n",
       "    <tr>\n",
       "      <th>96</th>\n",
       "      <td>191</td>\n",
       "      <td>191 calories;           11.4 g total fat;     ...</td>\n",
       "      <td>29</td>\n",
       "      <td>12 mins</td>\n",
       "      <td>1. Preheat the oven to 350 degrees F (175 degr...</td>\n",
       "      <td>2 cups brown sugar, 1 cup white sugar, 2 cups ...</td>\n",
       "      <td>Best Whole Wheat Chocolate Chippers</td>\n",
       "      <td>191 calories;           11.4 g total fat;     ...</td>\n",
       "      <td>20 mins</td>\n",
       "      <td>11.4</td>\n",
       "      <td>...</td>\n",
       "      <td>32 mins</td>\n",
       "      <td>Preheat the oven to 350 degrees F (175 degrees...</td>\n",
       "      <td>2 cups brown sugar; 1 cup white sugar; 2 cups ...</td>\n",
       "      <td>60</td>\n",
       "      <td>191 calories;           11.4 g total fat;     ...</td>\n",
       "      <td>191 calories;           11.4 g total fat;     ...</td>\n",
       "      <td>https://www.allrecipes.com/recipe/77464/best-w...</td>\n",
       "      <td>77464</td>\n",
       "      <td>10</td>\n",
       "      <td>0</td>\n",
       "    </tr>\n",
       "    <tr>\n",
       "      <th>155</th>\n",
       "      <td>72</td>\n",
       "      <td>72 calories;           3.6 g total fat;       ...</td>\n",
       "      <td>6</td>\n",
       "      <td>NaN</td>\n",
       "      <td>1. Preheat oven to 350 degrees F (175 degrees ...</td>\n",
       "      <td>1 (18.25 ounce) package chocolate chip cake mi...</td>\n",
       "      <td>Chocolate Chip Cake Mix Cookies</td>\n",
       "      <td>72 calories;           3.6 g total fat;       ...</td>\n",
       "      <td>NaN</td>\n",
       "      <td>3.6</td>\n",
       "      <td>...</td>\n",
       "      <td>NaN</td>\n",
       "      <td>Preheat oven to 350 degrees F (175 degrees C)....</td>\n",
       "      <td>1 (18.25 ounce) package chocolate chip cake mi...</td>\n",
       "      <td>60</td>\n",
       "      <td>72 calories;           3.6 g total fat;       ...</td>\n",
       "      <td>72 calories;           3.6 g total fat;       ...</td>\n",
       "      <td>https://www.allrecipes.com/recipe/10982/chocol...</td>\n",
       "      <td>10982</td>\n",
       "      <td>6</td>\n",
       "      <td>0</td>\n",
       "    </tr>\n",
       "    <tr>\n",
       "      <th>165</th>\n",
       "      <td>133</td>\n",
       "      <td>133 calories;           7.7 g total fat;      ...</td>\n",
       "      <td>16</td>\n",
       "      <td>10 mins</td>\n",
       "      <td>1. Preheat an oven to 375 degrees F (190 degre...</td>\n",
       "      <td>2 cups all-purpose flour, ¾ cup unsweetened co...</td>\n",
       "      <td>Chocolate Pile-Up Cookies</td>\n",
       "      <td>133 calories;           7.7 g total fat;      ...</td>\n",
       "      <td>15 mins</td>\n",
       "      <td>7.7</td>\n",
       "      <td>...</td>\n",
       "      <td>45 mins</td>\n",
       "      <td>Preheat an oven to 375 degrees F (190 degrees ...</td>\n",
       "      <td>2 cups all-purpose flour; 3/4 cup unsweetened ...</td>\n",
       "      <td>60</td>\n",
       "      <td>133 calories;           7.7 g total fat;      ...</td>\n",
       "      <td>133 calories;           7.7 g total fat;      ...</td>\n",
       "      <td>https://www.allrecipes.com/recipe/211569/choco...</td>\n",
       "      <td>211569</td>\n",
       "      <td>14</td>\n",
       "      <td>0</td>\n",
       "    </tr>\n",
       "    <tr>\n",
       "      <th>186</th>\n",
       "      <td>133</td>\n",
       "      <td>133 calories;           8.6 g total fat;      ...</td>\n",
       "      <td>16</td>\n",
       "      <td>12 mins</td>\n",
       "      <td>1. Preheat oven to 350 degrees F (175 degrees ...</td>\n",
       "      <td>1 cup butter, softened, ½ cup shortening, ½ cu...</td>\n",
       "      <td>Pistachio White Chocolate Chip Cookies</td>\n",
       "      <td>133 calories;           8.6 g total fat;      ...</td>\n",
       "      <td>20 mins</td>\n",
       "      <td>8.6</td>\n",
       "      <td>...</td>\n",
       "      <td>32 mins</td>\n",
       "      <td>Preheat oven to 350 degrees F (175 degrees C)....</td>\n",
       "      <td>1 cup butter, softened; 1/2 cup shortening; 1/...</td>\n",
       "      <td>60</td>\n",
       "      <td>133 calories;           8.6 g total fat;      ...</td>\n",
       "      <td>133 calories;           8.6 g total fat;      ...</td>\n",
       "      <td>https://www.allrecipes.com/recipe/25123/pistac...</td>\n",
       "      <td>25123</td>\n",
       "      <td>13</td>\n",
       "      <td>0</td>\n",
       "    </tr>\n",
       "    <tr>\n",
       "      <th>199</th>\n",
       "      <td>135</td>\n",
       "      <td>135 calories;           6.7 g total fat;      ...</td>\n",
       "      <td>16</td>\n",
       "      <td>12 mins</td>\n",
       "      <td>1. Preheat the oven to 350 degrees F (175 degr...</td>\n",
       "      <td>1 cup butter, 1 ½ cups white sugar, 1 cup pack...</td>\n",
       "      <td>Maggie's Camper Specials</td>\n",
       "      <td>135 calories;           6.7 g total fat;      ...</td>\n",
       "      <td>15 mins</td>\n",
       "      <td>6.7</td>\n",
       "      <td>...</td>\n",
       "      <td>27 mins</td>\n",
       "      <td>Preheat the oven to 350 degrees F (175 degrees...</td>\n",
       "      <td>1 cup butter; 1 1/2 cups white sugar; 1 cup pa...</td>\n",
       "      <td>60</td>\n",
       "      <td>135 calories;           6.7 g total fat;      ...</td>\n",
       "      <td>135 calories;           6.7 g total fat;      ...</td>\n",
       "      <td>https://www.allrecipes.com/recipe/51452/maggie...</td>\n",
       "      <td>51452</td>\n",
       "      <td>12</td>\n",
       "      <td>0</td>\n",
       "    </tr>\n",
       "    <tr>\n",
       "      <th>202</th>\n",
       "      <td>104</td>\n",
       "      <td>104 calories;           5 g total fat;        ...</td>\n",
       "      <td>14</td>\n",
       "      <td>45 mins</td>\n",
       "      <td>1. Preheat the oven to 375 degrees F (190 degr...</td>\n",
       "      <td>3 ½ cups all-purpose flour, 1 teaspoon baking ...</td>\n",
       "      <td>High Altitude Banana Chocolate Chip Cookies</td>\n",
       "      <td>104 calories;           5 g total fat;        ...</td>\n",
       "      <td>15 mins</td>\n",
       "      <td>5.0</td>\n",
       "      <td>...</td>\n",
       "      <td>1 hr</td>\n",
       "      <td>Preheat the oven to 375 degrees F (190 degrees...</td>\n",
       "      <td>3 1/2 cups all-purpose flour; 1 teaspoon bakin...</td>\n",
       "      <td>60</td>\n",
       "      <td>104 calories;           5 g total fat;        ...</td>\n",
       "      <td>104 calories;           5 g total fat;        ...</td>\n",
       "      <td>https://www.allrecipes.com/recipe/19204/high-a...</td>\n",
       "      <td>19204</td>\n",
       "      <td>11</td>\n",
       "      <td>0</td>\n",
       "    </tr>\n",
       "    <tr>\n",
       "      <th>212</th>\n",
       "      <td>111</td>\n",
       "      <td>111 calories;           6.7 g total fat;      ...</td>\n",
       "      <td>14</td>\n",
       "      <td>10 mins</td>\n",
       "      <td>1. Preheat the oven to 350 degrees F (175 degr...</td>\n",
       "      <td>2 ¼ cups all-purpose flour, 1 teaspoon baking ...</td>\n",
       "      <td>Derby Day Chocolate Chip Cookies</td>\n",
       "      <td>111 calories;           6.7 g total fat;      ...</td>\n",
       "      <td>20 mins</td>\n",
       "      <td>6.7</td>\n",
       "      <td>...</td>\n",
       "      <td>30 mins</td>\n",
       "      <td>Preheat the oven to 350 degrees F (175 degrees...</td>\n",
       "      <td>21/4 cups all-purpose flour; 1 teaspoon baking...</td>\n",
       "      <td>60</td>\n",
       "      <td>111 calories;           6.7 g total fat;      ...</td>\n",
       "      <td>111 calories;           6.7 g total fat;      ...</td>\n",
       "      <td>https://www.allrecipes.com/recipe/106546/derby...</td>\n",
       "      <td>106546</td>\n",
       "      <td>10</td>\n",
       "      <td>0</td>\n",
       "    </tr>\n",
       "    <tr>\n",
       "      <th>232</th>\n",
       "      <td>148</td>\n",
       "      <td>148 calories;           8.7 g total fat;      ...</td>\n",
       "      <td>6</td>\n",
       "      <td>10 mins</td>\n",
       "      <td>1. Preheat oven to 350 degrees F (175 degrees ...</td>\n",
       "      <td>3 ½ cups all-purpose flour, 2 teaspoons baking...</td>\n",
       "      <td>Crunchy Chocolate Chippers</td>\n",
       "      <td>148 calories;           8.7 g total fat;      ...</td>\n",
       "      <td>15 mins</td>\n",
       "      <td>8.7</td>\n",
       "      <td>...</td>\n",
       "      <td>45 mins</td>\n",
       "      <td>Preheat oven to 350 degrees F (175 degrees C)....</td>\n",
       "      <td>3 1/2 cups all-purpose flour; 2 teaspoons baki...</td>\n",
       "      <td>60</td>\n",
       "      <td>148 calories;           8.7 g total fat;      ...</td>\n",
       "      <td>148 calories;           8.7 g total fat;      ...</td>\n",
       "      <td>https://www.allrecipes.com/recipe/25044/crunch...</td>\n",
       "      <td>25044</td>\n",
       "      <td>13</td>\n",
       "      <td>0</td>\n",
       "    </tr>\n",
       "    <tr>\n",
       "      <th>239</th>\n",
       "      <td>107</td>\n",
       "      <td>107 calories;           5.6 g total fat;      ...</td>\n",
       "      <td>10</td>\n",
       "      <td>10 mins</td>\n",
       "      <td>1. Preheat oven to 350 degrees F (175 degrees ...</td>\n",
       "      <td>1 cup packed brown sugar, 1 cup coconut sugar,...</td>\n",
       "      <td>Super Food Chocolate Chip Cookies</td>\n",
       "      <td>107 calories;           5.6 g total fat;      ...</td>\n",
       "      <td>20 mins</td>\n",
       "      <td>5.6</td>\n",
       "      <td>...</td>\n",
       "      <td>30 mins</td>\n",
       "      <td>Preheat oven to 350 degrees F (175 degrees C)....</td>\n",
       "      <td>1 cup packed brown sugar; 1 cup coconut sugar;...</td>\n",
       "      <td>60</td>\n",
       "      <td>107 calories;           5.6 g total fat;      ...</td>\n",
       "      <td>107 calories;           5.6 g total fat;      ...</td>\n",
       "      <td>https://www.allrecipes.com/recipe/241934/super...</td>\n",
       "      <td>241934</td>\n",
       "      <td>16</td>\n",
       "      <td>0</td>\n",
       "    </tr>\n",
       "    <tr>\n",
       "      <th>248</th>\n",
       "      <td>182</td>\n",
       "      <td>182 calories;           10.3 g total fat;     ...</td>\n",
       "      <td>12</td>\n",
       "      <td>10 mins</td>\n",
       "      <td>1. Preheat oven to 350 degrees F (175 degrees ...</td>\n",
       "      <td>1 ¼ cups shortening, ¾ cup margarine, 1 cup wh...</td>\n",
       "      <td>Chocolate Chip Cookies VII</td>\n",
       "      <td>182 calories;           10.3 g total fat;     ...</td>\n",
       "      <td>15 mins</td>\n",
       "      <td>10.3</td>\n",
       "      <td>...</td>\n",
       "      <td>30 mins</td>\n",
       "      <td>Preheat oven to 350 degrees F (175 degrees C)....</td>\n",
       "      <td>11/4 cups shortening; 3/4 cup margarine; 1 cup...</td>\n",
       "      <td>60</td>\n",
       "      <td>182 calories;           10.3 g total fat;     ...</td>\n",
       "      <td>182 calories;           10.3 g total fat;     ...</td>\n",
       "      <td>https://www.allrecipes.com/recipe/25027/chocol...</td>\n",
       "      <td>25027</td>\n",
       "      <td>10</td>\n",
       "      <td>0</td>\n",
       "    </tr>\n",
       "    <tr>\n",
       "      <th>257</th>\n",
       "      <td>97</td>\n",
       "      <td>97 calories;           5 g total fat;         ...</td>\n",
       "      <td>6</td>\n",
       "      <td>12 mins</td>\n",
       "      <td>1. Preheat oven to 375 degrees F (190 degrees ...</td>\n",
       "      <td>1 cup white sugar, ½ cup packed brown sugar, 1...</td>\n",
       "      <td>Blue Ribbon Chocolate Chip Cookies</td>\n",
       "      <td>97 calories;           5 g total fat;         ...</td>\n",
       "      <td>15 mins</td>\n",
       "      <td>5.0</td>\n",
       "      <td>...</td>\n",
       "      <td>27 mins</td>\n",
       "      <td>Preheat oven to 375 degrees F (190 degrees C)....</td>\n",
       "      <td>1 cup white sugar; 1/2 cup packed brown sugar;...</td>\n",
       "      <td>60</td>\n",
       "      <td>97 calories;           5 g total fat;         ...</td>\n",
       "      <td>97 calories;           5 g total fat;         ...</td>\n",
       "      <td>https://www.allrecipes.com/recipe/10375/blue-r...</td>\n",
       "      <td>10375</td>\n",
       "      <td>11</td>\n",
       "      <td>0</td>\n",
       "    </tr>\n",
       "    <tr>\n",
       "      <th>271</th>\n",
       "      <td>192</td>\n",
       "      <td>192 calories;           10.8 g total fat;     ...</td>\n",
       "      <td>16</td>\n",
       "      <td>12 mins</td>\n",
       "      <td>1. Preheat oven to 350 degrees F (175 degrees ...</td>\n",
       "      <td>2 cups shortening, ¼ cup water, 1 ½ cups white...</td>\n",
       "      <td>Chocolate Chip Marble Cookies</td>\n",
       "      <td>192 calories;           10.8 g total fat;     ...</td>\n",
       "      <td>15 mins</td>\n",
       "      <td>10.8</td>\n",
       "      <td>...</td>\n",
       "      <td>30 mins</td>\n",
       "      <td>Preheat oven to 350 degrees F (175 degrees C)....</td>\n",
       "      <td>2 cups shortening; 1/4 cup water; 1 1/2 cups w...</td>\n",
       "      <td>60</td>\n",
       "      <td>192 calories;           10.8 g total fat;     ...</td>\n",
       "      <td>192 calories;           10.8 g total fat;     ...</td>\n",
       "      <td>https://www.allrecipes.com/recipe/17275/chocol...</td>\n",
       "      <td>17275</td>\n",
       "      <td>10</td>\n",
       "      <td>0</td>\n",
       "    </tr>\n",
       "    <tr>\n",
       "      <th>296</th>\n",
       "      <td>79</td>\n",
       "      <td>79 calories;           4.4 g total fat;       ...</td>\n",
       "      <td>9</td>\n",
       "      <td>10 mins</td>\n",
       "      <td>1. Preheat oven to 275 degrees F (135 degrees ...</td>\n",
       "      <td>¾ cup chopped walnuts (optional), 1 cup matzo ...</td>\n",
       "      <td>Passover Chocolate Chip Cookies</td>\n",
       "      <td>79 calories;           4.4 g total fat;       ...</td>\n",
       "      <td>15 mins</td>\n",
       "      <td>4.4</td>\n",
       "      <td>...</td>\n",
       "      <td>25 mins</td>\n",
       "      <td>Preheat oven to 275 degrees F (135 degrees C)....</td>\n",
       "      <td>3/4 cup chopped walnuts (optional); 1 cup matz...</td>\n",
       "      <td>60</td>\n",
       "      <td>79 calories;           4.4 g total fat;       ...</td>\n",
       "      <td>79 calories;           4.4 g total fat;       ...</td>\n",
       "      <td>https://www.allrecipes.com/recipe/217024/passo...</td>\n",
       "      <td>217024</td>\n",
       "      <td>8</td>\n",
       "      <td>0</td>\n",
       "    </tr>\n",
       "    <tr>\n",
       "      <th>348</th>\n",
       "      <td>99</td>\n",
       "      <td>99 calories;           6.4 g total fat;       ...</td>\n",
       "      <td>12</td>\n",
       "      <td>10 mins</td>\n",
       "      <td>1. Preheat oven to 375 degrees F (190 degrees ...</td>\n",
       "      <td>1 ½ cups butter, softened, ¾ cup confectioners...</td>\n",
       "      <td>Mini Snowball Chip Cookies</td>\n",
       "      <td>99 calories;           6.4 g total fat;       ...</td>\n",
       "      <td>15 mins</td>\n",
       "      <td>6.4</td>\n",
       "      <td>...</td>\n",
       "      <td>35 mins</td>\n",
       "      <td>Preheat oven to 375 degrees F (190 degrees C)....</td>\n",
       "      <td>1 1/2 cups butter, softened; 3/4 cup confectio...</td>\n",
       "      <td>60</td>\n",
       "      <td>99 calories;           6.4 g total fat;       ...</td>\n",
       "      <td>99 calories;           6.4 g total fat;       ...</td>\n",
       "      <td>https://www.allrecipes.com/recipe/256744/mini-...</td>\n",
       "      <td>256744</td>\n",
       "      <td>7</td>\n",
       "      <td>0</td>\n",
       "    </tr>\n",
       "    <tr>\n",
       "      <th>360</th>\n",
       "      <td>163</td>\n",
       "      <td>163 calories;           7.5 g total fat;      ...</td>\n",
       "      <td>27</td>\n",
       "      <td>NaN</td>\n",
       "      <td>1. Preheat oven to 350 degrees F (175 degrees ...</td>\n",
       "      <td>1 cup butter, 2 ¼ cups packed brown sugar, 6  ...</td>\n",
       "      <td>Russian Rocks II</td>\n",
       "      <td>163 calories;           7.5 g total fat;      ...</td>\n",
       "      <td>NaN</td>\n",
       "      <td>7.5</td>\n",
       "      <td>...</td>\n",
       "      <td>NaN</td>\n",
       "      <td>Preheat oven to 350 degrees F (175 degrees C)....</td>\n",
       "      <td>1 cup butter; 21/4 cups packed brown sugar; 6 ...</td>\n",
       "      <td>60</td>\n",
       "      <td>163 calories;           7.5 g total fat;      ...</td>\n",
       "      <td>163 calories;           7.5 g total fat;      ...</td>\n",
       "      <td>https://www.allrecipes.com/recipe/15291/russia...</td>\n",
       "      <td>15291</td>\n",
       "      <td>7</td>\n",
       "      <td>0</td>\n",
       "    </tr>\n",
       "    <tr>\n",
       "      <th>361</th>\n",
       "      <td>108</td>\n",
       "      <td>108 calories;           6.1 g total fat;      ...</td>\n",
       "      <td>11</td>\n",
       "      <td>25 mins</td>\n",
       "      <td>1. Preheat an oven to 375 degrees F (190 degre...</td>\n",
       "      <td>2 ½ cups rolled oats, 1 cup all-purpose flour,...</td>\n",
       "      <td>Lightened Urban Legend Cookies</td>\n",
       "      <td>108 calories;           6.1 g total fat;      ...</td>\n",
       "      <td>20 mins</td>\n",
       "      <td>6.1</td>\n",
       "      <td>...</td>\n",
       "      <td>1 hr 45 mins</td>\n",
       "      <td>Preheat an oven to 375 degrees F (190 degrees ...</td>\n",
       "      <td>2 1/2 cups rolled oats; 1 cup all-purpose flou...</td>\n",
       "      <td>60</td>\n",
       "      <td>108 calories;           6.1 g total fat;      ...</td>\n",
       "      <td>108 calories;           6.1 g total fat;      ...</td>\n",
       "      <td>https://www.allrecipes.com/recipe/171047/light...</td>\n",
       "      <td>171047</td>\n",
       "      <td>15</td>\n",
       "      <td>0</td>\n",
       "    </tr>\n",
       "    <tr>\n",
       "      <th>394</th>\n",
       "      <td>138</td>\n",
       "      <td>138 calories;           5.2 g total fat;      ...</td>\n",
       "      <td>14</td>\n",
       "      <td>25 mins</td>\n",
       "      <td>1. Preheat the oven to 375 degrees F (190 degr...</td>\n",
       "      <td>3 cups white sugar, 2 sticks unsalted butter, ...</td>\n",
       "      <td>Grandma's Pumpkin Oatmeal Cookies</td>\n",
       "      <td>138 calories;           5.2 g total fat;      ...</td>\n",
       "      <td>20 mins</td>\n",
       "      <td>5.2</td>\n",
       "      <td>...</td>\n",
       "      <td>45 mins</td>\n",
       "      <td>Preheat the oven to 375 degrees F (190 degrees...</td>\n",
       "      <td>3 cups white sugar; 2 sticks unsalted butter, ...</td>\n",
       "      <td>60</td>\n",
       "      <td>138 calories;           5.2 g total fat;      ...</td>\n",
       "      <td>138 calories;           5.2 g total fat;      ...</td>\n",
       "      <td>https://www.allrecipes.com/recipe/278359/grand...</td>\n",
       "      <td>278359</td>\n",
       "      <td>12</td>\n",
       "      <td>0</td>\n",
       "    </tr>\n",
       "  </tbody>\n",
       "</table>\n",
       "<p>22 rows × 22 columns</p>\n",
       "</div>"
      ],
      "text/plain": [
       "     calPerServing                                     carbohydratesg  \\\n",
       "5              141  141 calories;           7.7 g total fat;      ...   \n",
       "6              228  228 calories;           12.4 g total fat;     ...   \n",
       "33              95  95 calories;           4.3 g total fat;       ...   \n",
       "63             135  135 calories;           6.7 g total fat;      ...   \n",
       "86             142  142 calories;           7.1 g total fat;      ...   \n",
       "96             191  191 calories;           11.4 g total fat;     ...   \n",
       "155             72  72 calories;           3.6 g total fat;       ...   \n",
       "165            133  133 calories;           7.7 g total fat;      ...   \n",
       "186            133  133 calories;           8.6 g total fat;      ...   \n",
       "199            135  135 calories;           6.7 g total fat;      ...   \n",
       "202            104  104 calories;           5 g total fat;        ...   \n",
       "212            111  111 calories;           6.7 g total fat;      ...   \n",
       "232            148  148 calories;           8.7 g total fat;      ...   \n",
       "239            107  107 calories;           5.6 g total fat;      ...   \n",
       "248            182  182 calories;           10.3 g total fat;     ...   \n",
       "257             97  97 calories;           5 g total fat;         ...   \n",
       "271            192  192 calories;           10.8 g total fat;     ...   \n",
       "296             79  79 calories;           4.4 g total fat;       ...   \n",
       "348             99  99 calories;           6.4 g total fat;       ...   \n",
       "360            163  163 calories;           7.5 g total fat;      ...   \n",
       "361            108  108 calories;           6.1 g total fat;      ...   \n",
       "394            138  138 calories;           5.2 g total fat;      ...   \n",
       "\n",
       "     cholesterolmg cookTime  \\\n",
       "5               15   8 mins   \n",
       "6               29  12 mins   \n",
       "33              14  10 mins   \n",
       "63              14  10 mins   \n",
       "86              14  12 mins   \n",
       "96              29  12 mins   \n",
       "155              6      NaN   \n",
       "165             16  10 mins   \n",
       "186             16  12 mins   \n",
       "199             16  12 mins   \n",
       "202             14  45 mins   \n",
       "212             14  10 mins   \n",
       "232              6  10 mins   \n",
       "239             10  10 mins   \n",
       "248             12  10 mins   \n",
       "257              6  12 mins   \n",
       "271             16  12 mins   \n",
       "296              9  10 mins   \n",
       "348             12  10 mins   \n",
       "360             27      NaN   \n",
       "361             11  25 mins   \n",
       "394             14  25 mins   \n",
       "\n",
       "                                            directions  \\\n",
       "5    1. Preheat oven to 375 degrees F (190 degrees ...   \n",
       "6    1. Preheat the oven to 350 degrees F (175 degr...   \n",
       "33   1. Preheat oven to 350 degrees F (175 degrees ...   \n",
       "63   1. Preheat oven to 350 degrees F (175 degrees ...   \n",
       "86   1. Preheat the oven to 375 degrees F (190 degr...   \n",
       "96   1. Preheat the oven to 350 degrees F (175 degr...   \n",
       "155  1. Preheat oven to 350 degrees F (175 degrees ...   \n",
       "165  1. Preheat an oven to 375 degrees F (190 degre...   \n",
       "186  1. Preheat oven to 350 degrees F (175 degrees ...   \n",
       "199  1. Preheat the oven to 350 degrees F (175 degr...   \n",
       "202  1. Preheat the oven to 375 degrees F (190 degr...   \n",
       "212  1. Preheat the oven to 350 degrees F (175 degr...   \n",
       "232  1. Preheat oven to 350 degrees F (175 degrees ...   \n",
       "239  1. Preheat oven to 350 degrees F (175 degrees ...   \n",
       "248  1. Preheat oven to 350 degrees F (175 degrees ...   \n",
       "257  1. Preheat oven to 375 degrees F (190 degrees ...   \n",
       "271  1. Preheat oven to 350 degrees F (175 degrees ...   \n",
       "296  1. Preheat oven to 275 degrees F (135 degrees ...   \n",
       "348  1. Preheat oven to 375 degrees F (190 degrees ...   \n",
       "360  1. Preheat oven to 350 degrees F (175 degrees ...   \n",
       "361  1. Preheat an oven to 375 degrees F (190 degre...   \n",
       "394  1. Preheat the oven to 375 degrees F (190 degr...   \n",
       "\n",
       "                                           ingredients  \\\n",
       "5    1 cup butter, softened, 1 cup white sugar, 1 c...   \n",
       "6    2 cups butter, 2 cups white sugar, 2 cups pack...   \n",
       "33   2 cups all-purpose flour, 1 teaspoon baking po...   \n",
       "63   1 ½ cups all-purpose flour, 1 ¼ teaspoons baki...   \n",
       "86   1 cup butter, softened, 2 cups packed brown su...   \n",
       "96   2 cups brown sugar, 1 cup white sugar, 2 cups ...   \n",
       "155  1 (18.25 ounce) package chocolate chip cake mi...   \n",
       "165  2 cups all-purpose flour, ¾ cup unsweetened co...   \n",
       "186  1 cup butter, softened, ½ cup shortening, ½ cu...   \n",
       "199  1 cup butter, 1 ½ cups white sugar, 1 cup pack...   \n",
       "202  3 ½ cups all-purpose flour, 1 teaspoon baking ...   \n",
       "212  2 ¼ cups all-purpose flour, 1 teaspoon baking ...   \n",
       "232  3 ½ cups all-purpose flour, 2 teaspoons baking...   \n",
       "239  1 cup packed brown sugar, 1 cup coconut sugar,...   \n",
       "248  1 ¼ cups shortening, ¾ cup margarine, 1 cup wh...   \n",
       "257  1 cup white sugar, ½ cup packed brown sugar, 1...   \n",
       "271  2 cups shortening, ¼ cup water, 1 ½ cups white...   \n",
       "296  ¾ cup chopped walnuts (optional), 1 cup matzo ...   \n",
       "348  1 ½ cups butter, softened, ¾ cup confectioners...   \n",
       "360  1 cup butter, 2 ¼ cups packed brown sugar, 6  ...   \n",
       "361  2 ½ cups rolled oats, 1 cup all-purpose flour,...   \n",
       "394  3 cups white sugar, 2 sticks unsalted butter, ...   \n",
       "\n",
       "                                                  name  \\\n",
       "5                  Urban Legend Chocolate Chip Cookies   \n",
       "6                       Wilderness Place Lodge Cookies   \n",
       "33                                  Cowboy Cookies III   \n",
       "63   A to Z Everything-but-the-Kitchen-Sink Chocola...   \n",
       "86                                Kitchen Sink Cookies   \n",
       "96                 Best Whole Wheat Chocolate Chippers   \n",
       "155                    Chocolate Chip Cake Mix Cookies   \n",
       "165                          Chocolate Pile-Up Cookies   \n",
       "186             Pistachio White Chocolate Chip Cookies   \n",
       "199                           Maggie's Camper Specials   \n",
       "202        High Altitude Banana Chocolate Chip Cookies   \n",
       "212                   Derby Day Chocolate Chip Cookies   \n",
       "232                         Crunchy Chocolate Chippers   \n",
       "239                  Super Food Chocolate Chip Cookies   \n",
       "248                         Chocolate Chip Cookies VII   \n",
       "257                 Blue Ribbon Chocolate Chip Cookies   \n",
       "271                      Chocolate Chip Marble Cookies   \n",
       "296                    Passover Chocolate Chip Cookies   \n",
       "348                         Mini Snowball Chip Cookies   \n",
       "360                                   Russian Rocks II   \n",
       "361                     Lightened Urban Legend Cookies   \n",
       "394                  Grandma's Pumpkin Oatmeal Cookies   \n",
       "\n",
       "                                             nutrition prepTime  proteing  \\\n",
       "5    141 calories;           7.7 g total fat;      ...  15 mins       7.7   \n",
       "6    228 calories;           12.4 g total fat;     ...  20 mins      12.4   \n",
       "33   95 calories;           4.3 g total fat;       ...  15 mins       4.3   \n",
       "63   135 calories;           6.7 g total fat;      ...  30 mins       6.7   \n",
       "86   142 calories;           7.1 g total fat;      ...  15 mins       7.1   \n",
       "96   191 calories;           11.4 g total fat;     ...  20 mins      11.4   \n",
       "155  72 calories;           3.6 g total fat;       ...      NaN       3.6   \n",
       "165  133 calories;           7.7 g total fat;      ...  15 mins       7.7   \n",
       "186  133 calories;           8.6 g total fat;      ...  20 mins       8.6   \n",
       "199  135 calories;           6.7 g total fat;      ...  15 mins       6.7   \n",
       "202  104 calories;           5 g total fat;        ...  15 mins       5.0   \n",
       "212  111 calories;           6.7 g total fat;      ...  20 mins       6.7   \n",
       "232  148 calories;           8.7 g total fat;      ...  15 mins       8.7   \n",
       "239  107 calories;           5.6 g total fat;      ...  20 mins       5.6   \n",
       "248  182 calories;           10.3 g total fat;     ...  15 mins      10.3   \n",
       "257  97 calories;           5 g total fat;         ...  15 mins       5.0   \n",
       "271  192 calories;           10.8 g total fat;     ...  15 mins      10.8   \n",
       "296  79 calories;           4.4 g total fat;       ...  15 mins       4.4   \n",
       "348  99 calories;           6.4 g total fat;       ...  15 mins       6.4   \n",
       "360  163 calories;           7.5 g total fat;      ...      NaN       7.5   \n",
       "361  108 calories;           6.1 g total fat;      ...  20 mins       6.1   \n",
       "394  138 calories;           5.2 g total fat;      ...  20 mins       5.2   \n",
       "\n",
       "     ...     totalTime                                    recipeDirection  \\\n",
       "5    ...       23 mins  Preheat oven to 375 degrees F (190 degrees C)....   \n",
       "6    ...       32 mins  Preheat the oven to 350 degrees F (175 degrees...   \n",
       "33   ...          1 hr  Preheat oven to 350 degrees F (175 degrees C)....   \n",
       "63   ...  1 hr 10 mins  Preheat oven to 350 degrees F (175 degrees C)....   \n",
       "86   ...       30 mins  Preheat the oven to 375 degrees F (190 degrees...   \n",
       "96   ...       32 mins  Preheat the oven to 350 degrees F (175 degrees...   \n",
       "155  ...           NaN  Preheat oven to 350 degrees F (175 degrees C)....   \n",
       "165  ...       45 mins  Preheat an oven to 375 degrees F (190 degrees ...   \n",
       "186  ...       32 mins  Preheat oven to 350 degrees F (175 degrees C)....   \n",
       "199  ...       27 mins  Preheat the oven to 350 degrees F (175 degrees...   \n",
       "202  ...          1 hr  Preheat the oven to 375 degrees F (190 degrees...   \n",
       "212  ...       30 mins  Preheat the oven to 350 degrees F (175 degrees...   \n",
       "232  ...       45 mins  Preheat oven to 350 degrees F (175 degrees C)....   \n",
       "239  ...       30 mins  Preheat oven to 350 degrees F (175 degrees C)....   \n",
       "248  ...       30 mins  Preheat oven to 350 degrees F (175 degrees C)....   \n",
       "257  ...       27 mins  Preheat oven to 375 degrees F (190 degrees C)....   \n",
       "271  ...       30 mins  Preheat oven to 350 degrees F (175 degrees C)....   \n",
       "296  ...       25 mins  Preheat oven to 275 degrees F (135 degrees C)....   \n",
       "348  ...       35 mins  Preheat oven to 375 degrees F (190 degrees C)....   \n",
       "360  ...           NaN  Preheat oven to 350 degrees F (175 degrees C)....   \n",
       "361  ...  1 hr 45 mins  Preheat an oven to 375 degrees F (190 degrees ...   \n",
       "394  ...       45 mins  Preheat the oven to 375 degrees F (190 degrees...   \n",
       "\n",
       "                                      recipeIngredient servings  \\\n",
       "5    1 cup butter, softened; 1 cup white sugar; 1 c...       60   \n",
       "6    2 cups butter; 2 cups white sugar; 2 cups pack...       60   \n",
       "33   2 cups all-purpose flour; 1 teaspoon baking po...       60   \n",
       "63   1 1/2 cups all-purpose flour; 11/4 teaspoons b...       60   \n",
       "86   1 cup butter, softened; 2 cups packed brown su...       60   \n",
       "96   2 cups brown sugar; 1 cup white sugar; 2 cups ...       60   \n",
       "155  1 (18.25 ounce) package chocolate chip cake mi...       60   \n",
       "165  2 cups all-purpose flour; 3/4 cup unsweetened ...       60   \n",
       "186  1 cup butter, softened; 1/2 cup shortening; 1/...       60   \n",
       "199  1 cup butter; 1 1/2 cups white sugar; 1 cup pa...       60   \n",
       "202  3 1/2 cups all-purpose flour; 1 teaspoon bakin...       60   \n",
       "212  21/4 cups all-purpose flour; 1 teaspoon baking...       60   \n",
       "232  3 1/2 cups all-purpose flour; 2 teaspoons baki...       60   \n",
       "239  1 cup packed brown sugar; 1 cup coconut sugar;...       60   \n",
       "248  11/4 cups shortening; 3/4 cup margarine; 1 cup...       60   \n",
       "257  1 cup white sugar; 1/2 cup packed brown sugar;...       60   \n",
       "271  2 cups shortening; 1/4 cup water; 1 1/2 cups w...       60   \n",
       "296  3/4 cup chopped walnuts (optional); 1 cup matz...       60   \n",
       "348  1 1/2 cups butter, softened; 3/4 cup confectio...       60   \n",
       "360  1 cup butter; 21/4 cups packed brown sugar; 6 ...       60   \n",
       "361  2 1/2 cups rolled oats; 1 cup all-purpose flou...       60   \n",
       "394  3 cups white sugar; 2 sticks unsalted butter, ...       60   \n",
       "\n",
       "                                              sodiummg  \\\n",
       "5    141 calories;           7.7 g total fat;      ...   \n",
       "6    228 calories;           12.4 g total fat;     ...   \n",
       "33   95 calories;           4.3 g total fat;       ...   \n",
       "63   135 calories;           6.7 g total fat;      ...   \n",
       "86   142 calories;           7.1 g total fat;      ...   \n",
       "96   191 calories;           11.4 g total fat;     ...   \n",
       "155  72 calories;           3.6 g total fat;       ...   \n",
       "165  133 calories;           7.7 g total fat;      ...   \n",
       "186  133 calories;           8.6 g total fat;      ...   \n",
       "199  135 calories;           6.7 g total fat;      ...   \n",
       "202  104 calories;           5 g total fat;        ...   \n",
       "212  111 calories;           6.7 g total fat;      ...   \n",
       "232  148 calories;           8.7 g total fat;      ...   \n",
       "239  107 calories;           5.6 g total fat;      ...   \n",
       "248  182 calories;           10.3 g total fat;     ...   \n",
       "257  97 calories;           5 g total fat;         ...   \n",
       "271  192 calories;           10.8 g total fat;     ...   \n",
       "296  79 calories;           4.4 g total fat;       ...   \n",
       "348  99 calories;           6.4 g total fat;       ...   \n",
       "360  163 calories;           7.5 g total fat;      ...   \n",
       "361  108 calories;           6.1 g total fat;      ...   \n",
       "394  138 calories;           5.2 g total fat;      ...   \n",
       "\n",
       "                                             totalFatg  \\\n",
       "5    141 calories;           7.7 g total fat;      ...   \n",
       "6    228 calories;           12.4 g total fat;     ...   \n",
       "33   95 calories;           4.3 g total fat;       ...   \n",
       "63   135 calories;           6.7 g total fat;      ...   \n",
       "86   142 calories;           7.1 g total fat;      ...   \n",
       "96   191 calories;           11.4 g total fat;     ...   \n",
       "155  72 calories;           3.6 g total fat;       ...   \n",
       "165  133 calories;           7.7 g total fat;      ...   \n",
       "186  133 calories;           8.6 g total fat;      ...   \n",
       "199  135 calories;           6.7 g total fat;      ...   \n",
       "202  104 calories;           5 g total fat;        ...   \n",
       "212  111 calories;           6.7 g total fat;      ...   \n",
       "232  148 calories;           8.7 g total fat;      ...   \n",
       "239  107 calories;           5.6 g total fat;      ...   \n",
       "248  182 calories;           10.3 g total fat;     ...   \n",
       "257  97 calories;           5 g total fat;         ...   \n",
       "271  192 calories;           10.8 g total fat;     ...   \n",
       "296  79 calories;           4.4 g total fat;       ...   \n",
       "348  99 calories;           6.4 g total fat;       ...   \n",
       "360  163 calories;           7.5 g total fat;      ...   \n",
       "361  108 calories;           6.1 g total fat;      ...   \n",
       "394  138 calories;           5.2 g total fat;      ...   \n",
       "\n",
       "                                                   url recipe_key  \\\n",
       "5    https://www.allrecipes.com/recipe/9804/urban-l...       9804   \n",
       "6    https://www.allrecipes.com/recipe/53211/wilder...      53211   \n",
       "33   https://www.allrecipes.com/recipe/19213/cowboy...      19213   \n",
       "63   https://www.allrecipes.com/recipe/26104/a-to-z...      26104   \n",
       "86   https://www.allrecipes.com/recipe/25837/kitche...      25837   \n",
       "96   https://www.allrecipes.com/recipe/77464/best-w...      77464   \n",
       "155  https://www.allrecipes.com/recipe/10982/chocol...      10982   \n",
       "165  https://www.allrecipes.com/recipe/211569/choco...     211569   \n",
       "186  https://www.allrecipes.com/recipe/25123/pistac...      25123   \n",
       "199  https://www.allrecipes.com/recipe/51452/maggie...      51452   \n",
       "202  https://www.allrecipes.com/recipe/19204/high-a...      19204   \n",
       "212  https://www.allrecipes.com/recipe/106546/derby...     106546   \n",
       "232  https://www.allrecipes.com/recipe/25044/crunch...      25044   \n",
       "239  https://www.allrecipes.com/recipe/241934/super...     241934   \n",
       "248  https://www.allrecipes.com/recipe/25027/chocol...      25027   \n",
       "257  https://www.allrecipes.com/recipe/10375/blue-r...      10375   \n",
       "271  https://www.allrecipes.com/recipe/17275/chocol...      17275   \n",
       "296  https://www.allrecipes.com/recipe/217024/passo...     217024   \n",
       "348  https://www.allrecipes.com/recipe/256744/mini-...     256744   \n",
       "360  https://www.allrecipes.com/recipe/15291/russia...      15291   \n",
       "361  https://www.allrecipes.com/recipe/171047/light...     171047   \n",
       "394  https://www.allrecipes.com/recipe/278359/grand...     278359   \n",
       "\n",
       "    num_ingredients  label  \n",
       "5                13      0  \n",
       "6                13      1  \n",
       "33               11      0  \n",
       "63               18      0  \n",
       "86               12      0  \n",
       "96               10      0  \n",
       "155               6      0  \n",
       "165              14      0  \n",
       "186              13      0  \n",
       "199              12      0  \n",
       "202              11      0  \n",
       "212              10      0  \n",
       "232              13      0  \n",
       "239              16      0  \n",
       "248              10      0  \n",
       "257              11      0  \n",
       "271              10      0  \n",
       "296               8      0  \n",
       "348               7      0  \n",
       "360               7      0  \n",
       "361              15      0  \n",
       "394              12      0  \n",
       "\n",
       "[22 rows x 22 columns]"
      ]
     },
     "execution_count": 24,
     "metadata": {},
     "output_type": "execute_result"
    }
   ],
   "source": [
    "df[df['servings']==60]"
   ]
  },
  {
   "cell_type": "code",
   "execution_count": 13,
   "metadata": {},
   "outputs": [
    {
     "data": {
      "text/plain": [
       "array([ 12,  36,  18,  42,  60,  24,  48,  72,  40,  16,  84,  20,   6,\n",
       "        30,  15,  32,  96, 100,   1,  54, 150,  50, 144,   4, 168, 131,\n",
       "        10,  56,  65,  33,  17,  21,  28,  45])"
      ]
     },
     "execution_count": 13,
     "metadata": {},
     "output_type": "execute_result"
    }
   ],
   "source": [
    "df['servings'].unique()"
   ]
  },
  {
   "cell_type": "code",
   "execution_count": null,
   "metadata": {},
   "outputs": [],
   "source": [
    "sns.regplot(x='num_ingredients', y='calPerServing', data=clean_df)"
   ]
  },
  {
   "cell_type": "code",
   "execution_count": null,
   "metadata": {},
   "outputs": [],
   "source": [
    "sns.regplot(x='servings', y='calPerServing', data=clean_df)"
   ]
  },
  {
   "cell_type": "code",
   "execution_count": null,
   "metadata": {},
   "outputs": [],
   "source": [
    "sns.regplot(x='servings', y='num_ingredients', data=clean_df)"
   ]
  },
  {
   "cell_type": "code",
   "execution_count": null,
   "metadata": {},
   "outputs": [],
   "source": []
  }
 ],
 "metadata": {
  "kernelspec": {
   "display_name": "Python 3",
   "language": "python",
   "name": "python3"
  },
  "language_info": {
   "codemirror_mode": {
    "name": "ipython",
    "version": 3
   },
   "file_extension": ".py",
   "mimetype": "text/x-python",
   "name": "python",
   "nbconvert_exporter": "python",
   "pygments_lexer": "ipython3",
   "version": "3.7.6"
  }
 },
 "nbformat": 4,
 "nbformat_minor": 4
}
