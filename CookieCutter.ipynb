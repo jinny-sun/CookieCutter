{
 "cells": [
  {
   "cell_type": "markdown",
   "metadata": {},
   "source": [
    "# CookieCutter\n",
    "This app predicts the total calories given a string of recipe ingredients.\n",
    "\n",
    "Training data was scraped from AllRecipes.com\n",
    "\n",
    "Input of web app is a string of recipe ingredents in the following format:\n",
    "* '2 cups flour; 1 cup sugar; 1/2 cup butter; 1 teaspoon salt'"
   ]
  },
  {
   "cell_type": "markdown",
   "metadata": {},
   "source": [
    "## Import packages"
   ]
  },
  {
   "cell_type": "code",
   "execution_count": 156,
   "metadata": {},
   "outputs": [],
   "source": [
    "import numpy as np\n",
    "import pandas as pd\n",
    "import re"
   ]
  },
  {
   "cell_type": "markdown",
   "metadata": {},
   "source": [
    "## Import functions"
   ]
  },
  {
   "cell_type": "code",
   "execution_count": 157,
   "metadata": {},
   "outputs": [],
   "source": [
    "def multireplace(string, replacements, ignore_case=False):\n",
    "    \"\"\"\n",
    "    Given a string and a replacement map, it returns the replaced string.\n",
    "    :param str string: string to execute replacements on\n",
    "    :param dict replacements: replacement dictionary {value to find: value to replace}\n",
    "    :param bool ignore_case: whether the match should be case insensitive\n",
    "    :rtype: str\n",
    "    \"\"\"\n",
    "    # If case insensitive, we need to normalize the old string so that later a replacement\n",
    "    # can be found. For instance with {\"HEY\": \"lol\"} we should match and find a replacement for \"hey\",\n",
    "    # \"HEY\", \"hEy\", etc.\n",
    "    if ignore_case:\n",
    "        def normalize_old(s):\n",
    "            return s.lower()\n",
    "\n",
    "        re_mode = re.IGNORECASE\n",
    "\n",
    "    else:\n",
    "        def normalize_old(s):\n",
    "            return s\n",
    "\n",
    "        re_mode = 0\n",
    "\n",
    "    replacements = {normalize_old(key): val for key, val in replacements.items()}\n",
    "    \n",
    "    # Place longer ones first to keep shorter substrings from matching where the longer ones should take place\n",
    "    # For instance given the replacements {'ab': 'AB', 'abc': 'ABC'} against the string 'hey abc', it should produce\n",
    "    # 'hey ABC' and not 'hey ABc'\n",
    "    rep_sorted = sorted(replacements, key=len, reverse=True)\n",
    "    rep_escaped = map(re.escape, rep_sorted)\n",
    "    \n",
    "    # Create a big OR regex that matches any of the substrings to replace\n",
    "    pattern = re.compile(\"|\".join(rep_escaped), re_mode)\n",
    "    \n",
    "    # For each match, look up the new string in the replacements, being the key the normalized old string\n",
    "    return pattern.sub(lambda match: replacements[normalize_old(match.group(0))], string)\n",
    "\n",
    "def string_replace(x):\n",
    "    new_string = re.sub(' {2,}', ' ', x).replace(\"\\n\", \";\").replace(\"; ;\", \";\")\n",
    "#    new_string = new_string.split(';')\n",
    "    return(new_string)\n",
    "\n",
    "def get_ingredients (x):\n",
    "    ing_regex = ('(\\d+/*\\d*\\s*\\d*/*\\d*)\\s(\\w+\\s*.*?);')\n",
    "    all_ing = re.findall(ing_regex, x)\n",
    "    return(all_ing)\n",
    "\n",
    "def get_quantity(x):\n",
    "    quantity = [y[0] for y in x] # use for df\n",
    "    units_with_ingredient = [y[1] for y in x]\n",
    "    df_of_units = pd.DataFrame({'quantity':quantity, 'ingredient':units_with_ingredient})\n",
    "    return (df_of_units)\n",
    "\n",
    "def match_uids(originaldf, longdf):\n",
    "    for row in range(0, len(originaldf)):\n",
    "        longdf[row]['recipe_key']=originaldf['recipe_key'][row]\n",
    "        longdf[row]['calPerServing']=originaldf['calPerServing'][row]\n",
    "        longdf[row]['totalCal']=originaldf['totalCal'][row]\n",
    "        longdf[row]['servings']=originaldf['servings'][row]\n",
    "        longdf[row]['name']=originaldf['name'][row]\n",
    "    return(longdf)\n",
    "\n",
    "def text_process(mess):\n",
    "    \"\"\"\n",
    "    Takes in a string of text, then performs the following:\n",
    "    1. Remove all punctuation\n",
    "    2. Remove all stopwords\n",
    "    3. Returns a list of the cleaned text\n",
    "    \"\"\"\n",
    "    import string\n",
    "    from nltk.corpus import stopwords\n",
    "    from nltk.stem import WordNetLemmatizer\n",
    "    wnl = WordNetLemmatizer()\n",
    "    \n",
    "    def lemmatize(string):\n",
    "        for word in re.findall(r\"[a-z]+\", string):\n",
    "            string = string.replace(word, wnl.lemmatize(word, 'n') if 's' in word[-3:] else word)\n",
    "        return string\n",
    "    \n",
    "    unit_stopwords = ['dash','pinch','teaspoon','tablespoon','fluid','cup','pint','quart','ounce','oz','pound','rack',\n",
    "                'small','medium','large','crushed','grated','skinless','boneless','melted','fresh',\n",
    "                'diced','minced','thinly','dry','dried','halved','taste','frying','lean','drained','jars','grated'\n",
    "                'clove','slice','eaches','whole','cube','thick','unit','freshly','finely','splash',\n",
    "                'semisweet','chip','extract','spread','powder','room','temperature','brown','cooking','yolk','ground',\n",
    "                'package','mix','cake','plain','goody','light','wheat','piece','substitute','mini','kosher','crispy',\n",
    "                'minature','chunk','dark','bit','square','boiling','bag','crumb','popsicle','stick','zest','cereal',\n",
    "                'bar','tart','nib','tennessee','turbinado','baking','pack','spice','moist','miniarature','crunchy',\n",
    "                'morsel','nugget','candy','crisp','super','fine','decoration','sucralose','puree','pureed','rainbow',\n",
    "                'cut','frozen','broken','round','concentrate','miniature','cooky','virgin','dusting','half','baby',\n",
    "                'food','jar','seedless','container','box','granule','filling','cold','super','ripe','moisture',\n",
    "                'packet','instant','mint','ripe','sea','coarse','fun','size','funsize','bulk','chopped','torn',\n",
    "                'inch','shell','quality','strap','bittersweet','gallon','pure','cane','liquid','drop','hard','yellow'\n",
    "                'black','strap','kiss','protein','supplement','dessert','topping']\n",
    "    \n",
    "    # Remove anything in parenthesis\n",
    "    mess = re.sub(r\"\\([^\\)]+\\)\", '', mess)\n",
    "    # Make everything lowercase\n",
    "    mess = mess.lower()\n",
    "    # Remove non-word punctuation\n",
    "    mess =' '.join(re.findall(r\"[-,''\\w]+\", mess)) # This leaves some commas as a character #\n",
    "    mess = re.sub(r\"\\,\", ' ', mess)\n",
    "    # Remove hypenated words\n",
    "    mess = re.sub(r\"(?=\\S*['-])([a-zA-Z'-]+)\",'',mess) # remove hypenated words\n",
    "    # Remove punctuation and numbers\n",
    "    mess = ''.join([i for i in mess if not i.isdigit()])\n",
    "    # Remove plurals\n",
    "    mess = lemmatize(mess)\n",
    "    #clean excess whitespace\n",
    "    mess = re.sub(r\"\\s+\", ' ', mess).strip()\n",
    "    # Remove stopwords\n",
    "    mess = [word for word in mess.split() if word.lower() not in stopwords.words('english')]\n",
    "    mess  = [word for word in mess if word.lower() not in unit_stopwords]\n",
    "    mess = ' '.join(mess)\n",
    "    return(mess.split())\n",
    "\n",
    "def test_noun(tokens):  \n",
    "    import nltk\n",
    "    tagged = nltk.pos_tag(tokens)\n",
    "    return([token[0] for token in tagged if token[1] in ['NN',]])\n",
    "\n",
    "def convert_fractions (quantity):\n",
    "    from fractions import Fraction\n",
    "    return float(sum(Fraction(s) for s in quantity.split()))\n",
    "\n",
    "def join_strings(mess):\n",
    "    # Keep integers\n",
    "    mess = ' '.join(mess)\n",
    "\n",
    "    if len(mess)>=1:\n",
    "        return(mess)\n",
    "    else:\n",
    "        return('')"
   ]
  },
  {
   "cell_type": "markdown",
   "metadata": {},
   "source": [
    "## Clean ingredient text string"
   ]
  },
  {
   "cell_type": "code",
   "execution_count": 158,
   "metadata": {
    "scrolled": false
   },
   "outputs": [],
   "source": [
    "# Load data\n",
    "#df = pd.read_csv('dataset_allrecipes-test-v3_2020-06-02_01-37-25-797.csv') # Dinner recipes\n",
    "# df = pd.read_csv('dataset_allrecipes-test-v4_choco_chip_cookie_2020-06-06_22-41-30-703.csv') # Chocolate chip recipes\n",
    "\n",
    "df = pd.read_csv('dataset_allrecipes-test-v4_all-cookies_2020-06-06_22-20-57-219.csv') # all cookie recipes\n",
    "# df2 = pd.read_csv('dataset_allrecipes-test-v4_all-ingredients_2020-06-06_22-40-04-991.csv') # all ingredient recipes\n",
    "# df = pd.concat([df,df2]).drop_duplicates() # combine all cookie and ingredient recipes\n",
    "\n",
    "# Clean column names\n",
    "df.rename(columns = {'calories':'calPerServing', 'cook':'cookTime', 'prep':'prepTime','ready in':'totalTime'}, inplace = True) \n",
    "\n",
    "# Create unique id\n",
    "df['recipe_key'] = df['url'].apply(lambda x:int(re.findall(r\"\\d+\", x)[0]))\n",
    "\n",
    "# Calculate total calories per recipe\n",
    "df['totalCal'] = df['calPerServing']*df['servings']\n",
    "df = df[(df['servings']<=64) & (df['servings']>=12) & (df['totalCal']<10000)] #filter for recipes with 12-64 servings and < 10,000 total calories\n",
    "df.reset_index(inplace=True, drop=True)\n",
    "\n",
    "# Clean ingredient text\n",
    "dict_unicode = {'\\u2009': '', '½':' 1/2', '⅓':'1/3', '⅔':'2/3', '¼':'1/4', '¾':'3/4', '⅕':'1/5', \n",
    "                '⅖':'2/5', '⅗':'3/5', '⅘':'4/5', '⅙':'1/6', '⅚':'5/6', '⅐':'1/7', '⅛':'1/8', \n",
    "                '⅜':'3/8', '⅝':'5/8', '⅞':'7/8', '⅑':'1/9', '⅒':'1/10'}\n",
    "df['recipeIngredient'] = [item + ';' for item in df['recipeIngredient']] # add semicolon at end of each string for easier regex filtering\n",
    "df['recipeIngredient'] = [multireplace(x, dict_unicode) for x in df['recipeIngredient']] # replace unicode characters\n",
    "df['recipeIngredient'] = [string_replace(x) for x in df['recipeIngredient']] # remove whitespace\n",
    "ing = [get_ingredients(x) for x in df['recipeIngredient']] # separate ingredients into list of list of tupules of ingredient strings\n",
    "\n",
    "df_ing = [get_quantity(x) for x in ing] # separate units of measure and ingredients & creates a pandas dataframe for each recipe\n",
    "\n",
    "clean_df = match_uids(df, df_ing) # pull unique id, calorie (outcome variable), number of servings, and number of ingredients from original dataframe\n",
    "clean_df = pd.concat(clean_df) # concat list of pandas dataframes into one dataframe\n",
    "clean_df['quantity'] = [convert_fractions(x) for x in clean_df['quantity']] # convert fractions into integers\n",
    "\n",
    "# Create multiIndex / hierarchical Dataframe\n",
    "# clean_df = clean_df.reset_index(drop=True)\n",
    "clean_df = clean_df.reset_index()\n"
   ]
  },
  {
   "cell_type": "markdown",
   "metadata": {},
   "source": [
    "## Normalize quantity of ingredients to grams"
   ]
  },
  {
   "cell_type": "code",
   "execution_count": 159,
   "metadata": {},
   "outputs": [],
   "source": [
    "# save as csv for web app\n",
    "# clean_df.to_csv('clean_df.csv')\n",
    "\n",
    "# Convert measurements to normalized unit  (1 Unit= 1 grams)\n",
    "clean_df['unit'] = np.where(clean_df.ingredient.str.contains(\"dash\"), .3,\n",
    "            np.where(clean_df.ingredient.str.contains(\"pinch\"), .6,\n",
    "            np.where(clean_df.ingredient.str.contains(\"teaspoon\"), 5, \n",
    "            np.where(clean_df.ingredient.str.contains(\"tablespoon\"), 3,\n",
    "            np.where(clean_df.ingredient.str.contains(\"fluid\"), 30,\n",
    "            np.where(clean_df.ingredient.str.contains(\"cup\"), 240, \n",
    "            np.where(clean_df.ingredient.str.contains(\"pint\"), 473,\n",
    "            np.where(clean_df.ingredient.str.contains(\"quart\"), 980,\n",
    "            np.where(clean_df.ingredient.str.contains(\"ounce\"), 28,\n",
    "            np.where(clean_df.ingredient.str.contains(\"oz\"), 28, \n",
    "            np.where(clean_df.ingredient.str.contains(\"pound\"), 454,\n",
    "            np.where(clean_df.ingredient.str.contains(\"rack\"), 908,\n",
    "            np.where(clean_df.ingredient.str.contains(\"small\"), 50,\n",
    "            np.where(clean_df.ingredient.str.contains(\"medium\"), 60,\n",
    "            np.where(clean_df.ingredient.str.contains(\"large\"), 70,\n",
    "            3))))))))))))))) "
   ]
  },
  {
   "cell_type": "markdown",
   "metadata": {},
   "source": [
    "# Use bigrams"
   ]
  },
  {
   "cell_type": "code",
   "execution_count": null,
   "metadata": {},
   "outputs": [],
   "source": [
    "# Only remove units and not other unnecessary ingredient words\n",
    "def text_process(mess):\n",
    "    \"\"\"\n",
    "    Takes in a string of text, then performs the following:\n",
    "    1. Remove all punctuation\n",
    "    2. Remove all stopwords\n",
    "    3. Returns a list of the cleaned text\n",
    "    \"\"\"\n",
    "    import string\n",
    "    from nltk.corpus import stopwords\n",
    "    from nltk.stem import WordNetLemmatizer\n",
    "    wnl = WordNetLemmatizer()\n",
    "    \n",
    "    def lemmatize(string):\n",
    "        for word in re.findall(r\"[a-z]+\", string):\n",
    "            string = string.replace(word, wnl.lemmatize(word, 'n') if 's' in word[-3:] else word)\n",
    "        return string\n",
    "    \n",
    "    unit_stopwords = ['dash','pinch','teaspoon','tablespoon','fluid','cup','pint','quart','ounce','oz','pound','rack',\n",
    "                'small','medium','large','semisweet']\n",
    "#     unit_stopwords = ['dash','pinch','teaspoon','tablespoon','fluid','cup','pint','quart','ounce','oz','pound','rack',\n",
    "#             'small','medium','large','crushed','grated','skinless','boneless','melted','fresh',\n",
    "#             'diced','minced','thinly','dry','dried','halved','taste','frying','lean','drained','jars','grated'\n",
    "#             'clove','slice','eaches','whole','cube','thick','unit','freshly','finely','splash',\n",
    "#             'semisweet','chip','extract','spread','powder','room','temperature','brown','cooking','yolk','ground',\n",
    "#             'package','mix','cake','plain','goody','light','wheat','piece','substitute','mini','kosher','crispy',\n",
    "#             'minature','chunk','dark','bit','square','boiling','bag','crumb','popsicle','stick','zest','cereal',\n",
    "#             'bar','tart','nib','tennessee','turbinado','baking','pack','spice','moist','miniarature','crunchy',\n",
    "#             'morsel','nugget','candy','crisp','super','fine','decoration','sucralose','puree','pureed','rainbow',\n",
    "#             'cut','frozen','broken','round','concentrate','miniature','cooky','virgin','dusting','half','baby',\n",
    "#             'food','jar','seedless','container','box','granule','filling','cold','super','ripe','moisture',\n",
    "#             'packet','instant','mint','ripe','sea','coarse','fun','size','funsize','bulk','chopped','torn',\n",
    "#             'inch','shell','quality','strap','bittersweet','gallon','pure','cane','liquid','drop','hard','yellow'\n",
    "#             'black','strap','kiss','protein','supplement','dessert']\n",
    "    # Remove anything in parenthesis\n",
    "    mess = re.sub(r\"\\([^\\)]+\\)\", '', mess)\n",
    "    # Make everything lowercase\n",
    "    mess = mess.lower()\n",
    "    # Remove non-word punctuation\n",
    "    mess =' '.join(re.findall(r\"[-,''\\w]+\", mess)) # This leaves some commas as a character #\n",
    "    mess = re.sub(r\"\\,\", ' ', mess)\n",
    "    # Remove hypenated words\n",
    "    mess = re.sub(r\"(?=\\S*['-])([a-zA-Z'-]+)\",'',mess) # remove hypenated words\n",
    "    # Remove punctuation and numbers\n",
    "    mess = ''.join([i for i in mess if not i.isdigit()])\n",
    "    # Remove plurals\n",
    "    mess = lemmatize(mess)\n",
    "    #clean excess whitespace\n",
    "    mess = re.sub(r\"\\s+\", ' ', mess).strip()\n",
    "    # Remove stopwords\n",
    "    mess = [word for word in mess.split() if word.lower() not in stopwords.words('english')]\n",
    "    mess  = [word for word in mess if word.lower() not in unit_stopwords]\n",
    "    mess = ' '.join(mess)\n",
    "    return(mess)\n",
    "#     return(mess.split())"
   ]
  },
  {
   "cell_type": "code",
   "execution_count": null,
   "metadata": {},
   "outputs": [],
   "source": [
    "test_df = clean_df.copy()"
   ]
  },
  {
   "cell_type": "code",
   "execution_count": null,
   "metadata": {},
   "outputs": [],
   "source": [
    "# Tokenization = convert text string into list of tokens, or words, we want (i.e., cleaned version of words).\n",
    "import string\n",
    "from nltk.corpus import stopwords\n",
    "test_df['ingredient']=[text_process(x) for x in test_df['ingredient']]\n",
    "\n",
    "# Total quantity of each ingredient needed for recipe (grams* quantity) and condense into a list.\n",
    "test_df['norm_quant'] = round(test_df['unit']*test_df['quantity'])\n",
    "test_df['norm_quant'] = test_df['norm_quant'].astype(int)\n",
    "test_df.head()"
   ]
  },
  {
   "cell_type": "code",
   "execution_count": null,
   "metadata": {},
   "outputs": [],
   "source": [
    "# Test data using ngrams to identify words (ie. baking soda)\n",
    "from nltk import ngrams\n",
    "\n",
    "bigram = [list(ngrams(words.lower().split(),2)) for words in test_df['ingredient']]\n",
    "# trigram=list(ngrams(Sentences.lower().split(),3))\n",
    "# fourgram=list(ngrams(Sentences.lower().split(),4))"
   ]
  },
  {
   "cell_type": "code",
   "execution_count": null,
   "metadata": {},
   "outputs": [],
   "source": [
    "all_bigrams = [i for sub in bigram for i in sub] # combine list of lists of tuples to one list"
   ]
  },
  {
   "cell_type": "code",
   "execution_count": null,
   "metadata": {
    "scrolled": true
   },
   "outputs": [],
   "source": [
    "[nltk.pos_tag(words) for words in all_bigrams]"
   ]
  },
  {
   "cell_type": "code",
   "execution_count": null,
   "metadata": {},
   "outputs": [],
   "source": [
    "#function to filter for ADJ/NN bigrams\n",
    "def rightTypes(ngram):\n",
    "    from nltk.corpus import stopwords\n",
    "    en_stopwords = set(stopwords.words('english'))\n",
    "\n",
    "    for word in ngram:\n",
    "        if word in en_stopwords or word.isspace():\n",
    "            return False\n",
    "    acceptable_types = ('NN','VBG')\n",
    "    second_type = ('NN')\n",
    "    tags = nltk.pos_tag(ngram)\n",
    "    if tags[0][1] in acceptable_types and tags[1][1] in second_type:\n",
    "        return True\n",
    "    else:\n",
    "        return False"
   ]
  },
  {
   "cell_type": "code",
   "execution_count": null,
   "metadata": {},
   "outputs": [],
   "source": [
    "bigram_df = pd.DataFrame(all_bigrams,columns=['first','second'])\n",
    "bigram_df['bigram'] = bigram_df[['first','second']].apply(tuple, axis=1)\n",
    "bigram_df['Noun'] = [rightTypes(tokens) for tokens in all_bigrams]\n",
    "# bigram_df[bigram_df['Noun']]\n",
    "fdist = nltk.FreqDist(bigram_df[bigram_df['Noun']]['bigram']).most_common(30) # top 30 bigrams\n",
    "fdist"
   ]
  },
  {
   "cell_type": "code",
   "execution_count": null,
   "metadata": {},
   "outputs": [],
   "source": []
  },
  {
   "cell_type": "code",
   "execution_count": null,
   "metadata": {},
   "outputs": [],
   "source": []
  },
  {
   "cell_type": "code",
   "execution_count": null,
   "metadata": {},
   "outputs": [],
   "source": [
    "# Method 2: Using NLTK Collocations\n",
    "unlist_comments = [item for items in test_df['ingredient'] for item in items]\n",
    "\n",
    "import nltk\n",
    "bigrams = nltk.collocations.BigramAssocMeasures()\n",
    "bigramFinder = nltk.collocations.BigramCollocationFinder.from_words(unlist_comments)\n",
    "\n",
    "bigram_freq = bigramFinder.ngram_fd.items()\n",
    "bigramFreqTable = pd.DataFrame(list(bigram_freq), columns=['bigram','freq']).sort_values(by='freq', ascending=False)\n",
    "bigramFreqTable"
   ]
  },
  {
   "cell_type": "markdown",
   "metadata": {},
   "source": [
    "### Count frequency of adjacent words with part of speech filters"
   ]
  },
  {
   "cell_type": "code",
   "execution_count": null,
   "metadata": {},
   "outputs": [],
   "source": [
    "# function to filter for ADJ/NN bigrams\n",
    "def rightTypes(ngram):\n",
    "    from nltk.corpus import stopwords\n",
    "    en_stopwords = set(stopwords.words('english'))\n",
    "\n",
    "    if '-pron-' in ngram or 't' in ngram:\n",
    "        return False\n",
    "    for word in ngram:\n",
    "        if word in en_stopwords or word.isspace():\n",
    "            return False\n",
    "#     acceptable_types = ('JJ', 'JJR', 'JJS', 'NN', 'NNS', 'NNP', 'NNPS')\n",
    "    acceptable_types = ('JJ', 'NN')\n",
    "#     second_type = ('NN', 'NNS', 'NNP', 'NNPS')\n",
    "    second_type = ('NN')\n",
    "    tags = nltk.pos_tag(ngram)\n",
    "    if tags[0][1] in acceptable_types and tags[1][1] in second_type:\n",
    "        return True\n",
    "    else:\n",
    "        return False\n",
    "\n",
    "    #filter bigrams\n",
    "filtered_bi = bigramFreqTable[bigramFreqTable.bigram.map(lambda x: rightTypes(x))]\n",
    "filtered_bi"
   ]
  },
  {
   "cell_type": "code",
   "execution_count": null,
   "metadata": {
    "scrolled": true
   },
   "outputs": [],
   "source": [
    "[nltk.pos_tag(words) for words in filtered_bi['bigram']]"
   ]
  },
  {
   "cell_type": "code",
   "execution_count": null,
   "metadata": {},
   "outputs": [],
   "source": [
    "filtered_bi[filtered_bi['freq']>50]"
   ]
  },
  {
   "cell_type": "code",
   "execution_count": null,
   "metadata": {},
   "outputs": [],
   "source": []
  },
  {
   "cell_type": "code",
   "execution_count": null,
   "metadata": {},
   "outputs": [],
   "source": []
  },
  {
   "cell_type": "markdown",
   "metadata": {},
   "source": [
    "## Tokenize ingredient text"
   ]
  },
  {
   "cell_type": "code",
   "execution_count": 160,
   "metadata": {},
   "outputs": [
    {
     "data": {
      "text/html": [
       "<div>\n",
       "<style scoped>\n",
       "    .dataframe tbody tr th:only-of-type {\n",
       "        vertical-align: middle;\n",
       "    }\n",
       "\n",
       "    .dataframe tbody tr th {\n",
       "        vertical-align: top;\n",
       "    }\n",
       "\n",
       "    .dataframe thead th {\n",
       "        text-align: right;\n",
       "    }\n",
       "</style>\n",
       "<table border=\"1\" class=\"dataframe\">\n",
       "  <thead>\n",
       "    <tr style=\"text-align: right;\">\n",
       "      <th></th>\n",
       "      <th></th>\n",
       "      <th>ingredient</th>\n",
       "      <th>recipe_key</th>\n",
       "      <th>totalCal</th>\n",
       "      <th>calPerServing</th>\n",
       "      <th>name</th>\n",
       "      <th>ingredient_key</th>\n",
       "    </tr>\n",
       "    <tr>\n",
       "      <th>recipe_key</th>\n",
       "      <th>ingredient_key</th>\n",
       "      <th></th>\n",
       "      <th></th>\n",
       "      <th></th>\n",
       "      <th></th>\n",
       "      <th></th>\n",
       "      <th></th>\n",
       "    </tr>\n",
       "  </thead>\n",
       "  <tbody>\n",
       "    <tr>\n",
       "      <th rowspan=\"5\" valign=\"top\">16212</th>\n",
       "      <th>0</th>\n",
       "      <td>butter butter butter butter butter butter butt...</td>\n",
       "      <td>16212</td>\n",
       "      <td>6480.0</td>\n",
       "      <td>162.0</td>\n",
       "      <td>Chocolate Mint Candies Cookies</td>\n",
       "      <td>0</td>\n",
       "    </tr>\n",
       "    <tr>\n",
       "      <th>1</th>\n",
       "      <td>sugar sugar sugar sugar sugar sugar sugar suga...</td>\n",
       "      <td>16212</td>\n",
       "      <td>6480.0</td>\n",
       "      <td>162.0</td>\n",
       "      <td>Chocolate Mint Candies Cookies</td>\n",
       "      <td>1</td>\n",
       "    </tr>\n",
       "    <tr>\n",
       "      <th>2</th>\n",
       "      <td>water water water water water water</td>\n",
       "      <td>16212</td>\n",
       "      <td>6480.0</td>\n",
       "      <td>162.0</td>\n",
       "      <td>Chocolate Mint Candies Cookies</td>\n",
       "      <td>2</td>\n",
       "    </tr>\n",
       "    <tr>\n",
       "      <th>3</th>\n",
       "      <td>chocolate chocolate chocolate chocolate chocol...</td>\n",
       "      <td>16212</td>\n",
       "      <td>6480.0</td>\n",
       "      <td>162.0</td>\n",
       "      <td>Chocolate Mint Candies Cookies</td>\n",
       "      <td>3</td>\n",
       "    </tr>\n",
       "    <tr>\n",
       "      <th>4</th>\n",
       "      <td>egg egg egg egg egg egg</td>\n",
       "      <td>16212</td>\n",
       "      <td>6480.0</td>\n",
       "      <td>162.0</td>\n",
       "      <td>Chocolate Mint Candies Cookies</td>\n",
       "      <td>4</td>\n",
       "    </tr>\n",
       "  </tbody>\n",
       "</table>\n",
       "</div>"
      ],
      "text/plain": [
       "                                                                  ingredient  \\\n",
       "recipe_key ingredient_key                                                      \n",
       "16212      0               butter butter butter butter butter butter butt...   \n",
       "           1               sugar sugar sugar sugar sugar sugar sugar suga...   \n",
       "           2                            water water water water water water    \n",
       "           3               chocolate chocolate chocolate chocolate chocol...   \n",
       "           4                                        egg egg egg egg egg egg    \n",
       "\n",
       "                           recipe_key  totalCal  calPerServing  \\\n",
       "recipe_key ingredient_key                                        \n",
       "16212      0                    16212    6480.0          162.0   \n",
       "           1                    16212    6480.0          162.0   \n",
       "           2                    16212    6480.0          162.0   \n",
       "           3                    16212    6480.0          162.0   \n",
       "           4                    16212    6480.0          162.0   \n",
       "\n",
       "                                                     name  ingredient_key  \n",
       "recipe_key ingredient_key                                                  \n",
       "16212      0               Chocolate Mint Candies Cookies               0  \n",
       "           1               Chocolate Mint Candies Cookies               1  \n",
       "           2               Chocolate Mint Candies Cookies               2  \n",
       "           3               Chocolate Mint Candies Cookies               3  \n",
       "           4               Chocolate Mint Candies Cookies               4  "
      ]
     },
     "execution_count": 160,
     "metadata": {},
     "output_type": "execute_result"
    }
   ],
   "source": [
    "# Tokenization = convert text string into list of tokens, or words, we want (i.e., cleaned version of words).\n",
    "import string\n",
    "from nltk.corpus import stopwords\n",
    "clean_df['ingredient']=[text_process(x) for x in clean_df['ingredient']]\n",
    "\n",
    "# Total quantity of each ingredient needed for recipe (grams* quantity) and condense into a list.\n",
    "clean_df['norm_quant'] = round(clean_df['unit']*clean_df['quantity'])\n",
    "clean_df['norm_quant'] = clean_df['norm_quant'].astype(int)\n",
    "\n",
    "# One word per ingredient - keep only nouns, join multiple words as one string\n",
    "clean_df['ingredient'] = [test_noun(tokens) for tokens in clean_df['ingredient']]\n",
    "clean_df['ingredient'] = [''.join(tokens) for tokens in clean_df['ingredient']]\n",
    "\n",
    "# Repeat word by normalized quantity\n",
    "clean_df2 = clean_df.copy()\n",
    "clean_df2['ingredient'] = clean_df2['ingredient'].astype(str) + ' '\n",
    "zipped = list(zip(clean_df2['ingredient'], clean_df2['norm_quant']))\n",
    "inglist = [t[0]*t[1] for t in zipped]\n",
    "final_df = pd.DataFrame(inglist, columns=['ingredient'])\n",
    "final_df[['recipe_key','totalCal','calPerServing','name','ingredient_key']] = clean_df[['recipe_key','totalCal','calPerServing','name','index']]\n",
    "\n",
    "# Create multiIndex / hierarchical Dataframe\n",
    "tuples = list(zip(*[final_df['recipe_key'],final_df['ingredient_key']]))\n",
    "index = pd.MultiIndex.from_tuples(tuples, names=['recipe_key', 'ingredient_key'])\n",
    "final_df.set_index(index,inplace=True)\n",
    "final_df.head()"
   ]
  },
  {
   "cell_type": "markdown",
   "metadata": {},
   "source": [
    "## Process input text for App"
   ]
  },
  {
   "cell_type": "code",
   "execution_count": null,
   "metadata": {
    "scrolled": true
   },
   "outputs": [],
   "source": [
    "test = '1 cup packed brown sugar; 2 eggs; 1 teaspoon baking soda; 1 teaspoon salt; 1 teaspoon vanilla extract; 2 1/2 cups sifted all-purpose flour; 1/2 cup chopped walnuts; 2 cups semisweet chocolate chips'\n",
    "servings = 24\n",
    "test = test + ';' # add semicolon to end of ingredient list for regex\n",
    "test = string_replace(test) # remove white space\n",
    "test_ing = get_ingredients(test) # separate ingredients into list of tuples\n",
    "testdf = get_quantity(test_ing) # separate quantity from words\n",
    "testdf['quantity'] = [convert_fractions(x) for x in testdf['quantity']]\n",
    "testdf['unit'] = np.where(testdf.ingredient.str.contains(\"dash\"), .3,\n",
    "            np.where(testdf.ingredient.str.contains(\"pinch\"), .6,\n",
    "            np.where(testdf.ingredient.str.contains(\"teaspoon\"), 5, \n",
    "            np.where(testdf.ingredient.str.contains(\"tablespoon\"), 3,\n",
    "            np.where(testdf.ingredient.str.contains(\"fluid\"), 30,\n",
    "            np.where(testdf.ingredient.str.contains(\"cup\"), 240, \n",
    "            np.where(testdf.ingredient.str.contains(\"pint\"), 473,\n",
    "            np.where(testdf.ingredient.str.contains(\"quart\"), 980,\n",
    "            np.where(testdf.ingredient.str.contains(\"ounce\"), 28,\n",
    "            np.where(testdf.ingredient.str.contains(\"oz\"), 28, \n",
    "            np.where(testdf.ingredient.str.contains(\"pound\"), 454,\n",
    "            np.where(testdf.ingredient.str.contains(\"rack\"), 908,\n",
    "            np.where(testdf.ingredient.str.contains(\"small\"), 50,\n",
    "            np.where(testdf.ingredient.str.contains(\"medium\"), 60,\n",
    "            np.where(testdf.ingredient.str.contains(\"large\"), 70,\n",
    "            1))))))))))))))) \n",
    "\n",
    "# Tokenization = convert text string into list of tokens, or words, we want (i.e., cleaned version of words).\n",
    "import string\n",
    "from nltk.corpus import stopwords\n",
    "testdf['ingredient']=[text_process(x) for x in testdf['ingredient']]\n",
    "\n",
    "# Total quantity of each ingredient needed for recipe (grams* quantity) and condense into a list.\n",
    "testdf['norm_quant'] = round(testdf['unit']*testdf['quantity'])\n",
    "testdf['norm_quant'] = testdf['norm_quant'].astype(int)\n",
    "\n",
    "# One word per ingredient - keep only nouns, join multiple words as one string\n",
    "testdf['ingredient'] = [test_noun(tokens) for tokens in testdf['ingredient']]\n",
    "testdf['ingredient'] = ['_'.join(tokens) for tokens in testdf['ingredient']]\n",
    "\n",
    "# Repeat word by normalized quantity\n",
    "testdf['ingredient'] = testdf['ingredient'].astype(str) + ' '\n",
    "zipped = list(zip(testdf['ingredient'], testdf['norm_quant']))\n",
    "inglist = [t[0]*t[1] for t in zipped]\n",
    "inglist = ''.join(inglist)"
   ]
  },
  {
   "cell_type": "code",
   "execution_count": null,
   "metadata": {},
   "outputs": [],
   "source": [
    "ingredient_bow_inglist = bow_transformer.transform(inglist) # Transform test dataset to Bag of Words\n",
    "ingredient_bow_inglist"
   ]
  },
  {
   "cell_type": "code",
   "execution_count": null,
   "metadata": {},
   "outputs": [],
   "source": [
    "from sklearn.linear_model import LinearRegression\n",
    "linreg = LinearRegression()\n",
    "linreg.fit(ingredient_bow_train,y_train['totalCal'])\n",
    "\n",
    "predictions = linreg.predict(ingredient_bow_inglist)\n",
    "predictions"
   ]
  },
  {
   "cell_type": "code",
   "execution_count": null,
   "metadata": {},
   "outputs": [],
   "source": [
    "ingredient_bow_train"
   ]
  },
  {
   "cell_type": "code",
   "execution_count": null,
   "metadata": {},
   "outputs": [],
   "source": []
  },
  {
   "cell_type": "markdown",
   "metadata": {},
   "source": [
    "# NLP\n",
    "1) Bag of words\n",
    "\n",
    "2) TF-IDF (term frequency-inverse document frequency)\n",
    "\n",
    "3) Combine word weights (from TF-IDF) with quantitative metrics (quantity, serving size), then model based on that\n",
    "\n",
    "4) Train test split\n",
    "\n",
    "5) Machine learning model\n"
   ]
  },
  {
   "cell_type": "code",
   "execution_count": 166,
   "metadata": {
    "scrolled": false
   },
   "outputs": [
    {
     "name": "stdout",
     "output_type": "stream",
     "text": [
      "Training set contains 1836 recipes in total\n",
      "Test set contains 460 recipes in total\n"
     ]
    }
   ],
   "source": [
    "df.rename(columns = {'recipe_key':'key'}, inplace = True) \n",
    "final_df.rename(columns = {'recipe_key':'key'}, inplace = True) \n",
    "X_ing = final_df.groupby('recipe_key')['ingredient'].apply(' '.join) # join list of strings into one string per recipe\n",
    "X_ing = pd.DataFrame(X_ing)\n",
    "X_ing[['orig_ing','name','servings']] = df.set_index('key')[['recipeIngredient','name','servings']]\n",
    "\n",
    "y_cal = df.set_index('key')[['totalCal','calPerServing','name']].sort_index().copy()\n",
    "\n",
    "y_label = df.set_index('key')['totalCal']\n",
    "X_keys = df.reset_index(drop=True)['key']\n",
    "\n",
    "from sklearn.model_selection import train_test_split # Train Test Split\n",
    "key_train, key_test, y_train_label, y_test_label = train_test_split(X_keys, y_label, test_size=0.2, random_state=101) # won't work with multilevel index\n",
    "\n",
    "X_train = X_ing.loc[key_train]\n",
    "X_test = X_ing.loc[key_test]\n",
    "y_train = y_cal.loc[key_train]\n",
    "y_test = y_cal.loc[key_test]\n",
    "\n",
    "X_train.sort_index(inplace=True)\n",
    "X_test.sort_index(inplace=True)\n",
    "y_train.sort_index(inplace=True)\n",
    "y_test.sort_index(inplace=True)\n",
    "\n",
    "X_test.drop([10392, 16571,17337],inplace=True)\n",
    "y_test.drop([10392, 16571,17337],inplace=True)\n",
    "\n",
    "print(\"Training set contains {} recipes in total\".format(len(key_train)))\n",
    "print(\"Test set contains {} recipes in total\".format(len(key_test)))"
   ]
  },
  {
   "cell_type": "code",
   "execution_count": null,
   "metadata": {},
   "outputs": [],
   "source": [
    "# Save data as csv\n",
    "X_train.to_csv('X_train.csv')\n",
    "X_test.to_csv('X_test.csv')\n",
    "y_train.to_csv('y_train.csv')\n",
    "y_test.reset_index().to_csv('y_test.csv')"
   ]
  },
  {
   "cell_type": "markdown",
   "metadata": {},
   "source": [
    "# NLP - separate steps\n",
    "#### Bag of words vectorization"
   ]
  },
  {
   "cell_type": "code",
   "execution_count": 162,
   "metadata": {
    "scrolled": true
   },
   "outputs": [
    {
     "name": "stdout",
     "output_type": "stream",
     "text": [
      "372\n",
      "['allspice', 'almond', 'almondbark', 'almondbrickle', 'almondbutter', 'almondflour', 'almondmeal', 'almondmilk', 'almondpaste', 'anise', 'aniseaniseoil', 'aniseoil', 'aniseseed', 'apple', 'applebutter', 'applecinnamongranola', 'applejuice', 'applepeel', 'applepie', 'applesauce', 'apricot', 'apricotfruit', 'apricotjam', 'apricotpreserve', 'avocado', 'bacon', 'bacondice', 'banana', 'bananapudding', 'barley', 'bean', 'berry', 'berrycranberrysauce', 'biscuit', 'biscuitdough', 'blackberry', 'blockchocolate', 'blueberry', 'bourbon', 'bourbonwhiskey', 'bran', 'brandy', 'bread', 'breakfast', 'brownie', 'brownienut', 'butter', 'buttermargarine', 'buttermilk', 'butterscotch', 'butterscotchpudding', 'butterycracker', 'caloriechocolate', 'canolaoil', 'caramel', 'caramelicecreamtopping', 'carawayseed', 'cardamom', 'carob', 'carrot', 'cashew', 'cashewbutter', 'castorsugarsuperfinesugar', 'chaitea', 'cheddarcheese', 'cherry', 'cherrypie', 'cherrypreserve', 'chestnutflour', 'chickpea', 'chocolate', 'chocolatealmond', 'chocolatealmondbark', 'chocolatebutter', 'chocolatebuttereighth', 'chocolatecaramel', 'chocolatechocolate', 'chocolatecoating', 'chocolatecookie', 'chocolatedrink', 'chocolatefrosting', 'chocolatefudgefrosting', 'chocolatefudgepudding', 'chocolatemilkball', 'chocolatepeanutbutter', 'chocolatepudding', 'chocolatesandwich', 'chocolatesandwichcookie', 'chocolatesandwichcreme', 'chocolatesprinkle', 'chocolatestripe', 'chocolatesyrup', 'chocolatetoffee', 'chocolatewafer', 'chowmeinnoodle', 'chunkypeanutbutter', 'cidervinegar', 'cinnamon', 'cinnamongrahamcracker', 'cinnamonsugar', 'cinnamonswirlcoffee', 'citron', 'clove', 'cocoa', 'coconut', 'coconutflour', 'coconutfrosting', 'coconutmilk', 'coconutoil', 'coconutpalmsugar', 'coconutsugar', 'coffee', 'coffeeliqueur', 'coffeewater', 'coloring', 'cookbutterscotchpudding', 'cookie', 'cornflake', 'cornflour', 'cornmeal', 'cornoil', 'cornstarch', 'cornsyrup', 'cranberry', 'cranberryfruit', 'cranberrysauce', 'cream', 'creambutter', 'creamcheese', 'creamcheesefrosting', 'creamliqueur', 'creamtartar', 'creme', 'cremeflavoring', 'cremeliqueur', 'crescentroll', 'crescentrolldough', 'currant', 'custard', 'date', 'datepaste', 'decoratorsugar', 'demerarasugar', 'dough', 'drink', 'dulceleche', 'dutchprocesscocoa', 'earlgreycoffeegrinder', 'egg', 'eggbeaten', 'eggnog', 'envelope', 'espresso', 'eyeball', 'fatmargarine', 'fig', 'figpreserve', 'flake', 'flavorberryjam', 'flavorfruitjam', 'flour', 'frosting', 'fruit', 'fruitcocktail', 'fruitpeel', 'fruitpreserveflavor', 'fudgebrownie', 'fudgestripe', 'germ', 'ginger', 'gingerroot', 'glitter', 'grahamcracker', 'gramacesulfamepotassiumsweetener', 'granola', 'grapefruit', 'grapefruitjuice', 'gteablendlemongrass', 'gumdrop', 'habaneropepper', 'hazelnut', 'hazelnutalmond', 'hazelnutliqueur', 'hersheycinnamon', 'himalayansalt', 'honey', 'honeygraham', 'icecream', 'icewater', 'infant', 'juice', 'juicepineapple', 'kale', 'lard', 'lavender', 'lavenderbud', 'lavenderflower', 'leaf', 'lemon', 'lemonade', 'lemonjuice', 'lemonpeel', 'lemonpudding', 'lime', 'limejuice', 'limepeel', 'liqueur', 'lollipop', 'macadamianut', 'mace', 'mahlab', 'mango', 'maple', 'maplesyrup', 'maraschinocherry', 'maraschinocherryjuice', 'margarine', 'margarinebutter', 'marshmallow', 'marshmallowfluff', 'matzomeal', 'mayonnaise', 'mcintoshapple', 'meal', 'milk', 'milkchocolate', 'mincemeatpie', 'nectar', 'nougat', 'nut', 'nutella', 'nutmeg', 'oat', 'oatbran', 'oatflour', 'oatmeal', 'oil', 'orange', 'orangeblossomwater', 'orangedecoratorsugar', 'orangeflavoring', 'orangejuice', 'orangeliqueur', 'orangemarmalade', 'pancake', 'pastryflour', 'peach', 'peanut', 'peanutbutter', 'peanutbuttersandwich', 'pear', 'pearlsugar', 'pecan', 'pepper', 'pepperamount', 'peppermint', 'peppermintpatty', 'pequinchilepepper', 'persimmon', 'persimmonpulp', 'piecrust', 'pineapple', 'pineapplejuice', 'pinenut', 'pistachio', 'pistachionut', 'pistachiopudding', 'pkgchocolatepudding', 'poppyseed', 'potato', 'potatoflour', 'potatostarch', 'pretzel', 'prune', 'puffed', 'puffedrice', 'puffpastry', 'pumpkin', 'pumpkinpie', 'quinoa', 'raisin', 'raisinpaste', 'rapberryjam', 'raspberry', 'raspberryjam', 'raspberrypreserve', 'rhubarb', 'rice', 'riceflour', 'ricottacheese', 'rollcaramel', 'rootbeer', 'rosemary', 'rum', 'salt', 'saltinecracker', 'seed', 'seedmeal', 'sesameoil', 'sesameseed', 'shade', 'sheetpuffpastry', 'shoestringlicorice', 'shortbreadcookie', 'shortening', 'silverdragee', 'skimmilk', 'soda', 'sodacracker', 'sorghumflour', 'sourball', 'sourcream', 'soymilk', 'sprinkle', 'squash', 'stevia', 'steviasugar', 'stoneflour', 'stoutbeerfoam', 'strawberry', 'strawberryjam', 'strawberrypreserve', 'sucrolosesweetener', 'sugar', 'sugarchocolatefudgepudding', 'sugarcookie', 'sugarcornflake', 'sugarcrystal', 'sugarsprinkle', 'sugarsprinkling', 'superfinesugar', 'sweetener', 'sweetpotato', 'syrup', 'tahini', 'tapiocaflour', 'tea', 'teapooncocoa', 'teapooncream', 'teapoonlemonjuice', 'tequila', 'thawed', 'toffee', 'tofu', 'tubedecoratinggel', 'tubegel', 'twist', 'vanilla', 'vanillabean', 'vanillacoating', 'vanillacustard', 'vanillafrosting', 'vanillapudding', 'vanillarum', 'vanillasugar', 'vanillawafer', 'vegetable', 'velvet', 'vinegar', 'vinelicorice', 'vodka', 'walnut', 'water', 'whippingcream', 'whiskey', 'wine', 'xanthangum', 'yam', 'yeast', 'yellow', 'yogurt', 'zucchini']\n"
     ]
    }
   ],
   "source": [
    "from sklearn.feature_extraction.text import CountVectorizer \n",
    "bow_transformer = CountVectorizer(analyzer=text_process).fit(X_train['ingredient']) # Bag of Words\n",
    "print(len(bow_transformer.vocabulary_)) # Print total number of vocab words\n",
    "print(bow_transformer.get_feature_names()) # Print all words"
   ]
  },
  {
   "cell_type": "code",
   "execution_count": null,
   "metadata": {
    "scrolled": true
   },
   "outputs": [],
   "source": [
    "# Transform data to bag of words\n",
    "ingredient_bow_train = bow_transformer.transform(X_train['ingredient']) # Transform train dataset to Bag of Words\n",
    "ingredient_bow_test = bow_transformer.transform(X_test['ingredient']) # Transform test dataset to Bag of Words\n",
    "\n",
    "# Bag of word counts are saved in a sparse matrix which compresses the information to save computer memory\n",
    "print('Shape of Sparse Matrix: ', ingredient_bow_train.shape) # matrix size (number of recipes, total number of words)\n",
    "print('Amount of Non-Zero occurences: ', ingredient_bow_train.nnz) \n",
    "sparsity = (100.0 * ingredient_bow_train.nnz / (ingredient_bow_train.shape[0] * ingredient_bow_train.shape[1]))\n",
    "print('sparsity: {}'.format(sparsity)) # total number of words / (number of recipes * total number of words)*100% compares non-zero words versus total number of words"
   ]
  },
  {
   "cell_type": "code",
   "execution_count": null,
   "metadata": {},
   "outputs": [],
   "source": [
    "# Sparse matrix[ingredient_name,recipe]\n",
    "print(ingredient_bow_train[:,1])"
   ]
  },
  {
   "cell_type": "code",
   "execution_count": null,
   "metadata": {
    "scrolled": false
   },
   "outputs": [],
   "source": [
    "# Example bag of words on one recipe\n",
    "from sklearn.feature_extraction.text import CountVectorizer # Bag of Words\n",
    "bow0 = bow_transformer.transform([X_train['ingredient'].loc[9611]])\n",
    "print(bow0) # tells us what words appear and the frequency\n",
    "print('\\n')\n",
    "print(bow_transformer.get_feature_names()[145]) # This tells us what the word is for a given index"
   ]
  },
  {
   "cell_type": "code",
   "execution_count": null,
   "metadata": {},
   "outputs": [],
   "source": [
    "# Sparse matrix[ingredient_name,recipe]\n",
    "print(bow_transformer.get_feature_names()[145]) # This tells us what the word is for a given index"
   ]
  },
  {
   "cell_type": "markdown",
   "metadata": {},
   "source": [
    "#### TF-IDF (term frequency-inverse document frequency)"
   ]
  },
  {
   "cell_type": "code",
   "execution_count": null,
   "metadata": {},
   "outputs": [],
   "source": [
    "from sklearn.feature_extraction.text import TfidfTransformer\n",
    "tfidf_transformer = TfidfTransformer().fit(ingredient_bow_train) # weight of words over whole document\n",
    "\n",
    "# Example TF-IDF on one recipe\n",
    "# tfidf0 = tfidf_transformer.transform(bow0)\n",
    "# print(tfidf0)\n",
    "\n",
    "# Transform the entire bag-of-words corpus into TF-IDF corpus at once:\n",
    "ingredient_tfidf_train = tfidf_transformer.transform(ingredient_bow_train)\n",
    "ingredient_tfidf_test = tfidf_transformer.transform(ingredient_bow_test)\n",
    "print(ingredient_tfidf_train.shape)\n",
    "print('\\n')\n",
    "print(ingredient_tfidf_test.shape)"
   ]
  },
  {
   "cell_type": "code",
   "execution_count": null,
   "metadata": {},
   "outputs": [],
   "source": [
    "# To see document frequency of a specific word\n",
    "print(tfidf_transformer.idf_[bow_transformer.vocabulary_['almond']])"
   ]
  },
  {
   "cell_type": "markdown",
   "metadata": {},
   "source": [
    "### Save ML model using pickle"
   ]
  },
  {
   "cell_type": "code",
   "execution_count": null,
   "metadata": {},
   "outputs": [],
   "source": [
    "# Save pickle files\n",
    "import pickle\n",
    "pickle.dump(bow_transformer,open('bow_transformer.sav','wb'))\n",
    "pickle.dump(ingredient_bow_train,open('ingredient_bow_train.sav','wb'))\n",
    "pickle.dump(ingredient_bow_test,open('ingredient_bow_test.sav','wb'))\n",
    "pickle.dump(ingredient_tfidf_train,open('ingredient_tfidf_train.sav','wb'))\n",
    "pickle.dump(ingredient_tfidf_test,open('ingredient_tfidf_test.sav','wb'))"
   ]
  },
  {
   "cell_type": "code",
   "execution_count": 167,
   "metadata": {
    "scrolled": false
   },
   "outputs": [],
   "source": [
    "# Load pickle files\n",
    "import pickle\n",
    "bow_transformer = pickle.load(open('bow_transformer.sav','rb'))\n",
    "ingredient_bow_train = pickle.load(open('ingredient_bow_train.sav','rb'))\n",
    "ingredient_bow_test = pickle.load(open('ingredient_bow_test.sav','rb'))"
   ]
  },
  {
   "cell_type": "markdown",
   "metadata": {},
   "source": [
    "## Remove low variance features\n",
    "Doesn't remove anything from the sparse matrix (because there are no features that have the same value for all recipes). Need to increase the threshold"
   ]
  },
  {
   "cell_type": "code",
   "execution_count": 169,
   "metadata": {},
   "outputs": [
    {
     "data": {
      "text/plain": [
       "<1836x372 sparse matrix of type '<class 'numpy.int64'>'\n",
       "\twith 13928 stored elements in Compressed Sparse Row format>"
      ]
     },
     "execution_count": 169,
     "metadata": {},
     "output_type": "execute_result"
    }
   ],
   "source": [
    "ingredient_bow_train"
   ]
  },
  {
   "cell_type": "code",
   "execution_count": 168,
   "metadata": {
    "scrolled": true
   },
   "outputs": [
    {
     "data": {
      "text/plain": [
       "<1836x317 sparse matrix of type '<class 'numpy.int64'>'\n",
       "\twith 13837 stored elements in Compressed Sparse Row format>"
      ]
     },
     "execution_count": 168,
     "metadata": {},
     "output_type": "execute_result"
    }
   ],
   "source": [
    "# This removes recipes that have little variance, instead of removing features with little variance.\n",
    "\n",
    "from sklearn.feature_selection import VarianceThreshold\n",
    "thresh = .8*(1-.8)\n",
    "selector = VarianceThreshold(thresh) # remove values that are in more than p% of samples. VarianceThreshold(p*(1-p))\n",
    "selector.fit_transform(ingredient_bow_train)"
   ]
  },
  {
   "cell_type": "markdown",
   "metadata": {},
   "source": [
    "#  Hyperparameter tuning - XGBoost"
   ]
  },
  {
   "cell_type": "code",
   "execution_count": null,
   "metadata": {},
   "outputs": [],
   "source": [
    "def modelfit(alg, dtrain, predictors,useTrainCV=True, cv_folds=5, early_stopping_rounds=50):\n",
    "    \n",
    "    if useTrainCV:\n",
    "        xgb_param = alg.get_xgb_params()\n",
    "        xgtrain = xgb.DMatrix(dtrain[predictors].values, label=dtrain[target].values)\n",
    "        cvresult = xgb.cv(xgb_param, xgtrain, num_boost_round=alg.get_params()['n_estimators'], nfold=cv_folds,\n",
    "            metrics='auc', early_stopping_rounds=early_stopping_rounds, show_progress=False)\n",
    "        alg.set_params(n_estimators=cvresult.shape[0])\n",
    "    \n",
    "    #Fit the algorithm on the data\n",
    "    alg.fit(dtrain[predictors], dtrain['Disbursed'],eval_metric='auc')\n",
    "        \n",
    "    #Predict training set:\n",
    "    dtrain_predictions = alg.predict(dtrain[predictors])\n",
    "    dtrain_predprob = alg.predict_proba(dtrain[predictors])[:,1]\n",
    "        \n",
    "    #Print model report:\n",
    "    print \"\\nModel Report\"\n",
    "    print \"Accuracy : %.4g\" % metrics.accuracy_score(dtrain['Disbursed'].values, dtrain_predictions)\n",
    "    print \"AUC Score (Train): %f\" % metrics.roc_auc_score(dtrain['Disbursed'], dtrain_predprob)\n",
    "                    \n",
    "    feat_imp = pd.Series(alg.booster().get_fscore()).sort_values(ascending=False)\n",
    "    feat_imp.plot(kind='bar', title='Feature Importances')\n",
    "    plt.ylabel('Feature Importance Score')"
   ]
  },
  {
   "cell_type": "code",
   "execution_count": null,
   "metadata": {},
   "outputs": [],
   "source": []
  },
  {
   "cell_type": "markdown",
   "metadata": {},
   "source": [
    "#  Gradient Boosting Regressor\n",
    "### GBR baseline model  using training dataset"
   ]
  },
  {
   "cell_type": "code",
   "execution_count": 281,
   "metadata": {},
   "outputs": [],
   "source": [
    "def modelfit(alg, dtrain, predictors, bow_transformer, performCV=True, printFeatureImportance=True, cv_folds=5):\n",
    "    from sklearn.ensemble import GradientBoostingRegressor\n",
    "\n",
    "    #Fit the algorithm on the data\n",
    "    alg.fit(dtrain, predictors)\n",
    "        \n",
    "    #Predict training set:\n",
    "    dtrain_predictions = alg.predict(dtrain)\n",
    "    \n",
    "    #Perform cross-validation:\n",
    "    if performCV:\n",
    "        from sklearn.model_selection import cross_val_score\n",
    "        cv_score = cross_val_score(alg, dtrain, predictors, cv=cv_folds, scoring='neg_root_mean_squared_error')\n",
    "\n",
    "    #Print model report:\n",
    "    print (\"\\nModel Report\")\n",
    "    from scipy import stats\n",
    "    slope, intercept, r_value, p_value, std_err = stats.linregress(dtrain_predictions,predictors)\n",
    "\n",
    "    print('Slope: ', round(slope,2))\n",
    "    print('Intercept: ', round(intercept))\n",
    "    print('Coefficient of Determinant: ', round(r_value**2,2))\n",
    "    print('p-value: ', p_value)\n",
    "    print('Standard Error: ', round(std_err,2)) # standard error of the slope\n",
    "\n",
    "    from sklearn import metrics\n",
    "    print('RMSE:', round(np.sqrt(metrics.mean_squared_error(dtrain_predictions, predictors)),2))\n",
    "\n",
    "    if performCV:\n",
    "        print (\"CV Score : Mean - %.7g | Std - %.7g | Min - %.7g | Max - %.7g\" % (np.mean(cv_score),np.std(cv_score),np.min(cv_score),np.max(cv_score)))\n",
    "        \n",
    "    #Print Feature Importance:\n",
    "    if printFeatureImportance:\n",
    "        from sklearn.feature_extraction.text import CountVectorizer\n",
    "#         feat_imp = pd.Series(alg.feature_importances_, predictors).sort_values(ascending=False)\n",
    "        feat_imp = pd.DataFrame(alg.feature_importances_,bow_transformer.get_feature_names(), columns=['coeff'])\n",
    "        print(feat_imp.sort_values(by='coeff', ascending=False).head())\n",
    "        import matplotlib.pyplot as plt\n",
    "        feat_imp['coeff'].sort_values(ascending=False)[:5].plot(kind='bar', title='Feature Importances')\n",
    "#         feat_imp['coeff'].sort_values(ascending=True)[:5].plot(kind='bar', title='Feature Importances')\n",
    "        plt.ylabel('Feature Importance Score')"
   ]
  },
  {
   "cell_type": "code",
   "execution_count": 282,
   "metadata": {},
   "outputs": [
    {
     "name": "stdout",
     "output_type": "stream",
     "text": [
      "\n",
      "Model Report\n",
      "Slope:  1.16\n",
      "Intercept:  -739.0\n",
      "Coefficient of Determinant:  0.81\n",
      "p-value:  0.0\n",
      "Standard Error:  0.01\n",
      "RMSE: 798.25\n",
      "CV Score : Mean - -982.5901 | Std - 68.4145 | Min - -1110.688 | Max - -924.1959\n",
      "                 coeff\n",
      "sugar         0.294375\n",
      "chocolate     0.142809\n",
      "butter        0.125490\n",
      "peanutbutter  0.079153\n",
      "flour         0.067380\n"
     ]
    },
    {
     "data": {
      "image/png": "[encoded data removed]",
      "text/plain": [
       "<Figure size 432x288 with 1 Axes>"
      ]
     },
     "metadata": {
      "needs_background": "light"
     },
     "output_type": "display_data"
    }
   ],
   "source": [
    "from sklearn.ensemble import GradientBoostingRegressor\n",
    "mid_model = GradientBoostingRegressor(loss=\"ls\")\n",
    "modelfit(mid_model, ingredient_bow_train, y_train['totalCal'],bow_transformer)"
   ]
  },
  {
   "cell_type": "markdown",
   "metadata": {},
   "source": [
    "### Hyperparameter tuning\n",
    "#### Fix learning rate & Number of estimators for tuning tree-based parameters\n",
    "`min_samples_split` should be 0.5-1% of the total dataset\n",
    "`min_samples_leaf`should be ~1/10th of `min_samples_split`\n",
    "`learning rate` standard is 0.1. Can go up to 0.3.\n",
    "`n_estimators` should be < 100.\n",
    "\n",
    "If optimal estimators is around 20, lower learning rate to 0.05 and rerun grid search.\n",
    "If optimal estimators is too high (~100), increase learning rate. This will cause tuning of other parameters to take a long time."
   ]
  },
  {
   "cell_type": "code",
   "execution_count": 289,
   "metadata": {
    "scrolled": true
   },
   "outputs": [
    {
     "data": {
      "text/plain": [
       "GridSearchCV(cv=5, error_score=nan,\n",
       "             estimator=GradientBoostingRegressor(alpha=0.9, ccp_alpha=0.0,\n",
       "                                                 criterion='friedman_mse',\n",
       "                                                 init=None, learning_rate=0.4,\n",
       "                                                 loss='ls', max_depth=8,\n",
       "                                                 max_features='sqrt',\n",
       "                                                 max_leaf_nodes=None,\n",
       "                                                 min_impurity_decrease=0.0,\n",
       "                                                 min_impurity_split=None,\n",
       "                                                 min_samples_leaf=2,\n",
       "                                                 min_samples_split=20,\n",
       "                                                 min_weight_fraction_leaf=0.0,\n",
       "                                                 n_estimators=100,\n",
       "                                                 n_iter_no_change=None,\n",
       "                                                 presort='deprecated',\n",
       "                                                 random_state=10, subsample=0.8,\n",
       "                                                 tol=0.0001,\n",
       "                                                 validation_fraction=0.1,\n",
       "                                                 verbose=0, warm_start=False),\n",
       "             iid='deprecated', n_jobs=4,\n",
       "             param_grid={'n_estimators': range(20, 241, 10)},\n",
       "             pre_dispatch='2*n_jobs', refit=True, return_train_score=False,\n",
       "             scoring='neg_root_mean_squared_error', verbose=0)"
      ]
     },
     "execution_count": 289,
     "metadata": {},
     "output_type": "execute_result"
    }
   ],
   "source": [
    "from sklearn.model_selection import GridSearchCV\n",
    "param_test1 = {'n_estimators':range(20,241,10)}\n",
    "gsearch1 = GridSearchCV(estimator = GradientBoostingRegressor(learning_rate=0.4, min_samples_split=20, min_samples_leaf=2, max_depth=8, max_features='sqrt', subsample=0.8, random_state=10), \n",
    "param_grid = param_test1, scoring='neg_root_mean_squared_error', n_jobs=4,cv=5)\n",
    "gsearch1.fit(ingredient_bow_train, y_train['totalCal'])"
   ]
  },
  {
   "cell_type": "code",
   "execution_count": 290,
   "metadata": {},
   "outputs": [
    {
     "data": {
      "text/plain": [
       "({'n_estimators': 100}, -967.5209634198148)"
      ]
     },
     "execution_count": 290,
     "metadata": {},
     "output_type": "execute_result"
    }
   ],
   "source": [
    "# gsearch1.cv_results_, \n",
    "gsearch1.best_params_, gsearch1.best_score_ # Output"
   ]
  },
  {
   "cell_type": "markdown",
   "metadata": {},
   "source": [
    "#### Tune tree parameters"
   ]
  },
  {
   "cell_type": "code",
   "execution_count": 294,
   "metadata": {},
   "outputs": [
    {
     "name": "stderr",
     "output_type": "stream",
     "text": [
      "/Users/jinnysun/anaconda3/lib/python3.7/site-packages/sklearn/model_selection/_search.py:823: FutureWarning: The parameter 'iid' is deprecated in 0.22 and will be removed in 0.24.\n",
      "  \"removed in 0.24.\", FutureWarning\n"
     ]
    },
    {
     "data": {
      "text/plain": [
       "({'max_depth': 15, 'min_samples_split': 1020}, -916.7802799284967)"
      ]
     },
     "execution_count": 294,
     "metadata": {},
     "output_type": "execute_result"
    }
   ],
   "source": [
    "param_test2 = {'max_depth':range(5,16,2), 'min_samples_split':range(2000,2001,200)}\n",
    "gsearch2 = GridSearchCV(estimator = GradientBoostingRegressor(learning_rate=0.4, n_estimators=100, max_features='sqrt', subsample=0.8, random_state=10), \n",
    "param_grid = param_test2, scoring='neg_root_mean_squared_error', n_jobs=4, cv=5)\n",
    "gsearch2.fit(ingredient_bow_train, y_train['totalCal'])\n",
    "gsearch2.best_params_, gsearch2.best_score_"
   ]
  },
  {
   "cell_type": "code",
   "execution_count": 297,
   "metadata": {},
   "outputs": [
    {
     "data": {
      "text/plain": [
       "({'min_samples_leaf': 6, 'min_samples_split': 950}, -915.9444738772884)"
      ]
     },
     "execution_count": 297,
     "metadata": {},
     "output_type": "execute_result"
    }
   ],
   "source": [
    "param_test3 = {'min_samples_split':range(900,1200,10), 'min_samples_leaf':range(2,82,4)}\n",
    "gsearch3 = GridSearchCV(estimator = GradientBoostingRegressor(learning_rate=0.4, n_estimators=100, max_depth=7, max_features='sqrt', subsample=0.8, random_state=10), \n",
    "param_grid = param_test3, scoring='neg_root_mean_squared_error', n_jobs=4, cv=5)\n",
    "gsearch3.fit(ingredient_bow_train, y_train['totalCal'])\n",
    "gsearch3.best_params_, gsearch3.best_score_"
   ]
  },
  {
   "cell_type": "code",
   "execution_count": 301,
   "metadata": {},
   "outputs": [
    {
     "data": {
      "text/plain": [
       "({'max_features': 21}, -912.2919604912142)"
      ]
     },
     "execution_count": 301,
     "metadata": {},
     "output_type": "execute_result"
    }
   ],
   "source": [
    "param_test4 = {'max_features':range(7,30,2)}\n",
    "gsearch4 = GridSearchCV(estimator = GradientBoostingRegressor(learning_rate=0.4, n_estimators=100, max_depth=7, min_samples_split=950, min_samples_leaf=6, subsample=0.8, random_state=10),\n",
    "param_grid = param_test4, scoring='neg_root_mean_squared_error', n_jobs=4, cv=5)\n",
    "gsearch4.fit(ingredient_bow_train, y_train['totalCal'])\n",
    "gsearch4.best_params_, gsearch4.best_score_"
   ]
  },
  {
   "cell_type": "code",
   "execution_count": 302,
   "metadata": {},
   "outputs": [
    {
     "name": "stdout",
     "output_type": "stream",
     "text": [
      "\n",
      "Model Report\n",
      "Slope:  1.01\n",
      "Intercept:  -23.0\n",
      "Coefficient of Determinant:  0.83\n",
      "p-value:  0.0\n",
      "Standard Error:  0.01\n",
      "RMSE: 719.02\n",
      "CV Score : Mean - -912.292 | Std - 70.36446 | Min - -1031.953 | Max - -810.7183\n",
      "                 coeff\n",
      "chocolate     0.144125\n",
      "sugar         0.137306\n",
      "butter        0.089104\n",
      "flour         0.082896\n",
      "peanutbutter  0.068653\n"
     ]
    },
    {
     "data": {
      "image/png": "[encoded data removed]",
      "text/plain": [
       "<Figure size 432x288 with 1 Axes>"
      ]
     },
     "metadata": {
      "needs_background": "light"
     },
     "output_type": "display_data"
    }
   ],
   "source": [
    "modelfit(gsearch4.best_estimator_, ingredient_bow_train, y_train['totalCal'],bow_transformer)"
   ]
  },
  {
   "cell_type": "markdown",
   "metadata": {},
   "source": [
    "#### Tune subsample"
   ]
  },
  {
   "cell_type": "code",
   "execution_count": 305,
   "metadata": {},
   "outputs": [
    {
     "data": {
      "text/plain": [
       "({'subsample': 0.8}, -912.2919604912142)"
      ]
     },
     "execution_count": 305,
     "metadata": {},
     "output_type": "execute_result"
    }
   ],
   "source": [
    "param_test5 = {'subsample':[0.6,0.7,0.75,0.8,0.85,0.9]}\n",
    "gsearch5 = GridSearchCV(estimator = GradientBoostingRegressor(learning_rate=0.4, n_estimators=100, max_depth=7, min_samples_split=950, min_samples_leaf=6, subsample=0.8, max_features=21, random_state=10),\n",
    "param_grid = param_test5, scoring='neg_root_mean_squared_error', n_jobs=4, cv=5)\n",
    "gsearch5.fit(ingredient_bow_train, y_train['totalCal'])\n",
    "gsearch5.best_params_, gsearch5.best_score_"
   ]
  },
  {
   "cell_type": "markdown",
   "metadata": {},
   "source": [
    "#### Make models with lower learning rate"
   ]
  },
  {
   "cell_type": "code",
   "execution_count": 306,
   "metadata": {
    "scrolled": true
   },
   "outputs": [
    {
     "name": "stdout",
     "output_type": "stream",
     "text": [
      "\n",
      "Model Report\n",
      "Slope:  1.02\n",
      "Intercept:  -91.0\n",
      "Coefficient of Determinant:  0.85\n",
      "p-value:  0.0\n",
      "Standard Error:  0.01\n",
      "RMSE: 688.29\n",
      "CV Score : Mean - -900.8269 | Std - 61.87651 | Min - -1011.295 | Max - -819.4469\n",
      "                 coeff\n",
      "sugar         0.145868\n",
      "chocolate     0.134723\n",
      "butter        0.095861\n",
      "flour         0.079627\n",
      "peanutbutter  0.062760\n"
     ]
    },
    {
     "data": {
      "image/png": "[encoded data removed]",
      "text/plain": [
       "<Figure size 432x288 with 1 Axes>"
      ]
     },
     "metadata": {
      "needs_background": "light"
     },
     "output_type": "display_data"
    }
   ],
   "source": [
    "# 1/2 learning rate with 2X trees (n_estimators)\n",
    "gbm_tuned_1 = GradientBoostingRegressor(learning_rate=0.2, n_estimators=200, max_depth=7, min_samples_split=950, min_samples_leaf=6, subsample=0.8, max_features=21, random_state=10)\n",
    "modelfit(gbm_tuned_1, ingredient_bow_train, y_train['totalCal'],bow_transformer)"
   ]
  },
  {
   "cell_type": "code",
   "execution_count": 308,
   "metadata": {},
   "outputs": [
    {
     "name": "stdout",
     "output_type": "stream",
     "text": [
      "\n",
      "Model Report\n",
      "Slope:  1.03\n",
      "Intercept:  -151.0\n",
      "Coefficient of Determinant:  0.85\n",
      "p-value:  0.0\n",
      "Standard Error:  0.01\n",
      "RMSE: 680.43\n",
      "CV Score : Mean - -894.823 | Std - 62.09711 | Min - -1005.351 | Max - -813.1289\n",
      "                 coeff\n",
      "sugar         0.147271\n",
      "chocolate     0.118929\n",
      "butter        0.111587\n",
      "flour         0.077817\n",
      "peanutbutter  0.063836\n"
     ]
    },
    {
     "data": {
      "image/png": "[encoded data removed]",
      "text/plain": [
       "<Figure size 432x288 with 1 Axes>"
      ]
     },
     "metadata": {
      "needs_background": "light"
     },
     "output_type": "display_data"
    }
   ],
   "source": [
    "# 1/10 learning rate with 10X trees (n_estimators)\n",
    "gbm_tuned_2 = GradientBoostingRegressor(learning_rate=0.04, n_estimators=1000, max_depth=7, min_samples_split=950, min_samples_leaf=6, subsample=0.8, max_features=21, random_state=10)\n",
    "modelfit(gbm_tuned_2, ingredient_bow_train, y_train['totalCal'],bow_transformer)"
   ]
  },
  {
   "cell_type": "code",
   "execution_count": 310,
   "metadata": {
    "scrolled": true
   },
   "outputs": [
    {
     "name": "stdout",
     "output_type": "stream",
     "text": [
      "\n",
      "Model Report\n",
      "Slope:  1.03\n",
      "Intercept:  -151.0\n",
      "Coefficient of Determinant:  0.86\n",
      "p-value:  0.0\n",
      "Standard Error:  0.01\n",
      "RMSE: 671.32\n",
      "CV Score : Mean - -890.8552 | Std - 59.4808 | Min - -993.9217 | Max - -807.9812\n",
      "                 coeff\n",
      "sugar         0.146046\n",
      "chocolate     0.115842\n",
      "butter        0.112530\n",
      "flour         0.076339\n",
      "peanutbutter  0.064908\n"
     ]
    },
    {
     "data": {
      "image/png": "[encoded data removed]",
      "text/plain": [
       "<Figure size 432x288 with 1 Axes>"
      ]
     },
     "metadata": {
      "needs_background": "light"
     },
     "output_type": "display_data"
    }
   ],
   "source": [
    "# 1/15 learning rate with 15X trees (n_estimators)\n",
    "gbm_tuned_3 = GradientBoostingRegressor(learning_rate=0.03, n_estimators=1500, max_depth=7, min_samples_split=950, min_samples_leaf=6, subsample=0.8, max_features=21, random_state=10)\n",
    "modelfit(gbm_tuned_3, ingredient_bow_train, y_train['totalCal'],bow_transformer)"
   ]
  },
  {
   "cell_type": "markdown",
   "metadata": {},
   "source": [
    "#### Final model - predict using test data"
   ]
  },
  {
   "cell_type": "code",
   "execution_count": 311,
   "metadata": {},
   "outputs": [
    {
     "data": {
      "text/html": [
       "<div>\n",
       "<style scoped>\n",
       "    .dataframe tbody tr th:only-of-type {\n",
       "        vertical-align: middle;\n",
       "    }\n",
       "\n",
       "    .dataframe tbody tr th {\n",
       "        vertical-align: top;\n",
       "    }\n",
       "\n",
       "    .dataframe thead th {\n",
       "        text-align: right;\n",
       "    }\n",
       "</style>\n",
       "<table border=\"1\" class=\"dataframe\">\n",
       "  <thead>\n",
       "    <tr style=\"text-align: right;\">\n",
       "      <th></th>\n",
       "      <th>totalCal</th>\n",
       "      <th>mid</th>\n",
       "    </tr>\n",
       "    <tr>\n",
       "      <th>key</th>\n",
       "      <th></th>\n",
       "      <th></th>\n",
       "    </tr>\n",
       "  </thead>\n",
       "  <tbody>\n",
       "    <tr>\n",
       "      <th>9177</th>\n",
       "      <td>8400.0</td>\n",
       "      <td>6686.444941</td>\n",
       "    </tr>\n",
       "    <tr>\n",
       "      <th>9440</th>\n",
       "      <td>6720.0</td>\n",
       "      <td>5348.714797</td>\n",
       "    </tr>\n",
       "    <tr>\n",
       "      <th>9471</th>\n",
       "      <td>4880.0</td>\n",
       "      <td>3866.579887</td>\n",
       "    </tr>\n",
       "    <tr>\n",
       "      <th>9520</th>\n",
       "      <td>2232.0</td>\n",
       "      <td>2973.945128</td>\n",
       "    </tr>\n",
       "    <tr>\n",
       "      <th>9547</th>\n",
       "      <td>6456.0</td>\n",
       "      <td>4972.156115</td>\n",
       "    </tr>\n",
       "    <tr>\n",
       "      <th>...</th>\n",
       "      <td>...</td>\n",
       "      <td>...</td>\n",
       "    </tr>\n",
       "    <tr>\n",
       "      <th>261182</th>\n",
       "      <td>2352.0</td>\n",
       "      <td>1293.135310</td>\n",
       "    </tr>\n",
       "    <tr>\n",
       "      <th>266755</th>\n",
       "      <td>5544.0</td>\n",
       "      <td>5570.551359</td>\n",
       "    </tr>\n",
       "    <tr>\n",
       "      <th>267402</th>\n",
       "      <td>2080.0</td>\n",
       "      <td>3118.846382</td>\n",
       "    </tr>\n",
       "    <tr>\n",
       "      <th>268007</th>\n",
       "      <td>5652.0</td>\n",
       "      <td>6232.578195</td>\n",
       "    </tr>\n",
       "    <tr>\n",
       "      <th>273880</th>\n",
       "      <td>7608.0</td>\n",
       "      <td>6887.333957</td>\n",
       "    </tr>\n",
       "  </tbody>\n",
       "</table>\n",
       "<p>457 rows × 2 columns</p>\n",
       "</div>"
      ],
      "text/plain": [
       "        totalCal          mid\n",
       "key                          \n",
       "9177      8400.0  6686.444941\n",
       "9440      6720.0  5348.714797\n",
       "9471      4880.0  3866.579887\n",
       "9520      2232.0  2973.945128\n",
       "9547      6456.0  4972.156115\n",
       "...          ...          ...\n",
       "261182    2352.0  1293.135310\n",
       "266755    5544.0  5570.551359\n",
       "267402    2080.0  3118.846382\n",
       "268007    5652.0  6232.578195\n",
       "273880    7608.0  6887.333957\n",
       "\n",
       "[457 rows x 2 columns]"
      ]
     },
     "execution_count": 311,
     "metadata": {},
     "output_type": "execute_result"
    }
   ],
   "source": [
    "mid_model = GradientBoostingRegressor(loss=\"ls\", learning_rate=0.03, n_estimators=1500, max_depth=7, min_samples_split=950, min_samples_leaf=6, subsample=0.8, max_features=21, random_state=10)\n",
    "mid_model.fit(ingredient_bow_train, y_train['totalCal'])\n",
    "predictions = pd.DataFrame(y_test['totalCal'])\n",
    "predictions['mid'] = mid_model.predict(ingredient_bow_test)\n",
    "predictions"
   ]
  },
  {
   "cell_type": "code",
   "execution_count": 312,
   "metadata": {
    "scrolled": false
   },
   "outputs": [
    {
     "data": {
      "text/plain": [
       "Text(0, 0.5, 'Predictions')"
      ]
     },
     "execution_count": 312,
     "metadata": {},
     "output_type": "execute_result"
    },
    {
     "data": {
      "image/png": "[encoded data removed]",
      "text/plain": [
       "<Figure size 432x432 with 1 Axes>"
      ]
     },
     "metadata": {
      "needs_background": "light"
     },
     "output_type": "display_data"
    }
   ],
   "source": [
    "# correlation between true and predicted calories\n",
    "import matplotlib.pyplot as plt\n",
    "import seaborn as sns\n",
    "sns.set_context('poster', font_scale=1)\n",
    "\n",
    "fig = plt.figure(figsize=(6,6))\n",
    "ax = sns.regplot(y_test['totalCal'],predictions['mid'])\n",
    "ax.set_title('Gradient Boosting Regression')\n",
    "ax.set_xlabel('True Values')\n",
    "ax.set_ylabel('Predictions')"
   ]
  },
  {
   "cell_type": "code",
   "execution_count": 313,
   "metadata": {},
   "outputs": [
    {
     "name": "stdout",
     "output_type": "stream",
     "text": [
      "Slope:  0.99\n",
      "Intercept:  105.0\n",
      "Coefficient of Determinant:  0.72\n",
      "p-value:  8.564637292960531e-128\n",
      "Standard Error:  0.03\n"
     ]
    }
   ],
   "source": [
    "from scipy import stats\n",
    "slope, intercept, r_value, p_value, std_err = stats.linregress(predictions['mid'],y_test['totalCal'])\n",
    "\n",
    "print('Slope: ', round(slope,2))\n",
    "print('Intercept: ', round(intercept))\n",
    "print('Coefficient of Determinant: ', round(r_value**2,2))\n",
    "print('p-value: ', p_value)\n",
    "print('Standard Error: ', round(std_err,2)) # standard error of the slope"
   ]
  },
  {
   "cell_type": "code",
   "execution_count": 326,
   "metadata": {},
   "outputs": [
    {
     "name": "stdout",
     "output_type": "stream",
     "text": [
      "MAE: 646.19\n",
      "MSE: 873767.77\n",
      "RMSE: 934.76\n"
     ]
    },
    {
     "data": {
      "text/plain": [
       "0.7192316309847884"
      ]
     },
     "execution_count": 326,
     "metadata": {},
     "output_type": "execute_result"
    }
   ],
   "source": [
    "from sklearn import metrics\n",
    "print('MAE:', round(metrics.mean_absolute_error(y_test['totalCal'], predictions['mid']),2))\n",
    "print('MSE:', round(metrics.mean_squared_error(y_test['totalCal'], predictions['mid']),2))\n",
    "print('RMSE:', round(np.sqrt(metrics.mean_squared_error(y_test['totalCal'], predictions['mid'])),2))\n",
    "metrics.r2_score(y_test['totalCal'],predictions['mid']) # this r2 is not representative of a normal r2 since it can be negative"
   ]
  },
  {
   "cell_type": "code",
   "execution_count": 314,
   "metadata": {},
   "outputs": [
    {
     "data": {
      "text/plain": [
       "<matplotlib.axes._subplots.AxesSubplot at 0x1a3cf336d0>"
      ]
     },
     "execution_count": 314,
     "metadata": {},
     "output_type": "execute_result"
    },
    {
     "data": {
      "image/png": "[encoded data removed]",
      "text/plain": [
       "<Figure size 432x288 with 1 Axes>"
      ]
     },
     "metadata": {
      "needs_background": "light"
     },
     "output_type": "display_data"
    }
   ],
   "source": [
    "# residual plot - if normally distributed, then this model is good. otherwise, should not use linear prediction model\n",
    "sns.set_context('notebook', font_scale=1)\n",
    "\n",
    "sns.distplot(y_test['totalCal']-predictions['mid'])"
   ]
  },
  {
   "cell_type": "code",
   "execution_count": 315,
   "metadata": {},
   "outputs": [
    {
     "data": {
      "image/png": "[encoded data removed]",
      "text/plain": [
       "<Figure size 432x288 with 1 Axes>"
      ]
     },
     "execution_count": 315,
     "metadata": {},
     "output_type": "execute_result"
    },
    {
     "data": {
      "image/png": "[encoded data removed]",
      "text/plain": [
       "<Figure size 432x288 with 1 Axes>"
      ]
     },
     "metadata": {
      "needs_background": "light"
     },
     "output_type": "display_data"
    }
   ],
   "source": [
    "# Using statsmodels\n",
    "import statsmodels.api as sm\n",
    "sm.qqplot(predictions['mid'], line='s')"
   ]
  },
  {
   "cell_type": "code",
   "execution_count": null,
   "metadata": {},
   "outputs": [],
   "source": []
  },
  {
   "cell_type": "markdown",
   "metadata": {},
   "source": [
    "### Gradient Boosting Regressor - orig code"
   ]
  },
  {
   "cell_type": "code",
   "execution_count": 316,
   "metadata": {},
   "outputs": [
    {
     "name": "stdout",
     "output_type": "stream",
     "text": [
      "0.41\n"
     ]
    },
    {
     "data": {
      "text/html": [
       "<div>\n",
       "<style scoped>\n",
       "    .dataframe tbody tr th:only-of-type {\n",
       "        vertical-align: middle;\n",
       "    }\n",
       "\n",
       "    .dataframe tbody tr th {\n",
       "        vertical-align: top;\n",
       "    }\n",
       "\n",
       "    .dataframe thead th {\n",
       "        text-align: right;\n",
       "    }\n",
       "</style>\n",
       "<table border=\"1\" class=\"dataframe\">\n",
       "  <thead>\n",
       "    <tr style=\"text-align: right;\">\n",
       "      <th></th>\n",
       "      <th>totalCal</th>\n",
       "      <th>lower</th>\n",
       "      <th>mid</th>\n",
       "      <th>upper</th>\n",
       "      <th>accuracy</th>\n",
       "    </tr>\n",
       "    <tr>\n",
       "      <th>key</th>\n",
       "      <th></th>\n",
       "      <th></th>\n",
       "      <th></th>\n",
       "      <th></th>\n",
       "      <th></th>\n",
       "    </tr>\n",
       "  </thead>\n",
       "  <tbody>\n",
       "    <tr>\n",
       "      <th>9177</th>\n",
       "      <td>8400.0</td>\n",
       "      <td>6205.517953</td>\n",
       "      <td>6686.444941</td>\n",
       "      <td>6984.681007</td>\n",
       "      <td>0</td>\n",
       "    </tr>\n",
       "    <tr>\n",
       "      <th>9440</th>\n",
       "      <td>6720.0</td>\n",
       "      <td>5182.286142</td>\n",
       "      <td>5348.714797</td>\n",
       "      <td>5790.595014</td>\n",
       "      <td>0</td>\n",
       "    </tr>\n",
       "    <tr>\n",
       "      <th>9471</th>\n",
       "      <td>4880.0</td>\n",
       "      <td>3435.495210</td>\n",
       "      <td>3866.579887</td>\n",
       "      <td>3921.380532</td>\n",
       "      <td>0</td>\n",
       "    </tr>\n",
       "    <tr>\n",
       "      <th>9520</th>\n",
       "      <td>2232.0</td>\n",
       "      <td>2674.827371</td>\n",
       "      <td>2973.945128</td>\n",
       "      <td>3679.960304</td>\n",
       "      <td>0</td>\n",
       "    </tr>\n",
       "    <tr>\n",
       "      <th>9547</th>\n",
       "      <td>6456.0</td>\n",
       "      <td>4913.424548</td>\n",
       "      <td>4972.156115</td>\n",
       "      <td>5400.998265</td>\n",
       "      <td>0</td>\n",
       "    </tr>\n",
       "    <tr>\n",
       "      <th>...</th>\n",
       "      <td>...</td>\n",
       "      <td>...</td>\n",
       "      <td>...</td>\n",
       "      <td>...</td>\n",
       "      <td>...</td>\n",
       "    </tr>\n",
       "    <tr>\n",
       "      <th>261182</th>\n",
       "      <td>2352.0</td>\n",
       "      <td>1050.436923</td>\n",
       "      <td>1293.135310</td>\n",
       "      <td>2036.822999</td>\n",
       "      <td>0</td>\n",
       "    </tr>\n",
       "    <tr>\n",
       "      <th>266755</th>\n",
       "      <td>5544.0</td>\n",
       "      <td>5293.918519</td>\n",
       "      <td>5570.551359</td>\n",
       "      <td>5802.380424</td>\n",
       "      <td>1</td>\n",
       "    </tr>\n",
       "    <tr>\n",
       "      <th>267402</th>\n",
       "      <td>2080.0</td>\n",
       "      <td>2276.060352</td>\n",
       "      <td>3118.846382</td>\n",
       "      <td>3673.913423</td>\n",
       "      <td>0</td>\n",
       "    </tr>\n",
       "    <tr>\n",
       "      <th>268007</th>\n",
       "      <td>5652.0</td>\n",
       "      <td>5770.376437</td>\n",
       "      <td>6232.578195</td>\n",
       "      <td>6533.307047</td>\n",
       "      <td>0</td>\n",
       "    </tr>\n",
       "    <tr>\n",
       "      <th>273880</th>\n",
       "      <td>7608.0</td>\n",
       "      <td>6364.960531</td>\n",
       "      <td>6887.333957</td>\n",
       "      <td>7604.363347</td>\n",
       "      <td>0</td>\n",
       "    </tr>\n",
       "  </tbody>\n",
       "</table>\n",
       "<p>457 rows × 5 columns</p>\n",
       "</div>"
      ],
      "text/plain": [
       "        totalCal        lower          mid        upper  accuracy\n",
       "key                                                              \n",
       "9177      8400.0  6205.517953  6686.444941  6984.681007         0\n",
       "9440      6720.0  5182.286142  5348.714797  5790.595014         0\n",
       "9471      4880.0  3435.495210  3866.579887  3921.380532         0\n",
       "9520      2232.0  2674.827371  2973.945128  3679.960304         0\n",
       "9547      6456.0  4913.424548  4972.156115  5400.998265         0\n",
       "...          ...          ...          ...          ...       ...\n",
       "261182    2352.0  1050.436923  1293.135310  2036.822999         0\n",
       "266755    5544.0  5293.918519  5570.551359  5802.380424         1\n",
       "267402    2080.0  2276.060352  3118.846382  3673.913423         0\n",
       "268007    5652.0  5770.376437  6232.578195  6533.307047         0\n",
       "273880    7608.0  6364.960531  6887.333957  7604.363347         0\n",
       "\n",
       "[457 rows x 5 columns]"
      ]
     },
     "execution_count": 316,
     "metadata": {},
     "output_type": "execute_result"
    }
   ],
   "source": [
    "from sklearn.ensemble import GradientBoostingRegressor\n",
    "# Set lower and upper quantile\n",
    "LOWER_ALPHA = 0.25\n",
    "UPPER_ALPHA = 0.75\n",
    "# Create separate models for lower, median, and upper quantile values\n",
    "lower_model = GradientBoostingRegressor(loss=\"quantile\", alpha=LOWER_ALPHA, learning_rate=0.03, n_estimators=1500, max_depth=7, min_samples_split=950, min_samples_leaf=6, subsample=0.8, max_features=21, random_state=10)\n",
    "mid_model = GradientBoostingRegressor(loss=\"ls\", learning_rate=0.03, n_estimators=1500, max_depth=7, min_samples_split=950, min_samples_leaf=6, subsample=0.8, max_features=21, random_state=10)\n",
    "upper_model = GradientBoostingRegressor(loss=\"quantile\", alpha=UPPER_ALPHA, learning_rate=0.03, n_estimators=1500, max_depth=7, min_samples_split=950, min_samples_leaf=6, subsample=0.8, max_features=21, random_state=10)\n",
    "# Fit models\n",
    "lower_model.fit(ingredient_bow_train, y_train['totalCal'])\n",
    "mid_model.fit(ingredient_bow_train, y_train['totalCal'])\n",
    "upper_model.fit(ingredient_bow_train, y_train['totalCal'])\n",
    "# Record actual values on test set\n",
    "predictions = pd.DataFrame(y_test['totalCal'])\n",
    "# Predict\n",
    "predictions['lower'] = lower_model.predict(ingredient_bow_test)\n",
    "predictions['mid'] = mid_model.predict(ingredient_bow_test)\n",
    "predictions['upper'] = upper_model.predict(ingredient_bow_test)\n",
    "predictions['accuracy'] = ((predictions['totalCal'] > predictions['lower']) & ((predictions['totalCal'] < predictions['upper']))).astype(int)\n",
    "print(round(predictions['accuracy'].mean(),2))\n",
    "predictions"
   ]
  },
  {
   "cell_type": "code",
   "execution_count": 317,
   "metadata": {
    "scrolled": true
   },
   "outputs": [],
   "source": [
    "coeff_words = pd.DataFrame(lower_model.feature_importances_,bow_transformer.get_feature_names(), columns=['coeff_lower'])\n",
    "coeff_words['coeff_mid'] = mid_model.feature_importances_\n",
    "coeff_words['coeff_upper'] = upper_model.feature_importances_"
   ]
  },
  {
   "cell_type": "code",
   "execution_count": 318,
   "metadata": {},
   "outputs": [
    {
     "data": {
      "text/plain": [
       "264"
      ]
     },
     "execution_count": 318,
     "metadata": {},
     "output_type": "execute_result"
    }
   ],
   "source": [
    "len(coeff_words[coeff_words['coeff_mid']==0]) # number of features removed"
   ]
  },
  {
   "cell_type": "code",
   "execution_count": 319,
   "metadata": {},
   "outputs": [
    {
     "data": {
      "text/plain": [
       "sugar              0.146046\n",
       "chocolate          0.115842\n",
       "butter             0.112530\n",
       "flour              0.076339\n",
       "peanutbutter       0.064908\n",
       "                     ...   \n",
       "himalayansalt      0.000000\n",
       "hersheycinnamon    0.000000\n",
       "hazelnutliqueur    0.000000\n",
       "hazelnutalmond     0.000000\n",
       "eggnog             0.000000\n",
       "Name: coeff_mid, Length: 372, dtype: float64"
      ]
     },
     "execution_count": 319,
     "metadata": {},
     "output_type": "execute_result"
    }
   ],
   "source": [
    "coeff_words['coeff_mid'].sort_values(ascending=False)"
   ]
  },
  {
   "cell_type": "code",
   "execution_count": 320,
   "metadata": {},
   "outputs": [
    {
     "data": {
      "text/html": [
       "<div>\n",
       "<style scoped>\n",
       "    .dataframe tbody tr th:only-of-type {\n",
       "        vertical-align: middle;\n",
       "    }\n",
       "\n",
       "    .dataframe tbody tr th {\n",
       "        vertical-align: top;\n",
       "    }\n",
       "\n",
       "    .dataframe thead th {\n",
       "        text-align: right;\n",
       "    }\n",
       "</style>\n",
       "<table border=\"1\" class=\"dataframe\">\n",
       "  <thead>\n",
       "    <tr style=\"text-align: right;\">\n",
       "      <th></th>\n",
       "      <th>coeff_lower</th>\n",
       "      <th>coeff_mid</th>\n",
       "      <th>coeff_upper</th>\n",
       "    </tr>\n",
       "  </thead>\n",
       "  <tbody>\n",
       "    <tr>\n",
       "      <th>sugar</th>\n",
       "      <td>0.109045</td>\n",
       "      <td>0.146046</td>\n",
       "      <td>0.080566</td>\n",
       "    </tr>\n",
       "    <tr>\n",
       "      <th>flour</th>\n",
       "      <td>0.088690</td>\n",
       "      <td>0.076339</td>\n",
       "      <td>0.053506</td>\n",
       "    </tr>\n",
       "    <tr>\n",
       "      <th>butter</th>\n",
       "      <td>0.114800</td>\n",
       "      <td>0.112530</td>\n",
       "      <td>0.084681</td>\n",
       "    </tr>\n",
       "    <tr>\n",
       "      <th>salt</th>\n",
       "      <td>0.032464</td>\n",
       "      <td>0.046709</td>\n",
       "      <td>0.018393</td>\n",
       "    </tr>\n",
       "    <tr>\n",
       "      <th>chocolate</th>\n",
       "      <td>0.064639</td>\n",
       "      <td>0.115842</td>\n",
       "      <td>0.087407</td>\n",
       "    </tr>\n",
       "  </tbody>\n",
       "</table>\n",
       "</div>"
      ],
      "text/plain": [
       "           coeff_lower  coeff_mid  coeff_upper\n",
       "sugar         0.109045   0.146046     0.080566\n",
       "flour         0.088690   0.076339     0.053506\n",
       "butter        0.114800   0.112530     0.084681\n",
       "salt          0.032464   0.046709     0.018393\n",
       "chocolate     0.064639   0.115842     0.087407"
      ]
     },
     "execution_count": 320,
     "metadata": {},
     "output_type": "execute_result"
    }
   ],
   "source": [
    "coeff_words.loc[['sugar','flour','butter','salt','chocolate']]"
   ]
  },
  {
   "cell_type": "code",
   "execution_count": 321,
   "metadata": {
    "scrolled": false
   },
   "outputs": [
    {
     "data": {
      "text/plain": [
       "Text(0, 0.5, 'Predictions')"
      ]
     },
     "execution_count": 321,
     "metadata": {},
     "output_type": "execute_result"
    },
    {
     "data": {
      "image/png": "[encoded data removed]",
      "text/plain": [
       "<Figure size 432x432 with 1 Axes>"
      ]
     },
     "metadata": {
      "needs_background": "light"
     },
     "output_type": "display_data"
    }
   ],
   "source": [
    "# correlation between true and predicted calories\n",
    "import matplotlib.pyplot as plt\n",
    "import seaborn as sns\n",
    "sns.set_context('poster', font_scale=1)\n",
    "\n",
    "fig = plt.figure(figsize=(6,6))\n",
    "ax = sns.regplot(y_test['totalCal'],predictions['mid'])\n",
    "ax.set_title('Gradient Boosting Regression')\n",
    "ax.set_xlabel('True Values')\n",
    "ax.set_ylabel('Predictions')"
   ]
  },
  {
   "cell_type": "code",
   "execution_count": 322,
   "metadata": {
    "scrolled": false
   },
   "outputs": [
    {
     "name": "stdout",
     "output_type": "stream",
     "text": [
      "Slope:  0.99\n",
      "Intercept:  105.0\n",
      "Coefficient of Determinant:  0.72\n",
      "p-value:  8.564637292960531e-128\n",
      "Standard Error:  0.03\n"
     ]
    }
   ],
   "source": [
    "from scipy import stats\n",
    "slope, intercept, r_value, p_value, std_err = stats.linregress(predictions['mid'],y_test['totalCal'])\n",
    "\n",
    "print('Slope: ', round(slope,2))\n",
    "print('Intercept: ', round(intercept))\n",
    "print('Coefficient of Determinant: ', round(r_value**2,2))\n",
    "print('p-value: ', p_value)\n",
    "print('Standard Error: ', round(std_err,2)) # standard error of the slope"
   ]
  },
  {
   "cell_type": "code",
   "execution_count": 323,
   "metadata": {},
   "outputs": [
    {
     "data": {
      "text/html": [
       "<div>\n",
       "<style scoped>\n",
       "    .dataframe tbody tr th:only-of-type {\n",
       "        vertical-align: middle;\n",
       "    }\n",
       "\n",
       "    .dataframe tbody tr th {\n",
       "        vertical-align: top;\n",
       "    }\n",
       "\n",
       "    .dataframe thead th {\n",
       "        text-align: right;\n",
       "    }\n",
       "</style>\n",
       "<table border=\"1\" class=\"dataframe\">\n",
       "  <thead>\n",
       "    <tr style=\"text-align: right;\">\n",
       "      <th></th>\n",
       "      <th>totalCal</th>\n",
       "      <th>lower</th>\n",
       "      <th>mid</th>\n",
       "      <th>upper</th>\n",
       "      <th>accuracy</th>\n",
       "    </tr>\n",
       "    <tr>\n",
       "      <th>key</th>\n",
       "      <th></th>\n",
       "      <th></th>\n",
       "      <th></th>\n",
       "      <th></th>\n",
       "      <th></th>\n",
       "    </tr>\n",
       "  </thead>\n",
       "  <tbody>\n",
       "    <tr>\n",
       "      <th>9177</th>\n",
       "      <td>8400.0</td>\n",
       "      <td>6205.517953</td>\n",
       "      <td>6686.444941</td>\n",
       "      <td>6984.681007</td>\n",
       "      <td>0</td>\n",
       "    </tr>\n",
       "    <tr>\n",
       "      <th>9440</th>\n",
       "      <td>6720.0</td>\n",
       "      <td>5182.286142</td>\n",
       "      <td>5348.714797</td>\n",
       "      <td>5790.595014</td>\n",
       "      <td>0</td>\n",
       "    </tr>\n",
       "    <tr>\n",
       "      <th>9471</th>\n",
       "      <td>4880.0</td>\n",
       "      <td>3435.495210</td>\n",
       "      <td>3866.579887</td>\n",
       "      <td>3921.380532</td>\n",
       "      <td>0</td>\n",
       "    </tr>\n",
       "    <tr>\n",
       "      <th>9520</th>\n",
       "      <td>2232.0</td>\n",
       "      <td>2674.827371</td>\n",
       "      <td>2973.945128</td>\n",
       "      <td>3679.960304</td>\n",
       "      <td>0</td>\n",
       "    </tr>\n",
       "    <tr>\n",
       "      <th>9547</th>\n",
       "      <td>6456.0</td>\n",
       "      <td>4913.424548</td>\n",
       "      <td>4972.156115</td>\n",
       "      <td>5400.998265</td>\n",
       "      <td>0</td>\n",
       "    </tr>\n",
       "    <tr>\n",
       "      <th>...</th>\n",
       "      <td>...</td>\n",
       "      <td>...</td>\n",
       "      <td>...</td>\n",
       "      <td>...</td>\n",
       "      <td>...</td>\n",
       "    </tr>\n",
       "    <tr>\n",
       "      <th>261182</th>\n",
       "      <td>2352.0</td>\n",
       "      <td>1050.436923</td>\n",
       "      <td>1293.135310</td>\n",
       "      <td>2036.822999</td>\n",
       "      <td>0</td>\n",
       "    </tr>\n",
       "    <tr>\n",
       "      <th>266755</th>\n",
       "      <td>5544.0</td>\n",
       "      <td>5293.918519</td>\n",
       "      <td>5570.551359</td>\n",
       "      <td>5802.380424</td>\n",
       "      <td>1</td>\n",
       "    </tr>\n",
       "    <tr>\n",
       "      <th>267402</th>\n",
       "      <td>2080.0</td>\n",
       "      <td>2276.060352</td>\n",
       "      <td>3118.846382</td>\n",
       "      <td>3673.913423</td>\n",
       "      <td>0</td>\n",
       "    </tr>\n",
       "    <tr>\n",
       "      <th>268007</th>\n",
       "      <td>5652.0</td>\n",
       "      <td>5770.376437</td>\n",
       "      <td>6232.578195</td>\n",
       "      <td>6533.307047</td>\n",
       "      <td>0</td>\n",
       "    </tr>\n",
       "    <tr>\n",
       "      <th>273880</th>\n",
       "      <td>7608.0</td>\n",
       "      <td>6364.960531</td>\n",
       "      <td>6887.333957</td>\n",
       "      <td>7604.363347</td>\n",
       "      <td>0</td>\n",
       "    </tr>\n",
       "  </tbody>\n",
       "</table>\n",
       "<p>457 rows × 5 columns</p>\n",
       "</div>"
      ],
      "text/plain": [
       "        totalCal        lower          mid        upper  accuracy\n",
       "key                                                              \n",
       "9177      8400.0  6205.517953  6686.444941  6984.681007         0\n",
       "9440      6720.0  5182.286142  5348.714797  5790.595014         0\n",
       "9471      4880.0  3435.495210  3866.579887  3921.380532         0\n",
       "9520      2232.0  2674.827371  2973.945128  3679.960304         0\n",
       "9547      6456.0  4913.424548  4972.156115  5400.998265         0\n",
       "...          ...          ...          ...          ...       ...\n",
       "261182    2352.0  1050.436923  1293.135310  2036.822999         0\n",
       "266755    5544.0  5293.918519  5570.551359  5802.380424         1\n",
       "267402    2080.0  2276.060352  3118.846382  3673.913423         0\n",
       "268007    5652.0  5770.376437  6232.578195  6533.307047         0\n",
       "273880    7608.0  6364.960531  6887.333957  7604.363347         0\n",
       "\n",
       "[457 rows x 5 columns]"
      ]
     },
     "execution_count": 323,
     "metadata": {},
     "output_type": "execute_result"
    }
   ],
   "source": [
    "predictions"
   ]
  },
  {
   "cell_type": "code",
   "execution_count": 324,
   "metadata": {
    "scrolled": false
   },
   "outputs": [
    {
     "data": {
      "text/plain": [
       "<matplotlib.axes._subplots.AxesSubplot at 0x1a3d891650>"
      ]
     },
     "execution_count": 324,
     "metadata": {},
     "output_type": "execute_result"
    },
    {
     "data": {
      "image/png": "[encoded data removed]",
      "text/plain": [
       "<Figure size 432x288 with 1 Axes>"
      ]
     },
     "metadata": {
      "needs_background": "light"
     },
     "output_type": "display_data"
    }
   ],
   "source": [
    "# residual plot - if normally distributed, then this model is good. otherwise, should not use linear prediction model\n",
    "sns.set_context('notebook', font_scale=1)\n",
    "\n",
    "sns.distplot(y_test['totalCal']-predictions['mid'])"
   ]
  },
  {
   "cell_type": "code",
   "execution_count": 325,
   "metadata": {},
   "outputs": [
    {
     "name": "stdout",
     "output_type": "stream",
     "text": [
      "MAE: 646.19\n",
      "MSE: 873767.77\n",
      "RMSE: 934.76\n"
     ]
    },
    {
     "data": {
      "text/plain": [
       "0.7192316309847884"
      ]
     },
     "execution_count": 325,
     "metadata": {},
     "output_type": "execute_result"
    }
   ],
   "source": [
    "from sklearn import metrics\n",
    "print('MAE:', round(metrics.mean_absolute_error(y_test['totalCal'], predictions['mid']),2))\n",
    "print('MSE:', round(metrics.mean_squared_error(y_test['totalCal'], predictions['mid']),2))\n",
    "print('RMSE:', round(np.sqrt(metrics.mean_squared_error(y_test['totalCal'], predictions['mid'])),2))\n",
    "metrics.r2_score(y_test['totalCal'],predictions['mid']) # this r2 is not representative of a normal r2 since it can be negative"
   ]
  },
  {
   "cell_type": "code",
   "execution_count": null,
   "metadata": {},
   "outputs": [],
   "source": [
    "# Using statsmodels\n",
    "import statsmodels.api as sm\n",
    "sm.qqplot(predictions['mid'], line='s')"
   ]
  },
  {
   "cell_type": "code",
   "execution_count": null,
   "metadata": {},
   "outputs": [],
   "source": []
  },
  {
   "cell_type": "markdown",
   "metadata": {},
   "source": [
    "# Linear Regression\n",
    "\n",
    "### Pipeline"
   ]
  },
  {
   "cell_type": "code",
   "execution_count": null,
   "metadata": {},
   "outputs": [],
   "source": [
    "from sklearn.pipeline import Pipeline\n",
    "from sklearn.feature_extraction.text import CountVectorizer # Bag of Words\n",
    "from sklearn.feature_extraction.text import TfidfTransformer # TF-IDF\n",
    "from sklearn.linear_model import LinearRegression\n",
    "pipeline = Pipeline([\n",
    "    ('bow', CountVectorizer(analyzer=text_process)),  # strings to token integer counts\n",
    "#    ('tfidf', TfidfTransformer()),  # integer counts to weighted TF-IDF scores\n",
    "    ('classifier', LinearRegression(fit_intercept=False)),  # train on TF-IDF vectors w/ Naive Bayes classifier\n",
    "])\n",
    "\n",
    "pipeline.fit(X_train['ingredient'],y_train['totalCal']) # Fit Model using training data\n",
    "predictions = pipeline.predict(X_test['ingredient']) # Predict using test data\n",
    "print(predictions)"
   ]
  },
  {
   "cell_type": "markdown",
   "metadata": {},
   "source": [
    "### Separate steps\n",
    "For plotting predicted vs. true values, Linear Regression with fit_intercept=True provies the best results (2X better R2, slope, etc. if fitting intercept vs. not fitting intercept)."
   ]
  },
  {
   "cell_type": "code",
   "execution_count": null,
   "metadata": {
    "scrolled": true
   },
   "outputs": [],
   "source": [
    "from sklearn.linear_model import LinearRegression\n",
    "linreg = LinearRegression()\n",
    "linreg.fit(ingredient_bow_train,y_train['totalCal'])\n",
    "\n",
    "predictions = linreg.predict(ingredient_bow_test)\n",
    "predictions"
   ]
  },
  {
   "cell_type": "code",
   "execution_count": null,
   "metadata": {},
   "outputs": [],
   "source": [
    "predictions/"
   ]
  },
  {
   "cell_type": "code",
   "execution_count": null,
   "metadata": {},
   "outputs": [],
   "source": [
    "y_test['predictions'] = predictions\n",
    "y_test['predictions'].sort_values()"
   ]
  },
  {
   "cell_type": "code",
   "execution_count": null,
   "metadata": {
    "scrolled": true
   },
   "outputs": [],
   "source": [
    "coeff_words = pd.DataFrame(linreg.coef_,bow_transformer.get_feature_names(), columns=['Coeff'])\n",
    "coeff_words['Coeff'].sort_values(ascending=False)"
   ]
  },
  {
   "cell_type": "code",
   "execution_count": null,
   "metadata": {},
   "outputs": [],
   "source": [
    "coeff_words.loc[['sugar','flour','butter','salt','chocolate']]"
   ]
  },
  {
   "cell_type": "code",
   "execution_count": null,
   "metadata": {},
   "outputs": [],
   "source": [
    "from sklearn import metrics\n",
    "print('MAE:', round(metrics.mean_absolute_error(y_test['totalCal'], predictions),2))\n",
    "print('MSE:', round(metrics.mean_squared_error(y_test['totalCal'], predictions),2))\n",
    "print('RMSE:', round(np.sqrt(metrics.mean_squared_error(y_test['totalCal'], predictions)),2))\n",
    "metrics.r2_score(y_test['totalCal'],predictions) # this r2 is not representative of a normal r2 since it can be negative"
   ]
  },
  {
   "cell_type": "code",
   "execution_count": null,
   "metadata": {
    "scrolled": false
   },
   "outputs": [],
   "source": [
    "# correlation between true and predicted calories\n",
    "import matplotlib.pyplot as plt\n",
    "import seaborn as sns\n",
    "sns.set_context('poster', font_scale=1)\n",
    "\n",
    "fig = plt.figure(figsize=(6,6))\n",
    "ax = sns.regplot(y_test['totalCal'],predictions)\n",
    "# ax.set_title('Linear Regression')\n",
    "ax.set_xlabel('True Values')\n",
    "ax.set_ylabel('Predictions')"
   ]
  },
  {
   "cell_type": "code",
   "execution_count": null,
   "metadata": {
    "scrolled": true
   },
   "outputs": [],
   "source": [
    "from scipy import stats\n",
    "slope, intercept, r_value, p_value, std_err = stats.linregress(predictions,y_test['totalCal'])\n",
    "\n",
    "print('Slope: ', round(slope,2))\n",
    "print('Intercept: ', round(intercept))\n",
    "print('Coefficient of Determinant: ', round(r_value**2,2))\n",
    "print('p-value: ', p_value)\n",
    "print('Standard Error: ', round(std_err,2)) # standard error of the slope"
   ]
  },
  {
   "cell_type": "markdown",
   "metadata": {},
   "source": [
    "#### Residual plot"
   ]
  },
  {
   "cell_type": "code",
   "execution_count": null,
   "metadata": {
    "scrolled": true
   },
   "outputs": [],
   "source": [
    "# residual plot - if normally distributed, then this model is good. otherwise, should not use linear prediction model\n",
    "sns.set_context('notebook', font_scale=1)\n",
    "\n",
    "sns.distplot(y_test['totalCal']-predictions)"
   ]
  },
  {
   "cell_type": "markdown",
   "metadata": {},
   "source": [
    "#### QQ Plot"
   ]
  },
  {
   "cell_type": "code",
   "execution_count": null,
   "metadata": {},
   "outputs": [],
   "source": [
    "import scipy.stats as stats\n",
    "stats.probplot(predictions,dist='norm',plot=plt)"
   ]
  },
  {
   "cell_type": "code",
   "execution_count": null,
   "metadata": {},
   "outputs": [],
   "source": [
    "# Using statsmodels\n",
    "import statsmodels.api as sm\n",
    "sm.qqplot(predictions, line='s')"
   ]
  },
  {
   "cell_type": "markdown",
   "metadata": {},
   "source": [
    "### Cross validation and stats using statsmodel is better than sklearn"
   ]
  },
  {
   "cell_type": "code",
   "execution_count": null,
   "metadata": {},
   "outputs": [],
   "source": [
    "# Cross validation\n",
    "from sklearn.model_selection import cross_validate\n",
    "prediction = cross_validate(linreg,ingredient_bow_test,y_test['totalCal'],cv=10)\n",
    "\n",
    "# from sklearn.metrics, but r2 is not the same since it can be negative\n",
    "scoring = ['r2', 'explained_variance','max_error','neg_root_mean_squared_error']\n",
    "prediction2 = cross_validate(linreg,ingredient_bow_test,y_test['totalCal'],cv=10,scoring=scoring)\n",
    "prediction2"
   ]
  },
  {
   "cell_type": "code",
   "execution_count": null,
   "metadata": {},
   "outputs": [],
   "source": []
  },
  {
   "cell_type": "markdown",
   "metadata": {},
   "source": [
    "# Data visualization"
   ]
  },
  {
   "cell_type": "code",
   "execution_count": null,
   "metadata": {},
   "outputs": [],
   "source": [
    "import matplotlib.pyplot as plt\n",
    "import seaborn as sns\n",
    "%matplotlib inline\n",
    "plt.rcParams[\"patch.force_edgecolor\"] = True # Always plot edges on bar plots using matplotlib"
   ]
  },
  {
   "cell_type": "code",
   "execution_count": null,
   "metadata": {
    "scrolled": false
   },
   "outputs": [],
   "source": [
    "ax = df['calPerServing'].plot(kind='hist',ylim=(0,500),bins=20)\n",
    "ax.set_xlabel('Calories per Serving')\n",
    "ax.set_ylabel('Number of Recipes')"
   ]
  },
  {
   "cell_type": "code",
   "execution_count": null,
   "metadata": {},
   "outputs": [],
   "source": [
    "sns.distplot(clean_df['totalCal'],kde=False,bins=25)"
   ]
  },
  {
   "cell_type": "code",
   "execution_count": null,
   "metadata": {},
   "outputs": [],
   "source": [
    "sns.distplot(df['servings'])"
   ]
  },
  {
   "cell_type": "code",
   "execution_count": null,
   "metadata": {},
   "outputs": [],
   "source": [
    "sns.regplot(x='servings', y='calPerServing', data=clean_df)"
   ]
  },
  {
   "cell_type": "code",
   "execution_count": null,
   "metadata": {},
   "outputs": [],
   "source": [
    "fig = plt.figure()\n",
    "word = 'butter'\n",
    "ax = sns.scatterplot(clean_df[clean_df['ingredient']==word]['norm_quant'],clean_df[clean_df['ingredient']==word]['totalCal'])\n",
    "ax.set_xlim(0,2000)"
   ]
  },
  {
   "cell_type": "code",
   "execution_count": null,
   "metadata": {},
   "outputs": [],
   "source": []
  }
 ],
 "metadata": {
  "kernelspec": {
   "display_name": "Python 3",
   "language": "python",
   "name": "python3"
  },
  "language_info": {
   "codemirror_mode": {
    "name": "ipython",
    "version": 3
   },
   "file_extension": ".py",
   "mimetype": "text/x-python",
   "name": "python",
   "nbconvert_exporter": "python",
   "pygments_lexer": "ipython3",
   "version": "3.7.6"
  }
 },
 "nbformat": 4,
 "nbformat_minor": 4
}
