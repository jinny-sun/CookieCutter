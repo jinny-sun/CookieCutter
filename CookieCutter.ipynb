{
 "cells": [
  {
   "cell_type": "markdown",
   "metadata": {},
   "source": [
    "# CookieCutter\n",
    "This app predicts the total calories given a string of recipe ingredients.\n",
    "\n",
    "Training data was scraped from AllRecipes.com\n",
    "\n",
    "Input of web app is a string of recipe ingredents in the following format:\n",
    "* '2 cups flour; 1 cup sugar; 1/2 cup butter; 1 teaspoon salt'"
   ]
  },
  {
   "cell_type": "markdown",
   "metadata": {},
   "source": [
    "## Import packages"
   ]
  },
  {
   "cell_type": "code",
   "execution_count": 1,
   "metadata": {},
   "outputs": [],
   "source": [
    "import numpy as np\n",
    "import pandas as pd\n",
    "import re"
   ]
  },
  {
   "cell_type": "markdown",
   "metadata": {},
   "source": [
    "## Import functions"
   ]
  },
  {
   "cell_type": "code",
   "execution_count": 2,
   "metadata": {},
   "outputs": [],
   "source": [
    "def multireplace(string, replacements, ignore_case=False):\n",
    "    \"\"\"\n",
    "    Given a string and a replacement map, it returns the replaced string.\n",
    "    :param str string: string to execute replacements on\n",
    "    :param dict replacements: replacement dictionary {value to find: value to replace}\n",
    "    :param bool ignore_case: whether the match should be case insensitive\n",
    "    :rtype: str\n",
    "    \"\"\"\n",
    "    # If case insensitive, we need to normalize the old string so that later a replacement\n",
    "    # can be found. For instance with {\"HEY\": \"lol\"} we should match and find a replacement for \"hey\",\n",
    "    # \"HEY\", \"hEy\", etc.\n",
    "    if ignore_case:\n",
    "        def normalize_old(s):\n",
    "            return s.lower()\n",
    "\n",
    "        re_mode = re.IGNORECASE\n",
    "\n",
    "    else:\n",
    "        def normalize_old(s):\n",
    "            return s\n",
    "\n",
    "        re_mode = 0\n",
    "\n",
    "    replacements = {normalize_old(key): val for key, val in replacements.items()}\n",
    "    \n",
    "    # Place longer ones first to keep shorter substrings from matching where the longer ones should take place\n",
    "    # For instance given the replacements {'ab': 'AB', 'abc': 'ABC'} against the string 'hey abc', it should produce\n",
    "    # 'hey ABC' and not 'hey ABc'\n",
    "    rep_sorted = sorted(replacements, key=len, reverse=True)\n",
    "    rep_escaped = map(re.escape, rep_sorted)\n",
    "    \n",
    "    # Create a big OR regex that matches any of the substrings to replace\n",
    "    pattern = re.compile(\"|\".join(rep_escaped), re_mode)\n",
    "    \n",
    "    # For each match, look up the new string in the replacements, being the key the normalized old string\n",
    "    return pattern.sub(lambda match: replacements[normalize_old(match.group(0))], string)\n",
    "\n",
    "def string_replace(x):\n",
    "    new_string = re.sub(' {2,}', ' ', x).replace(\"\\n\", \";\").replace(\"; ;\", \";\")\n",
    "#    new_string = new_string.split(';')\n",
    "    return(new_string)\n",
    "\n",
    "def get_ingredients (x):\n",
    "    ing_regex = ('(\\d+/*\\d*\\s*\\d*/*\\d*)\\s(\\w+\\s*.*?);')\n",
    "    all_ing = re.findall(ing_regex, x)\n",
    "    return(all_ing)\n",
    "\n",
    "def get_quantity(x):\n",
    "    quantity = [y[0] for y in x] # use for df\n",
    "    units_with_ingredient = [y[1] for y in x]\n",
    "    df_of_units = pd.DataFrame({'quantity':quantity, 'ingredient':units_with_ingredient})\n",
    "    return (df_of_units)\n",
    "\n",
    "def match_uids(originaldf, longdf):\n",
    "    for row in range(0, len(originaldf)):\n",
    "        longdf[row]['recipe_key']=originaldf['recipe_key'][row]\n",
    "        longdf[row]['calPerServing']=originaldf['calPerServing'][row]\n",
    "        longdf[row]['totalCal']=originaldf['totalCal'][row]\n",
    "        longdf[row]['servings']=originaldf['servings'][row]\n",
    "        longdf[row]['name']=originaldf['name'][row]\n",
    "    return(longdf)\n",
    "\n",
    "def text_process(mess):\n",
    "    \"\"\"\n",
    "    Takes in a string of text, then performs the following:\n",
    "    1. Remove all punctuation\n",
    "    2. Remove all stopwords\n",
    "    3. Returns a list of the cleaned text\n",
    "    \"\"\"\n",
    "    import string\n",
    "    from nltk.corpus import stopwords\n",
    "    from nltk.stem import WordNetLemmatizer\n",
    "    wnl = WordNetLemmatizer()\n",
    "    \n",
    "    def lemmatize(string):\n",
    "        for word in re.findall(r\"[a-z]+\", string):\n",
    "            string = string.replace(word, wnl.lemmatize(word, 'n') if 's' in word[-3:] else word)\n",
    "        return string\n",
    "    \n",
    "    unit_stopwords = ['dash','pinch','teaspoon','tablespoon','fluid','cup','pint','quart','ounce','oz','pound','rack',\n",
    "                'small','medium','large','crushed','grated','skinless','boneless','melted','fresh',\n",
    "                'diced','minced','thinly','dry','dried','halved','taste','frying','lean','drained','jars','grated'\n",
    "                'clove','slice','eaches','whole','cube','thick','unit','freshly','finely','splash',\n",
    "                'semisweet','chip','extract','spread','powder','room','temperature','brown','cooking','yolk','ground',\n",
    "                'package','mix','cake','plain','goody','light','wheat','piece','substitute','mini','kosher','crispy',\n",
    "                'minature','chunk','dark','bit','square','boiling','bag','crumb','popsicle','stick','zest','cereal',\n",
    "                'bar','tart','nib','tennessee','turbinado','baking','pack','spice','moist','miniarature','crunchy',\n",
    "                'morsel','nugget','candy','crisp','super','fine','decoration','sucralose','puree','pureed','rainbow',\n",
    "                'cut','frozen','broken','round','concentrate','miniature','cooky','virgin','dusting','half','baby',\n",
    "                'food','jar','seedless','container','box','granule','filling','cold','super','ripe','moisture',\n",
    "                'packet','instant','mint','ripe','sea','coarse','fun','size','funsize','bulk','chopped','torn',\n",
    "                'inch','shell','quality','strap','bittersweet','gallon','pure','cane','liquid','drop','hard','yellow'\n",
    "                'black','strap','kiss','protein','supplement','dessert']\n",
    "    \n",
    "    # Remove anything in parenthesis\n",
    "    mess = re.sub(r\"\\([^\\)]+\\)\", '', mess)\n",
    "    # Make everything lowercase\n",
    "    mess = mess.lower()\n",
    "    # Remove non-word punctuation\n",
    "    mess =' '.join(re.findall(r\"[-,''\\w]+\", mess)) # This leaves some commas as a character #\n",
    "    mess = re.sub(r\"\\,\", ' ', mess)\n",
    "    # Remove hypenated words\n",
    "    mess = re.sub(r\"(?=\\S*['-])([a-zA-Z'-]+)\",'',mess) # remove hypenated words\n",
    "    # Remove punctuation and numbers\n",
    "    mess = ''.join([i for i in mess if not i.isdigit()])\n",
    "    # Remove plurals\n",
    "    mess = lemmatize(mess)\n",
    "    #clean excess whitespace\n",
    "    mess = re.sub(r\"\\s+\", ' ', mess).strip()\n",
    "    # Remove stopwords\n",
    "    mess = [word for word in mess.split() if word.lower() not in stopwords.words('english')]\n",
    "    mess  = [word for word in mess if word.lower() not in unit_stopwords]\n",
    "    mess = ' '.join(mess)\n",
    "    return(mess.split())\n",
    "\n",
    "def test_noun(tokens):  \n",
    "    import nltk\n",
    "    tagged = nltk.pos_tag(tokens)\n",
    "    return([token[0] for token in tagged if token[1] in ['NN',]])\n",
    "\n",
    "def convert_fractions (quantity):\n",
    "    from fractions import Fraction\n",
    "    return float(sum(Fraction(s) for s in quantity.split()))\n",
    "\n",
    "def join_strings(mess):\n",
    "    # Keep integers\n",
    "    mess = ' '.join(mess)\n",
    "\n",
    "    if len(mess)>=1:\n",
    "        return(mess)\n",
    "    else:\n",
    "        return('')"
   ]
  },
  {
   "cell_type": "markdown",
   "metadata": {},
   "source": [
    "## Clean ingredient text string"
   ]
  },
  {
   "cell_type": "code",
   "execution_count": 3,
   "metadata": {
    "scrolled": false
   },
   "outputs": [],
   "source": [
    "# Load data\n",
    "#df = pd.read_csv('dataset_allrecipes-test-v3_2020-06-02_01-37-25-797.csv') # Dinner recipes\n",
    "# df = pd.read_csv('dataset_allrecipes-test-v4_choco_chip_cookie_2020-06-06_22-41-30-703.csv') # Chocolate chip recipes\n",
    "\n",
    "df = pd.read_csv('dataset_allrecipes-test-v4_all-cookies_2020-06-06_22-20-57-219.csv') # all cookie recipes\n",
    "# df2 = pd.read_csv('dataset_allrecipes-test-v4_all-ingredients_2020-06-06_22-40-04-991.csv') # all ingredient recipes\n",
    "# df = pd.concat([df,df2]).drop_duplicates() # combine all cookie and ingredient recipes\n",
    "\n",
    "# Clean column names\n",
    "df.rename(columns = {'calories':'calPerServing', 'cook':'cookTime', 'prep':'prepTime','ready in':'totalTime'}, inplace = True) \n",
    "\n",
    "# Create unique id\n",
    "df['recipe_key'] = df['url'].apply(lambda x:int(re.findall(r\"\\d+\", x)[0]))\n",
    "\n",
    "# Calculate total calories per recipe\n",
    "df['totalCal'] = df['calPerServing']*df['servings']\n",
    "df = df[(df['servings']<=64) & (df['servings']>=12) & (df['totalCal']<10000)] #filter for recipes with 12-64 servings and < 10,000 total calories\n",
    "df.reset_index(inplace=True, drop=True)\n",
    "\n",
    "# Clean ingredient text\n",
    "dict_unicode = {'\\u2009': '', '½':' 1/2', '⅓':'1/3', '⅔':'2/3', '¼':'1/4', '¾':'3/4', '⅕':'1/5', \n",
    "                '⅖':'2/5', '⅗':'3/5', '⅘':'4/5', '⅙':'1/6', '⅚':'5/6', '⅐':'1/7', '⅛':'1/8', \n",
    "                '⅜':'3/8', '⅝':'5/8', '⅞':'7/8', '⅑':'1/9', '⅒':'1/10'}\n",
    "df['recipeIngredient'] = [item + ';' for item in df['recipeIngredient']] # add semicolon at end of each string for easier regex filtering\n",
    "df['recipeIngredient'] = [multireplace(x, dict_unicode) for x in df['recipeIngredient']] # replace unicode characters\n",
    "df['recipeIngredient'] = [string_replace(x) for x in df['recipeIngredient']] # remove whitespace\n",
    "ing = [get_ingredients(x) for x in df['recipeIngredient']] # separate ingredients into list of list of tupules of ingredient strings\n",
    "\n",
    "df_ing = [get_quantity(x) for x in ing] # separate units of measure and ingredients & creates a pandas dataframe for each recipe\n",
    "\n",
    "clean_df = match_uids(df, df_ing) # pull unique id, calorie (outcome variable), number of servings, and number of ingredients from original dataframe\n",
    "clean_df = pd.concat(clean_df) # concat list of pandas dataframes into one dataframe\n",
    "clean_df['quantity'] = [convert_fractions(x) for x in clean_df['quantity']] # convert fractions into integers\n",
    "\n",
    "# Create multiIndex / hierarchical Dataframe\n",
    "# clean_df = clean_df.reset_index(drop=True)\n",
    "clean_df = clean_df.reset_index()\n"
   ]
  },
  {
   "cell_type": "markdown",
   "metadata": {},
   "source": [
    "## Normalize quantity of ingredients to grams"
   ]
  },
  {
   "cell_type": "code",
   "execution_count": 4,
   "metadata": {},
   "outputs": [],
   "source": [
    "# save as csv for web app\n",
    "# clean_df.to_csv('clean_df.csv')\n",
    "\n",
    "# Convert measurements to normalized unit  (1 Unit= 1 grams)\n",
    "clean_df['unit'] = np.where(clean_df.ingredient.str.contains(\"dash\"), .3,\n",
    "            np.where(clean_df.ingredient.str.contains(\"pinch\"), .6,\n",
    "            np.where(clean_df.ingredient.str.contains(\"teaspoon\"), 5, \n",
    "            np.where(clean_df.ingredient.str.contains(\"tablespoon\"), 3,\n",
    "            np.where(clean_df.ingredient.str.contains(\"fluid\"), 30,\n",
    "            np.where(clean_df.ingredient.str.contains(\"cup\"), 240, \n",
    "            np.where(clean_df.ingredient.str.contains(\"pint\"), 473,\n",
    "            np.where(clean_df.ingredient.str.contains(\"quart\"), 980,\n",
    "            np.where(clean_df.ingredient.str.contains(\"ounce\"), 28,\n",
    "            np.where(clean_df.ingredient.str.contains(\"oz\"), 28, \n",
    "            np.where(clean_df.ingredient.str.contains(\"pound\"), 454,\n",
    "            np.where(clean_df.ingredient.str.contains(\"rack\"), 908,\n",
    "            np.where(clean_df.ingredient.str.contains(\"small\"), 50,\n",
    "            np.where(clean_df.ingredient.str.contains(\"medium\"), 60,\n",
    "            np.where(clean_df.ingredient.str.contains(\"large\"), 70,\n",
    "            3))))))))))))))) "
   ]
  },
  {
   "cell_type": "markdown",
   "metadata": {},
   "source": [
    "## Tokenize ingredient text"
   ]
  },
  {
   "cell_type": "code",
   "execution_count": 5,
   "metadata": {},
   "outputs": [
    {
     "data": {
      "text/html": [
       "<div>\n",
       "<style scoped>\n",
       "    .dataframe tbody tr th:only-of-type {\n",
       "        vertical-align: middle;\n",
       "    }\n",
       "\n",
       "    .dataframe tbody tr th {\n",
       "        vertical-align: top;\n",
       "    }\n",
       "\n",
       "    .dataframe thead th {\n",
       "        text-align: right;\n",
       "    }\n",
       "</style>\n",
       "<table border=\"1\" class=\"dataframe\">\n",
       "  <thead>\n",
       "    <tr style=\"text-align: right;\">\n",
       "      <th></th>\n",
       "      <th></th>\n",
       "      <th>ingredient</th>\n",
       "      <th>recipe_key</th>\n",
       "      <th>totalCal</th>\n",
       "      <th>calPerServing</th>\n",
       "      <th>name</th>\n",
       "      <th>ingredient_key</th>\n",
       "    </tr>\n",
       "    <tr>\n",
       "      <th>recipe_key</th>\n",
       "      <th>ingredient_key</th>\n",
       "      <th></th>\n",
       "      <th></th>\n",
       "      <th></th>\n",
       "      <th></th>\n",
       "      <th></th>\n",
       "      <th></th>\n",
       "    </tr>\n",
       "  </thead>\n",
       "  <tbody>\n",
       "    <tr>\n",
       "      <th rowspan=\"5\" valign=\"top\">16212</th>\n",
       "      <th>0</th>\n",
       "      <td>butter butter butter butter butter butter butt...</td>\n",
       "      <td>16212</td>\n",
       "      <td>6480.0</td>\n",
       "      <td>162.0</td>\n",
       "      <td>Chocolate Mint Candies Cookies</td>\n",
       "      <td>0</td>\n",
       "    </tr>\n",
       "    <tr>\n",
       "      <th>1</th>\n",
       "      <td>sugar sugar sugar sugar sugar sugar sugar suga...</td>\n",
       "      <td>16212</td>\n",
       "      <td>6480.0</td>\n",
       "      <td>162.0</td>\n",
       "      <td>Chocolate Mint Candies Cookies</td>\n",
       "      <td>1</td>\n",
       "    </tr>\n",
       "    <tr>\n",
       "      <th>2</th>\n",
       "      <td>water water water water water water</td>\n",
       "      <td>16212</td>\n",
       "      <td>6480.0</td>\n",
       "      <td>162.0</td>\n",
       "      <td>Chocolate Mint Candies Cookies</td>\n",
       "      <td>2</td>\n",
       "    </tr>\n",
       "    <tr>\n",
       "      <th>3</th>\n",
       "      <td>chocolate chocolate chocolate chocolate chocol...</td>\n",
       "      <td>16212</td>\n",
       "      <td>6480.0</td>\n",
       "      <td>162.0</td>\n",
       "      <td>Chocolate Mint Candies Cookies</td>\n",
       "      <td>3</td>\n",
       "    </tr>\n",
       "    <tr>\n",
       "      <th>4</th>\n",
       "      <td>egg egg egg egg egg egg</td>\n",
       "      <td>16212</td>\n",
       "      <td>6480.0</td>\n",
       "      <td>162.0</td>\n",
       "      <td>Chocolate Mint Candies Cookies</td>\n",
       "      <td>4</td>\n",
       "    </tr>\n",
       "  </tbody>\n",
       "</table>\n",
       "</div>"
      ],
      "text/plain": [
       "                                                                  ingredient  \\\n",
       "recipe_key ingredient_key                                                      \n",
       "16212      0               butter butter butter butter butter butter butt...   \n",
       "           1               sugar sugar sugar sugar sugar sugar sugar suga...   \n",
       "           2                            water water water water water water    \n",
       "           3               chocolate chocolate chocolate chocolate chocol...   \n",
       "           4                                        egg egg egg egg egg egg    \n",
       "\n",
       "                           recipe_key  totalCal  calPerServing  \\\n",
       "recipe_key ingredient_key                                        \n",
       "16212      0                    16212    6480.0          162.0   \n",
       "           1                    16212    6480.0          162.0   \n",
       "           2                    16212    6480.0          162.0   \n",
       "           3                    16212    6480.0          162.0   \n",
       "           4                    16212    6480.0          162.0   \n",
       "\n",
       "                                                     name  ingredient_key  \n",
       "recipe_key ingredient_key                                                  \n",
       "16212      0               Chocolate Mint Candies Cookies               0  \n",
       "           1               Chocolate Mint Candies Cookies               1  \n",
       "           2               Chocolate Mint Candies Cookies               2  \n",
       "           3               Chocolate Mint Candies Cookies               3  \n",
       "           4               Chocolate Mint Candies Cookies               4  "
      ]
     },
     "execution_count": 5,
     "metadata": {},
     "output_type": "execute_result"
    }
   ],
   "source": [
    "# Tokenization = convert text string into list of tokens, or words, we want (i.e., cleaned version of words).\n",
    "import string\n",
    "from nltk.corpus import stopwords\n",
    "clean_df['ingredient']=[text_process(x) for x in clean_df['ingredient']]\n",
    "\n",
    "# Total quantity of each ingredient needed for recipe (grams* quantity) and condense into a list.\n",
    "clean_df['norm_quant'] = round(clean_df['unit']*clean_df['quantity'])\n",
    "clean_df['norm_quant'] = clean_df['norm_quant'].astype(int)\n",
    "\n",
    "# One word per ingredient - keep only nouns, join multiple words as one string\n",
    "clean_df['ingredient'] = [test_noun(tokens) for tokens in clean_df['ingredient']]\n",
    "clean_df['ingredient'] = [''.join(tokens) for tokens in clean_df['ingredient']]\n",
    "\n",
    "# Repeat word by normalized quantity\n",
    "clean_df2 = clean_df.copy()\n",
    "clean_df2['ingredient'] = clean_df2['ingredient'].astype(str) + ' '\n",
    "zipped = list(zip(clean_df2['ingredient'], clean_df2['norm_quant']))\n",
    "inglist = [t[0]*t[1] for t in zipped]\n",
    "final_df = pd.DataFrame(inglist, columns=['ingredient'])\n",
    "final_df[['recipe_key','totalCal','calPerServing','name','ingredient_key']] = clean_df[['recipe_key','totalCal','calPerServing','name','index']]\n",
    "\n",
    "# Create multiIndex / hierarchical Dataframe\n",
    "tuples = list(zip(*[final_df['recipe_key'],final_df['ingredient_key']]))\n",
    "index = pd.MultiIndex.from_tuples(tuples, names=['recipe_key', 'ingredient_key'])\n",
    "final_df.set_index(index,inplace=True)\n",
    "final_df.head()"
   ]
  },
  {
   "cell_type": "code",
   "execution_count": 6,
   "metadata": {},
   "outputs": [],
   "source": [
    "# Test data using ngrams to identify words (ie. baking soda)\n",
    "from nltk import ngrams\n",
    "\n",
    "bigram = [list(ngrams(words.lower().split(),2)) for words in clean_df['ingredient']]\n",
    "# trigram=list(ngrams(Sentences.lower().split(),3))\n",
    "# fourgram=list(ngrams(Sentences.lower().split(),4))"
   ]
  },
  {
   "cell_type": "code",
   "execution_count": null,
   "metadata": {
    "scrolled": true
   },
   "outputs": [],
   "source": [
    "df[df['key']==9605]"
   ]
  },
  {
   "cell_type": "code",
   "execution_count": 7,
   "metadata": {},
   "outputs": [
    {
     "data": {
      "text/plain": [
       "index                               8\n",
       "quantity                            1\n",
       "ingredient                           \n",
       "recipe_key                      10265\n",
       "calPerServing                     206\n",
       "totalCal                         6180\n",
       "servings                           30\n",
       "name             Jumbo Raisin Cookies\n",
       "unit                              240\n",
       "norm_quant                        240\n",
       "Name: 9605, dtype: object"
      ]
     },
     "execution_count": 7,
     "metadata": {},
     "output_type": "execute_result"
    }
   ],
   "source": [
    "clean_df.loc[9605]"
   ]
  },
  {
   "cell_type": "markdown",
   "metadata": {},
   "source": [
    "## Process input text for App"
   ]
  },
  {
   "cell_type": "code",
   "execution_count": 8,
   "metadata": {
    "scrolled": true
   },
   "outputs": [],
   "source": [
    "test = '1 cup packed brown sugar; 2 eggs; 1 teaspoon baking soda; 1 teaspoon salt; 1 teaspoon vanilla extract; 2 1/2 cups sifted all-purpose flour; 1/2 cup chopped walnuts; 2 cups semisweet chocolate chips'\n",
    "servings = 24\n",
    "test = test + ';' # add semicolon to end of ingredient list for regex\n",
    "test = string_replace(test) # remove white space\n",
    "test_ing = get_ingredients(test) # separate ingredients into list of tuples\n",
    "testdf = get_quantity(test_ing) # separate quantity from words\n",
    "testdf['quantity'] = [convert_fractions(x) for x in testdf['quantity']]\n",
    "testdf['unit'] = np.where(testdf.ingredient.str.contains(\"dash\"), .3,\n",
    "            np.where(testdf.ingredient.str.contains(\"pinch\"), .6,\n",
    "            np.where(testdf.ingredient.str.contains(\"teaspoon\"), 5, \n",
    "            np.where(testdf.ingredient.str.contains(\"tablespoon\"), 3,\n",
    "            np.where(testdf.ingredient.str.contains(\"fluid\"), 30,\n",
    "            np.where(testdf.ingredient.str.contains(\"cup\"), 240, \n",
    "            np.where(testdf.ingredient.str.contains(\"pint\"), 473,\n",
    "            np.where(testdf.ingredient.str.contains(\"quart\"), 980,\n",
    "            np.where(testdf.ingredient.str.contains(\"ounce\"), 28,\n",
    "            np.where(testdf.ingredient.str.contains(\"oz\"), 28, \n",
    "            np.where(testdf.ingredient.str.contains(\"pound\"), 454,\n",
    "            np.where(testdf.ingredient.str.contains(\"rack\"), 908,\n",
    "            np.where(testdf.ingredient.str.contains(\"small\"), 50,\n",
    "            np.where(testdf.ingredient.str.contains(\"medium\"), 60,\n",
    "            np.where(testdf.ingredient.str.contains(\"large\"), 70,\n",
    "            1))))))))))))))) \n",
    "\n",
    "# Tokenization = convert text string into list of tokens, or words, we want (i.e., cleaned version of words).\n",
    "import string\n",
    "from nltk.corpus import stopwords\n",
    "testdf['ingredient']=[text_process(x) for x in testdf['ingredient']]\n",
    "\n",
    "# Total quantity of each ingredient needed for recipe (grams* quantity) and condense into a list.\n",
    "testdf['norm_quant'] = round(testdf['unit']*testdf['quantity'])\n",
    "testdf['norm_quant'] = testdf['norm_quant'].astype(int)\n",
    "\n",
    "# One word per ingredient - keep only nouns, join multiple words as one string\n",
    "testdf['ingredient'] = [test_noun(tokens) for tokens in testdf['ingredient']]\n",
    "testdf['ingredient'] = [''.join(tokens) for tokens in testdf['ingredient']]\n",
    "\n",
    "# Repeat word by normalized quantity\n",
    "testdf['ingredient'] = testdf['ingredient'].astype(str) + ' '\n",
    "zipped = list(zip(testdf['ingredient'], testdf['norm_quant']))\n",
    "inglist = [t[0]*t[1] for t in zipped]\n",
    "inglist = ''.join(inglist)"
   ]
  },
  {
   "cell_type": "code",
   "execution_count": null,
   "metadata": {},
   "outputs": [],
   "source": [
    "ingredient_bow_inglist = bow_transformer.transform(inglist) # Transform test dataset to Bag of Words\n",
    "ingredient_bow_inglist"
   ]
  },
  {
   "cell_type": "code",
   "execution_count": null,
   "metadata": {},
   "outputs": [],
   "source": [
    "from sklearn.linear_model import LinearRegression\n",
    "linreg = LinearRegression()\n",
    "linreg.fit(ingredient_bow_train,y_train['totalCal'])\n",
    "\n",
    "predictions = linreg.predict(ingredient_bow_inglist)\n",
    "predictions"
   ]
  },
  {
   "cell_type": "code",
   "execution_count": null,
   "metadata": {},
   "outputs": [],
   "source": [
    "ingredient_bow_train"
   ]
  },
  {
   "cell_type": "code",
   "execution_count": null,
   "metadata": {},
   "outputs": [],
   "source": []
  },
  {
   "cell_type": "markdown",
   "metadata": {},
   "source": [
    "# NLP\n",
    "1) Bag of words\n",
    "\n",
    "2) TF-IDF (term frequency-inverse document frequency)\n",
    "\n",
    "3) Combine word weights (from TF-IDF) with quantitative metrics (quantity, serving size), then model based on that\n",
    "\n",
    "4) Train test split\n",
    "\n",
    "5) Machine learning model\n"
   ]
  },
  {
   "cell_type": "code",
   "execution_count": 16,
   "metadata": {
    "scrolled": false
   },
   "outputs": [
    {
     "name": "stdout",
     "output_type": "stream",
     "text": [
      "Training set contains 1836 recipes in total\n",
      "Test set contains 460 recipes in total\n"
     ]
    }
   ],
   "source": [
    "df.rename(columns = {'recipe_key':'key'}, inplace = True) \n",
    "final_df.rename(columns = {'recipe_key':'key'}, inplace = True) \n",
    "X_ing = final_df.groupby('recipe_key')['ingredient'].apply(' '.join) # join list of strings into one string per recipe\n",
    "X_ing = pd.DataFrame(X_ing)\n",
    "X_ing[['orig_ing','name']] = df.set_index('key')[['recipeIngredient','name']]\n",
    "\n",
    "y_cal = df.set_index('key')[['totalCal','calPerServing','name']].sort_index().copy()\n",
    "\n",
    "y_label = df.set_index('key')['totalCal']\n",
    "X_keys = df.reset_index(drop=True)['key']\n",
    "\n",
    "from sklearn.model_selection import train_test_split # Train Test Split\n",
    "key_train, key_test, y_train_label, y_test_label = train_test_split(X_keys, y_label, test_size=0.2, random_state=101) # won't work with multilevel index\n",
    "\n",
    "X_train = X_ing.loc[key_train]\n",
    "X_test = X_ing.loc[key_test]\n",
    "y_train = y_cal.loc[key_train]\n",
    "y_test = y_cal.loc[key_test]\n",
    "\n",
    "X_train.sort_index(inplace=True)\n",
    "X_test.sort_index(inplace=True)\n",
    "y_train.sort_index(inplace=True)\n",
    "y_test.sort_index(inplace=True)\n",
    "\n",
    "X_test.drop([10392, 16571,17337],inplace=True)\n",
    "y_test.drop([10392, 16571,17337],inplace=True)\n",
    "\n",
    "print(\"Training set contains {} recipes in total\".format(len(key_train)))\n",
    "print(\"Test set contains {} recipes in total\".format(len(key_test)))"
   ]
  },
  {
   "cell_type": "code",
   "execution_count": 251,
   "metadata": {},
   "outputs": [],
   "source": [
    "# Save data as csv\n",
    "X_train.to_csv('X_train.csv')\n",
    "X_test.to_csv('X_test.csv')\n",
    "y_train.to_csv('y_train.csv')\n",
    "y_test.reset_index().to_csv('y_test.csv')"
   ]
  },
  {
   "cell_type": "markdown",
   "metadata": {},
   "source": [
    "# NLP - separate steps\n",
    "#### Bag of words vectorization"
   ]
  },
  {
   "cell_type": "code",
   "execution_count": 199,
   "metadata": {
    "scrolled": true
   },
   "outputs": [
    {
     "name": "stdout",
     "output_type": "stream",
     "text": [
      "372\n",
      "['allspice', 'almond', 'almondbark', 'almondbrickle', 'almondbutter', 'almondflour', 'almondmeal', 'almondmilk', 'almondpaste', 'anise', 'aniseaniseoil', 'aniseoil', 'aniseseed', 'apple', 'applebutter', 'applecinnamongranola', 'applejuice', 'applepeel', 'applepie', 'applesauce', 'apricot', 'apricotfruit', 'apricotjam', 'apricotpreserve', 'avocado', 'bacon', 'bacondice', 'banana', 'bananapudding', 'barley', 'bean', 'berry', 'berrycranberrysauce', 'biscuit', 'biscuitdough', 'blackberry', 'blockchocolate', 'blueberry', 'bourbon', 'bourbonwhiskey', 'bran', 'brandy', 'bread', 'breakfast', 'brownie', 'brownienut', 'butter', 'buttermargarine', 'buttermilk', 'butterscotch', 'butterscotchpudding', 'butterycracker', 'caloriechocolate', 'canolaoil', 'caramel', 'caramelicecreamtopping', 'carawayseed', 'cardamom', 'carob', 'carrot', 'cashew', 'cashewbutter', 'castorsugarsuperfinesugar', 'chaitea', 'cheddarcheese', 'cherry', 'cherrypie', 'cherrypreserve', 'chestnutflour', 'chickpea', 'chocolate', 'chocolatealmond', 'chocolatealmondbark', 'chocolatebutter', 'chocolatebuttereighth', 'chocolatecaramel', 'chocolatechocolate', 'chocolatecoating', 'chocolatecookie', 'chocolatedrink', 'chocolatefrosting', 'chocolatefudgefrosting', 'chocolatefudgepudding', 'chocolatemilkball', 'chocolatepeanutbutter', 'chocolatepudding', 'chocolatesandwich', 'chocolatesandwichcookie', 'chocolatesandwichcreme', 'chocolatesprinkle', 'chocolatestripe', 'chocolatesyrup', 'chocolatetoffee', 'chocolatewafer', 'chowmeinnoodle', 'chunkypeanutbutter', 'cidervinegar', 'cinnamon', 'cinnamongrahamcracker', 'cinnamonsugar', 'cinnamonswirlcoffee', 'citron', 'clove', 'cocoa', 'coconut', 'coconutflour', 'coconutfrosting', 'coconutmilk', 'coconutoil', 'coconutpalmsugar', 'coconutsugar', 'coffee', 'coffeeliqueur', 'coffeewater', 'coloring', 'cookbutterscotchpudding', 'cookie', 'cornflake', 'cornflour', 'cornmeal', 'cornoil', 'cornstarch', 'cornsyrup', 'cranberry', 'cranberryfruit', 'cranberrysauce', 'cream', 'creambutter', 'creamcheese', 'creamcheesefrosting', 'creamliqueur', 'creamtartar', 'creme', 'cremeflavoring', 'cremeliqueur', 'crescentroll', 'crescentrolldough', 'currant', 'custard', 'date', 'datepaste', 'decoratorsugar', 'demerarasugar', 'dough', 'drink', 'dulceleche', 'dutchprocesscocoa', 'earlgreycoffeegrinder', 'egg', 'eggbeaten', 'eggnog', 'envelope', 'espresso', 'eyeball', 'fatmargarine', 'fig', 'figpreserve', 'flake', 'flavorberryjam', 'flavorfruitjam', 'flour', 'frosting', 'fruit', 'fruitcocktail', 'fruitpeel', 'fruitpreserveflavor', 'fudgebrownie', 'fudgestripe', 'germ', 'ginger', 'gingerroot', 'glitter', 'grahamcracker', 'gramacesulfamepotassiumsweetener', 'granola', 'grapefruit', 'grapefruitjuice', 'gteablendlemongrass', 'gumdrop', 'habaneropepper', 'hazelnut', 'hazelnutalmond', 'hazelnutliqueur', 'hersheycinnamon', 'himalayansalt', 'honey', 'honeygraham', 'icecream', 'icewater', 'infant', 'juice', 'juicepineapple', 'kale', 'lard', 'lavender', 'lavenderbud', 'lavenderflower', 'leaf', 'lemon', 'lemonade', 'lemonjuice', 'lemonpeel', 'lemonpudding', 'lime', 'limejuice', 'limepeel', 'liqueur', 'lollipop', 'macadamianut', 'mace', 'mahlab', 'mango', 'maple', 'maplesyrup', 'maraschinocherry', 'maraschinocherryjuice', 'margarine', 'margarinebutter', 'marshmallow', 'marshmallowfluff', 'matzomeal', 'mayonnaise', 'mcintoshapple', 'meal', 'milk', 'milkchocolate', 'mincemeatpie', 'nectar', 'nougat', 'nut', 'nutella', 'nutmeg', 'oat', 'oatbran', 'oatflour', 'oatmeal', 'oil', 'orange', 'orangeblossomwater', 'orangedecoratorsugar', 'orangeflavoring', 'orangejuice', 'orangeliqueur', 'orangemarmalade', 'pancake', 'pastryflour', 'peach', 'peanut', 'peanutbutter', 'peanutbuttersandwich', 'pear', 'pearlsugar', 'pecan', 'pepper', 'pepperamount', 'peppermint', 'peppermintpatty', 'pequinchilepepper', 'persimmon', 'persimmonpulp', 'piecrust', 'pineapple', 'pineapplejuice', 'pinenut', 'pistachio', 'pistachionut', 'pistachiopudding', 'pkgchocolatepudding', 'poppyseed', 'potato', 'potatoflour', 'potatostarch', 'pretzel', 'prune', 'puffed', 'puffedrice', 'puffpastry', 'pumpkin', 'pumpkinpie', 'quinoa', 'raisin', 'raisinpaste', 'rapberryjam', 'raspberry', 'raspberryjam', 'raspberrypreserve', 'rhubarb', 'rice', 'riceflour', 'ricottacheese', 'rollcaramel', 'rootbeer', 'rosemary', 'rum', 'salt', 'saltinecracker', 'seed', 'seedmeal', 'sesameoil', 'sesameseed', 'shade', 'sheetpuffpastry', 'shoestringlicorice', 'shortbreadcookie', 'shortening', 'silverdragee', 'skimmilk', 'soda', 'sodacracker', 'sorghumflour', 'sourball', 'sourcream', 'soymilk', 'sprinkle', 'squash', 'stevia', 'steviasugar', 'stoneflour', 'stoutbeerfoam', 'strawberry', 'strawberryjam', 'strawberrypreserve', 'sucrolosesweetener', 'sugar', 'sugarchocolatefudgepudding', 'sugarcookie', 'sugarcornflake', 'sugarcrystal', 'sugarsprinkle', 'sugarsprinkling', 'superfinesugar', 'sweetener', 'sweetpotato', 'syrup', 'tahini', 'tapiocaflour', 'tea', 'teapooncocoa', 'teapooncream', 'teapoonlemonjuice', 'tequila', 'thawed', 'toffee', 'tofu', 'tubedecoratinggel', 'tubegel', 'twist', 'vanilla', 'vanillabean', 'vanillacoating', 'vanillacustard', 'vanillafrosting', 'vanillapudding', 'vanillarum', 'vanillasugar', 'vanillawafer', 'vegetable', 'velvet', 'vinegar', 'vinelicorice', 'vodka', 'walnut', 'water', 'whippingcream', 'whiskey', 'wine', 'xanthangum', 'yam', 'yeast', 'yellow', 'yogurt', 'zucchini']\n"
     ]
    }
   ],
   "source": [
    "from sklearn.feature_extraction.text import CountVectorizer \n",
    "bow_transformer = CountVectorizer(analyzer=text_process).fit(X_train['ingredient']) # Bag of Words\n",
    "print(len(bow_transformer.vocabulary_)) # Print total number of vocab words\n",
    "print(bow_transformer.get_feature_names()) # Print all words"
   ]
  },
  {
   "cell_type": "code",
   "execution_count": 200,
   "metadata": {},
   "outputs": [
    {
     "name": "stdout",
     "output_type": "stream",
     "text": [
      "Shape of Sparse Matrix:  (1836, 372)\n",
      "Amount of Non-Zero occurences:  13928\n",
      "sparsity: 2.0392625389462835\n"
     ]
    }
   ],
   "source": [
    "# Transform data to bag of words\n",
    "\n",
    "ingredient_bow_train = bow_transformer.transform(X_train['ingredient']) # Transform train dataset to Bag of Words\n",
    "ingredient_bow_test = bow_transformer.transform(X_test['ingredient']) # Transform test dataset to Bag of Words\n",
    "\n",
    "# Bag of word counts are saved in a sparse matrix which compresses the information to save computer memory\n",
    "print('Shape of Sparse Matrix: ', ingredient_bow_train.shape) # matrix size (number of recipes, total number of words)\n",
    "print('Amount of Non-Zero occurences: ', ingredient_bow_train.nnz) \n",
    "sparsity = (100.0 * ingredient_bow_train.nnz / (ingredient_bow_train.shape[0] * ingredient_bow_train.shape[1]))\n",
    "print('sparsity: {}'.format(sparsity)) # total number of words / (number of recipes * total number of words)*100% compares non-zero words versus total number of words"
   ]
  },
  {
   "cell_type": "code",
   "execution_count": null,
   "metadata": {},
   "outputs": [],
   "source": [
    "# Sparse matrix[ingredient_name,recipe]\n",
    "print(ingredient_bow_train[:,1])"
   ]
  },
  {
   "cell_type": "code",
   "execution_count": null,
   "metadata": {
    "scrolled": false
   },
   "outputs": [],
   "source": [
    "# Example bag of words on one recipe\n",
    "from sklearn.feature_extraction.text import CountVectorizer # Bag of Words\n",
    "bow0 = bow_transformer.transform([X_train['ingredient'].loc[9611]])\n",
    "print(bow0) # tells us what words appear and the frequency\n",
    "print('\\n')\n",
    "print(bow_transformer.get_feature_names()[145]) # This tells us what the word is for a given index"
   ]
  },
  {
   "cell_type": "code",
   "execution_count": null,
   "metadata": {},
   "outputs": [],
   "source": [
    "# Sparse matrix[ingredient_name,recipe]\n",
    "print(bow_transformer.get_feature_names()[145]) # This tells us what the word is for a given index"
   ]
  },
  {
   "cell_type": "markdown",
   "metadata": {},
   "source": [
    "#### TF-IDF (term frequency-inverse document frequency)"
   ]
  },
  {
   "cell_type": "code",
   "execution_count": 69,
   "metadata": {},
   "outputs": [
    {
     "name": "stdout",
     "output_type": "stream",
     "text": [
      "(285, 141)\n",
      "\n",
      "\n",
      "(72, 141)\n"
     ]
    }
   ],
   "source": [
    "from sklearn.feature_extraction.text import TfidfTransformer\n",
    "tfidf_transformer = TfidfTransformer().fit(ingredient_bow_train) # weight of words over whole document\n",
    "\n",
    "# Example TF-IDF on one recipe\n",
    "# tfidf0 = tfidf_transformer.transform(bow0)\n",
    "# print(tfidf0)\n",
    "\n",
    "# Transform the entire bag-of-words corpus into TF-IDF corpus at once:\n",
    "ingredient_tfidf_train = tfidf_transformer.transform(ingredient_bow_train)\n",
    "ingredient_tfidf_test = tfidf_transformer.transform(ingredient_bow_test)\n",
    "print(ingredient_tfidf_train.shape)\n",
    "print('\\n')\n",
    "print(ingredient_tfidf_test.shape)"
   ]
  },
  {
   "cell_type": "code",
   "execution_count": null,
   "metadata": {},
   "outputs": [],
   "source": [
    "# To see document frequency of a specific word\n",
    "print(tfidf_transformer.idf_[bow_transformer.vocabulary_['almond']])"
   ]
  },
  {
   "cell_type": "markdown",
   "metadata": {},
   "source": [
    "### Save ML model using pickle"
   ]
  },
  {
   "cell_type": "code",
   "execution_count": 254,
   "metadata": {},
   "outputs": [],
   "source": [
    "# Save pickle files\n",
    "import pickle\n",
    "pickle.dump(bow_transformer,open('bow_transformer.sav','wb'))\n",
    "pickle.dump(ingredient_bow_train,open('ingredient_bow_train.sav','wb'))\n",
    "pickle.dump(ingredient_bow_test,open('ingredient_bow_test.sav','wb'))\n",
    "pickle.dump(ingredient_tfidf_train,open('ingredient_tfidf_train.sav','wb'))\n",
    "pickle.dump(ingredient_tfidf_test,open('ingredient_tfidf_test.sav','wb'))"
   ]
  },
  {
   "cell_type": "code",
   "execution_count": 13,
   "metadata": {
    "scrolled": false
   },
   "outputs": [],
   "source": [
    "# Load pickle files\n",
    "import pickle\n",
    "bow_transformer = pickle.load(open('bow_transformer.sav','rb'))\n",
    "ingredient_bow_train = pickle.load(open('ingredient_bow_train.sav','rb'))\n",
    "ingredient_bow_test = pickle.load(open('ingredient_bow_test.sav','rb'))"
   ]
  },
  {
   "cell_type": "code",
   "execution_count": 14,
   "metadata": {},
   "outputs": [
    {
     "name": "stdout",
     "output_type": "stream",
     "text": [
      "372\n",
      "['allspice', 'almond', 'almondbark', 'almondbrickle', 'almondbutter', 'almondflour', 'almondmeal', 'almondmilk', 'almondpaste', 'anise', 'aniseaniseoil', 'aniseoil', 'aniseseed', 'apple', 'applebutter', 'applecinnamongranola', 'applejuice', 'applepeel', 'applepie', 'applesauce', 'apricot', 'apricotfruit', 'apricotjam', 'apricotpreserve', 'avocado', 'bacon', 'bacondice', 'banana', 'bananapudding', 'barley', 'bean', 'berry', 'berrycranberrysauce', 'biscuit', 'biscuitdough', 'blackberry', 'blockchocolate', 'blueberry', 'bourbon', 'bourbonwhiskey', 'bran', 'brandy', 'bread', 'breakfast', 'brownie', 'brownienut', 'butter', 'buttermargarine', 'buttermilk', 'butterscotch', 'butterscotchpudding', 'butterycracker', 'caloriechocolate', 'canolaoil', 'caramel', 'caramelicecreamtopping', 'carawayseed', 'cardamom', 'carob', 'carrot', 'cashew', 'cashewbutter', 'castorsugarsuperfinesugar', 'chaitea', 'cheddarcheese', 'cherry', 'cherrypie', 'cherrypreserve', 'chestnutflour', 'chickpea', 'chocolate', 'chocolatealmond', 'chocolatealmondbark', 'chocolatebutter', 'chocolatebuttereighth', 'chocolatecaramel', 'chocolatechocolate', 'chocolatecoating', 'chocolatecookie', 'chocolatedrink', 'chocolatefrosting', 'chocolatefudgefrosting', 'chocolatefudgepudding', 'chocolatemilkball', 'chocolatepeanutbutter', 'chocolatepudding', 'chocolatesandwich', 'chocolatesandwichcookie', 'chocolatesandwichcreme', 'chocolatesprinkle', 'chocolatestripe', 'chocolatesyrup', 'chocolatetoffee', 'chocolatewafer', 'chowmeinnoodle', 'chunkypeanutbutter', 'cidervinegar', 'cinnamon', 'cinnamongrahamcracker', 'cinnamonsugar', 'cinnamonswirlcoffee', 'citron', 'clove', 'cocoa', 'coconut', 'coconutflour', 'coconutfrosting', 'coconutmilk', 'coconutoil', 'coconutpalmsugar', 'coconutsugar', 'coffee', 'coffeeliqueur', 'coffeewater', 'coloring', 'cookbutterscotchpudding', 'cookie', 'cornflake', 'cornflour', 'cornmeal', 'cornoil', 'cornstarch', 'cornsyrup', 'cranberry', 'cranberryfruit', 'cranberrysauce', 'cream', 'creambutter', 'creamcheese', 'creamcheesefrosting', 'creamliqueur', 'creamtartar', 'creme', 'cremeflavoring', 'cremeliqueur', 'crescentroll', 'crescentrolldough', 'currant', 'custard', 'date', 'datepaste', 'decoratorsugar', 'demerarasugar', 'dough', 'drink', 'dulceleche', 'dutchprocesscocoa', 'earlgreycoffeegrinder', 'egg', 'eggbeaten', 'eggnog', 'envelope', 'espresso', 'eyeball', 'fatmargarine', 'fig', 'figpreserve', 'flake', 'flavorberryjam', 'flavorfruitjam', 'flour', 'frosting', 'fruit', 'fruitcocktail', 'fruitpeel', 'fruitpreserveflavor', 'fudgebrownie', 'fudgestripe', 'germ', 'ginger', 'gingerroot', 'glitter', 'grahamcracker', 'gramacesulfamepotassiumsweetener', 'granola', 'grapefruit', 'grapefruitjuice', 'gteablendlemongrass', 'gumdrop', 'habaneropepper', 'hazelnut', 'hazelnutalmond', 'hazelnutliqueur', 'hersheycinnamon', 'himalayansalt', 'honey', 'honeygraham', 'icecream', 'icewater', 'infant', 'juice', 'juicepineapple', 'kale', 'lard', 'lavender', 'lavenderbud', 'lavenderflower', 'leaf', 'lemon', 'lemonade', 'lemonjuice', 'lemonpeel', 'lemonpudding', 'lime', 'limejuice', 'limepeel', 'liqueur', 'lollipop', 'macadamianut', 'mace', 'mahlab', 'mango', 'maple', 'maplesyrup', 'maraschinocherry', 'maraschinocherryjuice', 'margarine', 'margarinebutter', 'marshmallow', 'marshmallowfluff', 'matzomeal', 'mayonnaise', 'mcintoshapple', 'meal', 'milk', 'milkchocolate', 'mincemeatpie', 'nectar', 'nougat', 'nut', 'nutella', 'nutmeg', 'oat', 'oatbran', 'oatflour', 'oatmeal', 'oil', 'orange', 'orangeblossomwater', 'orangedecoratorsugar', 'orangeflavoring', 'orangejuice', 'orangeliqueur', 'orangemarmalade', 'pancake', 'pastryflour', 'peach', 'peanut', 'peanutbutter', 'peanutbuttersandwich', 'pear', 'pearlsugar', 'pecan', 'pepper', 'pepperamount', 'peppermint', 'peppermintpatty', 'pequinchilepepper', 'persimmon', 'persimmonpulp', 'piecrust', 'pineapple', 'pineapplejuice', 'pinenut', 'pistachio', 'pistachionut', 'pistachiopudding', 'pkgchocolatepudding', 'poppyseed', 'potato', 'potatoflour', 'potatostarch', 'pretzel', 'prune', 'puffed', 'puffedrice', 'puffpastry', 'pumpkin', 'pumpkinpie', 'quinoa', 'raisin', 'raisinpaste', 'rapberryjam', 'raspberry', 'raspberryjam', 'raspberrypreserve', 'rhubarb', 'rice', 'riceflour', 'ricottacheese', 'rollcaramel', 'rootbeer', 'rosemary', 'rum', 'salt', 'saltinecracker', 'seed', 'seedmeal', 'sesameoil', 'sesameseed', 'shade', 'sheetpuffpastry', 'shoestringlicorice', 'shortbreadcookie', 'shortening', 'silverdragee', 'skimmilk', 'soda', 'sodacracker', 'sorghumflour', 'sourball', 'sourcream', 'soymilk', 'sprinkle', 'squash', 'stevia', 'steviasugar', 'stoneflour', 'stoutbeerfoam', 'strawberry', 'strawberryjam', 'strawberrypreserve', 'sucrolosesweetener', 'sugar', 'sugarchocolatefudgepudding', 'sugarcookie', 'sugarcornflake', 'sugarcrystal', 'sugarsprinkle', 'sugarsprinkling', 'superfinesugar', 'sweetener', 'sweetpotato', 'syrup', 'tahini', 'tapiocaflour', 'tea', 'teapooncocoa', 'teapooncream', 'teapoonlemonjuice', 'tequila', 'thawed', 'toffee', 'tofu', 'tubedecoratinggel', 'tubegel', 'twist', 'vanilla', 'vanillabean', 'vanillacoating', 'vanillacustard', 'vanillafrosting', 'vanillapudding', 'vanillarum', 'vanillasugar', 'vanillawafer', 'vegetable', 'velvet', 'vinegar', 'vinelicorice', 'vodka', 'walnut', 'water', 'whippingcream', 'whiskey', 'wine', 'xanthangum', 'yam', 'yeast', 'yellow', 'yogurt', 'zucchini']\n"
     ]
    }
   ],
   "source": [
    "# Use words idenified only from chocolate chip cookies\n",
    "import pickle\n",
    "bow_transformer = pickle.load(open('bow_transformer.sav','rb'))\n",
    "print(len(bow_transformer.vocabulary_)) # Print total number of vocab words\n",
    "print(bow_transformer.get_feature_names()) # Print all words"
   ]
  },
  {
   "cell_type": "markdown",
   "metadata": {},
   "source": [
    "## Remove low variance features\n",
    "Doesn't remove anything from the sparse matrix (because there are no features that have the same value for all recipes). Need to increase the threshold"
   ]
  },
  {
   "cell_type": "code",
   "execution_count": null,
   "metadata": {},
   "outputs": [],
   "source": [
    "from sklearn.feature_selection import VarianceThreshold\n",
    "selector = VarianceThreshold()\n",
    "selector.fit_transform(ingredient_bow_train)"
   ]
  },
  {
   "cell_type": "markdown",
   "metadata": {},
   "source": [
    "# Linear Regression\n",
    "\n",
    "### Pipeline"
   ]
  },
  {
   "cell_type": "code",
   "execution_count": null,
   "metadata": {},
   "outputs": [],
   "source": [
    "from sklearn.pipeline import Pipeline\n",
    "from sklearn.feature_extraction.text import CountVectorizer # Bag of Words\n",
    "from sklearn.feature_extraction.text import TfidfTransformer # TF-IDF\n",
    "from sklearn.linear_model import LinearRegression\n",
    "pipeline = Pipeline([\n",
    "    ('bow', CountVectorizer(analyzer=text_process)),  # strings to token integer counts\n",
    "#    ('tfidf', TfidfTransformer()),  # integer counts to weighted TF-IDF scores\n",
    "    ('classifier', LinearRegression(fit_intercept=False)),  # train on TF-IDF vectors w/ Naive Bayes classifier\n",
    "])\n",
    "\n",
    "pipeline.fit(X_train['ingredient'],y_train['totalCal']) # Fit Model using training data\n",
    "predictions = pipeline.predict(X_test['ingredient']) # Predict using test data\n",
    "print(predictions)"
   ]
  },
  {
   "cell_type": "markdown",
   "metadata": {},
   "source": [
    "### Separate steps\n",
    "For plotting predicted vs. true values, Linear Regression with fit_intercept=True provies the best results (2X better R2, slope, etc. if fitting intercept vs. not fitting intercept)."
   ]
  },
  {
   "cell_type": "code",
   "execution_count": 17,
   "metadata": {},
   "outputs": [
    {
     "data": {
      "text/plain": [
       "array([ 6969.44841552,  6235.71996267,  5230.06451307,  2825.21619697,\n",
       "        4890.20659173,  4825.80312209,  3759.26253189,  4505.19194522,\n",
       "        4444.59283498,  1991.9913209 ,  5054.19883688,  3102.8420893 ,\n",
       "        6992.05981251,  4100.62526161,  3767.92608127,  2057.89823653,\n",
       "        4801.14969224,  5177.70174512,  7457.95848283,  6450.21296424,\n",
       "        4167.85385665,  4046.08917272,  2798.84325802,  5908.86526694,\n",
       "        5768.8382498 ,  1965.63647477,  5256.35474354,  1836.1749542 ,\n",
       "        3984.28875778,  3503.85932703,  6949.17550303,  4052.32445369,\n",
       "        4355.07822809,  4548.0828302 ,  3598.69582261,  5327.31006355,\n",
       "        8003.98094569,  3723.72082707,  4516.55887138,  5657.37889961,\n",
       "        3985.07132142,  5687.19756861,  5001.97174852,  7172.73889415,\n",
       "        2453.59519207,  5794.27970354,  6293.27831983,  6825.04106051,\n",
       "        3103.92842301,  2083.40572445,  3371.89926297,  2387.49508155,\n",
       "        4596.43965759,  5704.06521754,  3170.15199683, -1884.52351533,\n",
       "        5869.18518402,  4878.04902871,  5720.02913752,  3891.15437915,\n",
       "        9195.71031431,  5899.46611304,  5476.89214122,  5572.4328953 ,\n",
       "        3677.23105725,  3852.08516845,  1739.07239151,  3749.65879959,\n",
       "        3670.29746059,  3892.69925947,  4090.70076506,  4525.16126176,\n",
       "        3102.17195416,  4467.07811297,  2451.15344597,  4437.16285706,\n",
       "        3657.10716404,  6347.59555247,  4837.8327304 ,  6609.60900786,\n",
       "        4281.84666946,  3966.0109307 ,  3501.24705599,  2697.87268936,\n",
       "        2051.99113242,  6292.4110266 ,  6484.37680131,  2577.57908504,\n",
       "        3902.16613185,  5653.1591753 ,  5180.80104531,  4048.63124401,\n",
       "        5133.91220143,  6329.37557065,  8899.84494193,  3658.27101158,\n",
       "        4254.66078312,  3845.96256433,  4285.83411257,  3381.5487988 ,\n",
       "        3286.34559097,  3710.09013224,  4296.85900863,  2456.23858891,\n",
       "        7022.6201137 ,  5538.85562207,  3536.08030244,  6547.30442991,\n",
       "        5570.06583306,  2967.5006965 ,  4946.28796529,  5840.0499283 ,\n",
       "        5619.76181463,  2081.13496434,  5634.6386946 ,  4015.09455583,\n",
       "        6539.36454713,  1946.45769269,  3761.40384896,  7457.4723605 ,\n",
       "        7436.39707253,  3114.89963799,  5699.18868083,  3416.49771716,\n",
       "        4448.50265237,  4283.75688035,  3611.09531886,  7167.27035429,\n",
       "        1673.14403675,  3704.9729774 ,  5285.88219677,  4057.36157656,\n",
       "        4595.71001744,  5086.66895168,  6707.6297654 ,  5147.29564941,\n",
       "        3618.05165093,  4399.97494411,  5776.72752744,  3709.95864163,\n",
       "        3644.67346122,  3945.59625067,  4876.10964855,  2918.09178481,\n",
       "        5824.19719612,  5195.75950619,  5307.55662473,  3817.80417938,\n",
       "        3426.5869247 ,  4009.13806065,  6810.19401904,  4423.84035782,\n",
       "        4346.06147264,  5541.78872512,  5325.41006058,  4156.5967132 ,\n",
       "        6329.37557065,  3506.53906878,  1353.26995046,  2105.77091263,\n",
       "        3027.8810073 ,  7376.68416057,  5382.28216845,  4326.71217958,\n",
       "        4118.03735421,  4789.85286429,  5791.8198712 ,  3516.40184996,\n",
       "        3105.79180403,  4651.13341715,  6295.33854512,  6904.01835903,\n",
       "        4904.35534167,  4571.86610673,  3527.66402106,  4010.23742394,\n",
       "        5015.52319613,  3242.41930236,  4087.81401998,  5056.56780228,\n",
       "        6244.28212443,  6175.82865239,  2473.65364041,  5448.26417873,\n",
       "        4113.38341056,  4147.81089957,  4930.24246875,  4380.14731444,\n",
       "        3864.52154446,  4028.48067361,  2558.84765534,  2720.9465463 ,\n",
       "        3798.85557082,  3498.211321  ,  8272.54772651,  4651.45156844,\n",
       "        3633.23919447,  6031.44847845,  5600.87266941,  4590.92667728,\n",
       "        5047.1969636 ,  6792.0536237 ,  8411.93155485,  3785.81308588,\n",
       "        4354.1915884 ,  6382.70969637,  7697.35174108,  3543.10933034,\n",
       "        4053.63404651,  4028.61552103,  6290.23805614,  4583.24526559,\n",
       "        3894.31031966,  6403.67603222,  6798.99150998,  4776.94933207,\n",
       "        3210.69050916,  3954.13946727,  2965.0256182 ,  3989.62064384,\n",
       "        3715.89367859,  3552.61977782,  8597.57168202,  4293.23703904,\n",
       "        3825.78980461,  3116.52417072,  5878.30660401,  4479.7090203 ,\n",
       "        4029.26293159,  3678.43724531,  4032.26149007,  2769.0490397 ,\n",
       "        9559.47284955,  4017.48386943,  3895.15283849,  6912.4850722 ,\n",
       "        4316.05682546,  4364.04704158,  5029.73630073,  5805.53767947,\n",
       "        4072.51178429,  4601.35780258,  4494.12801548,  4019.34137588,\n",
       "        3744.85123962,  2950.97227456,  7929.6106975 ,  3251.7584812 ,\n",
       "        5913.26039276,  6873.63595987,  5199.10648153,  4425.60388157,\n",
       "        6341.380131  ,  3333.82225911,  5404.95880515,  3369.60362201,\n",
       "        2328.47569073,  4825.37457575,  3992.12357169,  3831.10666641,\n",
       "        4299.19771895,  4476.64920375,  5052.6667039 ,  6434.42326511,\n",
       "        3467.75851681,  3830.22532934,  4257.46792325,  3339.69850444,\n",
       "        3671.27549152,  4313.37637826,  4709.84087396,  3339.41871797,\n",
       "        3765.7655008 ,  5504.34775197,  4099.97143081,  6222.88542942,\n",
       "        4930.71982272,  3956.7960644 ,  4761.50156482,  3725.02804333,\n",
       "        5466.9818609 ,  4325.88728152,  6777.65054314,  6760.9093458 ,\n",
       "        4208.53027919,  3706.1071234 ,  4090.42401914,  5326.87802596,\n",
       "        1986.80396376,  5731.22767107,  4298.3790093 ,  5505.04847917,\n",
       "        4206.28882986,  2622.53987647,  5270.78477254,  4041.86866808,\n",
       "        5224.32640329,  2747.3623821 ,  4086.23443361,  3550.76621566,\n",
       "        5691.50364489,   -83.68020518,  3162.13173773,  6124.04295882,\n",
       "        5103.03282366,  7650.61019669,  4108.58989921,  3293.50201734,\n",
       "        5677.22809797,  3550.30203005,  4568.86265716,  5154.52483443,\n",
       "        4402.56565211,  4448.64079382,  4648.20184276,  6431.35828152,\n",
       "        5935.32037185,  3721.53369882,  6848.00193466,  5960.37749479,\n",
       "        4134.24227778,  5935.23574583, 11609.35655275,  4016.6660636 ,\n",
       "        5746.68810138,  2119.63601164,  4835.80129438,  3919.54345628,\n",
       "        4666.49434635, 21571.98002923,  4770.19688725,  5304.94851939,\n",
       "        4871.71457104,  3566.40659258,  5662.77072999,  5412.42173007,\n",
       "        3262.12212107,  5491.20972249,  3254.0699571 ,  4240.9835857 ,\n",
       "        6238.63584443,  6053.33595769,  6185.67881785,  5403.41629895,\n",
       "        4918.71055673,  3612.53484783,  7067.02327465,  5017.12428253,\n",
       "        3693.55174279,  2695.58974709,  3378.9948625 ,  2399.58315298,\n",
       "        2021.9945894 ,  7105.48375692,  8501.29543771,  5579.60717686,\n",
       "        3743.64666618,  4070.98989421,  3099.12452413,  4817.9906207 ,\n",
       "        5703.92326944,  4335.65896706, 32351.42572597,  4507.01063955,\n",
       "        2888.97386939,  4828.8594911 ,  7703.66603455,  3954.34181835,\n",
       "        4542.12787763,  3327.59986636,  3449.82811345,  5646.88020854,\n",
       "        3239.46288979,  2721.54874558,  4928.7552074 ,  7977.07488506,\n",
       "        2081.58272348,  3129.58007592,  4355.38643262,  4669.27276261,\n",
       "        2375.65069393,  3126.74560793,  4683.61010731,  7430.67296261,\n",
       "        2008.71616651,  3727.0757303 ,  4784.80452375,  2668.3919772 ,\n",
       "        2723.96289439,  6127.48523621,  5736.18417655,  1642.54526469,\n",
       "        4217.54069914,  4603.74801173,  1345.0093084 ,  4703.14172933,\n",
       "        6598.48233722,  3395.81202948,  9282.70888052,  2034.70923279,\n",
       "        4021.59916352,  9402.91767781,  3362.09265451,  5474.39357419,\n",
       "        2876.80480475,  2330.57001026,  3317.89480347,  3356.46888396,\n",
       "        4461.92820921,  8157.74241906,  3691.20743896,  4075.57011098,\n",
       "        4648.02536304,  2629.71211863,  2510.69292552,  5369.46743573,\n",
       "        1817.97892386,  3143.8674051 ,  6577.84228172,  4310.04509632,\n",
       "        5925.73279546,  4598.99555747,  5348.3584318 ,  4979.34373576,\n",
       "        3441.66597527,  3334.33292085,  4001.43417653,  4579.10502661,\n",
       "        5106.01235191,  2897.73365529,  6662.19095772,  5736.93136868,\n",
       "        3693.59390242,  7787.53215035,  7262.8305073 ,  4345.08547284,\n",
       "        7799.06785539, 10711.66684762,  5032.79059534,  4077.44764079,\n",
       "        2425.6402443 ,  3801.01106678,  5439.55438582,  4907.95382865,\n",
       "        3479.08418748,  2141.13106592,  4048.63124401,  3923.11116984,\n",
       "        4397.30989816,  4165.50380574,  3593.87035126,  5741.50820566,\n",
       "         328.07747385,  5426.84266031,  2980.53025024,  5204.42915313,\n",
       "        7089.54954377])"
      ]
     },
     "execution_count": 17,
     "metadata": {},
     "output_type": "execute_result"
    }
   ],
   "source": [
    "from sklearn.linear_model import LinearRegression\n",
    "linreg = LinearRegression()\n",
    "linreg.fit(ingredient_bow_train,y_train['totalCal'])\n",
    "\n",
    "predictions = linreg.predict(ingredient_bow_test)\n",
    "predictions"
   ]
  },
  {
   "cell_type": "code",
   "execution_count": 238,
   "metadata": {},
   "outputs": [
    {
     "data": {
      "text/plain": [
       "key\n",
       "10022     -1884.523515\n",
       "19244       -83.680205\n",
       "261182      328.077474\n",
       "143012     1345.009308\n",
       "10926      1353.269950\n",
       "              ...     \n",
       "11585      9559.472850\n",
       "235468    10711.666848\n",
       "24455     11609.356553\n",
       "25035     21571.980029\n",
       "26203     32351.425726\n",
       "Name: predictions, Length: 457, dtype: float64"
      ]
     },
     "execution_count": 238,
     "metadata": {},
     "output_type": "execute_result"
    }
   ],
   "source": [
    "y_test['predictions'] = predictions\n",
    "y_test['predictions'].sort_values()"
   ]
  },
  {
   "cell_type": "code",
   "execution_count": 18,
   "metadata": {
    "scrolled": true
   },
   "outputs": [
    {
     "data": {
      "text/plain": [
       "salt              139.049787\n",
       "soda               79.087670\n",
       "anise              73.127486\n",
       "stevia             48.552825\n",
       "creamtartar        43.791142\n",
       "                     ...    \n",
       "habaneropepper    -52.797806\n",
       "lime              -53.382475\n",
       "nutmeg            -65.962131\n",
       "vodka             -77.647124\n",
       "cardamom         -134.037792\n",
       "Name: Coeff, Length: 372, dtype: float64"
      ]
     },
     "execution_count": 18,
     "metadata": {},
     "output_type": "execute_result"
    }
   ],
   "source": [
    "coeff_words = pd.DataFrame(linreg.coef_,bow_transformer.get_feature_names(), columns=['Coeff'])\n",
    "coeff_words['Coeff'].sort_values(ascending=False)"
   ]
  },
  {
   "cell_type": "code",
   "execution_count": 19,
   "metadata": {},
   "outputs": [
    {
     "data": {
      "text/html": [
       "<div>\n",
       "<style scoped>\n",
       "    .dataframe tbody tr th:only-of-type {\n",
       "        vertical-align: middle;\n",
       "    }\n",
       "\n",
       "    .dataframe tbody tr th {\n",
       "        vertical-align: top;\n",
       "    }\n",
       "\n",
       "    .dataframe thead th {\n",
       "        text-align: right;\n",
       "    }\n",
       "</style>\n",
       "<table border=\"1\" class=\"dataframe\">\n",
       "  <thead>\n",
       "    <tr style=\"text-align: right;\">\n",
       "      <th></th>\n",
       "      <th>Coeff</th>\n",
       "    </tr>\n",
       "  </thead>\n",
       "  <tbody>\n",
       "    <tr>\n",
       "      <th>sugar</th>\n",
       "      <td>2.470375</td>\n",
       "    </tr>\n",
       "    <tr>\n",
       "      <th>flour</th>\n",
       "      <td>0.803850</td>\n",
       "    </tr>\n",
       "    <tr>\n",
       "      <th>butter</th>\n",
       "      <td>4.474618</td>\n",
       "    </tr>\n",
       "    <tr>\n",
       "      <th>salt</th>\n",
       "      <td>139.049787</td>\n",
       "    </tr>\n",
       "    <tr>\n",
       "      <th>chocolate</th>\n",
       "      <td>2.967875</td>\n",
       "    </tr>\n",
       "  </tbody>\n",
       "</table>\n",
       "</div>"
      ],
      "text/plain": [
       "                Coeff\n",
       "sugar        2.470375\n",
       "flour        0.803850\n",
       "butter       4.474618\n",
       "salt       139.049787\n",
       "chocolate    2.967875"
      ]
     },
     "execution_count": 19,
     "metadata": {},
     "output_type": "execute_result"
    }
   ],
   "source": [
    "coeff_words.loc[['sugar','flour','butter','salt','chocolate']]"
   ]
  },
  {
   "cell_type": "code",
   "execution_count": 20,
   "metadata": {},
   "outputs": [
    {
     "name": "stdout",
     "output_type": "stream",
     "text": [
      "MAE: 915.59\n",
      "MSE: 3713404.35\n",
      "RMSE: 1927.02\n"
     ]
    },
    {
     "data": {
      "text/plain": [
       "-0.19323064287710223"
      ]
     },
     "execution_count": 20,
     "metadata": {},
     "output_type": "execute_result"
    }
   ],
   "source": [
    "from sklearn import metrics\n",
    "print('MAE:', round(metrics.mean_absolute_error(y_test['totalCal'], predictions),2))\n",
    "print('MSE:', round(metrics.mean_squared_error(y_test['totalCal'], predictions),2))\n",
    "print('RMSE:', round(np.sqrt(metrics.mean_squared_error(y_test['totalCal'], predictions)),2))\n",
    "metrics.r2_score(y_test['totalCal'],predictions) # this r2 is not representative of a normal r2 since it can be negative"
   ]
  },
  {
   "cell_type": "code",
   "execution_count": 21,
   "metadata": {
    "scrolled": false
   },
   "outputs": [
    {
     "data": {
      "text/plain": [
       "Text(0, 0.5, 'Predictions')"
      ]
     },
     "execution_count": 21,
     "metadata": {},
     "output_type": "execute_result"
    },
    {
     "data": {
      "image/png": "[encoded data removed]",
      "text/plain": [
       "<Figure size 432x432 with 1 Axes>"
      ]
     },
     "metadata": {
      "needs_background": "light"
     },
     "output_type": "display_data"
    }
   ],
   "source": [
    "# correlation between true and predicted calories\n",
    "import matplotlib.pyplot as plt\n",
    "import seaborn as sns\n",
    "sns.set_context('poster', font_scale=1)\n",
    "\n",
    "fig = plt.figure(figsize=(6,6))\n",
    "ax = sns.regplot(y_test['totalCal'],predictions)\n",
    "# ax.set_title('Linear Regression')\n",
    "ax.set_xlabel('True Values')\n",
    "ax.set_ylabel('Predictions')"
   ]
  },
  {
   "cell_type": "code",
   "execution_count": 22,
   "metadata": {
    "scrolled": true
   },
   "outputs": [
    {
     "name": "stdout",
     "output_type": "stream",
     "text": [
      "Slope:  0.44\n",
      "Intercept:  2624.0\n",
      "Coefficient of Determinant:  0.3\n",
      "p-value:  2.103929944560467e-37\n",
      "Standard Error:  0.03\n"
     ]
    }
   ],
   "source": [
    "from scipy import stats\n",
    "slope, intercept, r_value, p_value, std_err = stats.linregress(predictions,y_test['totalCal'])\n",
    "\n",
    "print('Slope: ', round(slope,2))\n",
    "print('Intercept: ', round(intercept))\n",
    "print('Coefficient of Determinant: ', round(r_value**2,2))\n",
    "print('p-value: ', p_value)\n",
    "print('Standard Error: ', round(std_err,2)) # standard error of the slope"
   ]
  },
  {
   "cell_type": "markdown",
   "metadata": {},
   "source": [
    "#### Residual plot"
   ]
  },
  {
   "cell_type": "code",
   "execution_count": 23,
   "metadata": {
    "scrolled": true
   },
   "outputs": [
    {
     "data": {
      "text/plain": [
       "<matplotlib.axes._subplots.AxesSubplot at 0x1a28579490>"
      ]
     },
     "execution_count": 23,
     "metadata": {},
     "output_type": "execute_result"
    },
    {
     "data": {
      "image/png": "[encoded data removed]",
      "text/plain": [
       "<Figure size 432x288 with 1 Axes>"
      ]
     },
     "metadata": {
      "needs_background": "light"
     },
     "output_type": "display_data"
    }
   ],
   "source": [
    "# residual plot - if normally distributed, then this model is good. otherwise, should not use linear prediction model\n",
    "sns.set_context('notebook', font_scale=1)\n",
    "\n",
    "sns.distplot(y_test['totalCal']-predictions)"
   ]
  },
  {
   "cell_type": "markdown",
   "metadata": {},
   "source": [
    "#### QQ Plot"
   ]
  },
  {
   "cell_type": "code",
   "execution_count": 107,
   "metadata": {
    "collapsed": true
   },
   "outputs": [
    {
     "data": {
      "text/plain": [
       "((array([-2.96657041e+00, -2.68240836e+00, -2.52245770e+00, -2.40895717e+00,\n",
       "         -2.31996900e+00, -2.24626665e+00, -2.18306108e+00, -2.12753458e+00,\n",
       "         -2.07788372e+00, -2.03288197e+00, -1.99165588e+00, -1.95356058e+00,\n",
       "         -1.91810589e+00, -1.88491019e+00, -1.85367030e+00, -1.82414124e+00,\n",
       "         -1.79612209e+00, -1.76944597e+00, -1.74397265e+00, -1.71958317e+00,\n",
       "         -1.69617567e+00, -1.67366226e+00, -1.65196653e+00, -1.63102164e+00,\n",
       "         -1.61076876e+00, -1.59115583e+00, -1.57213653e+00, -1.55366951e+00,\n",
       "         -1.53571763e+00, -1.51824746e+00, -1.50122875e+00, -1.48463407e+00,\n",
       "         -1.46843845e+00, -1.45261909e+00, -1.43715512e+00, -1.42202739e+00,\n",
       "         -1.40721826e+00, -1.39271147e+00, -1.37849200e+00, -1.36454591e+00,\n",
       "         -1.35086028e+00, -1.33742308e+00, -1.32422312e+00, -1.31124995e+00,\n",
       "         -1.29849378e+00, -1.28594548e+00, -1.27359646e+00, -1.26143866e+00,\n",
       "         -1.24946451e+00, -1.23766688e+00, -1.22603904e+00, -1.21457465e+00,\n",
       "         -1.20326770e+00, -1.19211254e+00, -1.18110378e+00, -1.17023632e+00,\n",
       "         -1.15950535e+00, -1.14890626e+00, -1.13843469e+00, -1.12808649e+00,\n",
       "         -1.11785770e+00, -1.10774455e+00, -1.09774345e+00, -1.08785096e+00,\n",
       "         -1.07806379e+00, -1.06837882e+00, -1.05879303e+00, -1.04930356e+00,\n",
       "         -1.03990766e+00, -1.03060267e+00, -1.02138607e+00, -1.01225543e+00,\n",
       "         -1.00320840e+00, -9.94242751e-01, -9.85356318e-01, -9.76547023e-01,\n",
       "         -9.67812868e-01, -9.59151925e-01, -9.50562339e-01, -9.42042321e-01,\n",
       "         -9.33590143e-01, -9.25204139e-01, -9.16882701e-01, -9.08624274e-01,\n",
       "         -9.00427357e-01, -8.92290497e-01, -8.84212290e-01, -8.76191375e-01,\n",
       "         -8.68226439e-01, -8.60316205e-01, -8.52459441e-01, -8.44654948e-01,\n",
       "         -8.36901568e-01, -8.29198174e-01, -8.21543676e-01, -8.13937013e-01,\n",
       "         -8.06377156e-01, -7.98863107e-01, -7.91393893e-01, -7.83968572e-01,\n",
       "         -7.76586227e-01, -7.69245963e-01, -7.61946915e-01, -7.54688235e-01,\n",
       "         -7.47469104e-01, -7.40288718e-01, -7.33146300e-01, -7.26041088e-01,\n",
       "         -7.18972341e-01, -7.11939339e-01, -7.04941376e-01, -6.97977767e-01,\n",
       "         -6.91047840e-01, -6.84150943e-01, -6.77286436e-01, -6.70453697e-01,\n",
       "         -6.63652116e-01, -6.56881100e-01, -6.50140066e-01, -6.43428447e-01,\n",
       "         -6.36745688e-01, -6.30091245e-01, -6.23464587e-01, -6.16865195e-01,\n",
       "         -6.10292560e-01, -6.03746185e-01, -5.97225581e-01, -5.90730273e-01,\n",
       "         -5.84259791e-01, -5.77813679e-01, -5.71391488e-01, -5.64992778e-01,\n",
       "         -5.58617117e-01, -5.52264083e-01, -5.45933262e-01, -5.39624246e-01,\n",
       "         -5.33336636e-01, -5.27070041e-01, -5.20824077e-01, -5.14598365e-01,\n",
       "         -5.08392535e-01, -5.02206223e-01, -4.96039072e-01, -4.89890729e-01,\n",
       "         -4.83760850e-01, -4.77649095e-01, -4.71555130e-01, -4.65478627e-01,\n",
       "         -4.59419262e-01, -4.53376720e-01, -4.47350686e-01, -4.41340853e-01,\n",
       "         -4.35346918e-01, -4.29368584e-01, -4.23405556e-01, -4.17457546e-01,\n",
       "         -4.11524269e-01, -4.05605444e-01, -3.99700794e-01, -3.93810047e-01,\n",
       "         -3.87932934e-01, -3.82069190e-01, -3.76218554e-01, -3.70380767e-01,\n",
       "         -3.64555576e-01, -3.58742729e-01, -3.52941979e-01, -3.47153080e-01,\n",
       "         -3.41375792e-01, -3.35609876e-01, -3.29855096e-01, -3.24111219e-01,\n",
       "         -3.18378016e-01, -3.12655258e-01, -3.06942722e-01, -3.01240185e-01,\n",
       "         -2.95547427e-01, -2.89864231e-01, -2.84190382e-01, -2.78525667e-01,\n",
       "         -2.72869876e-01, -2.67222800e-01, -2.61584233e-01, -2.55953970e-01,\n",
       "         -2.50331809e-01, -2.44717550e-01, -2.39110994e-01, -2.33511944e-01,\n",
       "         -2.27920205e-01, -2.22335583e-01, -2.16757887e-01, -2.11186927e-01,\n",
       "         -2.05622513e-01, -2.00064458e-01, -1.94512577e-01, -1.88966686e-01,\n",
       "         -1.83426600e-01, -1.77892138e-01, -1.72363120e-01, -1.66839366e-01,\n",
       "         -1.61320698e-01, -1.55806939e-01, -1.50297913e-01, -1.44793444e-01,\n",
       "         -1.39293359e-01, -1.33797484e-01, -1.28305648e-01, -1.22817679e-01,\n",
       "         -1.17333407e-01, -1.11852661e-01, -1.06375273e-01, -1.00901075e-01,\n",
       "         -9.54298984e-02, -8.99615773e-02, -8.44959449e-02, -7.90328356e-02,\n",
       "         -7.35720840e-02, -6.81135255e-02, -6.26569958e-02, -5.72023309e-02,\n",
       "         -5.17493676e-02, -4.62979425e-02, -4.08478930e-02, -3.53990565e-02,\n",
       "         -2.99512708e-02, -2.45043739e-02, -1.90582039e-02, -1.36125992e-02,\n",
       "         -8.16739807e-03, -2.72243912e-03,  2.72243912e-03,  8.16739807e-03,\n",
       "          1.36125992e-02,  1.90582039e-02,  2.45043739e-02,  2.99512708e-02,\n",
       "          3.53990565e-02,  4.08478930e-02,  4.62979425e-02,  5.17493676e-02,\n",
       "          5.72023309e-02,  6.26569958e-02,  6.81135255e-02,  7.35720840e-02,\n",
       "          7.90328356e-02,  8.44959449e-02,  8.99615773e-02,  9.54298984e-02,\n",
       "          1.00901075e-01,  1.06375273e-01,  1.11852661e-01,  1.17333407e-01,\n",
       "          1.22817679e-01,  1.28305648e-01,  1.33797484e-01,  1.39293359e-01,\n",
       "          1.44793444e-01,  1.50297913e-01,  1.55806939e-01,  1.61320698e-01,\n",
       "          1.66839366e-01,  1.72363120e-01,  1.77892138e-01,  1.83426600e-01,\n",
       "          1.88966686e-01,  1.94512577e-01,  2.00064458e-01,  2.05622513e-01,\n",
       "          2.11186927e-01,  2.16757887e-01,  2.22335583e-01,  2.27920205e-01,\n",
       "          2.33511944e-01,  2.39110994e-01,  2.44717550e-01,  2.50331809e-01,\n",
       "          2.55953970e-01,  2.61584233e-01,  2.67222800e-01,  2.72869876e-01,\n",
       "          2.78525667e-01,  2.84190382e-01,  2.89864231e-01,  2.95547427e-01,\n",
       "          3.01240185e-01,  3.06942722e-01,  3.12655258e-01,  3.18378016e-01,\n",
       "          3.24111219e-01,  3.29855096e-01,  3.35609876e-01,  3.41375792e-01,\n",
       "          3.47153080e-01,  3.52941979e-01,  3.58742729e-01,  3.64555576e-01,\n",
       "          3.70380767e-01,  3.76218554e-01,  3.82069190e-01,  3.87932934e-01,\n",
       "          3.93810047e-01,  3.99700794e-01,  4.05605444e-01,  4.11524269e-01,\n",
       "          4.17457546e-01,  4.23405556e-01,  4.29368584e-01,  4.35346918e-01,\n",
       "          4.41340853e-01,  4.47350686e-01,  4.53376720e-01,  4.59419262e-01,\n",
       "          4.65478627e-01,  4.71555130e-01,  4.77649095e-01,  4.83760850e-01,\n",
       "          4.89890729e-01,  4.96039072e-01,  5.02206223e-01,  5.08392535e-01,\n",
       "          5.14598365e-01,  5.20824077e-01,  5.27070041e-01,  5.33336636e-01,\n",
       "          5.39624246e-01,  5.45933262e-01,  5.52264083e-01,  5.58617117e-01,\n",
       "          5.64992778e-01,  5.71391488e-01,  5.77813679e-01,  5.84259791e-01,\n",
       "          5.90730273e-01,  5.97225581e-01,  6.03746185e-01,  6.10292560e-01,\n",
       "          6.16865195e-01,  6.23464587e-01,  6.30091245e-01,  6.36745688e-01,\n",
       "          6.43428447e-01,  6.50140066e-01,  6.56881100e-01,  6.63652116e-01,\n",
       "          6.70453697e-01,  6.77286436e-01,  6.84150943e-01,  6.91047840e-01,\n",
       "          6.97977767e-01,  7.04941376e-01,  7.11939339e-01,  7.18972341e-01,\n",
       "          7.26041088e-01,  7.33146300e-01,  7.40288718e-01,  7.47469104e-01,\n",
       "          7.54688235e-01,  7.61946915e-01,  7.69245963e-01,  7.76586227e-01,\n",
       "          7.83968572e-01,  7.91393893e-01,  7.98863107e-01,  8.06377156e-01,\n",
       "          8.13937013e-01,  8.21543676e-01,  8.29198174e-01,  8.36901568e-01,\n",
       "          8.44654948e-01,  8.52459441e-01,  8.60316205e-01,  8.68226439e-01,\n",
       "          8.76191375e-01,  8.84212290e-01,  8.92290497e-01,  9.00427357e-01,\n",
       "          9.08624274e-01,  9.16882701e-01,  9.25204139e-01,  9.33590143e-01,\n",
       "          9.42042321e-01,  9.50562339e-01,  9.59151925e-01,  9.67812868e-01,\n",
       "          9.76547023e-01,  9.85356318e-01,  9.94242751e-01,  1.00320840e+00,\n",
       "          1.01225543e+00,  1.02138607e+00,  1.03060267e+00,  1.03990766e+00,\n",
       "          1.04930356e+00,  1.05879303e+00,  1.06837882e+00,  1.07806379e+00,\n",
       "          1.08785096e+00,  1.09774345e+00,  1.10774455e+00,  1.11785770e+00,\n",
       "          1.12808649e+00,  1.13843469e+00,  1.14890626e+00,  1.15950535e+00,\n",
       "          1.17023632e+00,  1.18110378e+00,  1.19211254e+00,  1.20326770e+00,\n",
       "          1.21457465e+00,  1.22603904e+00,  1.23766688e+00,  1.24946451e+00,\n",
       "          1.26143866e+00,  1.27359646e+00,  1.28594548e+00,  1.29849378e+00,\n",
       "          1.31124995e+00,  1.32422312e+00,  1.33742308e+00,  1.35086028e+00,\n",
       "          1.36454591e+00,  1.37849200e+00,  1.39271147e+00,  1.40721826e+00,\n",
       "          1.42202739e+00,  1.43715512e+00,  1.45261909e+00,  1.46843845e+00,\n",
       "          1.48463407e+00,  1.50122875e+00,  1.51824746e+00,  1.53571763e+00,\n",
       "          1.55366951e+00,  1.57213653e+00,  1.59115583e+00,  1.61076876e+00,\n",
       "          1.63102164e+00,  1.65196653e+00,  1.67366226e+00,  1.69617567e+00,\n",
       "          1.71958317e+00,  1.74397265e+00,  1.76944597e+00,  1.79612209e+00,\n",
       "          1.82414124e+00,  1.85367030e+00,  1.88491019e+00,  1.91810589e+00,\n",
       "          1.95356058e+00,  1.99165588e+00,  2.03288197e+00,  2.07788372e+00,\n",
       "          2.12753458e+00,  2.18306108e+00,  2.24626665e+00,  2.31996900e+00,\n",
       "          2.40895717e+00,  2.52245770e+00,  2.68240836e+00,  2.96657041e+00]),\n",
       "  array([   594.9892679 ,    872.42482454,   1623.16348385,   1623.16348385,\n",
       "           1635.93819921,   1858.49470446,   1864.99014753,   1874.42472254,\n",
       "           1883.18617016,   1932.51093062,   1998.85719875,   2029.34557485,\n",
       "           2082.4453659 ,   2083.33153524,   2151.33293281,   2191.30545062,\n",
       "           2207.67558483,   2212.47593633,   2226.21599516,   2272.76416165,\n",
       "           2281.56760632,   2304.73309803,   2336.26555404,   2362.05745218,\n",
       "           2365.76220762,   2377.7559256 ,   2431.03797629,   2477.97727566,\n",
       "           2490.95305855,   2492.04620956,   2554.27682119,   2681.50740093,\n",
       "           2685.85395892,   2692.12502906,   2707.45722265,   2728.59051983,\n",
       "           2739.32288077,   2755.83478092,   2756.46879935,   2768.21327853,\n",
       "           2774.48958163,   2781.77518357,   2787.88226223,   2804.83624046,\n",
       "           2814.41589631,   2855.08903151,   2910.15606427,   2918.50125312,\n",
       "           2933.58852487,   2957.94240664,   2959.04574053,   3011.65988115,\n",
       "           3030.6225805 ,   3034.3811059 ,   3049.96786313,   3071.03250514,\n",
       "           3095.86080913,   3144.10216361,   3145.89325684,   3147.25401002,\n",
       "           3171.08680126,   3183.53239638,   3185.86064818,   3255.04685317,\n",
       "           3271.86249297,   3272.79874117,   3276.48212916,   3276.91550893,\n",
       "           3292.6294085 ,   3292.9421411 ,   3294.4759316 ,   3298.47209561,\n",
       "           3315.92017621,   3317.96784948,   3321.27106151,   3324.96827348,\n",
       "           3351.16283573,   3382.74616442,   3410.08125675,   3412.54883679,\n",
       "           3416.14920031,   3416.76295457,   3426.40365114,   3444.33702423,\n",
       "           3454.11885293,   3457.88595672,   3483.03570824,   3491.2627307 ,\n",
       "           3505.13576036,   3510.26655268,   3525.04560793,   3525.96927178,\n",
       "           3538.994189  ,   3562.03086154,   3571.9466207 ,   3581.17223172,\n",
       "           3603.12741299,   3610.67392122,   3616.79151642,   3618.23732556,\n",
       "           3623.58731136,   3648.03713907,   3652.10142892,   3657.55365117,\n",
       "           3659.29477415,   3669.19536171,   3676.43808558,   3680.17640462,\n",
       "           3681.09127289,   3683.54914642,   3691.9219598 ,   3692.27748999,\n",
       "           3697.84256315,   3711.32076652,   3719.15351867,   3723.9284497 ,\n",
       "           3745.0759688 ,   3757.22463739,   3762.96977955,   3766.84406947,\n",
       "           3773.36614647,   3777.06450427,   3786.7060806 ,   3786.9999945 ,\n",
       "           3792.3241575 ,   3796.16624499,   3803.79450477,   3809.36038685,\n",
       "           3817.51373444,   3821.63067513,   3833.8612855 ,   3839.93892027,\n",
       "           3841.62035019,   3843.29689442,   3844.06931107,   3851.71123791,\n",
       "           3851.72261928,   3855.96655995,   3857.06913776,   3857.20481248,\n",
       "           3873.182111  ,   3877.86383172,   3881.96198665,   3884.52833483,\n",
       "           3884.69021244,   3896.96061752,   3907.56837357,   3908.34788153,\n",
       "           3909.31273759,   3909.52272602,   3918.71301009,   3929.74807768,\n",
       "           3955.3724983 ,   3958.7922492 ,   3959.89073171,   3972.53358216,\n",
       "           3994.03062855,   4005.15610002,   4007.17332953,   4017.35128554,\n",
       "           4022.97584887,   4024.93595063,   4030.36382246,   4039.47177792,\n",
       "           4042.65824857,   4060.13084999,   4071.90858339,   4075.22064081,\n",
       "           4088.86493782,   4099.9987365 ,   4104.09007552,   4104.09007552,\n",
       "           4107.55153588,   4111.16319203,   4112.15139256,   4121.06706416,\n",
       "           4123.30456255,   4138.76126147,   4140.29079562,   4144.5601453 ,\n",
       "           4147.21463523,   4150.02591222,   4158.55916224,   4162.6314229 ,\n",
       "           4169.30990379,   4173.3096118 ,   4177.47252502,   4185.89535207,\n",
       "           4195.12047905,   4195.78129919,   4208.61811068,   4224.61567462,\n",
       "           4225.83854927,   4240.44715538,   4248.95616275,   4250.35631436,\n",
       "           4268.54014127,   4269.56106764,   4272.22839471,   4272.47618277,\n",
       "           4275.88876016,   4277.97891778,   4287.35050489,   4308.78041135,\n",
       "           4311.49355202,   4317.0279351 ,   4329.89109011,   4335.88966486,\n",
       "           4345.92228547,   4362.31549814,   4370.55199131,   4373.47558436,\n",
       "           4401.11060785,   4417.69541544,   4431.02771575,   4433.24192479,\n",
       "           4444.31574747,   4447.16178003,   4448.7226524 ,   4455.15545898,\n",
       "           4455.80063259,   4465.42253646,   4471.29515174,   4474.79894533,\n",
       "           4478.21446755,   4502.97099343,   4503.18345849,   4512.10725341,\n",
       "           4514.37448405,   4520.14636482,   4524.55989878,   4530.09075501,\n",
       "           4533.31333316,   4536.54758228,   4538.20606934,   4545.06085612,\n",
       "           4558.44718615,   4559.30395425,   4573.37884439,   4592.58098132,\n",
       "           4601.50619495,   4603.42359742,   4612.12908469,   4613.10776479,\n",
       "           4619.25090468,   4637.39609736,   4638.88344461,   4645.94273871,\n",
       "           4658.82637304,   4662.74394778,   4664.03179631,   4666.40321692,\n",
       "           4667.92156402,   4678.64284462,   4691.48921281,   4692.953031  ,\n",
       "           4699.26645505,   4699.69578989,   4702.39670827,   4723.86981905,\n",
       "           4726.16390439,   4731.85296554,   4732.50125165,   4735.66896602,\n",
       "           4735.94230111,   4736.57767796,   4740.84369326,   4742.92721489,\n",
       "           4744.09308007,   4754.20721369,   4776.15313839,   4783.18860024,\n",
       "           4809.64102439,   4814.90197134,   4826.6860354 ,   4840.27154326,\n",
       "           4869.27377232,   4877.32045494,   4879.20170309,   4892.0762585 ,\n",
       "           4902.14496791,   4904.94657454,   4931.54605647,   4936.95992512,\n",
       "           4948.45116808,   4961.55517224,   4965.12590425,   4988.29485019,\n",
       "           4989.89636117,   4990.09768581,   4998.1514943 ,   5001.24654044,\n",
       "           5027.60174351,   5029.03554701,   5034.9417968 ,   5052.76846929,\n",
       "           5081.4820469 ,   5093.0367094 ,   5095.83914668,   5149.36359458,\n",
       "           5149.96938439,   5156.17678772,   5187.82438175,   5188.11548871,\n",
       "           5204.11652227,   5215.24151252,   5215.27164826,   5245.93900924,\n",
       "           5246.32447624,   5250.82648923,   5259.45144457,   5266.79162862,\n",
       "           5288.51514226,   5295.43213466,   5295.60804497,   5297.79139747,\n",
       "           5301.77458177,   5302.44776739,   5315.25474944,   5319.00528919,\n",
       "           5321.87812722,   5348.39136478,   5356.01924145,   5363.70714032,\n",
       "           5407.49651051,   5418.22114743,   5425.52682982,   5428.48640652,\n",
       "           5449.7527968 ,   5454.18305957,   5464.32725381,   5470.27215361,\n",
       "           5476.61262932,   5486.81551704,   5494.17017667,   5496.88281757,\n",
       "           5499.58155452,   5509.90200965,   5531.75534781,   5535.30598184,\n",
       "           5538.79013616,   5539.25496547,   5556.96095976,   5565.50223962,\n",
       "           5568.11695477,   5568.15033357,   5573.05331698,   5582.460827  ,\n",
       "           5589.51556897,   5601.55096707,   5607.7275754 ,   5608.17742723,\n",
       "           5619.36884122,   5628.23483356,   5640.08004981,   5653.69475433,\n",
       "           5673.97953738,   5682.02082466,   5684.83429416,   5713.95610292,\n",
       "           5729.89016443,   5731.87346658,   5733.83187069,   5775.50881143,\n",
       "           5779.26669609,   5793.58215864,   5802.63645914,   5811.42405109,\n",
       "           5824.53961166,   5847.54766888,   5849.3653954 ,   5854.7867265 ,\n",
       "           5864.96667492,   5865.32083678,   5871.50486281,   5880.02909204,\n",
       "           5894.1271777 ,   5896.1312373 ,   5914.34931726,   5930.77221573,\n",
       "           5946.39660096,   5966.33769364,   5967.3188498 ,   5983.70635827,\n",
       "           5987.85889851,   5992.86582081,   6057.39739549,   6075.46208548,\n",
       "           6092.81376938,   6143.80079726,   6252.42311123,   6258.43988893,\n",
       "           6258.95408762,   6292.92488434,   6312.41463385,   6317.52307142,\n",
       "           6353.48325446,   6355.81727951,   6371.7328766 ,   6371.7328766 ,\n",
       "           6371.98572916,   6379.31812466,   6395.12056867,   6398.57227421,\n",
       "           6428.39008947,   6449.67339984,   6457.39326065,   6492.40361818,\n",
       "           6516.04755438,   6537.26224034,   6556.51432395,   6558.3376128 ,\n",
       "           6565.62301783,   6588.04623187,   6592.47335252,   6615.3675169 ,\n",
       "           6621.73671508,   6627.94555483,   6667.20470219,   6672.77759406,\n",
       "           6715.64078705,   6726.73754812,   6776.17661956,   6810.44385988,\n",
       "           6852.66561943,   6875.68611289,   6887.344711  ,   6903.16433408,\n",
       "           6922.57326372,   6948.4968327 ,   6986.16296346,   6986.66537519,\n",
       "           7247.66032303,   7259.07980413,   7349.0774407 ,   7385.31331327,\n",
       "           7399.41068072,   7416.85966026,   7493.78478146,   7531.53422109,\n",
       "           7535.3361521 ,   7546.36343504,   7589.21152455,   7597.05463648,\n",
       "           7635.76870668,   7683.52312354,   7699.54822148,   7761.60440684,\n",
       "           7937.18116262,   7944.0088737 ,   8353.79079748,   8485.01936803,\n",
       "           8490.56735818,   8973.82205186,   9046.71726858,   9416.9366435 ,\n",
       "           9572.89305513,  35537.63052231, 147366.35677898, 380503.32619231])),\n",
       " (4858.793642342546, 5839.624119119501, 0.2567949045543213))"
      ]
     },
     "execution_count": 107,
     "metadata": {},
     "output_type": "execute_result"
    },
    {
     "data": {
      "image/png": "[encoded data removed]",
      "text/plain": [
       "<Figure size 432x288 with 1 Axes>"
      ]
     },
     "metadata": {
      "needs_background": "light"
     },
     "output_type": "display_data"
    }
   ],
   "source": [
    "import scipy.stats as stats\n",
    "stats.probplot(predictions,dist='norm',plot=plt)"
   ]
  },
  {
   "cell_type": "code",
   "execution_count": 209,
   "metadata": {},
   "outputs": [
    {
     "data": {
      "image/png": "[encoded data removed]",
      "text/plain": [
       "<Figure size 432x288 with 1 Axes>"
      ]
     },
     "execution_count": 209,
     "metadata": {},
     "output_type": "execute_result"
    },
    {
     "data": {
      "image/png": "[encoded data removed]",
      "text/plain": [
       "<Figure size 432x288 with 1 Axes>"
      ]
     },
     "metadata": {
      "needs_background": "light"
     },
     "output_type": "display_data"
    }
   ],
   "source": [
    "# Using statsmodels\n",
    "import statsmodels.api as sm\n",
    "sm.qqplot(predictions, line='s')"
   ]
  },
  {
   "cell_type": "markdown",
   "metadata": {},
   "source": [
    "### Cross validation and stats using statsmodel is better than sklearn"
   ]
  },
  {
   "cell_type": "code",
   "execution_count": 265,
   "metadata": {
    "collapsed": true
   },
   "outputs": [
    {
     "data": {
      "text/plain": [
       "{'fit_time': array([0.10800409, 0.11256409, 0.10706592, 0.10879779, 0.10790896,\n",
       "        0.1088419 , 0.10817719, 0.10899019, 0.1081841 , 0.10823178]),\n",
       " 'score_time': array([0.0008769 , 0.00088096, 0.00084901, 0.00086927, 0.00085521,\n",
       "        0.00097203, 0.00085473, 0.00086689, 0.00085092, 0.00087237]),\n",
       " 'test_r2': array([  0.51096005, -25.5543749 ,   0.03028468,   0.54379409,\n",
       "         -0.14270323,   0.1823052 ,  -0.96148547,  -8.86802058,\n",
       "        -28.76003071,  -1.4487173 ]),\n",
       " 'test_explained_variance': array([  0.5206814 , -25.15173442,   0.03855209,   0.55061658,\n",
       "         -0.11512931,   0.18577331,  -0.95988096,  -8.40181382,\n",
       "        -26.78879666,  -1.4355707 ]),\n",
       " 'test_max_error': array([ -4915.11589083, -63687.97330995,  -5847.07508613,  -4373.92887381,\n",
       "         -7153.77243241,  -3631.74059617, -10448.3356629 , -34287.64711956,\n",
       "        -42577.22757858, -17293.04529715]),\n",
       " 'test_neg_root_mean_squared_error': array([ -1338.73420635,  -9465.70808147,  -1692.19774225,  -1122.12614424,\n",
       "         -1647.55538131,  -1296.31728931,  -2360.15585562,  -5246.54802936,\n",
       "        -11702.30902824,  -2869.71508109])}"
      ]
     },
     "execution_count": 265,
     "metadata": {},
     "output_type": "execute_result"
    }
   ],
   "source": [
    "# Cross validation\n",
    "from sklearn.model_selection import cross_validate\n",
    "prediction = cross_validate(linreg,ingredient_bow_test,y_test['totalCal'],cv=10)\n",
    "\n",
    "# from sklearn.metrics, but r2 is not the same since it can be negative\n",
    "scoring = ['r2', 'explained_variance','max_error','neg_root_mean_squared_error']\n",
    "prediction2 = cross_validate(linreg,ingredient_bow_test,y_test['totalCal'],cv=10,scoring=scoring)\n",
    "prediction2"
   ]
  },
  {
   "cell_type": "markdown",
   "metadata": {},
   "source": [
    "### Gradient Boosting Regressor"
   ]
  },
  {
   "cell_type": "code",
   "execution_count": 268,
   "metadata": {},
   "outputs": [
    {
     "name": "stdout",
     "output_type": "stream",
     "text": [
      "0.43\n"
     ]
    },
    {
     "data": {
      "text/html": [
       "<div>\n",
       "<style scoped>\n",
       "    .dataframe tbody tr th:only-of-type {\n",
       "        vertical-align: middle;\n",
       "    }\n",
       "\n",
       "    .dataframe tbody tr th {\n",
       "        vertical-align: top;\n",
       "    }\n",
       "\n",
       "    .dataframe thead th {\n",
       "        text-align: right;\n",
       "    }\n",
       "</style>\n",
       "<table border=\"1\" class=\"dataframe\">\n",
       "  <thead>\n",
       "    <tr style=\"text-align: right;\">\n",
       "      <th></th>\n",
       "      <th>totalCal</th>\n",
       "      <th>lower</th>\n",
       "      <th>mid</th>\n",
       "      <th>upper</th>\n",
       "      <th>accuracy</th>\n",
       "    </tr>\n",
       "    <tr>\n",
       "      <th>key</th>\n",
       "      <th></th>\n",
       "      <th></th>\n",
       "      <th></th>\n",
       "      <th></th>\n",
       "      <th></th>\n",
       "    </tr>\n",
       "  </thead>\n",
       "  <tbody>\n",
       "    <tr>\n",
       "      <th>9177</th>\n",
       "      <td>8400.0</td>\n",
       "      <td>5377.956969</td>\n",
       "      <td>6263.679904</td>\n",
       "      <td>6479.108795</td>\n",
       "      <td>0</td>\n",
       "    </tr>\n",
       "    <tr>\n",
       "      <th>9440</th>\n",
       "      <td>6720.0</td>\n",
       "      <td>5176.491317</td>\n",
       "      <td>5716.773655</td>\n",
       "      <td>5896.973410</td>\n",
       "      <td>0</td>\n",
       "    </tr>\n",
       "    <tr>\n",
       "      <th>9471</th>\n",
       "      <td>4880.0</td>\n",
       "      <td>3070.304745</td>\n",
       "      <td>3496.717937</td>\n",
       "      <td>4102.184832</td>\n",
       "      <td>0</td>\n",
       "    </tr>\n",
       "    <tr>\n",
       "      <th>9520</th>\n",
       "      <td>2232.0</td>\n",
       "      <td>2704.547501</td>\n",
       "      <td>3234.506009</td>\n",
       "      <td>3857.662853</td>\n",
       "      <td>0</td>\n",
       "    </tr>\n",
       "    <tr>\n",
       "      <th>9547</th>\n",
       "      <td>6456.0</td>\n",
       "      <td>4500.084742</td>\n",
       "      <td>5105.875533</td>\n",
       "      <td>5414.945493</td>\n",
       "      <td>0</td>\n",
       "    </tr>\n",
       "    <tr>\n",
       "      <th>...</th>\n",
       "      <td>...</td>\n",
       "      <td>...</td>\n",
       "      <td>...</td>\n",
       "      <td>...</td>\n",
       "      <td>...</td>\n",
       "    </tr>\n",
       "    <tr>\n",
       "      <th>261182</th>\n",
       "      <td>2352.0</td>\n",
       "      <td>1961.406779</td>\n",
       "      <td>2701.587601</td>\n",
       "      <td>3433.394791</td>\n",
       "      <td>1</td>\n",
       "    </tr>\n",
       "    <tr>\n",
       "      <th>266755</th>\n",
       "      <td>5544.0</td>\n",
       "      <td>5513.763722</td>\n",
       "      <td>5716.248245</td>\n",
       "      <td>5906.880236</td>\n",
       "      <td>1</td>\n",
       "    </tr>\n",
       "    <tr>\n",
       "      <th>267402</th>\n",
       "      <td>2080.0</td>\n",
       "      <td>2293.054022</td>\n",
       "      <td>3247.244104</td>\n",
       "      <td>3796.319363</td>\n",
       "      <td>0</td>\n",
       "    </tr>\n",
       "    <tr>\n",
       "      <th>268007</th>\n",
       "      <td>5652.0</td>\n",
       "      <td>5373.098760</td>\n",
       "      <td>6234.900814</td>\n",
       "      <td>6611.353182</td>\n",
       "      <td>1</td>\n",
       "    </tr>\n",
       "    <tr>\n",
       "      <th>273880</th>\n",
       "      <td>7608.0</td>\n",
       "      <td>6111.376471</td>\n",
       "      <td>7010.409596</td>\n",
       "      <td>7543.753511</td>\n",
       "      <td>0</td>\n",
       "    </tr>\n",
       "  </tbody>\n",
       "</table>\n",
       "<p>457 rows × 5 columns</p>\n",
       "</div>"
      ],
      "text/plain": [
       "        totalCal        lower          mid        upper  accuracy\n",
       "key                                                              \n",
       "9177      8400.0  5377.956969  6263.679904  6479.108795         0\n",
       "9440      6720.0  5176.491317  5716.773655  5896.973410         0\n",
       "9471      4880.0  3070.304745  3496.717937  4102.184832         0\n",
       "9520      2232.0  2704.547501  3234.506009  3857.662853         0\n",
       "9547      6456.0  4500.084742  5105.875533  5414.945493         0\n",
       "...          ...          ...          ...          ...       ...\n",
       "261182    2352.0  1961.406779  2701.587601  3433.394791         1\n",
       "266755    5544.0  5513.763722  5716.248245  5906.880236         1\n",
       "267402    2080.0  2293.054022  3247.244104  3796.319363         0\n",
       "268007    5652.0  5373.098760  6234.900814  6611.353182         1\n",
       "273880    7608.0  6111.376471  7010.409596  7543.753511         0\n",
       "\n",
       "[457 rows x 5 columns]"
      ]
     },
     "execution_count": 268,
     "metadata": {},
     "output_type": "execute_result"
    }
   ],
   "source": [
    "from sklearn.ensemble import GradientBoostingRegressor\n",
    "# Set lower and upper quantile\n",
    "LOWER_ALPHA = 0.25\n",
    "UPPER_ALPHA = 0.75\n",
    "# Create separate models for lower, median, and upper quantile values\n",
    "lower_model = GradientBoostingRegressor(loss=\"quantile\", alpha=LOWER_ALPHA)\n",
    "mid_model = GradientBoostingRegressor(loss=\"ls\")\n",
    "upper_model = GradientBoostingRegressor(loss=\"quantile\", alpha=UPPER_ALPHA)\n",
    "# Fit models\n",
    "lower_model.fit(ingredient_bow_train, y_train['totalCal'])\n",
    "mid_model.fit(ingredient_bow_train, y_train['totalCal'])\n",
    "upper_model.fit(ingredient_bow_train, y_train['totalCal'])\n",
    "# Record actual values on test set\n",
    "predictions = pd.DataFrame(y_test['totalCal'])\n",
    "# Predict\n",
    "predictions['lower'] = lower_model.predict(ingredient_bow_test)\n",
    "predictions['mid'] = mid_model.predict(ingredient_bow_test)\n",
    "predictions['upper'] = upper_model.predict(ingredient_bow_test)\n",
    "predictions['accuracy'] = ((predictions['totalCal'] > predictions['lower']) & ((predictions['totalCal'] < predictions['upper']))).astype(int)\n",
    "print(round(predictions['accuracy'].mean(),2))\n",
    "predictions"
   ]
  },
  {
   "cell_type": "code",
   "execution_count": 248,
   "metadata": {
    "scrolled": true
   },
   "outputs": [],
   "source": [
    "coeff_words = pd.DataFrame(lower_model.feature_importances_,bow_transformer.get_feature_names(), columns=['coeff_lower'])\n",
    "coeff_words['coeff_mid'] = mid_model.feature_importances_\n",
    "coeff_words['coeff_upper'] = upper_model.feature_importances_"
   ]
  },
  {
   "cell_type": "code",
   "execution_count": 249,
   "metadata": {},
   "outputs": [
    {
     "data": {
      "text/plain": [
       "294"
      ]
     },
     "execution_count": 249,
     "metadata": {},
     "output_type": "execute_result"
    }
   ],
   "source": [
    "len(coeff_words[coeff_words['coeff_mid']==0]) # number of features removed"
   ]
  },
  {
   "cell_type": "code",
   "execution_count": 236,
   "metadata": {},
   "outputs": [
    {
     "data": {
      "text/plain": [
       "sugar                   0.294410\n",
       "chocolate               0.142786\n",
       "butter                  0.125321\n",
       "peanutbutter            0.078691\n",
       "flour                   0.068212\n",
       "                          ...   \n",
       "oatflour                0.000000\n",
       "oatmeal                 0.000000\n",
       "orangeblossomwater      0.000000\n",
       "orangedecoratorsugar    0.000000\n",
       "allspice                0.000000\n",
       "Name: coeff_mid, Length: 372, dtype: float64"
      ]
     },
     "execution_count": 236,
     "metadata": {},
     "output_type": "execute_result"
    }
   ],
   "source": [
    "coeff_words['coeff_mid'].sort_values(ascending=False)"
   ]
  },
  {
   "cell_type": "code",
   "execution_count": 226,
   "metadata": {},
   "outputs": [
    {
     "data": {
      "text/html": [
       "<div>\n",
       "<style scoped>\n",
       "    .dataframe tbody tr th:only-of-type {\n",
       "        vertical-align: middle;\n",
       "    }\n",
       "\n",
       "    .dataframe tbody tr th {\n",
       "        vertical-align: top;\n",
       "    }\n",
       "\n",
       "    .dataframe thead th {\n",
       "        text-align: right;\n",
       "    }\n",
       "</style>\n",
       "<table border=\"1\" class=\"dataframe\">\n",
       "  <thead>\n",
       "    <tr style=\"text-align: right;\">\n",
       "      <th></th>\n",
       "      <th>coeff_lower</th>\n",
       "      <th>coeff_mid</th>\n",
       "      <th>coeff_upper</th>\n",
       "    </tr>\n",
       "  </thead>\n",
       "  <tbody>\n",
       "    <tr>\n",
       "      <th>sugar</th>\n",
       "      <td>0.202382</td>\n",
       "      <td>0.294410</td>\n",
       "      <td>0.148891</td>\n",
       "    </tr>\n",
       "    <tr>\n",
       "      <th>flour</th>\n",
       "      <td>0.087377</td>\n",
       "      <td>0.068212</td>\n",
       "      <td>0.075754</td>\n",
       "    </tr>\n",
       "    <tr>\n",
       "      <th>butter</th>\n",
       "      <td>0.155155</td>\n",
       "      <td>0.125321</td>\n",
       "      <td>0.111984</td>\n",
       "    </tr>\n",
       "    <tr>\n",
       "      <th>salt</th>\n",
       "      <td>0.022125</td>\n",
       "      <td>0.026466</td>\n",
       "      <td>0.026174</td>\n",
       "    </tr>\n",
       "    <tr>\n",
       "      <th>chocolate</th>\n",
       "      <td>0.118789</td>\n",
       "      <td>0.142786</td>\n",
       "      <td>0.102625</td>\n",
       "    </tr>\n",
       "  </tbody>\n",
       "</table>\n",
       "</div>"
      ],
      "text/plain": [
       "           coeff_lower  coeff_mid  coeff_upper\n",
       "sugar         0.202382   0.294410     0.148891\n",
       "flour         0.087377   0.068212     0.075754\n",
       "butter        0.155155   0.125321     0.111984\n",
       "salt          0.022125   0.026466     0.026174\n",
       "chocolate     0.118789   0.142786     0.102625"
      ]
     },
     "execution_count": 226,
     "metadata": {},
     "output_type": "execute_result"
    }
   ],
   "source": [
    "coeff_words.loc[['sugar','flour','butter','salt','chocolate']]"
   ]
  },
  {
   "cell_type": "code",
   "execution_count": 269,
   "metadata": {
    "scrolled": false
   },
   "outputs": [
    {
     "data": {
      "text/plain": [
       "Text(0, 0.5, 'Predictions')"
      ]
     },
     "execution_count": 269,
     "metadata": {},
     "output_type": "execute_result"
    },
    {
     "data": {
      "image/png": "[encoded data removed]",
      "text/plain": [
       "<Figure size 432x432 with 1 Axes>"
      ]
     },
     "metadata": {
      "needs_background": "light"
     },
     "output_type": "display_data"
    }
   ],
   "source": [
    "# correlation between true and predicted calories\n",
    "import matplotlib.pyplot as plt\n",
    "import seaborn as sns\n",
    "sns.set_context('poster', font_scale=1)\n",
    "\n",
    "fig = plt.figure(figsize=(6,6))\n",
    "ax = sns.regplot(y_test['totalCal'],predictions['mid'])\n",
    "ax.set_title('Gradient Boosting Regression')\n",
    "ax.set_xlabel('True Values')\n",
    "ax.set_ylabel('Predictions')"
   ]
  },
  {
   "cell_type": "code",
   "execution_count": 215,
   "metadata": {
    "scrolled": false
   },
   "outputs": [
    {
     "name": "stdout",
     "output_type": "stream",
     "text": [
      "Slope:  1.1\n",
      "Intercept:  -409.0\n",
      "Coefficient of Determinant:  0.64\n",
      "p-value:  1.8747150300183334e-102\n",
      "Standard Error:  0.04\n"
     ]
    }
   ],
   "source": [
    "from scipy import stats\n",
    "slope, intercept, r_value, p_value, std_err = stats.linregress(predictions['mid'],y_test['totalCal'])\n",
    "\n",
    "print('Slope: ', round(slope,2))\n",
    "print('Intercept: ', round(intercept))\n",
    "print('Coefficient of Determinant: ', round(r_value**2,2))\n",
    "print('p-value: ', p_value)\n",
    "print('Standard Error: ', round(std_err,2)) # standard error of the slope"
   ]
  },
  {
   "cell_type": "code",
   "execution_count": 270,
   "metadata": {},
   "outputs": [
    {
     "data": {
      "text/html": [
       "<div>\n",
       "<style scoped>\n",
       "    .dataframe tbody tr th:only-of-type {\n",
       "        vertical-align: middle;\n",
       "    }\n",
       "\n",
       "    .dataframe tbody tr th {\n",
       "        vertical-align: top;\n",
       "    }\n",
       "\n",
       "    .dataframe thead th {\n",
       "        text-align: right;\n",
       "    }\n",
       "</style>\n",
       "<table border=\"1\" class=\"dataframe\">\n",
       "  <thead>\n",
       "    <tr style=\"text-align: right;\">\n",
       "      <th></th>\n",
       "      <th>totalCal</th>\n",
       "      <th>lower</th>\n",
       "      <th>mid</th>\n",
       "      <th>upper</th>\n",
       "      <th>accuracy</th>\n",
       "    </tr>\n",
       "    <tr>\n",
       "      <th>key</th>\n",
       "      <th></th>\n",
       "      <th></th>\n",
       "      <th></th>\n",
       "      <th></th>\n",
       "      <th></th>\n",
       "    </tr>\n",
       "  </thead>\n",
       "  <tbody>\n",
       "    <tr>\n",
       "      <th>9177</th>\n",
       "      <td>8400.0</td>\n",
       "      <td>5377.956969</td>\n",
       "      <td>6263.679904</td>\n",
       "      <td>6479.108795</td>\n",
       "      <td>0</td>\n",
       "    </tr>\n",
       "    <tr>\n",
       "      <th>9440</th>\n",
       "      <td>6720.0</td>\n",
       "      <td>5176.491317</td>\n",
       "      <td>5716.773655</td>\n",
       "      <td>5896.973410</td>\n",
       "      <td>0</td>\n",
       "    </tr>\n",
       "    <tr>\n",
       "      <th>9471</th>\n",
       "      <td>4880.0</td>\n",
       "      <td>3070.304745</td>\n",
       "      <td>3496.717937</td>\n",
       "      <td>4102.184832</td>\n",
       "      <td>0</td>\n",
       "    </tr>\n",
       "    <tr>\n",
       "      <th>9520</th>\n",
       "      <td>2232.0</td>\n",
       "      <td>2704.547501</td>\n",
       "      <td>3234.506009</td>\n",
       "      <td>3857.662853</td>\n",
       "      <td>0</td>\n",
       "    </tr>\n",
       "    <tr>\n",
       "      <th>9547</th>\n",
       "      <td>6456.0</td>\n",
       "      <td>4500.084742</td>\n",
       "      <td>5105.875533</td>\n",
       "      <td>5414.945493</td>\n",
       "      <td>0</td>\n",
       "    </tr>\n",
       "    <tr>\n",
       "      <th>...</th>\n",
       "      <td>...</td>\n",
       "      <td>...</td>\n",
       "      <td>...</td>\n",
       "      <td>...</td>\n",
       "      <td>...</td>\n",
       "    </tr>\n",
       "    <tr>\n",
       "      <th>261182</th>\n",
       "      <td>2352.0</td>\n",
       "      <td>1961.406779</td>\n",
       "      <td>2701.587601</td>\n",
       "      <td>3433.394791</td>\n",
       "      <td>1</td>\n",
       "    </tr>\n",
       "    <tr>\n",
       "      <th>266755</th>\n",
       "      <td>5544.0</td>\n",
       "      <td>5513.763722</td>\n",
       "      <td>5716.248245</td>\n",
       "      <td>5906.880236</td>\n",
       "      <td>1</td>\n",
       "    </tr>\n",
       "    <tr>\n",
       "      <th>267402</th>\n",
       "      <td>2080.0</td>\n",
       "      <td>2293.054022</td>\n",
       "      <td>3247.244104</td>\n",
       "      <td>3796.319363</td>\n",
       "      <td>0</td>\n",
       "    </tr>\n",
       "    <tr>\n",
       "      <th>268007</th>\n",
       "      <td>5652.0</td>\n",
       "      <td>5373.098760</td>\n",
       "      <td>6234.900814</td>\n",
       "      <td>6611.353182</td>\n",
       "      <td>1</td>\n",
       "    </tr>\n",
       "    <tr>\n",
       "      <th>273880</th>\n",
       "      <td>7608.0</td>\n",
       "      <td>6111.376471</td>\n",
       "      <td>7010.409596</td>\n",
       "      <td>7543.753511</td>\n",
       "      <td>0</td>\n",
       "    </tr>\n",
       "  </tbody>\n",
       "</table>\n",
       "<p>457 rows × 5 columns</p>\n",
       "</div>"
      ],
      "text/plain": [
       "        totalCal        lower          mid        upper  accuracy\n",
       "key                                                              \n",
       "9177      8400.0  5377.956969  6263.679904  6479.108795         0\n",
       "9440      6720.0  5176.491317  5716.773655  5896.973410         0\n",
       "9471      4880.0  3070.304745  3496.717937  4102.184832         0\n",
       "9520      2232.0  2704.547501  3234.506009  3857.662853         0\n",
       "9547      6456.0  4500.084742  5105.875533  5414.945493         0\n",
       "...          ...          ...          ...          ...       ...\n",
       "261182    2352.0  1961.406779  2701.587601  3433.394791         1\n",
       "266755    5544.0  5513.763722  5716.248245  5906.880236         1\n",
       "267402    2080.0  2293.054022  3247.244104  3796.319363         0\n",
       "268007    5652.0  5373.098760  6234.900814  6611.353182         1\n",
       "273880    7608.0  6111.376471  7010.409596  7543.753511         0\n",
       "\n",
       "[457 rows x 5 columns]"
      ]
     },
     "execution_count": 270,
     "metadata": {},
     "output_type": "execute_result"
    }
   ],
   "source": [
    "predictions"
   ]
  },
  {
   "cell_type": "code",
   "execution_count": 216,
   "metadata": {
    "scrolled": false
   },
   "outputs": [
    {
     "data": {
      "text/plain": [
       "<matplotlib.axes._subplots.AxesSubplot at 0x1a35efee50>"
      ]
     },
     "execution_count": 216,
     "metadata": {},
     "output_type": "execute_result"
    },
    {
     "data": {
      "image/png": "[encoded data removed]",
      "text/plain": [
       "<Figure size 432x288 with 1 Axes>"
      ]
     },
     "metadata": {
      "needs_background": "light"
     },
     "output_type": "display_data"
    }
   ],
   "source": [
    "# residual plot - if normally distributed, then this model is good. otherwise, should not use linear prediction model\n",
    "sns.set_context('notebook', font_scale=1)\n",
    "\n",
    "sns.distplot(y_test['totalCal']-predictions['mid'])"
   ]
  },
  {
   "cell_type": "code",
   "execution_count": 273,
   "metadata": {},
   "outputs": [
    {
     "name": "stdout",
     "output_type": "stream",
     "text": [
      "MAE: 768.47\n",
      "MSE: 1145862.58\n",
      "RMSE: 1070.45\n"
     ]
    },
    {
     "data": {
      "text/plain": [
       "0.6317992294029415"
      ]
     },
     "execution_count": 273,
     "metadata": {},
     "output_type": "execute_result"
    }
   ],
   "source": [
    "from sklearn import metrics\n",
    "print('MAE:', round(metrics.mean_absolute_error(y_test['totalCal'], predictions['mid']),2))\n",
    "print('MSE:', round(metrics.mean_squared_error(y_test['totalCal'], predictions['mid']),2))\n",
    "print('RMSE:', round(np.sqrt(metrics.mean_squared_error(y_test['totalCal'], predictions['mid'])),2))\n",
    "metrics.r2_score(y_test['totalCal'],predictions['mid']) # this r2 is not representative of a normal r2 since it can be negative"
   ]
  },
  {
   "cell_type": "code",
   "execution_count": 221,
   "metadata": {},
   "outputs": [
    {
     "ename": "IndexError",
     "evalue": "only integers, slices (`:`), ellipsis (`...`), numpy.newaxis (`None`) and integer or boolean arrays are valid indices",
     "output_type": "error",
     "traceback": [
      "\u001b[0;31m---------------------------------------------------------------------------\u001b[0m",
      "\u001b[0;31mIndexError\u001b[0m                                Traceback (most recent call last)",
      "\u001b[0;32m<ipython-input-221-417915ca122c>\u001b[0m in \u001b[0;36m<module>\u001b[0;34m\u001b[0m\n\u001b[1;32m      1\u001b[0m \u001b[0;31m# Using statsmodels\u001b[0m\u001b[0;34m\u001b[0m\u001b[0;34m\u001b[0m\u001b[0;34m\u001b[0m\u001b[0m\n\u001b[1;32m      2\u001b[0m \u001b[0;32mimport\u001b[0m \u001b[0mstatsmodels\u001b[0m\u001b[0;34m.\u001b[0m\u001b[0mapi\u001b[0m \u001b[0;32mas\u001b[0m \u001b[0msm\u001b[0m\u001b[0;34m\u001b[0m\u001b[0;34m\u001b[0m\u001b[0m\n\u001b[0;32m----> 3\u001b[0;31m \u001b[0msm\u001b[0m\u001b[0;34m.\u001b[0m\u001b[0mqqplot\u001b[0m\u001b[0;34m(\u001b[0m\u001b[0mpredictions\u001b[0m\u001b[0;34m[\u001b[0m\u001b[0;34m'mid'\u001b[0m\u001b[0;34m]\u001b[0m\u001b[0;34m,\u001b[0m \u001b[0mline\u001b[0m\u001b[0;34m=\u001b[0m\u001b[0;34m's'\u001b[0m\u001b[0;34m)\u001b[0m\u001b[0;34m\u001b[0m\u001b[0;34m\u001b[0m\u001b[0m\n\u001b[0m",
      "\u001b[0;31mIndexError\u001b[0m: only integers, slices (`:`), ellipsis (`...`), numpy.newaxis (`None`) and integer or boolean arrays are valid indices"
     ]
    }
   ],
   "source": [
    "# Using statsmodels\n",
    "import statsmodels.api as sm\n",
    "sm.qqplot(predictions['mid'], line='s')"
   ]
  },
  {
   "cell_type": "code",
   "execution_count": null,
   "metadata": {},
   "outputs": [],
   "source": []
  },
  {
   "cell_type": "markdown",
   "metadata": {},
   "source": [
    "## Statsmodels linear regression OLS\n",
    "Doesn't work with BoW datatype. Error message: \"Pandas data cast to numpy dtype of object. Check input data with np.asarray(data).\""
   ]
  },
  {
   "cell_type": "code",
   "execution_count": null,
   "metadata": {},
   "outputs": [],
   "source": [
    "# Example on statsmodels OLS webpage\n",
    "import statsmodels.api as sm\n",
    "import numpy as np\n",
    "duncan_prestige = sm.datasets.get_rdataset(\"Duncan\", \"carData\")\n",
    "Y = duncan_prestige.data['income']\n",
    "X = duncan_prestige.data['education']\n",
    "X = sm.add_constant(X)\n",
    "model = sm.OLS(Y,X)\n",
    "results = model.fit()\n",
    "results.params"
   ]
  },
  {
   "cell_type": "code",
   "execution_count": null,
   "metadata": {},
   "outputs": [],
   "source": [
    "import statsmodels.api as sm\n",
    "OLSmodel = sm.OLS(y_train['totalCal'],ingredient_bow_train).fit()\n",
    "predictions = OLSmodel.predict(ingredient_bow_test)\n",
    "predictions"
   ]
  },
  {
   "cell_type": "code",
   "execution_count": null,
   "metadata": {},
   "outputs": [],
   "source": [
    "sns.pairplot(ingredient_bow_train)"
   ]
  },
  {
   "cell_type": "code",
   "execution_count": null,
   "metadata": {},
   "outputs": [],
   "source": []
  },
  {
   "cell_type": "code",
   "execution_count": null,
   "metadata": {},
   "outputs": [],
   "source": []
  },
  {
   "cell_type": "markdown",
   "metadata": {},
   "source": [
    "# Data visualization"
   ]
  },
  {
   "cell_type": "code",
   "execution_count": 11,
   "metadata": {},
   "outputs": [],
   "source": [
    "import matplotlib.pyplot as plt\n",
    "import seaborn as sns\n",
    "%matplotlib inline\n",
    "plt.rcParams[\"patch.force_edgecolor\"] = True # Always plot edges on bar plots using matplotlib"
   ]
  },
  {
   "cell_type": "code",
   "execution_count": null,
   "metadata": {},
   "outputs": [],
   "source": []
  },
  {
   "cell_type": "code",
   "execution_count": 12,
   "metadata": {
    "scrolled": false
   },
   "outputs": [
    {
     "data": {
      "text/plain": [
       "Text(0, 0.5, 'Number of Recipes')"
      ]
     },
     "execution_count": 12,
     "metadata": {},
     "output_type": "execute_result"
    },
    {
     "data": {
      "image/png": "[encoded data removed]",
      "text/plain": [
       "<Figure size 432x288 with 1 Axes>"
      ]
     },
     "metadata": {
      "needs_background": "light"
     },
     "output_type": "display_data"
    }
   ],
   "source": [
    "ax = df['calPerServing'].plot(kind='hist',ylim=(0,500),bins=20)\n",
    "ax.set_xlabel('Calories per Serving')\n",
    "ax.set_ylabel('Number of Recipes')"
   ]
  },
  {
   "cell_type": "code",
   "execution_count": 183,
   "metadata": {},
   "outputs": [
    {
     "data": {
      "text/plain": [
       "<matplotlib.axes._subplots.AxesSubplot at 0x1a2f14cf10>"
      ]
     },
     "execution_count": 183,
     "metadata": {},
     "output_type": "execute_result"
    },
    {
     "data": {
      "image/png": "[encoded data removed]",
      "text/plain": [
       "<Figure size 432x288 with 1 Axes>"
      ]
     },
     "metadata": {
      "needs_background": "light"
     },
     "output_type": "display_data"
    }
   ],
   "source": [
    "sns.distplot(clean_df['totalCal'],kde=False,bins=25)"
   ]
  },
  {
   "cell_type": "code",
   "execution_count": null,
   "metadata": {},
   "outputs": [],
   "source": [
    "sns.distplot(df['servings'])"
   ]
  },
  {
   "cell_type": "code",
   "execution_count": null,
   "metadata": {
    "scrolled": true
   },
   "outputs": [],
   "source": [
    "sns.distplot(df['servings'])"
   ]
  },
  {
   "cell_type": "code",
   "execution_count": null,
   "metadata": {},
   "outputs": [],
   "source": [
    "df[df['servings']==60]"
   ]
  },
  {
   "cell_type": "code",
   "execution_count": null,
   "metadata": {},
   "outputs": [],
   "source": [
    "df['servings'].unique()"
   ]
  },
  {
   "cell_type": "code",
   "execution_count": null,
   "metadata": {},
   "outputs": [],
   "source": [
    "sns.regplot(x='servings', y='calPerServing', data=clean_df)"
   ]
  },
  {
   "cell_type": "code",
   "execution_count": null,
   "metadata": {
    "scrolled": true
   },
   "outputs": [],
   "source": [
    "clean_df.head()"
   ]
  },
  {
   "cell_type": "code",
   "execution_count": null,
   "metadata": {},
   "outputs": [],
   "source": [
    "clean_df['ingredient'].head()"
   ]
  },
  {
   "cell_type": "code",
   "execution_count": null,
   "metadata": {},
   "outputs": [],
   "source": [
    "fig = plt.figure()\n",
    "word = 'butter'\n",
    "ax = sns.scatterplot(clean_df[clean_df['ingredient']==word]['norm_quant'],clean_df[clean_df['ingredient']==word]['totalCal'])\n",
    "ax.set_xlim(0,2000)"
   ]
  },
  {
   "cell_type": "code",
   "execution_count": null,
   "metadata": {},
   "outputs": [],
   "source": []
  }
 ],
 "metadata": {
  "kernelspec": {
   "display_name": "Python 3",
   "language": "python",
   "name": "python3"
  },
  "language_info": {
   "codemirror_mode": {
    "name": "ipython",
    "version": 3
   },
   "file_extension": ".py",
   "mimetype": "text/x-python",
   "name": "python",
   "nbconvert_exporter": "python",
   "pygments_lexer": "ipython3",
   "version": "3.7.6"
  }
 },
 "nbformat": 4,
 "nbformat_minor": 4
}
